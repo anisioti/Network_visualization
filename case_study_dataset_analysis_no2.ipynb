{
 "cells": [
  {
   "cell_type": "markdown",
   "id": "8f30bffc",
   "metadata": {},
   "source": [
    "## Relevant links: \n",
    "### https://deepnote.com/@deepnote/3D-network-visualisations-using-plotly-oYxeN6UXSye_3h_ulKV2Dw \n",
    "### https://towardsdatascience.com/tutorial-network-visualization-basics-with-networkx-and-plotly-and-a-little-nlp-57c9bbb55bb9\n",
    "### https://towardsdatascience.com/python-interactive-network-visualization-using-networkx-plotly-and-dash-e44749161ed7 \n",
    "\n",
    "### https://github.com/jhwang1992/network-visualization/blob/master/app.py \n",
    "\n",
    "#### TODO: \n",
    "- check the correspondence of the colors and the nodes \n",
    "- check if it can/should be directed"
   ]
  },
  {
   "cell_type": "markdown",
   "id": "e1ba3e48",
   "metadata": {},
   "source": [
    "## Exploratory Analysis of the dataset"
   ]
  },
  {
   "cell_type": "code",
   "execution_count": 350,
   "id": "d221375b",
   "metadata": {
    "ExecuteTime": {
     "end_time": "2021-05-05T11:05:22.874687Z",
     "start_time": "2021-05-05T11:05:22.857038Z"
    }
   },
   "outputs": [],
   "source": [
    "import pandas as pd \n",
    "import numpy as np\n",
    "import networkx as nx\n",
    "import plotly.graph_objects as go\n",
    "from addEdge import addEdge"
   ]
  },
  {
   "cell_type": "code",
   "execution_count": 245,
   "id": "d4197f4f",
   "metadata": {
    "ExecuteTime": {
     "end_time": "2021-05-05T07:37:12.354768Z",
     "start_time": "2021-05-05T07:37:12.254348Z"
    }
   },
   "outputs": [],
   "source": [
    "edges = pd.read_excel (r'raan_case_study interns.xlsx', sheet_name='edges')\n",
    "nodes=pd.read_excel (r'raan_case_study interns.xlsx', sheet_name='nodes')\n",
    "nodes=nodes.drop(columns=\"Unnamed: 3\")"
   ]
  },
  {
   "cell_type": "code",
   "execution_count": 246,
   "id": "716234a0",
   "metadata": {
    "ExecuteTime": {
     "end_time": "2021-05-05T07:37:15.041621Z",
     "start_time": "2021-05-05T07:37:15.014357Z"
    }
   },
   "outputs": [
    {
     "data": {
      "text/html": [
       "<div>\n",
       "<style scoped>\n",
       "    .dataframe tbody tr th:only-of-type {\n",
       "        vertical-align: middle;\n",
       "    }\n",
       "\n",
       "    .dataframe tbody tr th {\n",
       "        vertical-align: top;\n",
       "    }\n",
       "\n",
       "    .dataframe thead th {\n",
       "        text-align: right;\n",
       "    }\n",
       "</style>\n",
       "<table border=\"1\" class=\"dataframe\">\n",
       "  <thead>\n",
       "    <tr style=\"text-align: right;\">\n",
       "      <th></th>\n",
       "      <th>source_id</th>\n",
       "      <th>target_id</th>\n",
       "      <th>weights</th>\n",
       "    </tr>\n",
       "  </thead>\n",
       "  <tbody>\n",
       "    <tr>\n",
       "      <th>0</th>\n",
       "      <td>966</td>\n",
       "      <td>945</td>\n",
       "      <td>13</td>\n",
       "    </tr>\n",
       "    <tr>\n",
       "      <th>1</th>\n",
       "      <td>966</td>\n",
       "      <td>879</td>\n",
       "      <td>10</td>\n",
       "    </tr>\n",
       "    <tr>\n",
       "      <th>2</th>\n",
       "      <td>649</td>\n",
       "      <td>966</td>\n",
       "      <td>9</td>\n",
       "    </tr>\n",
       "    <tr>\n",
       "      <th>3</th>\n",
       "      <td>941</td>\n",
       "      <td>966</td>\n",
       "      <td>8</td>\n",
       "    </tr>\n",
       "    <tr>\n",
       "      <th>4</th>\n",
       "      <td>966</td>\n",
       "      <td>467</td>\n",
       "      <td>8</td>\n",
       "    </tr>\n",
       "  </tbody>\n",
       "</table>\n",
       "</div>"
      ],
      "text/plain": [
       "   source_id  target_id  weights\n",
       "0        966        945       13\n",
       "1        966        879       10\n",
       "2        649        966        9\n",
       "3        941        966        8\n",
       "4        966        467        8"
      ]
     },
     "execution_count": 246,
     "metadata": {},
     "output_type": "execute_result"
    }
   ],
   "source": [
    "edges.head()"
   ]
  },
  {
   "cell_type": "markdown",
   "id": "176ee73b",
   "metadata": {},
   "source": [
    "### Observe that we have 2 excel sheets, one containing the edge information \n",
    "### (an edge defined between source_id and target_id) and weights\n",
    "### The node sheet contains the node ids, the node colours and the node labels"
   ]
  },
  {
   "cell_type": "code",
   "execution_count": 14,
   "id": "0ddb853e",
   "metadata": {
    "ExecuteTime": {
     "end_time": "2021-05-04T14:10:24.601067Z",
     "start_time": "2021-05-04T14:10:24.588102Z"
    }
   },
   "outputs": [
    {
     "data": {
      "text/plain": [
       "array([   3,  158,  172,  185,  349,  457,  467,  498,  517,  552,  574,\n",
       "        619,  639,  649,  652,  709,  747,  785,  792,  813,  879,  941,\n",
       "        945,  966, 1009, 1025, 1042, 1152, 1157], dtype=int64)"
      ]
     },
     "execution_count": 14,
     "metadata": {},
     "output_type": "execute_result"
    }
   ],
   "source": [
    "nodes.node_id.values"
   ]
  },
  {
   "cell_type": "code",
   "execution_count": 18,
   "id": "04f9d687",
   "metadata": {
    "ExecuteTime": {
     "end_time": "2021-05-04T14:11:53.763050Z",
     "start_time": "2021-05-04T14:11:53.745415Z"
    }
   },
   "outputs": [
    {
     "data": {
      "text/plain": [
       "array([ 945,  879,  966,  966,  467, 1042,  785,  619,  966,  966,  966,\n",
       "        966,  966,  639,  966, 1152,  517,  158,  966,  498,  966, 1157,\n",
       "        185, 1025,  966,  966,  652,  172,  966,    3,  966,  966],\n",
       "      dtype=int64)"
      ]
     },
     "execution_count": 18,
     "metadata": {},
     "output_type": "execute_result"
    }
   ],
   "source": [
    "edges.target_id.values"
   ]
  },
  {
   "cell_type": "markdown",
   "id": "539b3cb3",
   "metadata": {},
   "source": [
    "### We have 29 different node_ids, node labels and 6 different color types. "
   ]
  },
  {
   "cell_type": "code",
   "execution_count": 325,
   "id": "325e5e21",
   "metadata": {
    "ExecuteTime": {
     "end_time": "2021-05-05T09:38:27.137032Z",
     "start_time": "2021-05-05T09:38:27.120202Z"
    }
   },
   "outputs": [
    {
     "name": "stdout",
     "output_type": "stream",
     "text": [
      "the number of unique nodes are:29\n"
     ]
    }
   ],
   "source": [
    "node_ids=list(set(nodes.node_id.values)) # the unique node_ids that are going to be used for creating the graph\n",
    "print(\"the number of unique nodes are:\" + str(len(node_ids)))"
   ]
  },
  {
   "cell_type": "code",
   "execution_count": 330,
   "id": "6971ec83",
   "metadata": {
    "ExecuteTime": {
     "end_time": "2021-05-05T09:46:55.763286Z",
     "start_time": "2021-05-05T09:46:55.743465Z"
    }
   },
   "outputs": [
    {
     "data": {
      "text/plain": [
       "numpy.int64"
      ]
     },
     "execution_count": 330,
     "metadata": {},
     "output_type": "execute_result"
    }
   ],
   "source": [
    "#convert the edge nodes into tuples of the form (source_id, target_id)\n",
    "edge_list=list(edges[['source_id','target_id']].to_records(index=False)) #list of tuples to compare \n",
    "type(edge_list[0])"
   ]
  },
  {
   "cell_type": "code",
   "execution_count": 331,
   "id": "cb552b00",
   "metadata": {
    "ExecuteTime": {
     "end_time": "2021-05-05T09:49:26.519442Z",
     "start_time": "2021-05-05T09:49:26.505152Z"
    }
   },
   "outputs": [],
   "source": [
    "def compare_edges(t1, t2): \n",
    "    '''\n",
    "    input: 2 tuples that are going to be compared\n",
    "    output: True if they contain the same elements\n",
    "    e.g. compare_edges((1,2), (2,1)) gives True\n",
    "    \n",
    "    '''\n",
    "    return sorted(t1) == sorted(t2)"
   ]
  },
  {
   "cell_type": "code",
   "execution_count": 333,
   "id": "db623985",
   "metadata": {
    "ExecuteTime": {
     "end_time": "2021-05-05T09:50:11.497993Z",
     "start_time": "2021-05-05T09:50:11.478220Z"
    }
   },
   "outputs": [
    {
     "data": {
      "text/plain": [
       "True"
      ]
     },
     "execution_count": 333,
     "metadata": {},
     "output_type": "execute_result"
    }
   ],
   "source": [
    "comparison_list= []"
   ]
  },
  {
   "cell_type": "markdown",
   "id": "954d1b6f",
   "metadata": {},
   "source": [
    "### Observe that there are some edges (e.g. (879,966) with weight 5 and (966,879) with weight 10). \n",
    "#### Therefore, we observe that the direction of the edge makes difference -> use directed graph for the visualization"
   ]
  },
  {
   "cell_type": "code",
   "execution_count": 248,
   "id": "14feb883",
   "metadata": {
    "ExecuteTime": {
     "end_time": "2021-05-05T07:37:35.817818Z",
     "start_time": "2021-05-05T07:37:35.805499Z"
    }
   },
   "outputs": [],
   "source": [
    "Gr_dir=nx.from_pandas_edgelist(edges, 'source_id', 'target_id', edge_attr=True, create_using=nx.DiGraph()) #directed graph "
   ]
  },
  {
   "cell_type": "code",
   "execution_count": 67,
   "id": "b97ece6e",
   "metadata": {
    "ExecuteTime": {
     "end_time": "2021-05-04T15:47:57.464393Z",
     "start_time": "2021-05-04T15:47:57.456988Z"
    }
   },
   "outputs": [],
   "source": [
    "Gr=nx.from_pandas_edgelist(edges, 'source_id', 'target_id', edge_attr=True) #undirected graph, the connections are symmetric \n",
    "# less edges than we expect to see otherwise "
   ]
  },
  {
   "cell_type": "code",
   "execution_count": 71,
   "id": "7ca0fa3d",
   "metadata": {
    "ExecuteTime": {
     "end_time": "2021-05-04T15:48:26.694609Z",
     "start_time": "2021-05-04T15:48:26.674814Z"
    }
   },
   "outputs": [
    {
     "data": {
      "text/plain": [
       "EdgeView([(966, 945), (966, 879), (966, 649), (966, 941), (966, 467), (966, 1042), (966, 785), (966, 619), (966, 457), (966, 639), (966, 747), (966, 185), (966, 349), (966, 1157), (966, 1152), (966, 517), (966, 158), (966, 552), (966, 498), (966, 574), (966, 1025), (966, 813), (966, 792), (966, 172), (966, 1009), (966, 3), (966, 709), (792, 652)])"
      ]
     },
     "execution_count": 71,
     "metadata": {},
     "output_type": "execute_result"
    }
   ],
   "source": [
    "Gr.edges"
   ]
  },
  {
   "cell_type": "code",
   "execution_count": 334,
   "id": "76590df9",
   "metadata": {
    "ExecuteTime": {
     "end_time": "2021-05-05T10:07:15.906025Z",
     "start_time": "2021-05-05T10:07:15.891226Z"
    }
   },
   "outputs": [
    {
     "data": {
      "text/plain": [
       "OutEdgeView([(966, 945), (966, 879), (966, 467), (966, 1042), (966, 785), (966, 619), (966, 639), (966, 1152), (966, 517), (966, 158), (966, 498), (966, 1157), (966, 185), (966, 1025), (966, 172), (966, 3), (879, 966), (649, 966), (941, 966), (457, 966), (639, 966), (747, 966), (185, 966), (349, 966), (1157, 966), (552, 966), (574, 966), (813, 966), (792, 966), (792, 652), (1009, 966), (709, 966)])"
      ]
     },
     "execution_count": 334,
     "metadata": {},
     "output_type": "execute_result"
    }
   ],
   "source": [
    "Gr_dir.edges"
   ]
  },
  {
   "cell_type": "code",
   "execution_count": 337,
   "id": "65b0d30d",
   "metadata": {
    "ExecuteTime": {
     "end_time": "2021-05-05T10:10:16.433445Z",
     "start_time": "2021-05-05T10:10:16.417026Z"
    }
   },
   "outputs": [],
   "source": [
    "##find the two-way relations between the nodes \n",
    "double_edges=[]\n",
    "for edge in Gr_dir.edges: \n",
    "    if Gr_dir.has_edge(edge[1], edge[0]):\n",
    "        double_edges.append(edge)\n"
   ]
  },
  {
   "cell_type": "code",
   "execution_count": 603,
   "id": "e0045eb5",
   "metadata": {
    "ExecuteTime": {
     "end_time": "2021-05-05T18:52:22.729061Z",
     "start_time": "2021-05-05T18:52:22.713420Z"
    }
   },
   "outputs": [
    {
     "data": {
      "text/plain": [
       "[(966, 879),\n",
       " (966, 639),\n",
       " (966, 1157),\n",
       " (966, 185),\n",
       " (879, 966),\n",
       " (639, 966),\n",
       " (185, 966),\n",
       " (1157, 966)]"
      ]
     },
     "execution_count": 603,
     "metadata": {},
     "output_type": "execute_result"
    }
   ],
   "source": [
    "double_edges"
   ]
  },
  {
   "cell_type": "markdown",
   "id": "08841b6f",
   "metadata": {
    "ExecuteTime": {
     "end_time": "2021-05-05T10:10:18.766881Z",
     "start_time": "2021-05-05T10:10:18.753962Z"
    }
   },
   "source": [
    "#### We observe that not all relations between the nodes are two-way, the network is not symmetric and therefore the direction will play an important role, since it gives information that we don't want to lose. "
   ]
  },
  {
   "cell_type": "code",
   "execution_count": 102,
   "id": "b14775f0",
   "metadata": {
    "ExecuteTime": {
     "end_time": "2021-05-04T16:20:31.635560Z",
     "start_time": "2021-05-04T16:20:31.144590Z"
    }
   },
   "outputs": [
    {
     "data": {
      "image/png": "[encoded data removed]",
      "text/plain": [
       "<Figure size 432x288 with 1 Axes>"
      ]
     },
     "metadata": {},
     "output_type": "display_data"
    }
   ],
   "source": [
    "import matplotlib.pyplot as plt \n",
    "nx.draw(Gr_dir, with_labels=True )\n",
    "plt.show()\n"
   ]
  },
  {
   "cell_type": "code",
   "execution_count": 249,
   "id": "1cf0a8f5",
   "metadata": {
    "ExecuteTime": {
     "end_time": "2021-05-05T07:37:55.731787Z",
     "start_time": "2021-05-05T07:37:55.716825Z"
    }
   },
   "outputs": [],
   "source": [
    "atribs=nodes.set_index('node_id').to_dict('index') \n",
    "nx.set_node_attributes(Gr_dir, atribs)\n",
    "#create a dictionary of dictionaries so that we are able to give it as node attributes\n",
    "# https://stackoverflow.com/questions/54497929/networkx-setting-node-attributes-from-dataframe/54662176\n",
    "#the keys are the node_ids and the values are a dictionary with keys node_color and node_label \n",
    "#access them by e.g. Gr_dir.nodes[3]['node_color']"
   ]
  },
  {
   "cell_type": "markdown",
   "id": "92cc9aad",
   "metadata": {},
   "source": [
    "## Start with 2-d visualization first"
   ]
  },
  {
   "cell_type": "code",
   "execution_count": 560,
   "id": "74029833",
   "metadata": {
    "ExecuteTime": {
     "end_time": "2021-05-05T13:06:16.243569Z",
     "start_time": "2021-05-05T13:06:16.227717Z"
    }
   },
   "outputs": [],
   "source": [
    "#get the positions of the nodes in the graph (different possible layouts, see:\n",
    "#https://networkx.org/documentation/stable/reference/drawing.html#module-networkx.drawing.layout)\n",
    "#pos = nx.kamada_kawai_layout(Gr_dir, weight='weights') #dictionary with node names and positions\n",
    "#pos = nx.random_layout(Gr_dir, seed=2021)\n",
    "#pos=nx.spring_layout(Gr_dir, weight='weights', seed=2021)\n",
    "pos=nx.circular_layout(Gr_dir, scale=2) #dictionary key: node, value: array with coordinates \n",
    "#pos=nx.shell_layout(Gr_dir)"
   ]
  },
  {
   "cell_type": "code",
   "execution_count": 569,
   "id": "0ddea8e4",
   "metadata": {
    "ExecuteTime": {
     "end_time": "2021-05-05T13:15:03.544485Z",
     "start_time": "2021-05-05T13:15:03.528224Z"
    }
   },
   "outputs": [
    {
     "data": {
      "text/plain": [
       "{966: array([2.00000000e+00, 1.49011612e-08]),\n",
       " 945: array([1.95324111, 0.42994089]),\n",
       " 879: array([1.81515086, 0.8397782 ]),\n",
       " 649: array([1.59218621, 1.21034838]),\n",
       " 941: array([1.29477262, 1.52432407]),\n",
       " 467: array([0.93681681, 1.76702418]),\n",
       " 1042: array([0.53505677, 1.92709996]),\n",
       " 785: array([0.10827792, 1.99706687]),\n",
       " 619: array([-0.3235639 ,  1.97365309]),\n",
       " 457: array([-0.74027628,  1.85795344]),\n",
       " 639: array([-1.1223743 ,  1.65537788]),\n",
       " 747: array([-1.45199096,  1.37539889]),\n",
       " 185: array([-1.71371424,  1.03110792]),\n",
       " 349: array([-1.89530635,  0.63860305]),\n",
       " 1157: array([-1.98827589,  0.21623825]),\n",
       " 1152: array([-1.98827589, -0.21623808]),\n",
       " 517: array([-1.89530635, -0.6386029 ]),\n",
       " 158: array([-1.71371424, -1.03110777]),\n",
       " 552: array([-1.45199108, -1.37539886]),\n",
       " 498: array([-1.12237442, -1.65537785]),\n",
       " 574: array([-0.74027592, -1.85795353]),\n",
       " 1025: array([-0.32356382, -1.97365306]),\n",
       " 813: array([ 0.10827779, -1.99706684]),\n",
       " 792: array([ 0.53505641, -1.92710005]),\n",
       " 652: array([ 0.93681645, -1.76702426]),\n",
       " 172: array([ 1.29477274, -1.52432393]),\n",
       " 1009: array([ 1.59218621, -1.21034835]),\n",
       " 3: array([ 1.81515074, -0.83977835]),\n",
       " 709: array([ 1.95324099, -0.42994125])}"
      ]
     },
     "execution_count": 569,
     "metadata": {},
     "output_type": "execute_result"
    }
   ],
   "source": [
    "pos"
   ]
  },
  {
   "cell_type": "code",
   "execution_count": 570,
   "id": "5379eddd",
   "metadata": {
    "ExecuteTime": {
     "end_time": "2021-05-05T13:15:18.650469Z",
     "start_time": "2021-05-05T13:15:18.637857Z"
    }
   },
   "outputs": [],
   "source": [
    "pos[966]=np.array([0,0])"
   ]
  },
  {
   "cell_type": "code",
   "execution_count": 571,
   "id": "813482e8",
   "metadata": {
    "ExecuteTime": {
     "end_time": "2021-05-05T13:15:24.634646Z",
     "start_time": "2021-05-05T13:15:24.625560Z"
    }
   },
   "outputs": [
    {
     "data": {
      "text/plain": [
       "{966: array([0, 0]),\n",
       " 945: array([1.95324111, 0.42994089]),\n",
       " 879: array([1.81515086, 0.8397782 ]),\n",
       " 649: array([1.59218621, 1.21034838]),\n",
       " 941: array([1.29477262, 1.52432407]),\n",
       " 467: array([0.93681681, 1.76702418]),\n",
       " 1042: array([0.53505677, 1.92709996]),\n",
       " 785: array([0.10827792, 1.99706687]),\n",
       " 619: array([-0.3235639 ,  1.97365309]),\n",
       " 457: array([-0.74027628,  1.85795344]),\n",
       " 639: array([-1.1223743 ,  1.65537788]),\n",
       " 747: array([-1.45199096,  1.37539889]),\n",
       " 185: array([-1.71371424,  1.03110792]),\n",
       " 349: array([-1.89530635,  0.63860305]),\n",
       " 1157: array([-1.98827589,  0.21623825]),\n",
       " 1152: array([-1.98827589, -0.21623808]),\n",
       " 517: array([-1.89530635, -0.6386029 ]),\n",
       " 158: array([-1.71371424, -1.03110777]),\n",
       " 552: array([-1.45199108, -1.37539886]),\n",
       " 498: array([-1.12237442, -1.65537785]),\n",
       " 574: array([-0.74027592, -1.85795353]),\n",
       " 1025: array([-0.32356382, -1.97365306]),\n",
       " 813: array([ 0.10827779, -1.99706684]),\n",
       " 792: array([ 0.53505641, -1.92710005]),\n",
       " 652: array([ 0.93681645, -1.76702426]),\n",
       " 172: array([ 1.29477274, -1.52432393]),\n",
       " 1009: array([ 1.59218621, -1.21034835]),\n",
       " 3: array([ 1.81515074, -0.83977835]),\n",
       " 709: array([ 1.95324099, -0.42994125])}"
      ]
     },
     "execution_count": 571,
     "metadata": {},
     "output_type": "execute_result"
    }
   ],
   "source": [
    "pos"
   ]
  },
  {
   "cell_type": "code",
   "execution_count": 572,
   "id": "5ec9bd78",
   "metadata": {
    "ExecuteTime": {
     "end_time": "2021-05-05T13:15:36.318953Z",
     "start_time": "2021-05-05T13:15:36.311820Z"
    }
   },
   "outputs": [],
   "source": [
    "for node in Gr_dir.nodes:\n",
    "        Gr_dir.nodes[node]['pos'] = list(pos[node]) #has the 2-d positions of the nodes, it is like a node attribute"
   ]
  },
  {
   "cell_type": "code",
   "execution_count": 573,
   "id": "e27f7da0",
   "metadata": {
    "ExecuteTime": {
     "end_time": "2021-05-05T13:15:40.870168Z",
     "start_time": "2021-05-05T13:15:40.848932Z"
    }
   },
   "outputs": [
    {
     "data": {
      "text/plain": [
       "{966: [0, 0],\n",
       " 945: [1.9532411098300027, 0.4299408944117898],\n",
       " 879: [1.8151508569005046, 0.8397782001155376],\n",
       " 649: [1.5921862123825117, 1.210348383058639],\n",
       " 941: [1.2947726246977056, 1.5243240749749865],\n",
       " 467: [0.9368168111518604, 1.7670241750135853],\n",
       " 1042: [0.5350567692833176, 1.9270999588048279],\n",
       " 785: [0.10827791617924203, 1.9970668711013835],\n",
       " 619: [-0.3235639044656183, 1.973653093740981],\n",
       " 457: [-0.7402762781213107, 1.8579534448392767],\n",
       " 639: [-1.122374297391639, 1.6553778803767487],\n",
       " 747: [-1.451990963358814, 1.3753988897140423],\n",
       " 185: [-1.7137142434126784, 1.0311079178253797],\n",
       " 349: [-1.8953063503018122, 0.6386030467825472],\n",
       " 1157: [-1.9882758871189514, 0.21623824545133663],\n",
       " 1152: [-1.9882758871189514, -0.21623808153856344],\n",
       " 517: [-1.8953063503018122, -0.6386028977709352],\n",
       " 158: [-1.7137142434126784, -1.0311077688137678],\n",
       " 552: [-1.4519910825681035, -1.3753988599117197],\n",
       " 498: [-1.1223744166009286, -1.6553778505744263],\n",
       " 574: [-0.7402759204934418, -1.8579535342462439],\n",
       " 1025: [-0.3235638150586511, -1.9736530639386587],\n",
       " 813: [0.10827778951937184, -1.997066841299061],\n",
       " 792: [0.5350564116554488, -1.927100048211795],\n",
       " 652: [0.9368164535239917, -1.7670242644205525],\n",
       " 172: [1.2947727439069951, -1.5243239259633745],\n",
       " 1009: [1.5921862123825117, -1.2103483532563166],\n",
       " 3: [1.8151507376912148, -0.8397783491271497],\n",
       " 709: [1.953240990620713, -0.42994125203965855]}"
      ]
     },
     "execution_count": 573,
     "metadata": {},
     "output_type": "execute_result"
    }
   ],
   "source": [
    "nx.get_node_attributes(Gr_dir, 'pos')"
   ]
  },
  {
   "cell_type": "code",
   "execution_count": 142,
   "id": "85373611",
   "metadata": {
    "ExecuteTime": {
     "end_time": "2021-05-04T18:03:53.410334Z",
     "start_time": "2021-05-04T18:03:53.406253Z"
    }
   },
   "outputs": [],
   "source": [
    "#for edge in Gr_dir.edges():\n",
    "    #print(Gr_dir[edge[0]][edge[1]]['weights'])"
   ]
  },
  {
   "cell_type": "code",
   "execution_count": 517,
   "id": "70da4c97",
   "metadata": {
    "ExecuteTime": {
     "end_time": "2021-05-05T12:36:20.745828Z",
     "start_time": "2021-05-05T12:36:20.734042Z"
    }
   },
   "outputs": [],
   "source": [
    "#Create an edge between node x and node y with specific weight \n",
    "# [starting, ending, Gr_dir[starting][ending]['weights']]\n",
    "def make_edge(x, y, width):\n",
    "    return  go.Scatter(x         = x,\n",
    "                       y         = y,\n",
    "                       line      = dict(width = width,\n",
    "                                   color = 'cornflowerblue'),\n",
    "                       mode      = 'lines',\n",
    "                       hover= Gr_dir[x][y]['weights'] )"
   ]
  },
  {
   "cell_type": "code",
   "execution_count": 385,
   "id": "db548cc7",
   "metadata": {
    "ExecuteTime": {
     "end_time": "2021-05-05T11:37:49.322262Z",
     "start_time": "2021-05-05T11:37:49.312365Z"
    }
   },
   "outputs": [],
   "source": [
    "def make_edge(edge, pos):\n",
    "    '''\n",
    "    edge: a tuple that contains the beginning and the ending of the edge of the graph \n",
    "    pos: a dictionary with key the node_id and value the array of 2-d positions of the node\n",
    "    '''\n",
    "    x0, y0 = pos[edge[0]]\n",
    "    x1, y1 = pos[edge[1]]\n",
    "    weight= Gr_dir[edge[0]][edge[1]]['weights']\n",
    "    #edge_x, edge_y = addEdge(start, end, edge_x, edge_y, .8, 'end', .04, 30, nodeSize)\n",
    "    return  go.Scatter(x         = [x0, x1, None],\n",
    "                       y         = [y0, y1, None],\n",
    "                       line      = dict(width = 0.3*weight**1.75,\n",
    "                                   color = 'black'),\n",
    "                       #opacity=weight,\n",
    "                       mode      = 'lines',\n",
    "                       text=str(weight),\n",
    "                       hoverinfo='text')\n",
    "                       #hover= str(weight) )"
   ]
  },
  {
   "cell_type": "code",
   "execution_count": 477,
   "id": "d64fce82",
   "metadata": {
    "ExecuteTime": {
     "end_time": "2021-05-05T12:11:49.835039Z",
     "start_time": "2021-05-05T12:11:49.832048Z"
    }
   },
   "outputs": [
    {
     "data": {
      "text/plain": [
       "13"
      ]
     },
     "execution_count": 477,
     "metadata": {},
     "output_type": "execute_result"
    }
   ],
   "source": [
    "np.max(list(nx.get_edge_attributes(Gr_dir,'weights').values()))"
   ]
  },
  {
   "cell_type": "code",
   "execution_count": 613,
   "id": "cec9a1f5",
   "metadata": {
    "ExecuteTime": {
     "end_time": "2021-05-05T18:57:10.543239Z",
     "start_time": "2021-05-05T18:57:10.497999Z"
    }
   },
   "outputs": [],
   "source": [
    "edge_trace=[]\n",
    "for edge in Gr_dir.edges:\n",
    "    x0, y0 = Gr_dir.nodes[edge[0]]['pos']\n",
    "    x1, y1 = Gr_dir.nodes[edge[1]]['pos']\n",
    "    weight = Gr_dir[edge[0]][edge[1]]['weights']\n",
    "    opacity= weight/np.max(list(nx.get_edge_attributes(Gr_dir,'weights').values())) #normalize between 0 and 1\n",
    "    if edge in double_edges: \n",
    "        color='red'\n",
    "    else: \n",
    "        color='cornflowerblue'\n",
    "    trace = go.Scatter(x=tuple([x0, x1, None]), y=tuple([y0, y1, None]),\n",
    "                        mode='lines',\n",
    "                        line={'width': 10*weight/np.max(list(nx.get_edge_attributes(Gr_dir,'weights').values())), 'color': color},\n",
    "                        line_shape='spline',\n",
    "                        text=weight,\n",
    "                        hoverinfo='text',\n",
    "                        opacity=opacity)\n",
    "    edge_trace.append(trace)"
   ]
  },
  {
   "cell_type": "code",
   "execution_count": 614,
   "id": "5ea8985a",
   "metadata": {
    "ExecuteTime": {
     "end_time": "2021-05-05T18:57:12.299489Z",
     "start_time": "2021-05-05T18:57:12.278900Z"
    }
   },
   "outputs": [
    {
     "data": {
      "text/plain": [
       "[Scatter({\n",
       "     'hoverinfo': 'text',\n",
       "     'line': {'color': 'cornflowerblue', 'shape': 'spline', 'width': 10.0},\n",
       "     'mode': 'lines',\n",
       "     'opacity': 1.0,\n",
       "     'text': '13',\n",
       "     'x': [0, 1.9532411098300027, None],\n",
       "     'y': [0, 0.4299408944117898, None]\n",
       " }),\n",
       " Scatter({\n",
       "     'hoverinfo': 'text',\n",
       "     'line': {'color': 'red', 'shape': 'spline', 'width': 7.6923076923076925},\n",
       "     'mode': 'lines',\n",
       "     'opacity': 0.7692307692307693,\n",
       "     'text': '10',\n",
       "     'x': [0, 1.8151508569005046, None],\n",
       "     'y': [0, 0.8397782001155376, None]\n",
       " }),\n",
       " Scatter({\n",
       "     'hoverinfo': 'text',\n",
       "     'line': {'color': 'cornflowerblue', 'shape': 'spline', 'width': 6.153846153846154},\n",
       "     'mode': 'lines',\n",
       "     'opacity': 0.6153846153846154,\n",
       "     'text': '8',\n",
       "     'x': [0, 0.9368168111518604, None],\n",
       "     'y': [0, 1.7670241750135853, None]\n",
       " }),\n",
       " Scatter({\n",
       "     'hoverinfo': 'text',\n",
       "     'line': {'color': 'cornflowerblue', 'shape': 'spline', 'width': 5.384615384615385},\n",
       "     'mode': 'lines',\n",
       "     'opacity': 0.5384615384615384,\n",
       "     'text': '7',\n",
       "     'x': [0, 0.5350567692833176, None],\n",
       "     'y': [0, 1.9270999588048279, None]\n",
       " }),\n",
       " Scatter({\n",
       "     'hoverinfo': 'text',\n",
       "     'line': {'color': 'cornflowerblue', 'shape': 'spline', 'width': 5.384615384615385},\n",
       "     'mode': 'lines',\n",
       "     'opacity': 0.5384615384615384,\n",
       "     'text': '7',\n",
       "     'x': [0, 0.10827791617924203, None],\n",
       "     'y': [0, 1.9970668711013835, None]\n",
       " }),\n",
       " Scatter({\n",
       "     'hoverinfo': 'text',\n",
       "     'line': {'color': 'cornflowerblue', 'shape': 'spline', 'width': 5.384615384615385},\n",
       "     'mode': 'lines',\n",
       "     'opacity': 0.5384615384615384,\n",
       "     'text': '7',\n",
       "     'x': [0, -0.3235639044656183, None],\n",
       "     'y': [0, 1.973653093740981, None]\n",
       " }),\n",
       " Scatter({\n",
       "     'hoverinfo': 'text',\n",
       "     'line': {'color': 'red', 'shape': 'spline', 'width': 4.615384615384615},\n",
       "     'mode': 'lines',\n",
       "     'opacity': 0.46153846153846156,\n",
       "     'text': '6',\n",
       "     'x': [0, -1.122374297391639, None],\n",
       "     'y': [0, 1.6553778803767487, None]\n",
       " }),\n",
       " Scatter({\n",
       "     'hoverinfo': 'text',\n",
       "     'line': {'color': 'cornflowerblue', 'shape': 'spline', 'width': 4.615384615384615},\n",
       "     'mode': 'lines',\n",
       "     'opacity': 0.46153846153846156,\n",
       "     'text': '6',\n",
       "     'x': [0, -1.9882758871189514, None],\n",
       "     'y': [0, -0.21623808153856344, None]\n",
       " }),\n",
       " Scatter({\n",
       "     'hoverinfo': 'text',\n",
       "     'line': {'color': 'cornflowerblue', 'shape': 'spline', 'width': 4.615384615384615},\n",
       "     'mode': 'lines',\n",
       "     'opacity': 0.46153846153846156,\n",
       "     'text': '6',\n",
       "     'x': [0, -1.8953063503018122, None],\n",
       "     'y': [0, -0.6386028977709352, None]\n",
       " }),\n",
       " Scatter({\n",
       "     'hoverinfo': 'text',\n",
       "     'line': {'color': 'cornflowerblue', 'shape': 'spline', 'width': 4.615384615384615},\n",
       "     'mode': 'lines',\n",
       "     'opacity': 0.46153846153846156,\n",
       "     'text': '6',\n",
       "     'x': [0, -1.7137142434126784, None],\n",
       "     'y': [0, -1.0311077688137678, None]\n",
       " }),\n",
       " Scatter({\n",
       "     'hoverinfo': 'text',\n",
       "     'line': {'color': 'cornflowerblue', 'shape': 'spline', 'width': 4.615384615384615},\n",
       "     'mode': 'lines',\n",
       "     'opacity': 0.46153846153846156,\n",
       "     'text': '6',\n",
       "     'x': [0, -1.1223744166009286, None],\n",
       "     'y': [0, -1.6553778505744263, None]\n",
       " }),\n",
       " Scatter({\n",
       "     'hoverinfo': 'text',\n",
       "     'line': {'color': 'red', 'shape': 'spline', 'width': 3.8461538461538463},\n",
       "     'mode': 'lines',\n",
       "     'opacity': 0.38461538461538464,\n",
       "     'text': '5',\n",
       "     'x': [0, -1.9882758871189514, None],\n",
       "     'y': [0, 0.21623824545133663, None]\n",
       " }),\n",
       " Scatter({\n",
       "     'hoverinfo': 'text',\n",
       "     'line': {'color': 'red', 'shape': 'spline', 'width': 3.8461538461538463},\n",
       "     'mode': 'lines',\n",
       "     'opacity': 0.38461538461538464,\n",
       "     'text': '5',\n",
       "     'x': [0, -1.7137142434126784, None],\n",
       "     'y': [0, 1.0311079178253797, None]\n",
       " }),\n",
       " Scatter({\n",
       "     'hoverinfo': 'text',\n",
       "     'line': {'color': 'cornflowerblue', 'shape': 'spline', 'width': 3.8461538461538463},\n",
       "     'mode': 'lines',\n",
       "     'opacity': 0.38461538461538464,\n",
       "     'text': '5',\n",
       "     'x': [0, -0.3235638150586511, None],\n",
       "     'y': [0, -1.9736530639386587, None]\n",
       " }),\n",
       " Scatter({\n",
       "     'hoverinfo': 'text',\n",
       "     'line': {'color': 'cornflowerblue', 'shape': 'spline', 'width': 3.8461538461538463},\n",
       "     'mode': 'lines',\n",
       "     'opacity': 0.38461538461538464,\n",
       "     'text': '5',\n",
       "     'x': [0, 1.2947727439069951, None],\n",
       "     'y': [0, -1.5243239259633745, None]\n",
       " }),\n",
       " Scatter({\n",
       "     'hoverinfo': 'text',\n",
       "     'line': {'color': 'cornflowerblue', 'shape': 'spline', 'width': 3.8461538461538463},\n",
       "     'mode': 'lines',\n",
       "     'opacity': 0.38461538461538464,\n",
       "     'text': '5',\n",
       "     'x': [0, 1.8151507376912148, None],\n",
       "     'y': [0, -0.8397783491271497, None]\n",
       " }),\n",
       " Scatter({\n",
       "     'hoverinfo': 'text',\n",
       "     'line': {'color': 'red', 'shape': 'spline', 'width': 3.8461538461538463},\n",
       "     'mode': 'lines',\n",
       "     'opacity': 0.38461538461538464,\n",
       "     'text': '5',\n",
       "     'x': [1.8151508569005046, 0, None],\n",
       "     'y': [0.8397782001155376, 0, None]\n",
       " }),\n",
       " Scatter({\n",
       "     'hoverinfo': 'text',\n",
       "     'line': {'color': 'cornflowerblue', 'shape': 'spline', 'width': 6.923076923076923},\n",
       "     'mode': 'lines',\n",
       "     'opacity': 0.6923076923076923,\n",
       "     'text': '9',\n",
       "     'x': [1.5921862123825117, 0, None],\n",
       "     'y': [1.210348383058639, 0, None]\n",
       " }),\n",
       " Scatter({\n",
       "     'hoverinfo': 'text',\n",
       "     'line': {'color': 'cornflowerblue', 'shape': 'spline', 'width': 6.153846153846154},\n",
       "     'mode': 'lines',\n",
       "     'opacity': 0.6153846153846154,\n",
       "     'text': '8',\n",
       "     'x': [1.2947726246977056, 0, None],\n",
       "     'y': [1.5243240749749865, 0, None]\n",
       " }),\n",
       " Scatter({\n",
       "     'hoverinfo': 'text',\n",
       "     'line': {'color': 'cornflowerblue', 'shape': 'spline', 'width': 5.384615384615385},\n",
       "     'mode': 'lines',\n",
       "     'opacity': 0.5384615384615384,\n",
       "     'text': '7',\n",
       "     'x': [-0.7402762781213107, 0, None],\n",
       "     'y': [1.8579534448392767, 0, None]\n",
       " }),\n",
       " Scatter({\n",
       "     'hoverinfo': 'text',\n",
       "     'line': {'color': 'red', 'shape': 'spline', 'width': 4.615384615384615},\n",
       "     'mode': 'lines',\n",
       "     'opacity': 0.46153846153846156,\n",
       "     'text': '6',\n",
       "     'x': [-1.122374297391639, 0, None],\n",
       "     'y': [1.6553778803767487, 0, None]\n",
       " }),\n",
       " Scatter({\n",
       "     'hoverinfo': 'text',\n",
       "     'line': {'color': 'cornflowerblue', 'shape': 'spline', 'width': 4.615384615384615},\n",
       "     'mode': 'lines',\n",
       "     'opacity': 0.46153846153846156,\n",
       "     'text': '6',\n",
       "     'x': [-1.451990963358814, 0, None],\n",
       "     'y': [1.3753988897140423, 0, None]\n",
       " }),\n",
       " Scatter({\n",
       "     'hoverinfo': 'text',\n",
       "     'line': {'color': 'red', 'shape': 'spline', 'width': 4.615384615384615},\n",
       "     'mode': 'lines',\n",
       "     'opacity': 0.46153846153846156,\n",
       "     'text': '6',\n",
       "     'x': [-1.7137142434126784, 0, None],\n",
       "     'y': [1.0311079178253797, 0, None]\n",
       " }),\n",
       " Scatter({\n",
       "     'hoverinfo': 'text',\n",
       "     'line': {'color': 'cornflowerblue', 'shape': 'spline', 'width': 4.615384615384615},\n",
       "     'mode': 'lines',\n",
       "     'opacity': 0.46153846153846156,\n",
       "     'text': '6',\n",
       "     'x': [-1.8953063503018122, 0, None],\n",
       "     'y': [0.6386030467825472, 0, None]\n",
       " }),\n",
       " Scatter({\n",
       "     'hoverinfo': 'text',\n",
       "     'line': {'color': 'red', 'shape': 'spline', 'width': 4.615384615384615},\n",
       "     'mode': 'lines',\n",
       "     'opacity': 0.46153846153846156,\n",
       "     'text': '6',\n",
       "     'x': [-1.9882758871189514, 0, None],\n",
       "     'y': [0.21623824545133663, 0, None]\n",
       " }),\n",
       " Scatter({\n",
       "     'hoverinfo': 'text',\n",
       "     'line': {'color': 'cornflowerblue', 'shape': 'spline', 'width': 4.615384615384615},\n",
       "     'mode': 'lines',\n",
       "     'opacity': 0.46153846153846156,\n",
       "     'text': '6',\n",
       "     'x': [-1.4519910825681035, 0, None],\n",
       "     'y': [-1.3753988599117197, 0, None]\n",
       " }),\n",
       " Scatter({\n",
       "     'hoverinfo': 'text',\n",
       "     'line': {'color': 'cornflowerblue', 'shape': 'spline', 'width': 4.615384615384615},\n",
       "     'mode': 'lines',\n",
       "     'opacity': 0.46153846153846156,\n",
       "     'text': '6',\n",
       "     'x': [-0.7402759204934418, 0, None],\n",
       "     'y': [-1.8579535342462439, 0, None]\n",
       " }),\n",
       " Scatter({\n",
       "     'hoverinfo': 'text',\n",
       "     'line': {'color': 'cornflowerblue', 'shape': 'spline', 'width': 3.8461538461538463},\n",
       "     'mode': 'lines',\n",
       "     'opacity': 0.38461538461538464,\n",
       "     'text': '5',\n",
       "     'x': [0.10827778951937184, 0, None],\n",
       "     'y': [-1.997066841299061, 0, None]\n",
       " }),\n",
       " Scatter({\n",
       "     'hoverinfo': 'text',\n",
       "     'line': {'color': 'cornflowerblue', 'shape': 'spline', 'width': 3.8461538461538463},\n",
       "     'mode': 'lines',\n",
       "     'opacity': 0.38461538461538464,\n",
       "     'text': '5',\n",
       "     'x': [0.5350564116554488, 0, None],\n",
       "     'y': [-1.927100048211795, 0, None]\n",
       " }),\n",
       " Scatter({\n",
       "     'hoverinfo': 'text',\n",
       "     'line': {'color': 'cornflowerblue', 'shape': 'spline', 'width': 3.8461538461538463},\n",
       "     'mode': 'lines',\n",
       "     'opacity': 0.38461538461538464,\n",
       "     'text': '5',\n",
       "     'x': [0.5350564116554488, 0.9368164535239917, None],\n",
       "     'y': [-1.927100048211795, -1.7670242644205525, None]\n",
       " }),\n",
       " Scatter({\n",
       "     'hoverinfo': 'text',\n",
       "     'line': {'color': 'cornflowerblue', 'shape': 'spline', 'width': 3.8461538461538463},\n",
       "     'mode': 'lines',\n",
       "     'opacity': 0.38461538461538464,\n",
       "     'text': '5',\n",
       "     'x': [1.5921862123825117, 0, None],\n",
       "     'y': [-1.2103483532563166, 0, None]\n",
       " }),\n",
       " Scatter({\n",
       "     'hoverinfo': 'text',\n",
       "     'line': {'color': 'cornflowerblue', 'shape': 'spline', 'width': 3.8461538461538463},\n",
       "     'mode': 'lines',\n",
       "     'opacity': 0.38461538461538464,\n",
       "     'text': '5',\n",
       "     'x': [1.953240990620713, 0, None],\n",
       "     'y': [-0.42994125203965855, 0, None]\n",
       " })]"
      ]
     },
     "execution_count": 614,
     "metadata": {},
     "output_type": "execute_result"
    }
   ],
   "source": [
    "edge_trace"
   ]
  },
  {
   "cell_type": "code",
   "execution_count": 424,
   "id": "7707d88f",
   "metadata": {
    "ExecuteTime": {
     "end_time": "2021-05-05T11:48:32.573083Z",
     "start_time": "2021-05-05T11:48:32.550285Z"
    }
   },
   "outputs": [
    {
     "ename": "TypeError",
     "evalue": "make_edge() missing 1 required positional argument: 'width'",
     "output_type": "error",
     "traceback": [
      "\u001b[1;31m---------------------------------------------------------------------------\u001b[0m",
      "\u001b[1;31mTypeError\u001b[0m                                 Traceback (most recent call last)",
      "\u001b[1;32m<ipython-input-424-c61c21d1e227>\u001b[0m in \u001b[0;36m<module>\u001b[1;34m\u001b[0m\n\u001b[0;32m      2\u001b[0m \u001b[0medge_trace\u001b[0m \u001b[1;33m=\u001b[0m \u001b[1;33m[\u001b[0m\u001b[1;33m]\u001b[0m\u001b[1;33m\u001b[0m\u001b[1;33m\u001b[0m\u001b[0m\n\u001b[0;32m      3\u001b[0m \u001b[1;32mfor\u001b[0m \u001b[0medge\u001b[0m \u001b[1;32min\u001b[0m \u001b[0mGr_dir\u001b[0m\u001b[1;33m.\u001b[0m\u001b[0medges\u001b[0m\u001b[1;33m(\u001b[0m\u001b[1;33m)\u001b[0m\u001b[1;33m:\u001b[0m\u001b[1;33m\u001b[0m\u001b[1;33m\u001b[0m\u001b[0m\n\u001b[1;32m----> 4\u001b[1;33m     \u001b[0mtrace\u001b[0m  \u001b[1;33m=\u001b[0m \u001b[0mmake_edge\u001b[0m\u001b[1;33m(\u001b[0m\u001b[0medge\u001b[0m\u001b[1;33m,\u001b[0m \u001b[0mpos\u001b[0m\u001b[1;33m)\u001b[0m\u001b[1;33m\u001b[0m\u001b[1;33m\u001b[0m\u001b[0m\n\u001b[0m\u001b[0;32m      5\u001b[0m     \u001b[0medge_trace\u001b[0m\u001b[1;33m.\u001b[0m\u001b[0mappend\u001b[0m\u001b[1;33m(\u001b[0m\u001b[0mtrace\u001b[0m\u001b[1;33m)\u001b[0m\u001b[1;33m\u001b[0m\u001b[1;33m\u001b[0m\u001b[0m\n",
      "\u001b[1;31mTypeError\u001b[0m: make_edge() missing 1 required positional argument: 'width'"
     ]
    }
   ],
   "source": [
    "#for each edge create a trace and append it to the list\n",
    "edge_trace = []\n",
    "for edge in Gr_dir.edges():\n",
    "    trace  = make_edge(edge, pos)\n",
    "    edge_trace.append(trace)"
   ]
  },
  {
   "cell_type": "code",
   "execution_count": 482,
   "id": "5aaae6f4",
   "metadata": {
    "ExecuteTime": {
     "end_time": "2021-05-05T12:13:05.405184Z",
     "start_time": "2021-05-05T12:13:05.395106Z"
    }
   },
   "outputs": [],
   "source": [
    "first_node=list(Gr_dir.edges())[0][0] #first node of an edge\n",
    "second_node=list(Gr_dir.edges())[0][1] #second node of an edge"
   ]
  },
  {
   "cell_type": "code",
   "execution_count": 110,
   "id": "39e76188",
   "metadata": {
    "ExecuteTime": {
     "end_time": "2021-05-04T16:49:17.527705Z",
     "start_time": "2021-05-04T16:49:17.512550Z"
    }
   },
   "outputs": [
    {
     "data": {
      "text/plain": [
       "{'weights': 13}"
      ]
     },
     "execution_count": 110,
     "metadata": {},
     "output_type": "execute_result"
    }
   ],
   "source": [
    "Gr_dir[966][945]['weights'] #this is how we access the weights as the edge attributes, here is the edge between node 966 and 945"
   ]
  },
  {
   "cell_type": "code",
   "execution_count": 483,
   "id": "e08897d3",
   "metadata": {
    "ExecuteTime": {
     "end_time": "2021-05-05T12:13:10.044939Z",
     "start_time": "2021-05-05T12:13:10.026491Z"
    }
   },
   "outputs": [
    {
     "data": {
      "text/plain": [
       "'#0066CC'"
      ]
     },
     "execution_count": 483,
     "metadata": {},
     "output_type": "execute_result"
    }
   ],
   "source": [
    "Gr_dir.nodes[3]['node_color']"
   ]
  },
  {
   "cell_type": "code",
   "execution_count": 575,
   "id": "c65fe863",
   "metadata": {
    "ExecuteTime": {
     "end_time": "2021-05-05T13:15:58.786698Z",
     "start_time": "2021-05-05T13:15:58.782676Z"
    }
   },
   "outputs": [],
   "source": [
    "x_node = [pos[i][0] for i in list(nx.get_node_attributes(Gr_dir,'pos').keys())]# x-coordinates of nodes\n",
    "y_node = [pos[i][1] for i in list(nx.get_node_attributes(Gr_dir,'pos').keys())]# y-coordinates of nodes\n",
    "#in that way we are sure that the colors and the labels are in the same line with the positions\n",
    "#we use the same attribute dictionary (the keys are in the same ordering)"
   ]
  },
  {
   "cell_type": "code",
   "execution_count": 576,
   "id": "f65dc933",
   "metadata": {
    "ExecuteTime": {
     "end_time": "2021-05-05T13:16:00.764227Z",
     "start_time": "2021-05-05T13:16:00.758147Z"
    }
   },
   "outputs": [],
   "source": [
    "labels=list(nx.get_node_attributes(Gr_dir,'node_label').values()) #the labels of the nodes \n",
    "colors=list(nx.get_node_attributes(Gr_dir,'node_color').values()) #the colors of the nodes"
   ]
  },
  {
   "cell_type": "code",
   "execution_count": 580,
   "id": "c6a6cfe7",
   "metadata": {
    "ExecuteTime": {
     "end_time": "2021-05-05T13:29:40.577019Z",
     "start_time": "2021-05-05T13:29:40.562404Z"
    }
   },
   "outputs": [],
   "source": [
    "###Create trace for the nodes: \n",
    "trace_nodes = go.Scatter(x=x_node,\n",
    "                         y=y_node,\n",
    "                        mode='markers',\n",
    "                        marker=dict(symbol='circle',\n",
    "                                    size=40,\n",
    "                                    color=colors),#color the nodes according to their community\n",
    "                                    text=labels,\n",
    "                                    hoverinfo='text')"
   ]
  },
  {
   "cell_type": "code",
   "execution_count": 545,
   "id": "b6f995df",
   "metadata": {
    "ExecuteTime": {
     "end_time": "2021-05-05T12:42:25.568294Z",
     "start_time": "2021-05-05T12:42:25.554021Z"
    }
   },
   "outputs": [
    {
     "data": {
      "text/plain": [
       "Scatter({\n",
       "    'hoverinfo': 'text',\n",
       "    'marker': {'color': [#ED8B00, #ED8B00, #ED8B00, #00965E, #ED8B00, #A05EB5,\n",
       "                         #B1B3B3, #E40046, #00965E, #A05EB5, #00965E, #E40046,\n",
       "                         #0066CC, #0066CC, #B1B3B3, #B1B3B3, #A05EB5, #0066CC,\n",
       "                         #A05EB5, #A05EB5, #00965E, #B1B3B3, #E40046, #E40046,\n",
       "                         #00965E, #0066CC, #ED8B00, #0066CC, #E40046],\n",
       "               'size': 20,\n",
       "               'symbol': 'circle'},\n",
       "    'mode': 'markers',\n",
       "    'text': [Anthony, Matthew, Christopher, Linda, Daniel, Richard, Margaret,\n",
       "             Jessica, Patricia, David, Jennifer, Susan, Michael, William, Sandra,\n",
       "             Betty, Thomas, John, Charles, Joseph, Mary, Lisa, Karen, Sarah,\n",
       "             Elizabeth, Robert, Nancy, James, Barbara],\n",
       "    'x': [0.07997508893846393, 0.11756108531288914, 0.14118051950956217,\n",
       "          0.13970123388488168, 0.10717785661288669, 0.044315358195966374,\n",
       "          -0.041223729789939025, -0.13575330202190053, -0.22162503204378936,\n",
       "          -0.280118415614582, -0.2947181203908634, -0.25425909609192265,\n",
       "          -0.155419546669966, -0.0041213519967335235, 0.184452836727353,\n",
       "          0.3873170410907625, 0.5764837211205482, 0.7227683639582058,\n",
       "          0.8000857396155291, 0.7896250327988069, 0.6832748657124208,\n",
       "          0.48574418172113587, 0.2149839151053326, -0.09926204591292327,\n",
       "          -0.41868912484516685, -0.7011010119424737, -0.9059462238448106, -1.0,\n",
       "          -0.9624098391396737],\n",
       "    'y': [-0.09039852365794245, -0.07667856397468421, -0.03884590066666666,\n",
       "          0.01372297923342155, 0.06731996005765746, 0.10645673797502986,\n",
       "          0.1168328575489274, 0.08822828780917857, 0.01682931658085225,\n",
       "          -0.09342602582257803, -0.23075321933764706, -0.3767580599658262,\n",
       "          -0.5088783458704879, -0.6037087564835851, -0.6407343356691128,\n",
       "          -0.6059112958664833, -0.4945283901165117, -0.31286142427532926,\n",
       "          -0.07828894298562006, 0.18225123661492765, 0.4353458497897514,\n",
       "          0.6453785698382141, 0.7794461261310964, 0.8122496061093668,\n",
       "          0.7302585217517891, 0.5345097779055481, 0.24156170137758012,\n",
       "          -0.11764347526772573, -0.5009762687631393]\n",
       "})"
      ]
     },
     "execution_count": 545,
     "metadata": {},
     "output_type": "execute_result"
    }
   ],
   "source": [
    "trace_nodes"
   ]
  },
  {
   "cell_type": "code",
   "execution_count": 535,
   "id": "2938a71c",
   "metadata": {
    "ExecuteTime": {
     "end_time": "2021-05-05T12:39:21.126459Z",
     "start_time": "2021-05-05T12:39:21.110797Z"
    }
   },
   "outputs": [],
   "source": [
    "layout = go.Layout(\n",
    "    paper_bgcolor='rgba(0,0,0,0)', # transparent background\n",
    "    plot_bgcolor='rgba(0,0,0,0)', # transparent 2nd background\n",
    "    xaxis =  {'showgrid': False, 'zeroline': False}, # no gridlines\n",
    "    yaxis = {'showgrid': False, 'zeroline': False}, # no gridlines\n",
    ")\n",
    "\n",
    "# Create figure\n",
    "fig = go.Figure(layout = layout)\n"
   ]
  },
  {
   "cell_type": "code",
   "execution_count": 608,
   "id": "a4025a49",
   "metadata": {
    "ExecuteTime": {
     "end_time": "2021-05-05T18:55:12.840310Z",
     "start_time": "2021-05-05T18:55:12.808254Z"
    }
   },
   "outputs": [],
   "source": [
    "axis = dict(showbackground=False,\n",
    "            showline=False,\n",
    "            zeroline=False,\n",
    "            showgrid=False,\n",
    "            showticklabels=False,\n",
    "            title='')\n",
    "#also need to create the layout for our plot\n",
    "layout = go.Layout(title=\"The network 2-d visualization\",\n",
    "                width=1000,\n",
    "                height=950,\n",
    "                showlegend=False,\n",
    "                scene=dict(xaxis=dict(axis),\n",
    "                        yaxis=dict(axis)),\n",
    "                margin=dict(t=100),\n",
    "                hovermode='closest',\n",
    "                annotations=[\n",
    "                            dict(   ax=(Gr_dir.nodes[edge[0]]['pos'][0] + Gr_dir.nodes[edge[1]]['pos'][0]) / 2,\n",
    "                                    ay=(Gr_dir.nodes[edge[0]]['pos'][1] + Gr_dir.nodes[edge[1]]['pos'][1]) / 2, axref='x', ayref='y',\n",
    "                                    x=(Gr_dir.nodes[edge[1]]['pos'][0] * 3 + Gr_dir.nodes[edge[0]]['pos'][0]) / 4,\n",
    "                                    y=(Gr_dir.nodes[edge[1]]['pos'][1] * 3 + Gr_dir.nodes[edge[0]]['pos'][1]) / 4, xref='x', yref='y',\n",
    "                                    showarrow=True,\n",
    "                                    arrowhead=3,\n",
    "                                    arrowsize=5,\n",
    "                                    arrowwidth=1,\n",
    "                                    arrowcolor='cornflowerblue',\n",
    "                                    opacity=0.7\n",
    "                                ) for edge in Gr_dir.edges])"
   ]
  },
  {
   "cell_type": "code",
   "execution_count": 615,
   "id": "0d74dd00",
   "metadata": {
    "ExecuteTime": {
     "end_time": "2021-05-05T18:57:27.983130Z",
     "start_time": "2021-05-05T18:57:27.955737Z"
    }
   },
   "outputs": [],
   "source": [
    "layout=go.Layout(title='Network 2-d visualization', showlegend=False, hovermode='closest',\n",
    "                            margin={'b': 40, 'l': 40, 'r': 40, 't': 40},\n",
    "                            xaxis={'showgrid': False, 'zeroline': False, 'showticklabels': False},\n",
    "                            yaxis={'showgrid': False, 'zeroline': False, 'showticklabels': False},\n",
    "                            height=600,\n",
    "                            clickmode='event+select',\n",
    "                            annotations=[\n",
    "                                dict(\n",
    "                                    ax=(Gr_dir.nodes[edge[0]]['pos'][0] + Gr_dir.nodes[edge[1]]['pos'][0]) / 2,\n",
    "                                    ay=(Gr_dir.nodes[edge[0]]['pos'][1] + Gr_dir.nodes[edge[1]]['pos'][1]) / 2, axref='x', ayref='y',\n",
    "                                    x=(Gr_dir.nodes[edge[1]]['pos'][0] * 3 + Gr_dir.nodes[edge[0]]['pos'][0]) / 4,\n",
    "                                    y=(Gr_dir.nodes[edge[1]]['pos'][1] * 3 + Gr_dir.nodes[edge[0]]['pos'][1]) / 4, xref='x', yref='y',\n",
    "                                    showarrow=True,\n",
    "                                    arrowhead=3,\n",
    "                                    arrowsize=5,\n",
    "                                    arrowwidth=1,\n",
    "                                    arrowcolor='cornflowerblue',\n",
    "                                    opacity=0.7\n",
    "                                ) for edge in Gr_dir.edges]\n",
    "                            )"
   ]
  },
  {
   "cell_type": "code",
   "execution_count": 616,
   "id": "01834a35",
   "metadata": {
    "ExecuteTime": {
     "end_time": "2021-05-05T18:57:31.192757Z",
     "start_time": "2021-05-05T18:57:31.080540Z"
    }
   },
   "outputs": [
    {
     "data": {
      "application/vnd.plotly.v1+json": {
       "config": {
        "plotlyServerURL": "https://plot.ly"
       },
       "data": [
        {
         "hoverinfo": "text",
         "line": {
          "color": "cornflowerblue",
          "shape": "spline",
          "width": 10
         },
         "mode": "lines",
         "opacity": 1,
         "text": "13",
         "type": "scatter",
         "x": [
          0,
          1.9532411098300027,
          null
         ],
         "y": [
          0,
          0.4299408944117898,
          null
         ]
        },
        {
         "hoverinfo": "text",
         "line": {
          "color": "red",
          "shape": "spline",
          "width": 7.6923076923076925
         },
         "mode": "lines",
         "opacity": 0.7692307692307693,
         "text": "10",
         "type": "scatter",
         "x": [
          0,
          1.8151508569005046,
          null
         ],
         "y": [
          0,
          0.8397782001155376,
          null
         ]
        },
        {
         "hoverinfo": "text",
         "line": {
          "color": "cornflowerblue",
          "shape": "spline",
          "width": 6.153846153846154
         },
         "mode": "lines",
         "opacity": 0.6153846153846154,
         "text": "8",
         "type": "scatter",
         "x": [
          0,
          0.9368168111518604,
          null
         ],
         "y": [
          0,
          1.7670241750135853,
          null
         ]
        },
        {
         "hoverinfo": "text",
         "line": {
          "color": "cornflowerblue",
          "shape": "spline",
          "width": 5.384615384615385
         },
         "mode": "lines",
         "opacity": 0.5384615384615384,
         "text": "7",
         "type": "scatter",
         "x": [
          0,
          0.5350567692833176,
          null
         ],
         "y": [
          0,
          1.9270999588048279,
          null
         ]
        },
        {
         "hoverinfo": "text",
         "line": {
          "color": "cornflowerblue",
          "shape": "spline",
          "width": 5.384615384615385
         },
         "mode": "lines",
         "opacity": 0.5384615384615384,
         "text": "7",
         "type": "scatter",
         "x": [
          0,
          0.10827791617924203,
          null
         ],
         "y": [
          0,
          1.9970668711013835,
          null
         ]
        },
        {
         "hoverinfo": "text",
         "line": {
          "color": "cornflowerblue",
          "shape": "spline",
          "width": 5.384615384615385
         },
         "mode": "lines",
         "opacity": 0.5384615384615384,
         "text": "7",
         "type": "scatter",
         "x": [
          0,
          -0.3235639044656183,
          null
         ],
         "y": [
          0,
          1.973653093740981,
          null
         ]
        },
        {
         "hoverinfo": "text",
         "line": {
          "color": "red",
          "shape": "spline",
          "width": 4.615384615384615
         },
         "mode": "lines",
         "opacity": 0.46153846153846156,
         "text": "6",
         "type": "scatter",
         "x": [
          0,
          -1.122374297391639,
          null
         ],
         "y": [
          0,
          1.6553778803767487,
          null
         ]
        },
        {
         "hoverinfo": "text",
         "line": {
          "color": "cornflowerblue",
          "shape": "spline",
          "width": 4.615384615384615
         },
         "mode": "lines",
         "opacity": 0.46153846153846156,
         "text": "6",
         "type": "scatter",
         "x": [
          0,
          -1.9882758871189514,
          null
         ],
         "y": [
          0,
          -0.21623808153856344,
          null
         ]
        },
        {
         "hoverinfo": "text",
         "line": {
          "color": "cornflowerblue",
          "shape": "spline",
          "width": 4.615384615384615
         },
         "mode": "lines",
         "opacity": 0.46153846153846156,
         "text": "6",
         "type": "scatter",
         "x": [
          0,
          -1.8953063503018122,
          null
         ],
         "y": [
          0,
          -0.6386028977709352,
          null
         ]
        },
        {
         "hoverinfo": "text",
         "line": {
          "color": "cornflowerblue",
          "shape": "spline",
          "width": 4.615384615384615
         },
         "mode": "lines",
         "opacity": 0.46153846153846156,
         "text": "6",
         "type": "scatter",
         "x": [
          0,
          -1.7137142434126784,
          null
         ],
         "y": [
          0,
          -1.0311077688137678,
          null
         ]
        },
        {
         "hoverinfo": "text",
         "line": {
          "color": "cornflowerblue",
          "shape": "spline",
          "width": 4.615384615384615
         },
         "mode": "lines",
         "opacity": 0.46153846153846156,
         "text": "6",
         "type": "scatter",
         "x": [
          0,
          -1.1223744166009286,
          null
         ],
         "y": [
          0,
          -1.6553778505744263,
          null
         ]
        },
        {
         "hoverinfo": "text",
         "line": {
          "color": "red",
          "shape": "spline",
          "width": 3.8461538461538463
         },
         "mode": "lines",
         "opacity": 0.38461538461538464,
         "text": "5",
         "type": "scatter",
         "x": [
          0,
          -1.9882758871189514,
          null
         ],
         "y": [
          0,
          0.21623824545133663,
          null
         ]
        },
        {
         "hoverinfo": "text",
         "line": {
          "color": "red",
          "shape": "spline",
          "width": 3.8461538461538463
         },
         "mode": "lines",
         "opacity": 0.38461538461538464,
         "text": "5",
         "type": "scatter",
         "x": [
          0,
          -1.7137142434126784,
          null
         ],
         "y": [
          0,
          1.0311079178253797,
          null
         ]
        },
        {
         "hoverinfo": "text",
         "line": {
          "color": "cornflowerblue",
          "shape": "spline",
          "width": 3.8461538461538463
         },
         "mode": "lines",
         "opacity": 0.38461538461538464,
         "text": "5",
         "type": "scatter",
         "x": [
          0,
          -0.3235638150586511,
          null
         ],
         "y": [
          0,
          -1.9736530639386587,
          null
         ]
        },
        {
         "hoverinfo": "text",
         "line": {
          "color": "cornflowerblue",
          "shape": "spline",
          "width": 3.8461538461538463
         },
         "mode": "lines",
         "opacity": 0.38461538461538464,
         "text": "5",
         "type": "scatter",
         "x": [
          0,
          1.2947727439069951,
          null
         ],
         "y": [
          0,
          -1.5243239259633745,
          null
         ]
        },
        {
         "hoverinfo": "text",
         "line": {
          "color": "cornflowerblue",
          "shape": "spline",
          "width": 3.8461538461538463
         },
         "mode": "lines",
         "opacity": 0.38461538461538464,
         "text": "5",
         "type": "scatter",
         "x": [
          0,
          1.8151507376912148,
          null
         ],
         "y": [
          0,
          -0.8397783491271497,
          null
         ]
        },
        {
         "hoverinfo": "text",
         "line": {
          "color": "red",
          "shape": "spline",
          "width": 3.8461538461538463
         },
         "mode": "lines",
         "opacity": 0.38461538461538464,
         "text": "5",
         "type": "scatter",
         "x": [
          1.8151508569005046,
          0,
          null
         ],
         "y": [
          0.8397782001155376,
          0,
          null
         ]
        },
        {
         "hoverinfo": "text",
         "line": {
          "color": "cornflowerblue",
          "shape": "spline",
          "width": 6.923076923076923
         },
         "mode": "lines",
         "opacity": 0.6923076923076923,
         "text": "9",
         "type": "scatter",
         "x": [
          1.5921862123825117,
          0,
          null
         ],
         "y": [
          1.210348383058639,
          0,
          null
         ]
        },
        {
         "hoverinfo": "text",
         "line": {
          "color": "cornflowerblue",
          "shape": "spline",
          "width": 6.153846153846154
         },
         "mode": "lines",
         "opacity": 0.6153846153846154,
         "text": "8",
         "type": "scatter",
         "x": [
          1.2947726246977056,
          0,
          null
         ],
         "y": [
          1.5243240749749865,
          0,
          null
         ]
        },
        {
         "hoverinfo": "text",
         "line": {
          "color": "cornflowerblue",
          "shape": "spline",
          "width": 5.384615384615385
         },
         "mode": "lines",
         "opacity": 0.5384615384615384,
         "text": "7",
         "type": "scatter",
         "x": [
          -0.7402762781213107,
          0,
          null
         ],
         "y": [
          1.8579534448392767,
          0,
          null
         ]
        },
        {
         "hoverinfo": "text",
         "line": {
          "color": "red",
          "shape": "spline",
          "width": 4.615384615384615
         },
         "mode": "lines",
         "opacity": 0.46153846153846156,
         "text": "6",
         "type": "scatter",
         "x": [
          -1.122374297391639,
          0,
          null
         ],
         "y": [
          1.6553778803767487,
          0,
          null
         ]
        },
        {
         "hoverinfo": "text",
         "line": {
          "color": "cornflowerblue",
          "shape": "spline",
          "width": 4.615384615384615
         },
         "mode": "lines",
         "opacity": 0.46153846153846156,
         "text": "6",
         "type": "scatter",
         "x": [
          -1.451990963358814,
          0,
          null
         ],
         "y": [
          1.3753988897140423,
          0,
          null
         ]
        },
        {
         "hoverinfo": "text",
         "line": {
          "color": "red",
          "shape": "spline",
          "width": 4.615384615384615
         },
         "mode": "lines",
         "opacity": 0.46153846153846156,
         "text": "6",
         "type": "scatter",
         "x": [
          -1.7137142434126784,
          0,
          null
         ],
         "y": [
          1.0311079178253797,
          0,
          null
         ]
        },
        {
         "hoverinfo": "text",
         "line": {
          "color": "cornflowerblue",
          "shape": "spline",
          "width": 4.615384615384615
         },
         "mode": "lines",
         "opacity": 0.46153846153846156,
         "text": "6",
         "type": "scatter",
         "x": [
          -1.8953063503018122,
          0,
          null
         ],
         "y": [
          0.6386030467825472,
          0,
          null
         ]
        },
        {
         "hoverinfo": "text",
         "line": {
          "color": "red",
          "shape": "spline",
          "width": 4.615384615384615
         },
         "mode": "lines",
         "opacity": 0.46153846153846156,
         "text": "6",
         "type": "scatter",
         "x": [
          -1.9882758871189514,
          0,
          null
         ],
         "y": [
          0.21623824545133663,
          0,
          null
         ]
        },
        {
         "hoverinfo": "text",
         "line": {
          "color": "cornflowerblue",
          "shape": "spline",
          "width": 4.615384615384615
         },
         "mode": "lines",
         "opacity": 0.46153846153846156,
         "text": "6",
         "type": "scatter",
         "x": [
          -1.4519910825681035,
          0,
          null
         ],
         "y": [
          -1.3753988599117197,
          0,
          null
         ]
        },
        {
         "hoverinfo": "text",
         "line": {
          "color": "cornflowerblue",
          "shape": "spline",
          "width": 4.615384615384615
         },
         "mode": "lines",
         "opacity": 0.46153846153846156,
         "text": "6",
         "type": "scatter",
         "x": [
          -0.7402759204934418,
          0,
          null
         ],
         "y": [
          -1.8579535342462439,
          0,
          null
         ]
        },
        {
         "hoverinfo": "text",
         "line": {
          "color": "cornflowerblue",
          "shape": "spline",
          "width": 3.8461538461538463
         },
         "mode": "lines",
         "opacity": 0.38461538461538464,
         "text": "5",
         "type": "scatter",
         "x": [
          0.10827778951937184,
          0,
          null
         ],
         "y": [
          -1.997066841299061,
          0,
          null
         ]
        },
        {
         "hoverinfo": "text",
         "line": {
          "color": "cornflowerblue",
          "shape": "spline",
          "width": 3.8461538461538463
         },
         "mode": "lines",
         "opacity": 0.38461538461538464,
         "text": "5",
         "type": "scatter",
         "x": [
          0.5350564116554488,
          0,
          null
         ],
         "y": [
          -1.927100048211795,
          0,
          null
         ]
        },
        {
         "hoverinfo": "text",
         "line": {
          "color": "cornflowerblue",
          "shape": "spline",
          "width": 3.8461538461538463
         },
         "mode": "lines",
         "opacity": 0.38461538461538464,
         "text": "5",
         "type": "scatter",
         "x": [
          0.5350564116554488,
          0.9368164535239917,
          null
         ],
         "y": [
          -1.927100048211795,
          -1.7670242644205525,
          null
         ]
        },
        {
         "hoverinfo": "text",
         "line": {
          "color": "cornflowerblue",
          "shape": "spline",
          "width": 3.8461538461538463
         },
         "mode": "lines",
         "opacity": 0.38461538461538464,
         "text": "5",
         "type": "scatter",
         "x": [
          1.5921862123825117,
          0,
          null
         ],
         "y": [
          -1.2103483532563166,
          0,
          null
         ]
        },
        {
         "hoverinfo": "text",
         "line": {
          "color": "cornflowerblue",
          "shape": "spline",
          "width": 3.8461538461538463
         },
         "mode": "lines",
         "opacity": 0.38461538461538464,
         "text": "5",
         "type": "scatter",
         "x": [
          1.953240990620713,
          0,
          null
         ],
         "y": [
          -0.42994125203965855,
          0,
          null
         ]
        },
        {
         "hoverinfo": "text",
         "marker": {
          "color": [
           "#ED8B00",
           "#ED8B00",
           "#ED8B00",
           "#00965E",
           "#ED8B00",
           "#A05EB5",
           "#B1B3B3",
           "#E40046",
           "#00965E",
           "#A05EB5",
           "#00965E",
           "#E40046",
           "#0066CC",
           "#0066CC",
           "#B1B3B3",
           "#B1B3B3",
           "#A05EB5",
           "#0066CC",
           "#A05EB5",
           "#A05EB5",
           "#00965E",
           "#B1B3B3",
           "#E40046",
           "#E40046",
           "#00965E",
           "#0066CC",
           "#ED8B00",
           "#0066CC",
           "#E40046"
          ],
          "size": 40,
          "symbol": "circle"
         },
         "mode": "markers",
         "text": [
          "Anthony",
          "Matthew",
          "Christopher",
          "Linda",
          "Daniel",
          "Richard",
          "Margaret",
          "Jessica",
          "Patricia",
          "David",
          "Jennifer",
          "Susan",
          "Michael",
          "William",
          "Sandra",
          "Betty",
          "Thomas",
          "John",
          "Charles",
          "Joseph",
          "Mary",
          "Lisa",
          "Karen",
          "Sarah",
          "Elizabeth",
          "Robert",
          "Nancy",
          "James",
          "Barbara"
         ],
         "type": "scatter",
         "x": [
          0,
          1.9532411098300027,
          1.8151508569005046,
          1.5921862123825117,
          1.2947726246977056,
          0.9368168111518604,
          0.5350567692833176,
          0.10827791617924203,
          -0.3235639044656183,
          -0.7402762781213107,
          -1.122374297391639,
          -1.451990963358814,
          -1.7137142434126784,
          -1.8953063503018122,
          -1.9882758871189514,
          -1.9882758871189514,
          -1.8953063503018122,
          -1.7137142434126784,
          -1.4519910825681035,
          -1.1223744166009286,
          -0.7402759204934418,
          -0.3235638150586511,
          0.10827778951937184,
          0.5350564116554488,
          0.9368164535239917,
          1.2947727439069951,
          1.5921862123825117,
          1.8151507376912148,
          1.953240990620713
         ],
         "y": [
          0,
          0.4299408944117898,
          0.8397782001155376,
          1.210348383058639,
          1.5243240749749865,
          1.7670241750135853,
          1.9270999588048279,
          1.9970668711013835,
          1.973653093740981,
          1.8579534448392767,
          1.6553778803767487,
          1.3753988897140423,
          1.0311079178253797,
          0.6386030467825472,
          0.21623824545133663,
          -0.21623808153856344,
          -0.6386028977709352,
          -1.0311077688137678,
          -1.3753988599117197,
          -1.6553778505744263,
          -1.8579535342462439,
          -1.9736530639386587,
          -1.997066841299061,
          -1.927100048211795,
          -1.7670242644205525,
          -1.5243239259633745,
          -1.2103483532563166,
          -0.8397783491271497,
          -0.42994125203965855
         ]
        }
       ],
       "layout": {
        "annotations": [
         {
          "arrowcolor": "cornflowerblue",
          "arrowhead": 3,
          "arrowsize": 5,
          "arrowwidth": 1,
          "ax": 0.9766205549150013,
          "axref": "x",
          "ay": 0.2149704472058949,
          "ayref": "y",
          "opacity": 0.7,
          "showarrow": true,
          "x": 1.4649308323725019,
          "xref": "x",
          "y": 0.32245567080884235,
          "yref": "y"
         },
         {
          "arrowcolor": "cornflowerblue",
          "arrowhead": 3,
          "arrowsize": 5,
          "arrowwidth": 1,
          "ax": 0.9075754284502523,
          "axref": "x",
          "ay": 0.4198891000577688,
          "ayref": "y",
          "opacity": 0.7,
          "showarrow": true,
          "x": 1.3613631426753785,
          "xref": "x",
          "y": 0.6298336500866533,
          "yref": "y"
         },
         {
          "arrowcolor": "cornflowerblue",
          "arrowhead": 3,
          "arrowsize": 5,
          "arrowwidth": 1,
          "ax": 0.4684084055759302,
          "axref": "x",
          "ay": 0.8835120875067927,
          "ayref": "y",
          "opacity": 0.7,
          "showarrow": true,
          "x": 0.7026126083638953,
          "xref": "x",
          "y": 1.325268131260189,
          "yref": "y"
         },
         {
          "arrowcolor": "cornflowerblue",
          "arrowhead": 3,
          "arrowsize": 5,
          "arrowwidth": 1,
          "ax": 0.2675283846416588,
          "axref": "x",
          "ay": 0.9635499794024139,
          "ayref": "y",
          "opacity": 0.7,
          "showarrow": true,
          "x": 0.4012925769624882,
          "xref": "x",
          "y": 1.445324969103621,
          "yref": "y"
         },
         {
          "arrowcolor": "cornflowerblue",
          "arrowhead": 3,
          "arrowsize": 5,
          "arrowwidth": 1,
          "ax": 0.05413895808962101,
          "axref": "x",
          "ay": 0.9985334355506917,
          "ayref": "y",
          "opacity": 0.7,
          "showarrow": true,
          "x": 0.08120843713443152,
          "xref": "x",
          "y": 1.4978001533260377,
          "yref": "y"
         },
         {
          "arrowcolor": "cornflowerblue",
          "arrowhead": 3,
          "arrowsize": 5,
          "arrowwidth": 1,
          "ax": -0.16178195223280914,
          "axref": "x",
          "ay": 0.9868265468704905,
          "ayref": "y",
          "opacity": 0.7,
          "showarrow": true,
          "x": -0.24267292834921372,
          "xref": "x",
          "y": 1.4802398203057359,
          "yref": "y"
         },
         {
          "arrowcolor": "cornflowerblue",
          "arrowhead": 3,
          "arrowsize": 5,
          "arrowwidth": 1,
          "ax": -0.5611871486958195,
          "axref": "x",
          "ay": 0.8276889401883744,
          "ayref": "y",
          "opacity": 0.7,
          "showarrow": true,
          "x": -0.8417807230437293,
          "xref": "x",
          "y": 1.2415334102825615,
          "yref": "y"
         },
         {
          "arrowcolor": "cornflowerblue",
          "arrowhead": 3,
          "arrowsize": 5,
          "arrowwidth": 1,
          "ax": -0.9941379435594757,
          "axref": "x",
          "ay": -0.10811904076928172,
          "ayref": "y",
          "opacity": 0.7,
          "showarrow": true,
          "x": -1.4912069153392136,
          "xref": "x",
          "y": -0.1621785611539226,
          "yref": "y"
         },
         {
          "arrowcolor": "cornflowerblue",
          "arrowhead": 3,
          "arrowsize": 5,
          "arrowwidth": 1,
          "ax": -0.9476531751509061,
          "axref": "x",
          "ay": -0.3193014488854676,
          "ayref": "y",
          "opacity": 0.7,
          "showarrow": true,
          "x": -1.4214797627263591,
          "xref": "x",
          "y": -0.4789521733282014,
          "yref": "y"
         },
         {
          "arrowcolor": "cornflowerblue",
          "arrowhead": 3,
          "arrowsize": 5,
          "arrowwidth": 1,
          "ax": -0.8568571217063392,
          "axref": "x",
          "ay": -0.5155538844068839,
          "ayref": "y",
          "opacity": 0.7,
          "showarrow": true,
          "x": -1.285285682559509,
          "xref": "x",
          "y": -0.7733308266103258,
          "yref": "y"
         },
         {
          "arrowcolor": "cornflowerblue",
          "arrowhead": 3,
          "arrowsize": 5,
          "arrowwidth": 1,
          "ax": -0.5611872083004643,
          "axref": "x",
          "ay": -0.8276889252872132,
          "ayref": "y",
          "opacity": 0.7,
          "showarrow": true,
          "x": -0.8417808124506965,
          "xref": "x",
          "y": -1.2415333879308197,
          "yref": "y"
         },
         {
          "arrowcolor": "cornflowerblue",
          "arrowhead": 3,
          "arrowsize": 5,
          "arrowwidth": 1,
          "ax": -0.9941379435594757,
          "axref": "x",
          "ay": 0.10811912272566832,
          "ayref": "y",
          "opacity": 0.7,
          "showarrow": true,
          "x": -1.4912069153392136,
          "xref": "x",
          "y": 0.16217868408850247,
          "yref": "y"
         },
         {
          "arrowcolor": "cornflowerblue",
          "arrowhead": 3,
          "arrowsize": 5,
          "arrowwidth": 1,
          "ax": -0.8568571217063392,
          "axref": "x",
          "ay": 0.5155539589126898,
          "ayref": "y",
          "opacity": 0.7,
          "showarrow": true,
          "x": -1.285285682559509,
          "xref": "x",
          "y": 0.7733309383690348,
          "yref": "y"
         },
         {
          "arrowcolor": "cornflowerblue",
          "arrowhead": 3,
          "arrowsize": 5,
          "arrowwidth": 1,
          "ax": -0.16178190752932556,
          "axref": "x",
          "ay": -0.9868265319693293,
          "ayref": "y",
          "opacity": 0.7,
          "showarrow": true,
          "x": -0.24267286129398835,
          "xref": "x",
          "y": -1.480239797953994,
          "yref": "y"
         },
         {
          "arrowcolor": "cornflowerblue",
          "arrowhead": 3,
          "arrowsize": 5,
          "arrowwidth": 1,
          "ax": 0.6473863719534976,
          "axref": "x",
          "ay": -0.7621619629816873,
          "ayref": "y",
          "opacity": 0.7,
          "showarrow": true,
          "x": 0.9710795579302464,
          "xref": "x",
          "y": -1.143242944472531,
          "yref": "y"
         },
         {
          "arrowcolor": "cornflowerblue",
          "arrowhead": 3,
          "arrowsize": 5,
          "arrowwidth": 1,
          "ax": 0.9075753688456074,
          "axref": "x",
          "ay": -0.41988917456357483,
          "ayref": "y",
          "opacity": 0.7,
          "showarrow": true,
          "x": 1.3613630532684111,
          "xref": "x",
          "y": -0.6298337618453622,
          "yref": "y"
         },
         {
          "arrowcolor": "cornflowerblue",
          "arrowhead": 3,
          "arrowsize": 5,
          "arrowwidth": 1,
          "ax": 0.9075754284502523,
          "axref": "x",
          "ay": 0.4198891000577688,
          "ayref": "y",
          "opacity": 0.7,
          "showarrow": true,
          "x": 0.45378771422512615,
          "xref": "x",
          "y": 0.2099445500288844,
          "yref": "y"
         },
         {
          "arrowcolor": "cornflowerblue",
          "arrowhead": 3,
          "arrowsize": 5,
          "arrowwidth": 1,
          "ax": 0.7960931061912558,
          "axref": "x",
          "ay": 0.6051741915293195,
          "ayref": "y",
          "opacity": 0.7,
          "showarrow": true,
          "x": 0.3980465530956279,
          "xref": "x",
          "y": 0.30258709576465975,
          "yref": "y"
         },
         {
          "arrowcolor": "cornflowerblue",
          "arrowhead": 3,
          "arrowsize": 5,
          "arrowwidth": 1,
          "ax": 0.6473863123488528,
          "axref": "x",
          "ay": 0.7621620374874932,
          "ayref": "y",
          "opacity": 0.7,
          "showarrow": true,
          "x": 0.3236931561744264,
          "xref": "x",
          "y": 0.3810810187437466,
          "yref": "y"
         },
         {
          "arrowcolor": "cornflowerblue",
          "arrowhead": 3,
          "arrowsize": 5,
          "arrowwidth": 1,
          "ax": -0.37013813906065535,
          "axref": "x",
          "ay": 0.9289767224196384,
          "ayref": "y",
          "opacity": 0.7,
          "showarrow": true,
          "x": -0.18506906953032767,
          "xref": "x",
          "y": 0.4644883612098192,
          "yref": "y"
         },
         {
          "arrowcolor": "cornflowerblue",
          "arrowhead": 3,
          "arrowsize": 5,
          "arrowwidth": 1,
          "ax": -0.5611871486958195,
          "axref": "x",
          "ay": 0.8276889401883744,
          "ayref": "y",
          "opacity": 0.7,
          "showarrow": true,
          "x": -0.28059357434790977,
          "xref": "x",
          "y": 0.4138444700941872,
          "yref": "y"
         },
         {
          "arrowcolor": "cornflowerblue",
          "arrowhead": 3,
          "arrowsize": 5,
          "arrowwidth": 1,
          "ax": -0.725995481679407,
          "axref": "x",
          "ay": 0.6876994448570212,
          "ayref": "y",
          "opacity": 0.7,
          "showarrow": true,
          "x": -0.3629977408397035,
          "xref": "x",
          "y": 0.3438497224285106,
          "yref": "y"
         },
         {
          "arrowcolor": "cornflowerblue",
          "arrowhead": 3,
          "arrowsize": 5,
          "arrowwidth": 1,
          "ax": -0.8568571217063392,
          "axref": "x",
          "ay": 0.5155539589126898,
          "ayref": "y",
          "opacity": 0.7,
          "showarrow": true,
          "x": -0.4284285608531696,
          "xref": "x",
          "y": 0.2577769794563449,
          "yref": "y"
         },
         {
          "arrowcolor": "cornflowerblue",
          "arrowhead": 3,
          "arrowsize": 5,
          "arrowwidth": 1,
          "ax": -0.9476531751509061,
          "axref": "x",
          "ay": 0.3193015233912736,
          "ayref": "y",
          "opacity": 0.7,
          "showarrow": true,
          "x": -0.47382658757545304,
          "xref": "x",
          "y": 0.1596507616956368,
          "yref": "y"
         },
         {
          "arrowcolor": "cornflowerblue",
          "arrowhead": 3,
          "arrowsize": 5,
          "arrowwidth": 1,
          "ax": -0.9941379435594757,
          "axref": "x",
          "ay": 0.10811912272566832,
          "ayref": "y",
          "opacity": 0.7,
          "showarrow": true,
          "x": -0.49706897177973786,
          "xref": "x",
          "y": 0.05405956136283416,
          "yref": "y"
         },
         {
          "arrowcolor": "cornflowerblue",
          "arrowhead": 3,
          "arrowsize": 5,
          "arrowwidth": 1,
          "ax": -0.7259955412840517,
          "axref": "x",
          "ay": -0.6876994299558599,
          "ayref": "y",
          "opacity": 0.7,
          "showarrow": true,
          "x": -0.3629977706420259,
          "xref": "x",
          "y": -0.34384971497792993,
          "yref": "y"
         },
         {
          "arrowcolor": "cornflowerblue",
          "arrowhead": 3,
          "arrowsize": 5,
          "arrowwidth": 1,
          "ax": -0.3701379602467209,
          "axref": "x",
          "ay": -0.9289767671231219,
          "ayref": "y",
          "opacity": 0.7,
          "showarrow": true,
          "x": -0.18506898012336045,
          "xref": "x",
          "y": -0.46448838356156097,
          "yref": "y"
         },
         {
          "arrowcolor": "cornflowerblue",
          "arrowhead": 3,
          "arrowsize": 5,
          "arrowwidth": 1,
          "ax": 0.05413889475968592,
          "axref": "x",
          "ay": -0.9985334206495305,
          "ayref": "y",
          "opacity": 0.7,
          "showarrow": true,
          "x": 0.02706944737984296,
          "xref": "x",
          "y": -0.4992667103247653,
          "yref": "y"
         },
         {
          "arrowcolor": "cornflowerblue",
          "arrowhead": 3,
          "arrowsize": 5,
          "arrowwidth": 1,
          "ax": 0.2675282058277244,
          "axref": "x",
          "ay": -0.9635500241058975,
          "ayref": "y",
          "opacity": 0.7,
          "showarrow": true,
          "x": 0.1337641029138622,
          "xref": "x",
          "y": -0.48177501205294876,
          "yref": "y"
         },
         {
          "arrowcolor": "cornflowerblue",
          "arrowhead": 3,
          "arrowsize": 5,
          "arrowwidth": 1,
          "ax": 0.7359364325897202,
          "axref": "x",
          "ay": -1.8470621563161738,
          "ayref": "y",
          "opacity": 0.7,
          "showarrow": true,
          "x": 0.836376443056856,
          "xref": "x",
          "y": -1.8070432103683631,
          "yref": "y"
         },
         {
          "arrowcolor": "cornflowerblue",
          "arrowhead": 3,
          "arrowsize": 5,
          "arrowwidth": 1,
          "ax": 0.7960931061912558,
          "axref": "x",
          "ay": -0.6051741766281583,
          "ayref": "y",
          "opacity": 0.7,
          "showarrow": true,
          "x": 0.3980465530956279,
          "xref": "x",
          "y": -0.30258708831407916,
          "yref": "y"
         },
         {
          "arrowcolor": "cornflowerblue",
          "arrowhead": 3,
          "arrowsize": 5,
          "arrowwidth": 1,
          "ax": 0.9766204953103566,
          "axref": "x",
          "ay": -0.21497062601982928,
          "ayref": "y",
          "opacity": 0.7,
          "showarrow": true,
          "x": 0.4883102476551783,
          "xref": "x",
          "y": -0.10748531300991464,
          "yref": "y"
         }
        ],
        "clickmode": "event+select",
        "height": 600,
        "hovermode": "closest",
        "margin": {
         "b": 40,
         "l": 40,
         "r": 40,
         "t": 40
        },
        "showlegend": false,
        "template": {
         "data": {
          "bar": [
           {
            "error_x": {
             "color": "#2a3f5f"
            },
            "error_y": {
             "color": "#2a3f5f"
            },
            "marker": {
             "line": {
              "color": "#E5ECF6",
              "width": 0.5
             }
            },
            "type": "bar"
           }
          ],
          "barpolar": [
           {
            "marker": {
             "line": {
              "color": "#E5ECF6",
              "width": 0.5
             }
            },
            "type": "barpolar"
           }
          ],
          "carpet": [
           {
            "aaxis": {
             "endlinecolor": "#2a3f5f",
             "gridcolor": "white",
             "linecolor": "white",
             "minorgridcolor": "white",
             "startlinecolor": "#2a3f5f"
            },
            "baxis": {
             "endlinecolor": "#2a3f5f",
             "gridcolor": "white",
             "linecolor": "white",
             "minorgridcolor": "white",
             "startlinecolor": "#2a3f5f"
            },
            "type": "carpet"
           }
          ],
          "choropleth": [
           {
            "colorbar": {
             "outlinewidth": 0,
             "ticks": ""
            },
            "type": "choropleth"
           }
          ],
          "contour": [
           {
            "colorbar": {
             "outlinewidth": 0,
             "ticks": ""
            },
            "colorscale": [
             [
              0,
              "#0d0887"
             ],
             [
              0.1111111111111111,
              "#46039f"
             ],
             [
              0.2222222222222222,
              "#7201a8"
             ],
             [
              0.3333333333333333,
              "#9c179e"
             ],
             [
              0.4444444444444444,
              "#bd3786"
             ],
             [
              0.5555555555555556,
              "#d8576b"
             ],
             [
              0.6666666666666666,
              "#ed7953"
             ],
             [
              0.7777777777777778,
              "#fb9f3a"
             ],
             [
              0.8888888888888888,
              "#fdca26"
             ],
             [
              1,
              "#f0f921"
             ]
            ],
            "type": "contour"
           }
          ],
          "contourcarpet": [
           {
            "colorbar": {
             "outlinewidth": 0,
             "ticks": ""
            },
            "type": "contourcarpet"
           }
          ],
          "heatmap": [
           {
            "colorbar": {
             "outlinewidth": 0,
             "ticks": ""
            },
            "colorscale": [
             [
              0,
              "#0d0887"
             ],
             [
              0.1111111111111111,
              "#46039f"
             ],
             [
              0.2222222222222222,
              "#7201a8"
             ],
             [
              0.3333333333333333,
              "#9c179e"
             ],
             [
              0.4444444444444444,
              "#bd3786"
             ],
             [
              0.5555555555555556,
              "#d8576b"
             ],
             [
              0.6666666666666666,
              "#ed7953"
             ],
             [
              0.7777777777777778,
              "#fb9f3a"
             ],
             [
              0.8888888888888888,
              "#fdca26"
             ],
             [
              1,
              "#f0f921"
             ]
            ],
            "type": "heatmap"
           }
          ],
          "heatmapgl": [
           {
            "colorbar": {
             "outlinewidth": 0,
             "ticks": ""
            },
            "colorscale": [
             [
              0,
              "#0d0887"
             ],
             [
              0.1111111111111111,
              "#46039f"
             ],
             [
              0.2222222222222222,
              "#7201a8"
             ],
             [
              0.3333333333333333,
              "#9c179e"
             ],
             [
              0.4444444444444444,
              "#bd3786"
             ],
             [
              0.5555555555555556,
              "#d8576b"
             ],
             [
              0.6666666666666666,
              "#ed7953"
             ],
             [
              0.7777777777777778,
              "#fb9f3a"
             ],
             [
              0.8888888888888888,
              "#fdca26"
             ],
             [
              1,
              "#f0f921"
             ]
            ],
            "type": "heatmapgl"
           }
          ],
          "histogram": [
           {
            "marker": {
             "colorbar": {
              "outlinewidth": 0,
              "ticks": ""
             }
            },
            "type": "histogram"
           }
          ],
          "histogram2d": [
           {
            "colorbar": {
             "outlinewidth": 0,
             "ticks": ""
            },
            "colorscale": [
             [
              0,
              "#0d0887"
             ],
             [
              0.1111111111111111,
              "#46039f"
             ],
             [
              0.2222222222222222,
              "#7201a8"
             ],
             [
              0.3333333333333333,
              "#9c179e"
             ],
             [
              0.4444444444444444,
              "#bd3786"
             ],
             [
              0.5555555555555556,
              "#d8576b"
             ],
             [
              0.6666666666666666,
              "#ed7953"
             ],
             [
              0.7777777777777778,
              "#fb9f3a"
             ],
             [
              0.8888888888888888,
              "#fdca26"
             ],
             [
              1,
              "#f0f921"
             ]
            ],
            "type": "histogram2d"
           }
          ],
          "histogram2dcontour": [
           {
            "colorbar": {
             "outlinewidth": 0,
             "ticks": ""
            },
            "colorscale": [
             [
              0,
              "#0d0887"
             ],
             [
              0.1111111111111111,
              "#46039f"
             ],
             [
              0.2222222222222222,
              "#7201a8"
             ],
             [
              0.3333333333333333,
              "#9c179e"
             ],
             [
              0.4444444444444444,
              "#bd3786"
             ],
             [
              0.5555555555555556,
              "#d8576b"
             ],
             [
              0.6666666666666666,
              "#ed7953"
             ],
             [
              0.7777777777777778,
              "#fb9f3a"
             ],
             [
              0.8888888888888888,
              "#fdca26"
             ],
             [
              1,
              "#f0f921"
             ]
            ],
            "type": "histogram2dcontour"
           }
          ],
          "mesh3d": [
           {
            "colorbar": {
             "outlinewidth": 0,
             "ticks": ""
            },
            "type": "mesh3d"
           }
          ],
          "parcoords": [
           {
            "line": {
             "colorbar": {
              "outlinewidth": 0,
              "ticks": ""
             }
            },
            "type": "parcoords"
           }
          ],
          "pie": [
           {
            "automargin": true,
            "type": "pie"
           }
          ],
          "scatter": [
           {
            "marker": {
             "colorbar": {
              "outlinewidth": 0,
              "ticks": ""
             }
            },
            "type": "scatter"
           }
          ],
          "scatter3d": [
           {
            "line": {
             "colorbar": {
              "outlinewidth": 0,
              "ticks": ""
             }
            },
            "marker": {
             "colorbar": {
              "outlinewidth": 0,
              "ticks": ""
             }
            },
            "type": "scatter3d"
           }
          ],
          "scattercarpet": [
           {
            "marker": {
             "colorbar": {
              "outlinewidth": 0,
              "ticks": ""
             }
            },
            "type": "scattercarpet"
           }
          ],
          "scattergeo": [
           {
            "marker": {
             "colorbar": {
              "outlinewidth": 0,
              "ticks": ""
             }
            },
            "type": "scattergeo"
           }
          ],
          "scattergl": [
           {
            "marker": {
             "colorbar": {
              "outlinewidth": 0,
              "ticks": ""
             }
            },
            "type": "scattergl"
           }
          ],
          "scattermapbox": [
           {
            "marker": {
             "colorbar": {
              "outlinewidth": 0,
              "ticks": ""
             }
            },
            "type": "scattermapbox"
           }
          ],
          "scatterpolar": [
           {
            "marker": {
             "colorbar": {
              "outlinewidth": 0,
              "ticks": ""
             }
            },
            "type": "scatterpolar"
           }
          ],
          "scatterpolargl": [
           {
            "marker": {
             "colorbar": {
              "outlinewidth": 0,
              "ticks": ""
             }
            },
            "type": "scatterpolargl"
           }
          ],
          "scatterternary": [
           {
            "marker": {
             "colorbar": {
              "outlinewidth": 0,
              "ticks": ""
             }
            },
            "type": "scatterternary"
           }
          ],
          "surface": [
           {
            "colorbar": {
             "outlinewidth": 0,
             "ticks": ""
            },
            "colorscale": [
             [
              0,
              "#0d0887"
             ],
             [
              0.1111111111111111,
              "#46039f"
             ],
             [
              0.2222222222222222,
              "#7201a8"
             ],
             [
              0.3333333333333333,
              "#9c179e"
             ],
             [
              0.4444444444444444,
              "#bd3786"
             ],
             [
              0.5555555555555556,
              "#d8576b"
             ],
             [
              0.6666666666666666,
              "#ed7953"
             ],
             [
              0.7777777777777778,
              "#fb9f3a"
             ],
             [
              0.8888888888888888,
              "#fdca26"
             ],
             [
              1,
              "#f0f921"
             ]
            ],
            "type": "surface"
           }
          ],
          "table": [
           {
            "cells": {
             "fill": {
              "color": "#EBF0F8"
             },
             "line": {
              "color": "white"
             }
            },
            "header": {
             "fill": {
              "color": "#C8D4E3"
             },
             "line": {
              "color": "white"
             }
            },
            "type": "table"
           }
          ]
         },
         "layout": {
          "annotationdefaults": {
           "arrowcolor": "#2a3f5f",
           "arrowhead": 0,
           "arrowwidth": 1
          },
          "coloraxis": {
           "colorbar": {
            "outlinewidth": 0,
            "ticks": ""
           }
          },
          "colorscale": {
           "diverging": [
            [
             0,
             "#8e0152"
            ],
            [
             0.1,
             "#c51b7d"
            ],
            [
             0.2,
             "#de77ae"
            ],
            [
             0.3,
             "#f1b6da"
            ],
            [
             0.4,
             "#fde0ef"
            ],
            [
             0.5,
             "#f7f7f7"
            ],
            [
             0.6,
             "#e6f5d0"
            ],
            [
             0.7,
             "#b8e186"
            ],
            [
             0.8,
             "#7fbc41"
            ],
            [
             0.9,
             "#4d9221"
            ],
            [
             1,
             "#276419"
            ]
           ],
           "sequential": [
            [
             0,
             "#0d0887"
            ],
            [
             0.1111111111111111,
             "#46039f"
            ],
            [
             0.2222222222222222,
             "#7201a8"
            ],
            [
             0.3333333333333333,
             "#9c179e"
            ],
            [
             0.4444444444444444,
             "#bd3786"
            ],
            [
             0.5555555555555556,
             "#d8576b"
            ],
            [
             0.6666666666666666,
             "#ed7953"
            ],
            [
             0.7777777777777778,
             "#fb9f3a"
            ],
            [
             0.8888888888888888,
             "#fdca26"
            ],
            [
             1,
             "#f0f921"
            ]
           ],
           "sequentialminus": [
            [
             0,
             "#0d0887"
            ],
            [
             0.1111111111111111,
             "#46039f"
            ],
            [
             0.2222222222222222,
             "#7201a8"
            ],
            [
             0.3333333333333333,
             "#9c179e"
            ],
            [
             0.4444444444444444,
             "#bd3786"
            ],
            [
             0.5555555555555556,
             "#d8576b"
            ],
            [
             0.6666666666666666,
             "#ed7953"
            ],
            [
             0.7777777777777778,
             "#fb9f3a"
            ],
            [
             0.8888888888888888,
             "#fdca26"
            ],
            [
             1,
             "#f0f921"
            ]
           ]
          },
          "colorway": [
           "#636efa",
           "#EF553B",
           "#00cc96",
           "#ab63fa",
           "#FFA15A",
           "#19d3f3",
           "#FF6692",
           "#B6E880",
           "#FF97FF",
           "#FECB52"
          ],
          "font": {
           "color": "#2a3f5f"
          },
          "geo": {
           "bgcolor": "white",
           "lakecolor": "white",
           "landcolor": "#E5ECF6",
           "showlakes": true,
           "showland": true,
           "subunitcolor": "white"
          },
          "hoverlabel": {
           "align": "left"
          },
          "hovermode": "closest",
          "mapbox": {
           "style": "light"
          },
          "paper_bgcolor": "white",
          "plot_bgcolor": "#E5ECF6",
          "polar": {
           "angularaxis": {
            "gridcolor": "white",
            "linecolor": "white",
            "ticks": ""
           },
           "bgcolor": "#E5ECF6",
           "radialaxis": {
            "gridcolor": "white",
            "linecolor": "white",
            "ticks": ""
           }
          },
          "scene": {
           "xaxis": {
            "backgroundcolor": "#E5ECF6",
            "gridcolor": "white",
            "gridwidth": 2,
            "linecolor": "white",
            "showbackground": true,
            "ticks": "",
            "zerolinecolor": "white"
           },
           "yaxis": {
            "backgroundcolor": "#E5ECF6",
            "gridcolor": "white",
            "gridwidth": 2,
            "linecolor": "white",
            "showbackground": true,
            "ticks": "",
            "zerolinecolor": "white"
           },
           "zaxis": {
            "backgroundcolor": "#E5ECF6",
            "gridcolor": "white",
            "gridwidth": 2,
            "linecolor": "white",
            "showbackground": true,
            "ticks": "",
            "zerolinecolor": "white"
           }
          },
          "shapedefaults": {
           "line": {
            "color": "#2a3f5f"
           }
          },
          "ternary": {
           "aaxis": {
            "gridcolor": "white",
            "linecolor": "white",
            "ticks": ""
           },
           "baxis": {
            "gridcolor": "white",
            "linecolor": "white",
            "ticks": ""
           },
           "bgcolor": "#E5ECF6",
           "caxis": {
            "gridcolor": "white",
            "linecolor": "white",
            "ticks": ""
           }
          },
          "title": {
           "x": 0.05
          },
          "xaxis": {
           "automargin": true,
           "gridcolor": "white",
           "linecolor": "white",
           "ticks": "",
           "title": {
            "standoff": 15
           },
           "zerolinecolor": "white",
           "zerolinewidth": 2
          },
          "yaxis": {
           "automargin": true,
           "gridcolor": "white",
           "linecolor": "white",
           "ticks": "",
           "title": {
            "standoff": 15
           },
           "zerolinecolor": "white",
           "zerolinewidth": 2
          }
         }
        },
        "title": {
         "text": "Network 2-d visualization"
        },
        "xaxis": {
         "showgrid": false,
         "showticklabels": false,
         "zeroline": false
        },
        "yaxis": {
         "showgrid": false,
         "showticklabels": false,
         "zeroline": false
        }
       }
      },
      "text/html": [
       "<div>                            <div id=\"49712ae7-dbcf-45cc-a7e5-da619f72a5ac\" class=\"plotly-graph-div\" style=\"height:600px; width:100%;\"></div>            <script type=\"text/javascript\">                require([\"plotly\"], function(Plotly) {                    window.PLOTLYENV=window.PLOTLYENV || {};                                    if (document.getElementById(\"49712ae7-dbcf-45cc-a7e5-da619f72a5ac\")) {                    Plotly.newPlot(                        \"49712ae7-dbcf-45cc-a7e5-da619f72a5ac\",                        [{\"hoverinfo\": \"text\", \"line\": {\"color\": \"cornflowerblue\", \"shape\": \"spline\", \"width\": 10.0}, \"mode\": \"lines\", \"opacity\": 1.0, \"text\": \"13\", \"type\": \"scatter\", \"x\": [0, 1.9532411098300027, null], \"y\": [0, 0.4299408944117898, null]}, {\"hoverinfo\": \"text\", \"line\": {\"color\": \"red\", \"shape\": \"spline\", \"width\": 7.6923076923076925}, \"mode\": \"lines\", \"opacity\": 0.7692307692307693, \"text\": \"10\", \"type\": \"scatter\", \"x\": [0, 1.8151508569005046, null], \"y\": [0, 0.8397782001155376, null]}, {\"hoverinfo\": \"text\", \"line\": {\"color\": \"cornflowerblue\", \"shape\": \"spline\", \"width\": 6.153846153846154}, \"mode\": \"lines\", \"opacity\": 0.6153846153846154, \"text\": \"8\", \"type\": \"scatter\", \"x\": [0, 0.9368168111518604, null], \"y\": [0, 1.7670241750135853, null]}, {\"hoverinfo\": \"text\", \"line\": {\"color\": \"cornflowerblue\", \"shape\": \"spline\", \"width\": 5.384615384615385}, \"mode\": \"lines\", \"opacity\": 0.5384615384615384, \"text\": \"7\", \"type\": \"scatter\", \"x\": [0, 0.5350567692833176, null], \"y\": [0, 1.9270999588048279, null]}, {\"hoverinfo\": \"text\", \"line\": {\"color\": \"cornflowerblue\", \"shape\": \"spline\", \"width\": 5.384615384615385}, \"mode\": \"lines\", \"opacity\": 0.5384615384615384, \"text\": \"7\", \"type\": \"scatter\", \"x\": [0, 0.10827791617924203, null], \"y\": [0, 1.9970668711013835, null]}, {\"hoverinfo\": \"text\", \"line\": {\"color\": \"cornflowerblue\", \"shape\": \"spline\", \"width\": 5.384615384615385}, \"mode\": \"lines\", \"opacity\": 0.5384615384615384, \"text\": \"7\", \"type\": \"scatter\", \"x\": [0, -0.3235639044656183, null], \"y\": [0, 1.973653093740981, null]}, {\"hoverinfo\": \"text\", \"line\": {\"color\": \"red\", \"shape\": \"spline\", \"width\": 4.615384615384615}, \"mode\": \"lines\", \"opacity\": 0.46153846153846156, \"text\": \"6\", \"type\": \"scatter\", \"x\": [0, -1.122374297391639, null], \"y\": [0, 1.6553778803767487, null]}, {\"hoverinfo\": \"text\", \"line\": {\"color\": \"cornflowerblue\", \"shape\": \"spline\", \"width\": 4.615384615384615}, \"mode\": \"lines\", \"opacity\": 0.46153846153846156, \"text\": \"6\", \"type\": \"scatter\", \"x\": [0, -1.9882758871189514, null], \"y\": [0, -0.21623808153856344, null]}, {\"hoverinfo\": \"text\", \"line\": {\"color\": \"cornflowerblue\", \"shape\": \"spline\", \"width\": 4.615384615384615}, \"mode\": \"lines\", \"opacity\": 0.46153846153846156, \"text\": \"6\", \"type\": \"scatter\", \"x\": [0, -1.8953063503018122, null], \"y\": [0, -0.6386028977709352, null]}, {\"hoverinfo\": \"text\", \"line\": {\"color\": \"cornflowerblue\", \"shape\": \"spline\", \"width\": 4.615384615384615}, \"mode\": \"lines\", \"opacity\": 0.46153846153846156, \"text\": \"6\", \"type\": \"scatter\", \"x\": [0, -1.7137142434126784, null], \"y\": [0, -1.0311077688137678, null]}, {\"hoverinfo\": \"text\", \"line\": {\"color\": \"cornflowerblue\", \"shape\": \"spline\", \"width\": 4.615384615384615}, \"mode\": \"lines\", \"opacity\": 0.46153846153846156, \"text\": \"6\", \"type\": \"scatter\", \"x\": [0, -1.1223744166009286, null], \"y\": [0, -1.6553778505744263, null]}, {\"hoverinfo\": \"text\", \"line\": {\"color\": \"red\", \"shape\": \"spline\", \"width\": 3.8461538461538463}, \"mode\": \"lines\", \"opacity\": 0.38461538461538464, \"text\": \"5\", \"type\": \"scatter\", \"x\": [0, -1.9882758871189514, null], \"y\": [0, 0.21623824545133663, null]}, {\"hoverinfo\": \"text\", \"line\": {\"color\": \"red\", \"shape\": \"spline\", \"width\": 3.8461538461538463}, \"mode\": \"lines\", \"opacity\": 0.38461538461538464, \"text\": \"5\", \"type\": \"scatter\", \"x\": [0, -1.7137142434126784, null], \"y\": [0, 1.0311079178253797, null]}, {\"hoverinfo\": \"text\", \"line\": {\"color\": \"cornflowerblue\", \"shape\": \"spline\", \"width\": 3.8461538461538463}, \"mode\": \"lines\", \"opacity\": 0.38461538461538464, \"text\": \"5\", \"type\": \"scatter\", \"x\": [0, -0.3235638150586511, null], \"y\": [0, -1.9736530639386587, null]}, {\"hoverinfo\": \"text\", \"line\": {\"color\": \"cornflowerblue\", \"shape\": \"spline\", \"width\": 3.8461538461538463}, \"mode\": \"lines\", \"opacity\": 0.38461538461538464, \"text\": \"5\", \"type\": \"scatter\", \"x\": [0, 1.2947727439069951, null], \"y\": [0, -1.5243239259633745, null]}, {\"hoverinfo\": \"text\", \"line\": {\"color\": \"cornflowerblue\", \"shape\": \"spline\", \"width\": 3.8461538461538463}, \"mode\": \"lines\", \"opacity\": 0.38461538461538464, \"text\": \"5\", \"type\": \"scatter\", \"x\": [0, 1.8151507376912148, null], \"y\": [0, -0.8397783491271497, null]}, {\"hoverinfo\": \"text\", \"line\": {\"color\": \"red\", \"shape\": \"spline\", \"width\": 3.8461538461538463}, \"mode\": \"lines\", \"opacity\": 0.38461538461538464, \"text\": \"5\", \"type\": \"scatter\", \"x\": [1.8151508569005046, 0, null], \"y\": [0.8397782001155376, 0, null]}, {\"hoverinfo\": \"text\", \"line\": {\"color\": \"cornflowerblue\", \"shape\": \"spline\", \"width\": 6.923076923076923}, \"mode\": \"lines\", \"opacity\": 0.6923076923076923, \"text\": \"9\", \"type\": \"scatter\", \"x\": [1.5921862123825117, 0, null], \"y\": [1.210348383058639, 0, null]}, {\"hoverinfo\": \"text\", \"line\": {\"color\": \"cornflowerblue\", \"shape\": \"spline\", \"width\": 6.153846153846154}, \"mode\": \"lines\", \"opacity\": 0.6153846153846154, \"text\": \"8\", \"type\": \"scatter\", \"x\": [1.2947726246977056, 0, null], \"y\": [1.5243240749749865, 0, null]}, {\"hoverinfo\": \"text\", \"line\": {\"color\": \"cornflowerblue\", \"shape\": \"spline\", \"width\": 5.384615384615385}, \"mode\": \"lines\", \"opacity\": 0.5384615384615384, \"text\": \"7\", \"type\": \"scatter\", \"x\": [-0.7402762781213107, 0, null], \"y\": [1.8579534448392767, 0, null]}, {\"hoverinfo\": \"text\", \"line\": {\"color\": \"red\", \"shape\": \"spline\", \"width\": 4.615384615384615}, \"mode\": \"lines\", \"opacity\": 0.46153846153846156, \"text\": \"6\", \"type\": \"scatter\", \"x\": [-1.122374297391639, 0, null], \"y\": [1.6553778803767487, 0, null]}, {\"hoverinfo\": \"text\", \"line\": {\"color\": \"cornflowerblue\", \"shape\": \"spline\", \"width\": 4.615384615384615}, \"mode\": \"lines\", \"opacity\": 0.46153846153846156, \"text\": \"6\", \"type\": \"scatter\", \"x\": [-1.451990963358814, 0, null], \"y\": [1.3753988897140423, 0, null]}, {\"hoverinfo\": \"text\", \"line\": {\"color\": \"red\", \"shape\": \"spline\", \"width\": 4.615384615384615}, \"mode\": \"lines\", \"opacity\": 0.46153846153846156, \"text\": \"6\", \"type\": \"scatter\", \"x\": [-1.7137142434126784, 0, null], \"y\": [1.0311079178253797, 0, null]}, {\"hoverinfo\": \"text\", \"line\": {\"color\": \"cornflowerblue\", \"shape\": \"spline\", \"width\": 4.615384615384615}, \"mode\": \"lines\", \"opacity\": 0.46153846153846156, \"text\": \"6\", \"type\": \"scatter\", \"x\": [-1.8953063503018122, 0, null], \"y\": [0.6386030467825472, 0, null]}, {\"hoverinfo\": \"text\", \"line\": {\"color\": \"red\", \"shape\": \"spline\", \"width\": 4.615384615384615}, \"mode\": \"lines\", \"opacity\": 0.46153846153846156, \"text\": \"6\", \"type\": \"scatter\", \"x\": [-1.9882758871189514, 0, null], \"y\": [0.21623824545133663, 0, null]}, {\"hoverinfo\": \"text\", \"line\": {\"color\": \"cornflowerblue\", \"shape\": \"spline\", \"width\": 4.615384615384615}, \"mode\": \"lines\", \"opacity\": 0.46153846153846156, \"text\": \"6\", \"type\": \"scatter\", \"x\": [-1.4519910825681035, 0, null], \"y\": [-1.3753988599117197, 0, null]}, {\"hoverinfo\": \"text\", \"line\": {\"color\": \"cornflowerblue\", \"shape\": \"spline\", \"width\": 4.615384615384615}, \"mode\": \"lines\", \"opacity\": 0.46153846153846156, \"text\": \"6\", \"type\": \"scatter\", \"x\": [-0.7402759204934418, 0, null], \"y\": [-1.8579535342462439, 0, null]}, {\"hoverinfo\": \"text\", \"line\": {\"color\": \"cornflowerblue\", \"shape\": \"spline\", \"width\": 3.8461538461538463}, \"mode\": \"lines\", \"opacity\": 0.38461538461538464, \"text\": \"5\", \"type\": \"scatter\", \"x\": [0.10827778951937184, 0, null], \"y\": [-1.997066841299061, 0, null]}, {\"hoverinfo\": \"text\", \"line\": {\"color\": \"cornflowerblue\", \"shape\": \"spline\", \"width\": 3.8461538461538463}, \"mode\": \"lines\", \"opacity\": 0.38461538461538464, \"text\": \"5\", \"type\": \"scatter\", \"x\": [0.5350564116554488, 0, null], \"y\": [-1.927100048211795, 0, null]}, {\"hoverinfo\": \"text\", \"line\": {\"color\": \"cornflowerblue\", \"shape\": \"spline\", \"width\": 3.8461538461538463}, \"mode\": \"lines\", \"opacity\": 0.38461538461538464, \"text\": \"5\", \"type\": \"scatter\", \"x\": [0.5350564116554488, 0.9368164535239917, null], \"y\": [-1.927100048211795, -1.7670242644205525, null]}, {\"hoverinfo\": \"text\", \"line\": {\"color\": \"cornflowerblue\", \"shape\": \"spline\", \"width\": 3.8461538461538463}, \"mode\": \"lines\", \"opacity\": 0.38461538461538464, \"text\": \"5\", \"type\": \"scatter\", \"x\": [1.5921862123825117, 0, null], \"y\": [-1.2103483532563166, 0, null]}, {\"hoverinfo\": \"text\", \"line\": {\"color\": \"cornflowerblue\", \"shape\": \"spline\", \"width\": 3.8461538461538463}, \"mode\": \"lines\", \"opacity\": 0.38461538461538464, \"text\": \"5\", \"type\": \"scatter\", \"x\": [1.953240990620713, 0, null], \"y\": [-0.42994125203965855, 0, null]}, {\"hoverinfo\": \"text\", \"marker\": {\"color\": [\"#ED8B00\", \"#ED8B00\", \"#ED8B00\", \"#00965E\", \"#ED8B00\", \"#A05EB5\", \"#B1B3B3\", \"#E40046\", \"#00965E\", \"#A05EB5\", \"#00965E\", \"#E40046\", \"#0066CC\", \"#0066CC\", \"#B1B3B3\", \"#B1B3B3\", \"#A05EB5\", \"#0066CC\", \"#A05EB5\", \"#A05EB5\", \"#00965E\", \"#B1B3B3\", \"#E40046\", \"#E40046\", \"#00965E\", \"#0066CC\", \"#ED8B00\", \"#0066CC\", \"#E40046\"], \"size\": 40, \"symbol\": \"circle\"}, \"mode\": \"markers\", \"text\": [\"Anthony\", \"Matthew\", \"Christopher\", \"Linda\", \"Daniel\", \"Richard\", \"Margaret\", \"Jessica\", \"Patricia\", \"David\", \"Jennifer\", \"Susan\", \"Michael\", \"William\", \"Sandra\", \"Betty\", \"Thomas\", \"John\", \"Charles\", \"Joseph\", \"Mary\", \"Lisa\", \"Karen\", \"Sarah\", \"Elizabeth\", \"Robert\", \"Nancy\", \"James\", \"Barbara\"], \"type\": \"scatter\", \"x\": [0, 1.9532411098300027, 1.8151508569005046, 1.5921862123825117, 1.2947726246977056, 0.9368168111518604, 0.5350567692833176, 0.10827791617924203, -0.3235639044656183, -0.7402762781213107, -1.122374297391639, -1.451990963358814, -1.7137142434126784, -1.8953063503018122, -1.9882758871189514, -1.9882758871189514, -1.8953063503018122, -1.7137142434126784, -1.4519910825681035, -1.1223744166009286, -0.7402759204934418, -0.3235638150586511, 0.10827778951937184, 0.5350564116554488, 0.9368164535239917, 1.2947727439069951, 1.5921862123825117, 1.8151507376912148, 1.953240990620713], \"y\": [0, 0.4299408944117898, 0.8397782001155376, 1.210348383058639, 1.5243240749749865, 1.7670241750135853, 1.9270999588048279, 1.9970668711013835, 1.973653093740981, 1.8579534448392767, 1.6553778803767487, 1.3753988897140423, 1.0311079178253797, 0.6386030467825472, 0.21623824545133663, -0.21623808153856344, -0.6386028977709352, -1.0311077688137678, -1.3753988599117197, -1.6553778505744263, -1.8579535342462439, -1.9736530639386587, -1.997066841299061, -1.927100048211795, -1.7670242644205525, -1.5243239259633745, -1.2103483532563166, -0.8397783491271497, -0.42994125203965855]}],                        {\"annotations\": [{\"arrowcolor\": \"cornflowerblue\", \"arrowhead\": 3, \"arrowsize\": 5, \"arrowwidth\": 1, \"ax\": 0.9766205549150013, \"axref\": \"x\", \"ay\": 0.2149704472058949, \"ayref\": \"y\", \"opacity\": 0.7, \"showarrow\": true, \"x\": 1.4649308323725019, \"xref\": \"x\", \"y\": 0.32245567080884235, \"yref\": \"y\"}, {\"arrowcolor\": \"cornflowerblue\", \"arrowhead\": 3, \"arrowsize\": 5, \"arrowwidth\": 1, \"ax\": 0.9075754284502523, \"axref\": \"x\", \"ay\": 0.4198891000577688, \"ayref\": \"y\", \"opacity\": 0.7, \"showarrow\": true, \"x\": 1.3613631426753785, \"xref\": \"x\", \"y\": 0.6298336500866533, \"yref\": \"y\"}, {\"arrowcolor\": \"cornflowerblue\", \"arrowhead\": 3, \"arrowsize\": 5, \"arrowwidth\": 1, \"ax\": 0.4684084055759302, \"axref\": \"x\", \"ay\": 0.8835120875067927, \"ayref\": \"y\", \"opacity\": 0.7, \"showarrow\": true, \"x\": 0.7026126083638953, \"xref\": \"x\", \"y\": 1.325268131260189, \"yref\": \"y\"}, {\"arrowcolor\": \"cornflowerblue\", \"arrowhead\": 3, \"arrowsize\": 5, \"arrowwidth\": 1, \"ax\": 0.2675283846416588, \"axref\": \"x\", \"ay\": 0.9635499794024139, \"ayref\": \"y\", \"opacity\": 0.7, \"showarrow\": true, \"x\": 0.4012925769624882, \"xref\": \"x\", \"y\": 1.445324969103621, \"yref\": \"y\"}, {\"arrowcolor\": \"cornflowerblue\", \"arrowhead\": 3, \"arrowsize\": 5, \"arrowwidth\": 1, \"ax\": 0.05413895808962101, \"axref\": \"x\", \"ay\": 0.9985334355506917, \"ayref\": \"y\", \"opacity\": 0.7, \"showarrow\": true, \"x\": 0.08120843713443152, \"xref\": \"x\", \"y\": 1.4978001533260377, \"yref\": \"y\"}, {\"arrowcolor\": \"cornflowerblue\", \"arrowhead\": 3, \"arrowsize\": 5, \"arrowwidth\": 1, \"ax\": -0.16178195223280914, \"axref\": \"x\", \"ay\": 0.9868265468704905, \"ayref\": \"y\", \"opacity\": 0.7, \"showarrow\": true, \"x\": -0.24267292834921372, \"xref\": \"x\", \"y\": 1.4802398203057359, \"yref\": \"y\"}, {\"arrowcolor\": \"cornflowerblue\", \"arrowhead\": 3, \"arrowsize\": 5, \"arrowwidth\": 1, \"ax\": -0.5611871486958195, \"axref\": \"x\", \"ay\": 0.8276889401883744, \"ayref\": \"y\", \"opacity\": 0.7, \"showarrow\": true, \"x\": -0.8417807230437293, \"xref\": \"x\", \"y\": 1.2415334102825615, \"yref\": \"y\"}, {\"arrowcolor\": \"cornflowerblue\", \"arrowhead\": 3, \"arrowsize\": 5, \"arrowwidth\": 1, \"ax\": -0.9941379435594757, \"axref\": \"x\", \"ay\": -0.10811904076928172, \"ayref\": \"y\", \"opacity\": 0.7, \"showarrow\": true, \"x\": -1.4912069153392136, \"xref\": \"x\", \"y\": -0.1621785611539226, \"yref\": \"y\"}, {\"arrowcolor\": \"cornflowerblue\", \"arrowhead\": 3, \"arrowsize\": 5, \"arrowwidth\": 1, \"ax\": -0.9476531751509061, \"axref\": \"x\", \"ay\": -0.3193014488854676, \"ayref\": \"y\", \"opacity\": 0.7, \"showarrow\": true, \"x\": -1.4214797627263591, \"xref\": \"x\", \"y\": -0.4789521733282014, \"yref\": \"y\"}, {\"arrowcolor\": \"cornflowerblue\", \"arrowhead\": 3, \"arrowsize\": 5, \"arrowwidth\": 1, \"ax\": -0.8568571217063392, \"axref\": \"x\", \"ay\": -0.5155538844068839, \"ayref\": \"y\", \"opacity\": 0.7, \"showarrow\": true, \"x\": -1.285285682559509, \"xref\": \"x\", \"y\": -0.7733308266103258, \"yref\": \"y\"}, {\"arrowcolor\": \"cornflowerblue\", \"arrowhead\": 3, \"arrowsize\": 5, \"arrowwidth\": 1, \"ax\": -0.5611872083004643, \"axref\": \"x\", \"ay\": -0.8276889252872132, \"ayref\": \"y\", \"opacity\": 0.7, \"showarrow\": true, \"x\": -0.8417808124506965, \"xref\": \"x\", \"y\": -1.2415333879308197, \"yref\": \"y\"}, {\"arrowcolor\": \"cornflowerblue\", \"arrowhead\": 3, \"arrowsize\": 5, \"arrowwidth\": 1, \"ax\": -0.9941379435594757, \"axref\": \"x\", \"ay\": 0.10811912272566832, \"ayref\": \"y\", \"opacity\": 0.7, \"showarrow\": true, \"x\": -1.4912069153392136, \"xref\": \"x\", \"y\": 0.16217868408850247, \"yref\": \"y\"}, {\"arrowcolor\": \"cornflowerblue\", \"arrowhead\": 3, \"arrowsize\": 5, \"arrowwidth\": 1, \"ax\": -0.8568571217063392, \"axref\": \"x\", \"ay\": 0.5155539589126898, \"ayref\": \"y\", \"opacity\": 0.7, \"showarrow\": true, \"x\": -1.285285682559509, \"xref\": \"x\", \"y\": 0.7733309383690348, \"yref\": \"y\"}, {\"arrowcolor\": \"cornflowerblue\", \"arrowhead\": 3, \"arrowsize\": 5, \"arrowwidth\": 1, \"ax\": -0.16178190752932556, \"axref\": \"x\", \"ay\": -0.9868265319693293, \"ayref\": \"y\", \"opacity\": 0.7, \"showarrow\": true, \"x\": -0.24267286129398835, \"xref\": \"x\", \"y\": -1.480239797953994, \"yref\": \"y\"}, {\"arrowcolor\": \"cornflowerblue\", \"arrowhead\": 3, \"arrowsize\": 5, \"arrowwidth\": 1, \"ax\": 0.6473863719534976, \"axref\": \"x\", \"ay\": -0.7621619629816873, \"ayref\": \"y\", \"opacity\": 0.7, \"showarrow\": true, \"x\": 0.9710795579302464, \"xref\": \"x\", \"y\": -1.143242944472531, \"yref\": \"y\"}, {\"arrowcolor\": \"cornflowerblue\", \"arrowhead\": 3, \"arrowsize\": 5, \"arrowwidth\": 1, \"ax\": 0.9075753688456074, \"axref\": \"x\", \"ay\": -0.41988917456357483, \"ayref\": \"y\", \"opacity\": 0.7, \"showarrow\": true, \"x\": 1.3613630532684111, \"xref\": \"x\", \"y\": -0.6298337618453622, \"yref\": \"y\"}, {\"arrowcolor\": \"cornflowerblue\", \"arrowhead\": 3, \"arrowsize\": 5, \"arrowwidth\": 1, \"ax\": 0.9075754284502523, \"axref\": \"x\", \"ay\": 0.4198891000577688, \"ayref\": \"y\", \"opacity\": 0.7, \"showarrow\": true, \"x\": 0.45378771422512615, \"xref\": \"x\", \"y\": 0.2099445500288844, \"yref\": \"y\"}, {\"arrowcolor\": \"cornflowerblue\", \"arrowhead\": 3, \"arrowsize\": 5, \"arrowwidth\": 1, \"ax\": 0.7960931061912558, \"axref\": \"x\", \"ay\": 0.6051741915293195, \"ayref\": \"y\", \"opacity\": 0.7, \"showarrow\": true, \"x\": 0.3980465530956279, \"xref\": \"x\", \"y\": 0.30258709576465975, \"yref\": \"y\"}, {\"arrowcolor\": \"cornflowerblue\", \"arrowhead\": 3, \"arrowsize\": 5, \"arrowwidth\": 1, \"ax\": 0.6473863123488528, \"axref\": \"x\", \"ay\": 0.7621620374874932, \"ayref\": \"y\", \"opacity\": 0.7, \"showarrow\": true, \"x\": 0.3236931561744264, \"xref\": \"x\", \"y\": 0.3810810187437466, \"yref\": \"y\"}, {\"arrowcolor\": \"cornflowerblue\", \"arrowhead\": 3, \"arrowsize\": 5, \"arrowwidth\": 1, \"ax\": -0.37013813906065535, \"axref\": \"x\", \"ay\": 0.9289767224196384, \"ayref\": \"y\", \"opacity\": 0.7, \"showarrow\": true, \"x\": -0.18506906953032767, \"xref\": \"x\", \"y\": 0.4644883612098192, \"yref\": \"y\"}, {\"arrowcolor\": \"cornflowerblue\", \"arrowhead\": 3, \"arrowsize\": 5, \"arrowwidth\": 1, \"ax\": -0.5611871486958195, \"axref\": \"x\", \"ay\": 0.8276889401883744, \"ayref\": \"y\", \"opacity\": 0.7, \"showarrow\": true, \"x\": -0.28059357434790977, \"xref\": \"x\", \"y\": 0.4138444700941872, \"yref\": \"y\"}, {\"arrowcolor\": \"cornflowerblue\", \"arrowhead\": 3, \"arrowsize\": 5, \"arrowwidth\": 1, \"ax\": -0.725995481679407, \"axref\": \"x\", \"ay\": 0.6876994448570212, \"ayref\": \"y\", \"opacity\": 0.7, \"showarrow\": true, \"x\": -0.3629977408397035, \"xref\": \"x\", \"y\": 0.3438497224285106, \"yref\": \"y\"}, {\"arrowcolor\": \"cornflowerblue\", \"arrowhead\": 3, \"arrowsize\": 5, \"arrowwidth\": 1, \"ax\": -0.8568571217063392, \"axref\": \"x\", \"ay\": 0.5155539589126898, \"ayref\": \"y\", \"opacity\": 0.7, \"showarrow\": true, \"x\": -0.4284285608531696, \"xref\": \"x\", \"y\": 0.2577769794563449, \"yref\": \"y\"}, {\"arrowcolor\": \"cornflowerblue\", \"arrowhead\": 3, \"arrowsize\": 5, \"arrowwidth\": 1, \"ax\": -0.9476531751509061, \"axref\": \"x\", \"ay\": 0.3193015233912736, \"ayref\": \"y\", \"opacity\": 0.7, \"showarrow\": true, \"x\": -0.47382658757545304, \"xref\": \"x\", \"y\": 0.1596507616956368, \"yref\": \"y\"}, {\"arrowcolor\": \"cornflowerblue\", \"arrowhead\": 3, \"arrowsize\": 5, \"arrowwidth\": 1, \"ax\": -0.9941379435594757, \"axref\": \"x\", \"ay\": 0.10811912272566832, \"ayref\": \"y\", \"opacity\": 0.7, \"showarrow\": true, \"x\": -0.49706897177973786, \"xref\": \"x\", \"y\": 0.05405956136283416, \"yref\": \"y\"}, {\"arrowcolor\": \"cornflowerblue\", \"arrowhead\": 3, \"arrowsize\": 5, \"arrowwidth\": 1, \"ax\": -0.7259955412840517, \"axref\": \"x\", \"ay\": -0.6876994299558599, \"ayref\": \"y\", \"opacity\": 0.7, \"showarrow\": true, \"x\": -0.3629977706420259, \"xref\": \"x\", \"y\": -0.34384971497792993, \"yref\": \"y\"}, {\"arrowcolor\": \"cornflowerblue\", \"arrowhead\": 3, \"arrowsize\": 5, \"arrowwidth\": 1, \"ax\": -0.3701379602467209, \"axref\": \"x\", \"ay\": -0.9289767671231219, \"ayref\": \"y\", \"opacity\": 0.7, \"showarrow\": true, \"x\": -0.18506898012336045, \"xref\": \"x\", \"y\": -0.46448838356156097, \"yref\": \"y\"}, {\"arrowcolor\": \"cornflowerblue\", \"arrowhead\": 3, \"arrowsize\": 5, \"arrowwidth\": 1, \"ax\": 0.05413889475968592, \"axref\": \"x\", \"ay\": -0.9985334206495305, \"ayref\": \"y\", \"opacity\": 0.7, \"showarrow\": true, \"x\": 0.02706944737984296, \"xref\": \"x\", \"y\": -0.4992667103247653, \"yref\": \"y\"}, {\"arrowcolor\": \"cornflowerblue\", \"arrowhead\": 3, \"arrowsize\": 5, \"arrowwidth\": 1, \"ax\": 0.2675282058277244, \"axref\": \"x\", \"ay\": -0.9635500241058975, \"ayref\": \"y\", \"opacity\": 0.7, \"showarrow\": true, \"x\": 0.1337641029138622, \"xref\": \"x\", \"y\": -0.48177501205294876, \"yref\": \"y\"}, {\"arrowcolor\": \"cornflowerblue\", \"arrowhead\": 3, \"arrowsize\": 5, \"arrowwidth\": 1, \"ax\": 0.7359364325897202, \"axref\": \"x\", \"ay\": -1.8470621563161738, \"ayref\": \"y\", \"opacity\": 0.7, \"showarrow\": true, \"x\": 0.836376443056856, \"xref\": \"x\", \"y\": -1.8070432103683631, \"yref\": \"y\"}, {\"arrowcolor\": \"cornflowerblue\", \"arrowhead\": 3, \"arrowsize\": 5, \"arrowwidth\": 1, \"ax\": 0.7960931061912558, \"axref\": \"x\", \"ay\": -0.6051741766281583, \"ayref\": \"y\", \"opacity\": 0.7, \"showarrow\": true, \"x\": 0.3980465530956279, \"xref\": \"x\", \"y\": -0.30258708831407916, \"yref\": \"y\"}, {\"arrowcolor\": \"cornflowerblue\", \"arrowhead\": 3, \"arrowsize\": 5, \"arrowwidth\": 1, \"ax\": 0.9766204953103566, \"axref\": \"x\", \"ay\": -0.21497062601982928, \"ayref\": \"y\", \"opacity\": 0.7, \"showarrow\": true, \"x\": 0.4883102476551783, \"xref\": \"x\", \"y\": -0.10748531300991464, \"yref\": \"y\"}], \"clickmode\": \"event+select\", \"height\": 600, \"hovermode\": \"closest\", \"margin\": {\"b\": 40, \"l\": 40, \"r\": 40, \"t\": 40}, \"showlegend\": false, \"template\": {\"data\": {\"bar\": [{\"error_x\": {\"color\": \"#2a3f5f\"}, \"error_y\": {\"color\": \"#2a3f5f\"}, \"marker\": {\"line\": {\"color\": \"#E5ECF6\", \"width\": 0.5}}, \"type\": \"bar\"}], \"barpolar\": [{\"marker\": {\"line\": {\"color\": \"#E5ECF6\", \"width\": 0.5}}, \"type\": \"barpolar\"}], \"carpet\": [{\"aaxis\": {\"endlinecolor\": \"#2a3f5f\", \"gridcolor\": \"white\", \"linecolor\": \"white\", \"minorgridcolor\": \"white\", \"startlinecolor\": \"#2a3f5f\"}, \"baxis\": {\"endlinecolor\": \"#2a3f5f\", \"gridcolor\": \"white\", \"linecolor\": \"white\", \"minorgridcolor\": \"white\", \"startlinecolor\": \"#2a3f5f\"}, \"type\": \"carpet\"}], \"choropleth\": [{\"colorbar\": {\"outlinewidth\": 0, \"ticks\": \"\"}, \"type\": \"choropleth\"}], \"contour\": [{\"colorbar\": {\"outlinewidth\": 0, \"ticks\": \"\"}, \"colorscale\": [[0.0, \"#0d0887\"], [0.1111111111111111, \"#46039f\"], [0.2222222222222222, \"#7201a8\"], [0.3333333333333333, \"#9c179e\"], [0.4444444444444444, \"#bd3786\"], [0.5555555555555556, \"#d8576b\"], [0.6666666666666666, \"#ed7953\"], [0.7777777777777778, \"#fb9f3a\"], [0.8888888888888888, \"#fdca26\"], [1.0, \"#f0f921\"]], \"type\": \"contour\"}], \"contourcarpet\": [{\"colorbar\": {\"outlinewidth\": 0, \"ticks\": \"\"}, \"type\": \"contourcarpet\"}], \"heatmap\": [{\"colorbar\": {\"outlinewidth\": 0, \"ticks\": \"\"}, \"colorscale\": [[0.0, \"#0d0887\"], [0.1111111111111111, \"#46039f\"], [0.2222222222222222, \"#7201a8\"], [0.3333333333333333, \"#9c179e\"], [0.4444444444444444, \"#bd3786\"], [0.5555555555555556, \"#d8576b\"], [0.6666666666666666, \"#ed7953\"], [0.7777777777777778, \"#fb9f3a\"], [0.8888888888888888, \"#fdca26\"], [1.0, \"#f0f921\"]], \"type\": \"heatmap\"}], \"heatmapgl\": [{\"colorbar\": {\"outlinewidth\": 0, \"ticks\": \"\"}, \"colorscale\": [[0.0, \"#0d0887\"], [0.1111111111111111, \"#46039f\"], [0.2222222222222222, \"#7201a8\"], [0.3333333333333333, \"#9c179e\"], [0.4444444444444444, \"#bd3786\"], [0.5555555555555556, \"#d8576b\"], [0.6666666666666666, \"#ed7953\"], [0.7777777777777778, \"#fb9f3a\"], [0.8888888888888888, \"#fdca26\"], [1.0, \"#f0f921\"]], \"type\": \"heatmapgl\"}], \"histogram\": [{\"marker\": {\"colorbar\": {\"outlinewidth\": 0, \"ticks\": \"\"}}, \"type\": \"histogram\"}], \"histogram2d\": [{\"colorbar\": {\"outlinewidth\": 0, \"ticks\": \"\"}, \"colorscale\": [[0.0, \"#0d0887\"], [0.1111111111111111, \"#46039f\"], [0.2222222222222222, \"#7201a8\"], [0.3333333333333333, \"#9c179e\"], [0.4444444444444444, \"#bd3786\"], [0.5555555555555556, \"#d8576b\"], [0.6666666666666666, \"#ed7953\"], [0.7777777777777778, \"#fb9f3a\"], [0.8888888888888888, \"#fdca26\"], [1.0, \"#f0f921\"]], \"type\": \"histogram2d\"}], \"histogram2dcontour\": [{\"colorbar\": {\"outlinewidth\": 0, \"ticks\": \"\"}, \"colorscale\": [[0.0, \"#0d0887\"], [0.1111111111111111, \"#46039f\"], [0.2222222222222222, \"#7201a8\"], [0.3333333333333333, \"#9c179e\"], [0.4444444444444444, \"#bd3786\"], [0.5555555555555556, \"#d8576b\"], [0.6666666666666666, \"#ed7953\"], [0.7777777777777778, \"#fb9f3a\"], [0.8888888888888888, \"#fdca26\"], [1.0, \"#f0f921\"]], \"type\": \"histogram2dcontour\"}], \"mesh3d\": [{\"colorbar\": {\"outlinewidth\": 0, \"ticks\": \"\"}, \"type\": \"mesh3d\"}], \"parcoords\": [{\"line\": {\"colorbar\": {\"outlinewidth\": 0, \"ticks\": \"\"}}, \"type\": \"parcoords\"}], \"pie\": [{\"automargin\": true, \"type\": \"pie\"}], \"scatter\": [{\"marker\": {\"colorbar\": {\"outlinewidth\": 0, \"ticks\": \"\"}}, \"type\": \"scatter\"}], \"scatter3d\": [{\"line\": {\"colorbar\": {\"outlinewidth\": 0, \"ticks\": \"\"}}, \"marker\": {\"colorbar\": {\"outlinewidth\": 0, \"ticks\": \"\"}}, \"type\": \"scatter3d\"}], \"scattercarpet\": [{\"marker\": {\"colorbar\": {\"outlinewidth\": 0, \"ticks\": \"\"}}, \"type\": \"scattercarpet\"}], \"scattergeo\": [{\"marker\": {\"colorbar\": {\"outlinewidth\": 0, \"ticks\": \"\"}}, \"type\": \"scattergeo\"}], \"scattergl\": [{\"marker\": {\"colorbar\": {\"outlinewidth\": 0, \"ticks\": \"\"}}, \"type\": \"scattergl\"}], \"scattermapbox\": [{\"marker\": {\"colorbar\": {\"outlinewidth\": 0, \"ticks\": \"\"}}, \"type\": \"scattermapbox\"}], \"scatterpolar\": [{\"marker\": {\"colorbar\": {\"outlinewidth\": 0, \"ticks\": \"\"}}, \"type\": \"scatterpolar\"}], \"scatterpolargl\": [{\"marker\": {\"colorbar\": {\"outlinewidth\": 0, \"ticks\": \"\"}}, \"type\": \"scatterpolargl\"}], \"scatterternary\": [{\"marker\": {\"colorbar\": {\"outlinewidth\": 0, \"ticks\": \"\"}}, \"type\": \"scatterternary\"}], \"surface\": [{\"colorbar\": {\"outlinewidth\": 0, \"ticks\": \"\"}, \"colorscale\": [[0.0, \"#0d0887\"], [0.1111111111111111, \"#46039f\"], [0.2222222222222222, \"#7201a8\"], [0.3333333333333333, \"#9c179e\"], [0.4444444444444444, \"#bd3786\"], [0.5555555555555556, \"#d8576b\"], [0.6666666666666666, \"#ed7953\"], [0.7777777777777778, \"#fb9f3a\"], [0.8888888888888888, \"#fdca26\"], [1.0, \"#f0f921\"]], \"type\": \"surface\"}], \"table\": [{\"cells\": {\"fill\": {\"color\": \"#EBF0F8\"}, \"line\": {\"color\": \"white\"}}, \"header\": {\"fill\": {\"color\": \"#C8D4E3\"}, \"line\": {\"color\": \"white\"}}, \"type\": \"table\"}]}, \"layout\": {\"annotationdefaults\": {\"arrowcolor\": \"#2a3f5f\", \"arrowhead\": 0, \"arrowwidth\": 1}, \"coloraxis\": {\"colorbar\": {\"outlinewidth\": 0, \"ticks\": \"\"}}, \"colorscale\": {\"diverging\": [[0, \"#8e0152\"], [0.1, \"#c51b7d\"], [0.2, \"#de77ae\"], [0.3, \"#f1b6da\"], [0.4, \"#fde0ef\"], [0.5, \"#f7f7f7\"], [0.6, \"#e6f5d0\"], [0.7, \"#b8e186\"], [0.8, \"#7fbc41\"], [0.9, \"#4d9221\"], [1, \"#276419\"]], \"sequential\": [[0.0, \"#0d0887\"], [0.1111111111111111, \"#46039f\"], [0.2222222222222222, \"#7201a8\"], [0.3333333333333333, \"#9c179e\"], [0.4444444444444444, \"#bd3786\"], [0.5555555555555556, \"#d8576b\"], [0.6666666666666666, \"#ed7953\"], [0.7777777777777778, \"#fb9f3a\"], [0.8888888888888888, \"#fdca26\"], [1.0, \"#f0f921\"]], \"sequentialminus\": [[0.0, \"#0d0887\"], [0.1111111111111111, \"#46039f\"], [0.2222222222222222, \"#7201a8\"], [0.3333333333333333, \"#9c179e\"], [0.4444444444444444, \"#bd3786\"], [0.5555555555555556, \"#d8576b\"], [0.6666666666666666, \"#ed7953\"], [0.7777777777777778, \"#fb9f3a\"], [0.8888888888888888, \"#fdca26\"], [1.0, \"#f0f921\"]]}, \"colorway\": [\"#636efa\", \"#EF553B\", \"#00cc96\", \"#ab63fa\", \"#FFA15A\", \"#19d3f3\", \"#FF6692\", \"#B6E880\", \"#FF97FF\", \"#FECB52\"], \"font\": {\"color\": \"#2a3f5f\"}, \"geo\": {\"bgcolor\": \"white\", \"lakecolor\": \"white\", \"landcolor\": \"#E5ECF6\", \"showlakes\": true, \"showland\": true, \"subunitcolor\": \"white\"}, \"hoverlabel\": {\"align\": \"left\"}, \"hovermode\": \"closest\", \"mapbox\": {\"style\": \"light\"}, \"paper_bgcolor\": \"white\", \"plot_bgcolor\": \"#E5ECF6\", \"polar\": {\"angularaxis\": {\"gridcolor\": \"white\", \"linecolor\": \"white\", \"ticks\": \"\"}, \"bgcolor\": \"#E5ECF6\", \"radialaxis\": {\"gridcolor\": \"white\", \"linecolor\": \"white\", \"ticks\": \"\"}}, \"scene\": {\"xaxis\": {\"backgroundcolor\": \"#E5ECF6\", \"gridcolor\": \"white\", \"gridwidth\": 2, \"linecolor\": \"white\", \"showbackground\": true, \"ticks\": \"\", \"zerolinecolor\": \"white\"}, \"yaxis\": {\"backgroundcolor\": \"#E5ECF6\", \"gridcolor\": \"white\", \"gridwidth\": 2, \"linecolor\": \"white\", \"showbackground\": true, \"ticks\": \"\", \"zerolinecolor\": \"white\"}, \"zaxis\": {\"backgroundcolor\": \"#E5ECF6\", \"gridcolor\": \"white\", \"gridwidth\": 2, \"linecolor\": \"white\", \"showbackground\": true, \"ticks\": \"\", \"zerolinecolor\": \"white\"}}, \"shapedefaults\": {\"line\": {\"color\": \"#2a3f5f\"}}, \"ternary\": {\"aaxis\": {\"gridcolor\": \"white\", \"linecolor\": \"white\", \"ticks\": \"\"}, \"baxis\": {\"gridcolor\": \"white\", \"linecolor\": \"white\", \"ticks\": \"\"}, \"bgcolor\": \"#E5ECF6\", \"caxis\": {\"gridcolor\": \"white\", \"linecolor\": \"white\", \"ticks\": \"\"}}, \"title\": {\"x\": 0.05}, \"xaxis\": {\"automargin\": true, \"gridcolor\": \"white\", \"linecolor\": \"white\", \"ticks\": \"\", \"title\": {\"standoff\": 15}, \"zerolinecolor\": \"white\", \"zerolinewidth\": 2}, \"yaxis\": {\"automargin\": true, \"gridcolor\": \"white\", \"linecolor\": \"white\", \"ticks\": \"\", \"title\": {\"standoff\": 15}, \"zerolinecolor\": \"white\", \"zerolinewidth\": 2}}}, \"title\": {\"text\": \"Network 2-d visualization\"}, \"xaxis\": {\"showgrid\": false, \"showticklabels\": false, \"zeroline\": false}, \"yaxis\": {\"showgrid\": false, \"showticklabels\": false, \"zeroline\": false}},                        {\"responsive\": true}                    ).then(function(){\n",
       "                            \n",
       "var gd = document.getElementById('49712ae7-dbcf-45cc-a7e5-da619f72a5ac');\n",
       "var x = new MutationObserver(function (mutations, observer) {{\n",
       "        var display = window.getComputedStyle(gd).display;\n",
       "        if (!display || display === 'none') {{\n",
       "            console.log([gd, 'removed!']);\n",
       "            Plotly.purge(gd);\n",
       "            observer.disconnect();\n",
       "        }}\n",
       "}});\n",
       "\n",
       "// Listen for the removal of the full notebook cells\n",
       "var notebookContainer = gd.closest('#notebook-container');\n",
       "if (notebookContainer) {{\n",
       "    x.observe(notebookContainer, {childList: true});\n",
       "}}\n",
       "\n",
       "// Listen for the clearing of the current output cell\n",
       "var outputEl = gd.closest('.output');\n",
       "if (outputEl) {{\n",
       "    x.observe(outputEl, {childList: true});\n",
       "}}\n",
       "\n",
       "                        })                };                });            </script>        </div>"
      ]
     },
     "metadata": {},
     "output_type": "display_data"
    }
   ],
   "source": [
    "#data = [edge_trace, trace_nodes]\n",
    "fig = go.Figure(layout=layout)\n",
    "\n",
    "for trace in edge_trace:\n",
    "    fig.add_trace(trace)\n",
    "\n",
    "fig.add_trace(trace_nodes)\n",
    "\n",
    "fig.show()\n",
    "fig.write_html('2d_visualization.html')"
   ]
  },
  {
   "cell_type": "markdown",
   "id": "44373adc",
   "metadata": {},
   "source": [
    "### Now try for the 3-d visualization"
   ]
  },
  {
   "cell_type": "code",
   "execution_count": 298,
   "id": "4b7e279b",
   "metadata": {
    "ExecuteTime": {
     "end_time": "2021-05-05T09:00:20.465116Z",
     "start_time": "2021-05-05T09:00:20.450994Z"
    }
   },
   "outputs": [],
   "source": [
    "pos3d = nx.spring_layout(Gr_dir,dim=3, seed=2021, weight='weights')"
   ]
  },
  {
   "cell_type": "code",
   "execution_count": 291,
   "id": "b4b3730f",
   "metadata": {
    "ExecuteTime": {
     "end_time": "2021-05-05T08:57:41.730202Z",
     "start_time": "2021-05-05T08:57:41.689657Z"
    }
   },
   "outputs": [],
   "source": [
    "pos3d = nx.kamada_kawai_layout(Gr_dir,dim=3, weight= 'weights')"
   ]
  },
  {
   "cell_type": "code",
   "execution_count": 299,
   "id": "7dae1cc4",
   "metadata": {
    "ExecuteTime": {
     "end_time": "2021-05-05T09:00:29.844323Z",
     "start_time": "2021-05-05T09:00:29.825672Z"
    }
   },
   "outputs": [],
   "source": [
    "def make_edge3d(edge, pos):\n",
    "    '''\n",
    "    edge: a tuple that contains the beginning and the ending of the edge of the graph \n",
    "    pos: a dictionary with key the node_id and value the array of 3-d positions of the node\n",
    "    '''\n",
    "    x0, y0, z0 = pos[edge[0]]\n",
    "    x1, y1, z1 = pos[edge[1]]\n",
    "    weight= Gr_dir[edge[0]][edge[1]]['weights']\n",
    "    \n",
    "    return  go.Scatter3d(x    = [x0, x1, None],\n",
    "                         y    = [y0, y1, None],\n",
    "                         z    = [z0, z1, None], \n",
    "                         line = dict(width = weight,\n",
    "                                   color = 'cornflowerblue'),\n",
    "                         mode      = 'lines',\n",
    "                         text=str(weight),\n",
    "                         hoverinfo='text')\n",
    "                       #hover= str(weight) "
   ]
  },
  {
   "cell_type": "code",
   "execution_count": 300,
   "id": "d50f1844",
   "metadata": {
    "ExecuteTime": {
     "end_time": "2021-05-05T09:00:31.708448Z",
     "start_time": "2021-05-05T09:00:31.692693Z"
    }
   },
   "outputs": [],
   "source": [
    "edge_trace3d = []\n",
    "for edge in Gr_dir.edges():\n",
    "    trace  = make_edge3d(edge, pos3d)\n",
    "    edge_trace3d.append(trace)"
   ]
  },
  {
   "cell_type": "code",
   "execution_count": 301,
   "id": "66fc166d",
   "metadata": {
    "ExecuteTime": {
     "end_time": "2021-05-05T09:00:34.165039Z",
     "start_time": "2021-05-05T09:00:34.147210Z"
    }
   },
   "outputs": [],
   "source": [
    "x_node = [pos3d[i][0] for i in list(pos3d.keys())]# x-coordinates of nodes\n",
    "y_node = [pos3d[i][1] for i in list(pos3d.keys())]# y-coordinates of nodes\n",
    "z_node = [pos3d[i][2] for i in list(pos3d.keys())]# z-coordinates of nodes"
   ]
  },
  {
   "cell_type": "code",
   "execution_count": 302,
   "id": "21bdc85b",
   "metadata": {
    "ExecuteTime": {
     "end_time": "2021-05-05T09:00:38.197313Z",
     "start_time": "2021-05-05T09:00:38.173723Z"
    }
   },
   "outputs": [],
   "source": [
    "trace_nodes3d = go.Scatter3d(x=x_node,\n",
    "                         y=y_node,\n",
    "                         z=z_node,\n",
    "                        mode='markers',\n",
    "                        marker=dict(symbol='circle',\n",
    "                                    size=40,\n",
    "                                    color=colors), #color the nodes according to their community\n",
    "                                    #colorscale=['lightgreen','magenta'], #either green or mageneta\n",
    "                                    #line=dict(color='cornflowerblue', width=0.5)),\n",
    "                        text=labels,\n",
    "                        hoverinfo='text')"
   ]
  },
  {
   "cell_type": "code",
   "execution_count": 303,
   "id": "c33dabef",
   "metadata": {
    "ExecuteTime": {
     "end_time": "2021-05-05T09:00:42.340577Z",
     "start_time": "2021-05-05T09:00:42.324978Z"
    }
   },
   "outputs": [],
   "source": [
    "axis = dict(showbackground=False,\n",
    "            showline=False,\n",
    "            zeroline=False,\n",
    "            showgrid=False,\n",
    "            showticklabels=False,\n",
    "            title='')\n",
    "#also need to create the layout for our plot\n",
    "layout = go.Layout(title=\"The network 3-d visualization\",\n",
    "                width=1000,\n",
    "                height=950,\n",
    "                showlegend=False,\n",
    "                scene=dict(xaxis=dict(axis),\n",
    "                        yaxis=dict(axis),\n",
    "                        zaxis=dict(axis)),\n",
    "                margin=dict(t=100),\n",
    "                hovermode='closest')"
   ]
  },
  {
   "cell_type": "code",
   "execution_count": 304,
   "id": "8aaae494",
   "metadata": {
    "ExecuteTime": {
     "end_time": "2021-05-05T09:00:44.231549Z",
     "start_time": "2021-05-05T09:00:44.159465Z"
    }
   },
   "outputs": [
    {
     "data": {
      "application/vnd.plotly.v1+json": {
       "config": {
        "plotlyServerURL": "https://plot.ly"
       },
       "data": [
        {
         "hoverinfo": "text",
         "line": {
          "color": "cornflowerblue",
          "width": 13
         },
         "mode": "lines",
         "text": "13",
         "type": "scatter3d",
         "x": [
          -0.05208473689230024,
          -0.3347443807211032,
          null
         ],
         "y": [
          0.06415038477218633,
          0.8472675665656535,
          null
         ],
         "z": [
          -0.018364822218821884,
          -0.802303632758542,
          null
         ]
        },
        {
         "hoverinfo": "text",
         "line": {
          "color": "cornflowerblue",
          "width": 10
         },
         "mode": "lines",
         "text": "10",
         "type": "scatter3d",
         "x": [
          -0.05208473689230024,
          -0.07219333385111582,
          null
         ],
         "y": [
          0.06415038477218633,
          0.14461751208915113,
          null
         ],
         "z": [
          -0.018364822218821884,
          -0.0015279924625625386,
          null
         ]
        },
        {
         "hoverinfo": "text",
         "line": {
          "color": "cornflowerblue",
          "width": 8
         },
         "mode": "lines",
         "text": "8",
         "type": "scatter3d",
         "x": [
          -0.05208473689230024,
          0.06589704334600545,
          null
         ],
         "y": [
          0.06415038477218633,
          0.19349176508688132,
          null
         ],
         "z": [
          -0.018364822218821884,
          1,
          null
         ]
        },
        {
         "hoverinfo": "text",
         "line": {
          "color": "cornflowerblue",
          "width": 7
         },
         "mode": "lines",
         "text": "7",
         "type": "scatter3d",
         "x": [
          -0.05208473689230024,
          -0.027403696427232185,
          null
         ],
         "y": [
          0.06415038477218633,
          -0.9391029581247218,
          null
         ],
         "z": [
          -0.018364822218821884,
          -0.27914498092386686,
          null
         ]
        },
        {
         "hoverinfo": "text",
         "line": {
          "color": "cornflowerblue",
          "width": 7
         },
         "mode": "lines",
         "text": "7",
         "type": "scatter3d",
         "x": [
          -0.05208473689230024,
          -0.7836873632135654,
          null
         ],
         "y": [
          0.06415038477218633,
          0.004796925753312725,
          null
         ],
         "z": [
          -0.018364822218821884,
          -0.8308823930914654,
          null
         ]
        },
        {
         "hoverinfo": "text",
         "line": {
          "color": "cornflowerblue",
          "width": 7
         },
         "mode": "lines",
         "text": "7",
         "type": "scatter3d",
         "x": [
          -0.05208473689230024,
          0.7977776268452517,
          null
         ],
         "y": [
          0.06415038477218633,
          -0.40459553210505106,
          null
         ],
         "z": [
          -0.018364822218821884,
          0.13327592092937007,
          null
         ]
        },
        {
         "hoverinfo": "text",
         "line": {
          "color": "cornflowerblue",
          "width": 6
         },
         "mode": "lines",
         "text": "6",
         "type": "scatter3d",
         "x": [
          -0.05208473689230024,
          -0.043021386647208476,
          null
         ],
         "y": [
          0.06415038477218633,
          0.08328120181406078,
          null
         ],
         "z": [
          -0.018364822218821884,
          0.05338260464429489,
          null
         ]
        },
        {
         "hoverinfo": "text",
         "line": {
          "color": "cornflowerblue",
          "width": 6
         },
         "mode": "lines",
         "text": "6",
         "type": "scatter3d",
         "x": [
          -0.05208473689230024,
          0.4876037480380568,
          null
         ],
         "y": [
          0.06415038477218633,
          0.9526672777839326,
          null
         ],
         "z": [
          -0.018364822218821884,
          0.01997120691804266,
          null
         ]
        },
        {
         "hoverinfo": "text",
         "line": {
          "color": "cornflowerblue",
          "width": 6
         },
         "mode": "lines",
         "text": "6",
         "type": "scatter3d",
         "x": [
          -0.05208473689230024,
          0.10742851961597742,
          null
         ],
         "y": [
          0.06415038477218633,
          -0.7372512823654566,
          null
         ],
         "z": [
          -0.018364822218821884,
          0.6536087260010816,
          null
         ]
        },
        {
         "hoverinfo": "text",
         "line": {
          "color": "cornflowerblue",
          "width": 6
         },
         "mode": "lines",
         "text": "6",
         "type": "scatter3d",
         "x": [
          -0.05208473689230024,
          -0.4978793778330567,
          null
         ],
         "y": [
          0.06415038477218633,
          -0.639350322953166,
          null
         ],
         "z": [
          -0.018364822218821884,
          -0.7786703083280925,
          null
         ]
        },
        {
         "hoverinfo": "text",
         "line": {
          "color": "cornflowerblue",
          "width": 6
         },
         "mode": "lines",
         "text": "6",
         "type": "scatter3d",
         "x": [
          -0.05208473689230024,
          -0.5412377781968783,
          null
         ],
         "y": [
          0.06415038477218633,
          0.22634892012878013,
          null
         ],
         "z": [
          -0.018364822218821884,
          0.8151253602899718,
          null
         ]
        },
        {
         "hoverinfo": "text",
         "line": {
          "color": "cornflowerblue",
          "width": 5
         },
         "mode": "lines",
         "text": "5",
         "type": "scatter3d",
         "x": [
          -0.05208473689230024,
          -0.03310283775649442,
          null
         ],
         "y": [
          0.06415038477218633,
          0.009322789758658313,
          null
         ],
         "z": [
          -0.018364822218821884,
          0.026972759149500924,
          null
         ]
        },
        {
         "hoverinfo": "text",
         "line": {
          "color": "cornflowerblue",
          "width": 5
         },
         "mode": "lines",
         "text": "5",
         "type": "scatter3d",
         "x": [
          -0.05208473689230024,
          -0.009312938078821586,
          null
         ],
         "y": [
          0.06415038477218633,
          0.12702759914766895,
          null
         ],
         "z": [
          -0.018364822218821884,
          -0.01149772600237422,
          null
         ]
        },
        {
         "hoverinfo": "text",
         "line": {
          "color": "cornflowerblue",
          "width": 5
         },
         "mode": "lines",
         "text": "5",
         "type": "scatter3d",
         "x": [
          -0.05208473689230024,
          0.6413793757844527,
          null
         ],
         "y": [
          0.06415038477218633,
          -0.2525446012817158,
          null
         ],
         "z": [
          -0.018364822218821884,
          0.703116470793784,
          null
         ]
        },
        {
         "hoverinfo": "text",
         "line": {
          "color": "cornflowerblue",
          "width": 5
         },
         "mode": "lines",
         "text": "5",
         "type": "scatter3d",
         "x": [
          -0.05208473689230024,
          0.8846479959757038,
          null
         ],
         "y": [
          0.06415038477218633,
          0.4001614337339443,
          null
         ],
         "z": [
          -0.018364822218821884,
          0.3811748413750089,
          null
         ]
        },
        {
         "hoverinfo": "text",
         "line": {
          "color": "cornflowerblue",
          "width": 5
         },
         "mode": "lines",
         "text": "5",
         "type": "scatter3d",
         "x": [
          -0.05208473689230024,
          -0.9654020859717763,
          null
         ],
         "y": [
          0.06415038477218633,
          0.3516003016814693,
          null
         ],
         "z": [
          -0.018364822218821884,
          -0.00993978220744847,
          null
         ]
        },
        {
         "hoverinfo": "text",
         "line": {
          "color": "cornflowerblue",
          "width": 5
         },
         "mode": "lines",
         "text": "5",
         "type": "scatter3d",
         "x": [
          -0.07219333385111582,
          -0.05208473689230024,
          null
         ],
         "y": [
          0.14461751208915113,
          0.06415038477218633,
          null
         ],
         "z": [
          -0.0015279924625625386,
          -0.018364822218821884,
          null
         ]
        },
        {
         "hoverinfo": "text",
         "line": {
          "color": "cornflowerblue",
          "width": 9
         },
         "mode": "lines",
         "text": "9",
         "type": "scatter3d",
         "x": [
          -0.058568428200424724,
          -0.05208473689230024,
          null
         ],
         "y": [
          0.03353932342357266,
          0.06415038477218633,
          null
         ],
         "z": [
          -0.06816139317432363,
          -0.018364822218821884,
          null
         ]
        },
        {
         "hoverinfo": "text",
         "line": {
          "color": "cornflowerblue",
          "width": 8
         },
         "mode": "lines",
         "text": "8",
         "type": "scatter3d",
         "x": [
          0.0015476253341445063,
          -0.05208473689230024,
          null
         ],
         "y": [
          0.07672447105655177,
          0.06415038477218633,
          null
         ],
         "z": [
          -0.05150325678192387,
          -0.018364822218821884,
          null
         ]
        },
        {
         "hoverinfo": "text",
         "line": {
          "color": "cornflowerblue",
          "width": 7
         },
         "mode": "lines",
         "text": "7",
         "type": "scatter3d",
         "x": [
          -0.049707163205370206,
          -0.05208473689230024,
          null
         ],
         "y": [
          0.11328444880520548,
          0.06415038477218633,
          null
         ],
         "z": [
          -0.06912709786732973,
          -0.018364822218821884,
          null
         ]
        },
        {
         "hoverinfo": "text",
         "line": {
          "color": "cornflowerblue",
          "width": 6
         },
         "mode": "lines",
         "text": "6",
         "type": "scatter3d",
         "x": [
          -0.043021386647208476,
          -0.05208473689230024,
          null
         ],
         "y": [
          0.08328120181406078,
          0.06415038477218633,
          null
         ],
         "z": [
          0.05338260464429489,
          -0.018364822218821884,
          null
         ]
        },
        {
         "hoverinfo": "text",
         "line": {
          "color": "cornflowerblue",
          "width": 6
         },
         "mode": "lines",
         "text": "6",
         "type": "scatter3d",
         "x": [
          -0.10055607256713323,
          -0.05208473689230024,
          null
         ],
         "y": [
          0.030752779933492225,
          0.06415038477218633,
          null
         ],
         "z": [
          0.028191049135305707,
          -0.018364822218821884,
          null
         ]
        },
        {
         "hoverinfo": "text",
         "line": {
          "color": "cornflowerblue",
          "width": 6
         },
         "mode": "lines",
         "text": "6",
         "type": "scatter3d",
         "x": [
          -0.009312938078821586,
          -0.05208473689230024,
          null
         ],
         "y": [
          0.12702759914766895,
          0.06415038477218633,
          null
         ],
         "z": [
          -0.01149772600237422,
          -0.018364822218821884,
          null
         ]
        },
        {
         "hoverinfo": "text",
         "line": {
          "color": "cornflowerblue",
          "width": 6
         },
         "mode": "lines",
         "text": "6",
         "type": "scatter3d",
         "x": [
          -0.0022393222121826154,
          -0.05208473689230024,
          null
         ],
         "y": [
          0.014456403154050257,
          0.06415038477218633,
          null
         ],
         "z": [
          -0.04752102425569342,
          -0.018364822218821884,
          null
         ]
        },
        {
         "hoverinfo": "text",
         "line": {
          "color": "cornflowerblue",
          "width": 6
         },
         "mode": "lines",
         "text": "6",
         "type": "scatter3d",
         "x": [
          -0.03310283775649442,
          -0.05208473689230024,
          null
         ],
         "y": [
          0.009322789758658313,
          0.06415038477218633,
          null
         ],
         "z": [
          0.026972759149500924,
          -0.018364822218821884,
          null
         ]
        },
        {
         "hoverinfo": "text",
         "line": {
          "color": "cornflowerblue",
          "width": 6
         },
         "mode": "lines",
         "text": "6",
         "type": "scatter3d",
         "x": [
          -0.0936171235573822,
          -0.05208473689230024,
          null
         ],
         "y": [
          0.07833091841923291,
          0.06415038477218633,
          null
         ],
         "z": [
          -0.0847651433420181,
          -0.018364822218821884,
          null
         ]
        },
        {
         "hoverinfo": "text",
         "line": {
          "color": "cornflowerblue",
          "width": 6
         },
         "mode": "lines",
         "text": "6",
         "type": "scatter3d",
         "x": [
          -0.12665245662338606,
          -0.05208473689230024,
          null
         ],
         "y": [
          0.06604655271490605,
          0.06415038477218633,
          null
         ],
         "z": [
          -0.0344921676950288,
          -0.018364822218821884,
          null
         ]
        },
        {
         "hoverinfo": "text",
         "line": {
          "color": "cornflowerblue",
          "width": 5
         },
         "mode": "lines",
         "text": "5",
         "type": "scatter3d",
         "x": [
          -0.11230109952023846,
          -0.05208473689230024,
          null
         ],
         "y": [
          0.09921210300750762,
          0.06415038477218633,
          null
         ],
         "z": [
          0.027414308654081714,
          -0.018364822218821884,
          null
         ]
        },
        {
         "hoverinfo": "text",
         "line": {
          "color": "cornflowerblue",
          "width": 5
         },
         "mode": "lines",
         "text": "5",
         "type": "scatter3d",
         "x": [
          0.3089703058558743,
          -0.05208473689230024,
          null
         ],
         "y": [
          -0.31002901756328805,
          0.06415038477218633,
          null
         ],
         "z": [
          -0.2555392478383514,
          -0.018364822218821884,
          null
         ]
        },
        {
         "hoverinfo": "text",
         "line": {
          "color": "cornflowerblue",
          "width": 5
         },
         "mode": "lines",
         "text": "5",
         "type": "scatter3d",
         "x": [
          0.3089703058558743,
          0.6683031979539543,
          null
         ],
         "y": [
          -0.31002901756328805,
          -0.6834359975393351,
          null
         ],
         "z": [
          -0.2555392478383514,
          -0.4932606893828914,
          null
         ]
        },
        {
         "hoverinfo": "text",
         "line": {
          "color": "cornflowerblue",
          "width": 5
         },
         "mode": "lines",
         "text": "5",
         "type": "scatter3d",
         "x": [
          -0.08191753670198215,
          -0.05208473689230024,
          null
         ],
         "y": [
          -0.012211821079172687,
          0.06415038477218633,
          null
         ],
         "z": [
          -0.02659837971865022,
          -0.018364822218821884,
          null
         ]
        },
        {
         "hoverinfo": "text",
         "line": {
          "color": "cornflowerblue",
          "width": 5
         },
         "mode": "lines",
         "text": "5",
         "type": "scatter3d",
         "x": [
          0.022073679428230814,
          -0.05208473689230024,
          null
         ],
         "y": [
          0.06144085418168825,
          0.06415038477218633,
          null
         ],
         "z": [
          0.02106679015894224,
          -0.018364822218821884,
          null
         ]
        },
        {
         "hoverinfo": "text",
         "marker": {
          "color": [
           "#ED8B00",
           "#ED8B00",
           "#ED8B00",
           "#00965E",
           "#ED8B00",
           "#A05EB5",
           "#B1B3B3",
           "#E40046",
           "#00965E",
           "#A05EB5",
           "#00965E",
           "#E40046",
           "#0066CC",
           "#0066CC",
           "#B1B3B3",
           "#B1B3B3",
           "#A05EB5",
           "#0066CC",
           "#A05EB5",
           "#A05EB5",
           "#00965E",
           "#B1B3B3",
           "#E40046",
           "#E40046",
           "#00965E",
           "#0066CC",
           "#ED8B00",
           "#0066CC",
           "#E40046"
          ],
          "size": 40,
          "symbol": "circle"
         },
         "mode": "markers",
         "text": [
          "Anthony",
          "Matthew",
          "Christopher",
          "Linda",
          "Daniel",
          "Richard",
          "Margaret",
          "Jessica",
          "Patricia",
          "David",
          "Jennifer",
          "Susan",
          "Michael",
          "William",
          "Sandra",
          "Betty",
          "Thomas",
          "John",
          "Charles",
          "Joseph",
          "Mary",
          "Lisa",
          "Karen",
          "Sarah",
          "Elizabeth",
          "Robert",
          "Nancy",
          "James",
          "Barbara"
         ],
         "type": "scatter3d",
         "x": [
          -0.05208473689230024,
          -0.3347443807211032,
          -0.07219333385111582,
          -0.058568428200424724,
          0.0015476253341445063,
          0.06589704334600545,
          -0.027403696427232185,
          -0.7836873632135654,
          0.7977776268452517,
          -0.049707163205370206,
          -0.043021386647208476,
          -0.10055607256713323,
          -0.009312938078821586,
          -0.0022393222121826154,
          -0.03310283775649442,
          0.4876037480380568,
          0.10742851961597742,
          -0.4978793778330567,
          -0.0936171235573822,
          -0.5412377781968783,
          -0.12665245662338606,
          0.6413793757844527,
          -0.11230109952023846,
          0.3089703058558743,
          0.6683031979539543,
          0.8846479959757038,
          -0.08191753670198215,
          -0.9654020859717763,
          0.022073679428230814
         ],
         "y": [
          0.06415038477218633,
          0.8472675665656535,
          0.14461751208915113,
          0.03353932342357266,
          0.07672447105655177,
          0.19349176508688132,
          -0.9391029581247218,
          0.004796925753312725,
          -0.40459553210505106,
          0.11328444880520548,
          0.08328120181406078,
          0.030752779933492225,
          0.12702759914766895,
          0.014456403154050257,
          0.009322789758658313,
          0.9526672777839326,
          -0.7372512823654566,
          -0.639350322953166,
          0.07833091841923291,
          0.22634892012878013,
          0.06604655271490605,
          -0.2525446012817158,
          0.09921210300750762,
          -0.31002901756328805,
          -0.6834359975393351,
          0.4001614337339443,
          -0.012211821079172687,
          0.3516003016814693,
          0.06144085418168825
         ],
         "z": [
          -0.018364822218821884,
          -0.802303632758542,
          -0.0015279924625625386,
          -0.06816139317432363,
          -0.05150325678192387,
          1,
          -0.27914498092386686,
          -0.8308823930914654,
          0.13327592092937007,
          -0.06912709786732973,
          0.05338260464429489,
          0.028191049135305707,
          -0.01149772600237422,
          -0.04752102425569342,
          0.026972759149500924,
          0.01997120691804266,
          0.6536087260010816,
          -0.7786703083280925,
          -0.0847651433420181,
          0.8151253602899718,
          -0.0344921676950288,
          0.703116470793784,
          0.027414308654081714,
          -0.2555392478383514,
          -0.4932606893828914,
          0.3811748413750089,
          -0.02659837971865022,
          -0.00993978220744847,
          0.02106679015894224
         ]
        }
       ],
       "layout": {
        "height": 950,
        "hovermode": "closest",
        "margin": {
         "t": 100
        },
        "scene": {
         "xaxis": {
          "showbackground": false,
          "showgrid": false,
          "showline": false,
          "showticklabels": false,
          "title": {
           "text": ""
          },
          "zeroline": false
         },
         "yaxis": {
          "showbackground": false,
          "showgrid": false,
          "showline": false,
          "showticklabels": false,
          "title": {
           "text": ""
          },
          "zeroline": false
         },
         "zaxis": {
          "showbackground": false,
          "showgrid": false,
          "showline": false,
          "showticklabels": false,
          "title": {
           "text": ""
          },
          "zeroline": false
         }
        },
        "showlegend": false,
        "template": {
         "data": {
          "bar": [
           {
            "error_x": {
             "color": "#2a3f5f"
            },
            "error_y": {
             "color": "#2a3f5f"
            },
            "marker": {
             "line": {
              "color": "#E5ECF6",
              "width": 0.5
             }
            },
            "type": "bar"
           }
          ],
          "barpolar": [
           {
            "marker": {
             "line": {
              "color": "#E5ECF6",
              "width": 0.5
             }
            },
            "type": "barpolar"
           }
          ],
          "carpet": [
           {
            "aaxis": {
             "endlinecolor": "#2a3f5f",
             "gridcolor": "white",
             "linecolor": "white",
             "minorgridcolor": "white",
             "startlinecolor": "#2a3f5f"
            },
            "baxis": {
             "endlinecolor": "#2a3f5f",
             "gridcolor": "white",
             "linecolor": "white",
             "minorgridcolor": "white",
             "startlinecolor": "#2a3f5f"
            },
            "type": "carpet"
           }
          ],
          "choropleth": [
           {
            "colorbar": {
             "outlinewidth": 0,
             "ticks": ""
            },
            "type": "choropleth"
           }
          ],
          "contour": [
           {
            "colorbar": {
             "outlinewidth": 0,
             "ticks": ""
            },
            "colorscale": [
             [
              0,
              "#0d0887"
             ],
             [
              0.1111111111111111,
              "#46039f"
             ],
             [
              0.2222222222222222,
              "#7201a8"
             ],
             [
              0.3333333333333333,
              "#9c179e"
             ],
             [
              0.4444444444444444,
              "#bd3786"
             ],
             [
              0.5555555555555556,
              "#d8576b"
             ],
             [
              0.6666666666666666,
              "#ed7953"
             ],
             [
              0.7777777777777778,
              "#fb9f3a"
             ],
             [
              0.8888888888888888,
              "#fdca26"
             ],
             [
              1,
              "#f0f921"
             ]
            ],
            "type": "contour"
           }
          ],
          "contourcarpet": [
           {
            "colorbar": {
             "outlinewidth": 0,
             "ticks": ""
            },
            "type": "contourcarpet"
           }
          ],
          "heatmap": [
           {
            "colorbar": {
             "outlinewidth": 0,
             "ticks": ""
            },
            "colorscale": [
             [
              0,
              "#0d0887"
             ],
             [
              0.1111111111111111,
              "#46039f"
             ],
             [
              0.2222222222222222,
              "#7201a8"
             ],
             [
              0.3333333333333333,
              "#9c179e"
             ],
             [
              0.4444444444444444,
              "#bd3786"
             ],
             [
              0.5555555555555556,
              "#d8576b"
             ],
             [
              0.6666666666666666,
              "#ed7953"
             ],
             [
              0.7777777777777778,
              "#fb9f3a"
             ],
             [
              0.8888888888888888,
              "#fdca26"
             ],
             [
              1,
              "#f0f921"
             ]
            ],
            "type": "heatmap"
           }
          ],
          "heatmapgl": [
           {
            "colorbar": {
             "outlinewidth": 0,
             "ticks": ""
            },
            "colorscale": [
             [
              0,
              "#0d0887"
             ],
             [
              0.1111111111111111,
              "#46039f"
             ],
             [
              0.2222222222222222,
              "#7201a8"
             ],
             [
              0.3333333333333333,
              "#9c179e"
             ],
             [
              0.4444444444444444,
              "#bd3786"
             ],
             [
              0.5555555555555556,
              "#d8576b"
             ],
             [
              0.6666666666666666,
              "#ed7953"
             ],
             [
              0.7777777777777778,
              "#fb9f3a"
             ],
             [
              0.8888888888888888,
              "#fdca26"
             ],
             [
              1,
              "#f0f921"
             ]
            ],
            "type": "heatmapgl"
           }
          ],
          "histogram": [
           {
            "marker": {
             "colorbar": {
              "outlinewidth": 0,
              "ticks": ""
             }
            },
            "type": "histogram"
           }
          ],
          "histogram2d": [
           {
            "colorbar": {
             "outlinewidth": 0,
             "ticks": ""
            },
            "colorscale": [
             [
              0,
              "#0d0887"
             ],
             [
              0.1111111111111111,
              "#46039f"
             ],
             [
              0.2222222222222222,
              "#7201a8"
             ],
             [
              0.3333333333333333,
              "#9c179e"
             ],
             [
              0.4444444444444444,
              "#bd3786"
             ],
             [
              0.5555555555555556,
              "#d8576b"
             ],
             [
              0.6666666666666666,
              "#ed7953"
             ],
             [
              0.7777777777777778,
              "#fb9f3a"
             ],
             [
              0.8888888888888888,
              "#fdca26"
             ],
             [
              1,
              "#f0f921"
             ]
            ],
            "type": "histogram2d"
           }
          ],
          "histogram2dcontour": [
           {
            "colorbar": {
             "outlinewidth": 0,
             "ticks": ""
            },
            "colorscale": [
             [
              0,
              "#0d0887"
             ],
             [
              0.1111111111111111,
              "#46039f"
             ],
             [
              0.2222222222222222,
              "#7201a8"
             ],
             [
              0.3333333333333333,
              "#9c179e"
             ],
             [
              0.4444444444444444,
              "#bd3786"
             ],
             [
              0.5555555555555556,
              "#d8576b"
             ],
             [
              0.6666666666666666,
              "#ed7953"
             ],
             [
              0.7777777777777778,
              "#fb9f3a"
             ],
             [
              0.8888888888888888,
              "#fdca26"
             ],
             [
              1,
              "#f0f921"
             ]
            ],
            "type": "histogram2dcontour"
           }
          ],
          "mesh3d": [
           {
            "colorbar": {
             "outlinewidth": 0,
             "ticks": ""
            },
            "type": "mesh3d"
           }
          ],
          "parcoords": [
           {
            "line": {
             "colorbar": {
              "outlinewidth": 0,
              "ticks": ""
             }
            },
            "type": "parcoords"
           }
          ],
          "pie": [
           {
            "automargin": true,
            "type": "pie"
           }
          ],
          "scatter": [
           {
            "marker": {
             "colorbar": {
              "outlinewidth": 0,
              "ticks": ""
             }
            },
            "type": "scatter"
           }
          ],
          "scatter3d": [
           {
            "line": {
             "colorbar": {
              "outlinewidth": 0,
              "ticks": ""
             }
            },
            "marker": {
             "colorbar": {
              "outlinewidth": 0,
              "ticks": ""
             }
            },
            "type": "scatter3d"
           }
          ],
          "scattercarpet": [
           {
            "marker": {
             "colorbar": {
              "outlinewidth": 0,
              "ticks": ""
             }
            },
            "type": "scattercarpet"
           }
          ],
          "scattergeo": [
           {
            "marker": {
             "colorbar": {
              "outlinewidth": 0,
              "ticks": ""
             }
            },
            "type": "scattergeo"
           }
          ],
          "scattergl": [
           {
            "marker": {
             "colorbar": {
              "outlinewidth": 0,
              "ticks": ""
             }
            },
            "type": "scattergl"
           }
          ],
          "scattermapbox": [
           {
            "marker": {
             "colorbar": {
              "outlinewidth": 0,
              "ticks": ""
             }
            },
            "type": "scattermapbox"
           }
          ],
          "scatterpolar": [
           {
            "marker": {
             "colorbar": {
              "outlinewidth": 0,
              "ticks": ""
             }
            },
            "type": "scatterpolar"
           }
          ],
          "scatterpolargl": [
           {
            "marker": {
             "colorbar": {
              "outlinewidth": 0,
              "ticks": ""
             }
            },
            "type": "scatterpolargl"
           }
          ],
          "scatterternary": [
           {
            "marker": {
             "colorbar": {
              "outlinewidth": 0,
              "ticks": ""
             }
            },
            "type": "scatterternary"
           }
          ],
          "surface": [
           {
            "colorbar": {
             "outlinewidth": 0,
             "ticks": ""
            },
            "colorscale": [
             [
              0,
              "#0d0887"
             ],
             [
              0.1111111111111111,
              "#46039f"
             ],
             [
              0.2222222222222222,
              "#7201a8"
             ],
             [
              0.3333333333333333,
              "#9c179e"
             ],
             [
              0.4444444444444444,
              "#bd3786"
             ],
             [
              0.5555555555555556,
              "#d8576b"
             ],
             [
              0.6666666666666666,
              "#ed7953"
             ],
             [
              0.7777777777777778,
              "#fb9f3a"
             ],
             [
              0.8888888888888888,
              "#fdca26"
             ],
             [
              1,
              "#f0f921"
             ]
            ],
            "type": "surface"
           }
          ],
          "table": [
           {
            "cells": {
             "fill": {
              "color": "#EBF0F8"
             },
             "line": {
              "color": "white"
             }
            },
            "header": {
             "fill": {
              "color": "#C8D4E3"
             },
             "line": {
              "color": "white"
             }
            },
            "type": "table"
           }
          ]
         },
         "layout": {
          "annotationdefaults": {
           "arrowcolor": "#2a3f5f",
           "arrowhead": 0,
           "arrowwidth": 1
          },
          "coloraxis": {
           "colorbar": {
            "outlinewidth": 0,
            "ticks": ""
           }
          },
          "colorscale": {
           "diverging": [
            [
             0,
             "#8e0152"
            ],
            [
             0.1,
             "#c51b7d"
            ],
            [
             0.2,
             "#de77ae"
            ],
            [
             0.3,
             "#f1b6da"
            ],
            [
             0.4,
             "#fde0ef"
            ],
            [
             0.5,
             "#f7f7f7"
            ],
            [
             0.6,
             "#e6f5d0"
            ],
            [
             0.7,
             "#b8e186"
            ],
            [
             0.8,
             "#7fbc41"
            ],
            [
             0.9,
             "#4d9221"
            ],
            [
             1,
             "#276419"
            ]
           ],
           "sequential": [
            [
             0,
             "#0d0887"
            ],
            [
             0.1111111111111111,
             "#46039f"
            ],
            [
             0.2222222222222222,
             "#7201a8"
            ],
            [
             0.3333333333333333,
             "#9c179e"
            ],
            [
             0.4444444444444444,
             "#bd3786"
            ],
            [
             0.5555555555555556,
             "#d8576b"
            ],
            [
             0.6666666666666666,
             "#ed7953"
            ],
            [
             0.7777777777777778,
             "#fb9f3a"
            ],
            [
             0.8888888888888888,
             "#fdca26"
            ],
            [
             1,
             "#f0f921"
            ]
           ],
           "sequentialminus": [
            [
             0,
             "#0d0887"
            ],
            [
             0.1111111111111111,
             "#46039f"
            ],
            [
             0.2222222222222222,
             "#7201a8"
            ],
            [
             0.3333333333333333,
             "#9c179e"
            ],
            [
             0.4444444444444444,
             "#bd3786"
            ],
            [
             0.5555555555555556,
             "#d8576b"
            ],
            [
             0.6666666666666666,
             "#ed7953"
            ],
            [
             0.7777777777777778,
             "#fb9f3a"
            ],
            [
             0.8888888888888888,
             "#fdca26"
            ],
            [
             1,
             "#f0f921"
            ]
           ]
          },
          "colorway": [
           "#636efa",
           "#EF553B",
           "#00cc96",
           "#ab63fa",
           "#FFA15A",
           "#19d3f3",
           "#FF6692",
           "#B6E880",
           "#FF97FF",
           "#FECB52"
          ],
          "font": {
           "color": "#2a3f5f"
          },
          "geo": {
           "bgcolor": "white",
           "lakecolor": "white",
           "landcolor": "#E5ECF6",
           "showlakes": true,
           "showland": true,
           "subunitcolor": "white"
          },
          "hoverlabel": {
           "align": "left"
          },
          "hovermode": "closest",
          "mapbox": {
           "style": "light"
          },
          "paper_bgcolor": "white",
          "plot_bgcolor": "#E5ECF6",
          "polar": {
           "angularaxis": {
            "gridcolor": "white",
            "linecolor": "white",
            "ticks": ""
           },
           "bgcolor": "#E5ECF6",
           "radialaxis": {
            "gridcolor": "white",
            "linecolor": "white",
            "ticks": ""
           }
          },
          "scene": {
           "xaxis": {
            "backgroundcolor": "#E5ECF6",
            "gridcolor": "white",
            "gridwidth": 2,
            "linecolor": "white",
            "showbackground": true,
            "ticks": "",
            "zerolinecolor": "white"
           },
           "yaxis": {
            "backgroundcolor": "#E5ECF6",
            "gridcolor": "white",
            "gridwidth": 2,
            "linecolor": "white",
            "showbackground": true,
            "ticks": "",
            "zerolinecolor": "white"
           },
           "zaxis": {
            "backgroundcolor": "#E5ECF6",
            "gridcolor": "white",
            "gridwidth": 2,
            "linecolor": "white",
            "showbackground": true,
            "ticks": "",
            "zerolinecolor": "white"
           }
          },
          "shapedefaults": {
           "line": {
            "color": "#2a3f5f"
           }
          },
          "ternary": {
           "aaxis": {
            "gridcolor": "white",
            "linecolor": "white",
            "ticks": ""
           },
           "baxis": {
            "gridcolor": "white",
            "linecolor": "white",
            "ticks": ""
           },
           "bgcolor": "#E5ECF6",
           "caxis": {
            "gridcolor": "white",
            "linecolor": "white",
            "ticks": ""
           }
          },
          "title": {
           "x": 0.05
          },
          "xaxis": {
           "automargin": true,
           "gridcolor": "white",
           "linecolor": "white",
           "ticks": "",
           "title": {
            "standoff": 15
           },
           "zerolinecolor": "white",
           "zerolinewidth": 2
          },
          "yaxis": {
           "automargin": true,
           "gridcolor": "white",
           "linecolor": "white",
           "ticks": "",
           "title": {
            "standoff": 15
           },
           "zerolinecolor": "white",
           "zerolinewidth": 2
          }
         }
        },
        "title": {
         "text": "The network 3-d visualization"
        },
        "width": 1000
       }
      },
      "text/html": [
       "<div>                            <div id=\"020fbe92-8aa7-4525-9db8-aa9e8fd1a8ed\" class=\"plotly-graph-div\" style=\"height:950px; width:1000px;\"></div>            <script type=\"text/javascript\">                require([\"plotly\"], function(Plotly) {                    window.PLOTLYENV=window.PLOTLYENV || {};                                    if (document.getElementById(\"020fbe92-8aa7-4525-9db8-aa9e8fd1a8ed\")) {                    Plotly.newPlot(                        \"020fbe92-8aa7-4525-9db8-aa9e8fd1a8ed\",                        [{\"hoverinfo\": \"text\", \"line\": {\"color\": \"cornflowerblue\", \"width\": 13}, \"mode\": \"lines\", \"text\": \"13\", \"type\": \"scatter3d\", \"x\": [-0.05208473689230024, -0.3347443807211032, null], \"y\": [0.06415038477218633, 0.8472675665656535, null], \"z\": [-0.018364822218821884, -0.802303632758542, null]}, {\"hoverinfo\": \"text\", \"line\": {\"color\": \"cornflowerblue\", \"width\": 10}, \"mode\": \"lines\", \"text\": \"10\", \"type\": \"scatter3d\", \"x\": [-0.05208473689230024, -0.07219333385111582, null], \"y\": [0.06415038477218633, 0.14461751208915113, null], \"z\": [-0.018364822218821884, -0.0015279924625625386, null]}, {\"hoverinfo\": \"text\", \"line\": {\"color\": \"cornflowerblue\", \"width\": 8}, \"mode\": \"lines\", \"text\": \"8\", \"type\": \"scatter3d\", \"x\": [-0.05208473689230024, 0.06589704334600545, null], \"y\": [0.06415038477218633, 0.19349176508688132, null], \"z\": [-0.018364822218821884, 1.0, null]}, {\"hoverinfo\": \"text\", \"line\": {\"color\": \"cornflowerblue\", \"width\": 7}, \"mode\": \"lines\", \"text\": \"7\", \"type\": \"scatter3d\", \"x\": [-0.05208473689230024, -0.027403696427232185, null], \"y\": [0.06415038477218633, -0.9391029581247218, null], \"z\": [-0.018364822218821884, -0.27914498092386686, null]}, {\"hoverinfo\": \"text\", \"line\": {\"color\": \"cornflowerblue\", \"width\": 7}, \"mode\": \"lines\", \"text\": \"7\", \"type\": \"scatter3d\", \"x\": [-0.05208473689230024, -0.7836873632135654, null], \"y\": [0.06415038477218633, 0.004796925753312725, null], \"z\": [-0.018364822218821884, -0.8308823930914654, null]}, {\"hoverinfo\": \"text\", \"line\": {\"color\": \"cornflowerblue\", \"width\": 7}, \"mode\": \"lines\", \"text\": \"7\", \"type\": \"scatter3d\", \"x\": [-0.05208473689230024, 0.7977776268452517, null], \"y\": [0.06415038477218633, -0.40459553210505106, null], \"z\": [-0.018364822218821884, 0.13327592092937007, null]}, {\"hoverinfo\": \"text\", \"line\": {\"color\": \"cornflowerblue\", \"width\": 6}, \"mode\": \"lines\", \"text\": \"6\", \"type\": \"scatter3d\", \"x\": [-0.05208473689230024, -0.043021386647208476, null], \"y\": [0.06415038477218633, 0.08328120181406078, null], \"z\": [-0.018364822218821884, 0.05338260464429489, null]}, {\"hoverinfo\": \"text\", \"line\": {\"color\": \"cornflowerblue\", \"width\": 6}, \"mode\": \"lines\", \"text\": \"6\", \"type\": \"scatter3d\", \"x\": [-0.05208473689230024, 0.4876037480380568, null], \"y\": [0.06415038477218633, 0.9526672777839326, null], \"z\": [-0.018364822218821884, 0.01997120691804266, null]}, {\"hoverinfo\": \"text\", \"line\": {\"color\": \"cornflowerblue\", \"width\": 6}, \"mode\": \"lines\", \"text\": \"6\", \"type\": \"scatter3d\", \"x\": [-0.05208473689230024, 0.10742851961597742, null], \"y\": [0.06415038477218633, -0.7372512823654566, null], \"z\": [-0.018364822218821884, 0.6536087260010816, null]}, {\"hoverinfo\": \"text\", \"line\": {\"color\": \"cornflowerblue\", \"width\": 6}, \"mode\": \"lines\", \"text\": \"6\", \"type\": \"scatter3d\", \"x\": [-0.05208473689230024, -0.4978793778330567, null], \"y\": [0.06415038477218633, -0.639350322953166, null], \"z\": [-0.018364822218821884, -0.7786703083280925, null]}, {\"hoverinfo\": \"text\", \"line\": {\"color\": \"cornflowerblue\", \"width\": 6}, \"mode\": \"lines\", \"text\": \"6\", \"type\": \"scatter3d\", \"x\": [-0.05208473689230024, -0.5412377781968783, null], \"y\": [0.06415038477218633, 0.22634892012878013, null], \"z\": [-0.018364822218821884, 0.8151253602899718, null]}, {\"hoverinfo\": \"text\", \"line\": {\"color\": \"cornflowerblue\", \"width\": 5}, \"mode\": \"lines\", \"text\": \"5\", \"type\": \"scatter3d\", \"x\": [-0.05208473689230024, -0.03310283775649442, null], \"y\": [0.06415038477218633, 0.009322789758658313, null], \"z\": [-0.018364822218821884, 0.026972759149500924, null]}, {\"hoverinfo\": \"text\", \"line\": {\"color\": \"cornflowerblue\", \"width\": 5}, \"mode\": \"lines\", \"text\": \"5\", \"type\": \"scatter3d\", \"x\": [-0.05208473689230024, -0.009312938078821586, null], \"y\": [0.06415038477218633, 0.12702759914766895, null], \"z\": [-0.018364822218821884, -0.01149772600237422, null]}, {\"hoverinfo\": \"text\", \"line\": {\"color\": \"cornflowerblue\", \"width\": 5}, \"mode\": \"lines\", \"text\": \"5\", \"type\": \"scatter3d\", \"x\": [-0.05208473689230024, 0.6413793757844527, null], \"y\": [0.06415038477218633, -0.2525446012817158, null], \"z\": [-0.018364822218821884, 0.703116470793784, null]}, {\"hoverinfo\": \"text\", \"line\": {\"color\": \"cornflowerblue\", \"width\": 5}, \"mode\": \"lines\", \"text\": \"5\", \"type\": \"scatter3d\", \"x\": [-0.05208473689230024, 0.8846479959757038, null], \"y\": [0.06415038477218633, 0.4001614337339443, null], \"z\": [-0.018364822218821884, 0.3811748413750089, null]}, {\"hoverinfo\": \"text\", \"line\": {\"color\": \"cornflowerblue\", \"width\": 5}, \"mode\": \"lines\", \"text\": \"5\", \"type\": \"scatter3d\", \"x\": [-0.05208473689230024, -0.9654020859717763, null], \"y\": [0.06415038477218633, 0.3516003016814693, null], \"z\": [-0.018364822218821884, -0.00993978220744847, null]}, {\"hoverinfo\": \"text\", \"line\": {\"color\": \"cornflowerblue\", \"width\": 5}, \"mode\": \"lines\", \"text\": \"5\", \"type\": \"scatter3d\", \"x\": [-0.07219333385111582, -0.05208473689230024, null], \"y\": [0.14461751208915113, 0.06415038477218633, null], \"z\": [-0.0015279924625625386, -0.018364822218821884, null]}, {\"hoverinfo\": \"text\", \"line\": {\"color\": \"cornflowerblue\", \"width\": 9}, \"mode\": \"lines\", \"text\": \"9\", \"type\": \"scatter3d\", \"x\": [-0.058568428200424724, -0.05208473689230024, null], \"y\": [0.03353932342357266, 0.06415038477218633, null], \"z\": [-0.06816139317432363, -0.018364822218821884, null]}, {\"hoverinfo\": \"text\", \"line\": {\"color\": \"cornflowerblue\", \"width\": 8}, \"mode\": \"lines\", \"text\": \"8\", \"type\": \"scatter3d\", \"x\": [0.0015476253341445063, -0.05208473689230024, null], \"y\": [0.07672447105655177, 0.06415038477218633, null], \"z\": [-0.05150325678192387, -0.018364822218821884, null]}, {\"hoverinfo\": \"text\", \"line\": {\"color\": \"cornflowerblue\", \"width\": 7}, \"mode\": \"lines\", \"text\": \"7\", \"type\": \"scatter3d\", \"x\": [-0.049707163205370206, -0.05208473689230024, null], \"y\": [0.11328444880520548, 0.06415038477218633, null], \"z\": [-0.06912709786732973, -0.018364822218821884, null]}, {\"hoverinfo\": \"text\", \"line\": {\"color\": \"cornflowerblue\", \"width\": 6}, \"mode\": \"lines\", \"text\": \"6\", \"type\": \"scatter3d\", \"x\": [-0.043021386647208476, -0.05208473689230024, null], \"y\": [0.08328120181406078, 0.06415038477218633, null], \"z\": [0.05338260464429489, -0.018364822218821884, null]}, {\"hoverinfo\": \"text\", \"line\": {\"color\": \"cornflowerblue\", \"width\": 6}, \"mode\": \"lines\", \"text\": \"6\", \"type\": \"scatter3d\", \"x\": [-0.10055607256713323, -0.05208473689230024, null], \"y\": [0.030752779933492225, 0.06415038477218633, null], \"z\": [0.028191049135305707, -0.018364822218821884, null]}, {\"hoverinfo\": \"text\", \"line\": {\"color\": \"cornflowerblue\", \"width\": 6}, \"mode\": \"lines\", \"text\": \"6\", \"type\": \"scatter3d\", \"x\": [-0.009312938078821586, -0.05208473689230024, null], \"y\": [0.12702759914766895, 0.06415038477218633, null], \"z\": [-0.01149772600237422, -0.018364822218821884, null]}, {\"hoverinfo\": \"text\", \"line\": {\"color\": \"cornflowerblue\", \"width\": 6}, \"mode\": \"lines\", \"text\": \"6\", \"type\": \"scatter3d\", \"x\": [-0.0022393222121826154, -0.05208473689230024, null], \"y\": [0.014456403154050257, 0.06415038477218633, null], \"z\": [-0.04752102425569342, -0.018364822218821884, null]}, {\"hoverinfo\": \"text\", \"line\": {\"color\": \"cornflowerblue\", \"width\": 6}, \"mode\": \"lines\", \"text\": \"6\", \"type\": \"scatter3d\", \"x\": [-0.03310283775649442, -0.05208473689230024, null], \"y\": [0.009322789758658313, 0.06415038477218633, null], \"z\": [0.026972759149500924, -0.018364822218821884, null]}, {\"hoverinfo\": \"text\", \"line\": {\"color\": \"cornflowerblue\", \"width\": 6}, \"mode\": \"lines\", \"text\": \"6\", \"type\": \"scatter3d\", \"x\": [-0.0936171235573822, -0.05208473689230024, null], \"y\": [0.07833091841923291, 0.06415038477218633, null], \"z\": [-0.0847651433420181, -0.018364822218821884, null]}, {\"hoverinfo\": \"text\", \"line\": {\"color\": \"cornflowerblue\", \"width\": 6}, \"mode\": \"lines\", \"text\": \"6\", \"type\": \"scatter3d\", \"x\": [-0.12665245662338606, -0.05208473689230024, null], \"y\": [0.06604655271490605, 0.06415038477218633, null], \"z\": [-0.0344921676950288, -0.018364822218821884, null]}, {\"hoverinfo\": \"text\", \"line\": {\"color\": \"cornflowerblue\", \"width\": 5}, \"mode\": \"lines\", \"text\": \"5\", \"type\": \"scatter3d\", \"x\": [-0.11230109952023846, -0.05208473689230024, null], \"y\": [0.09921210300750762, 0.06415038477218633, null], \"z\": [0.027414308654081714, -0.018364822218821884, null]}, {\"hoverinfo\": \"text\", \"line\": {\"color\": \"cornflowerblue\", \"width\": 5}, \"mode\": \"lines\", \"text\": \"5\", \"type\": \"scatter3d\", \"x\": [0.3089703058558743, -0.05208473689230024, null], \"y\": [-0.31002901756328805, 0.06415038477218633, null], \"z\": [-0.2555392478383514, -0.018364822218821884, null]}, {\"hoverinfo\": \"text\", \"line\": {\"color\": \"cornflowerblue\", \"width\": 5}, \"mode\": \"lines\", \"text\": \"5\", \"type\": \"scatter3d\", \"x\": [0.3089703058558743, 0.6683031979539543, null], \"y\": [-0.31002901756328805, -0.6834359975393351, null], \"z\": [-0.2555392478383514, -0.4932606893828914, null]}, {\"hoverinfo\": \"text\", \"line\": {\"color\": \"cornflowerblue\", \"width\": 5}, \"mode\": \"lines\", \"text\": \"5\", \"type\": \"scatter3d\", \"x\": [-0.08191753670198215, -0.05208473689230024, null], \"y\": [-0.012211821079172687, 0.06415038477218633, null], \"z\": [-0.02659837971865022, -0.018364822218821884, null]}, {\"hoverinfo\": \"text\", \"line\": {\"color\": \"cornflowerblue\", \"width\": 5}, \"mode\": \"lines\", \"text\": \"5\", \"type\": \"scatter3d\", \"x\": [0.022073679428230814, -0.05208473689230024, null], \"y\": [0.06144085418168825, 0.06415038477218633, null], \"z\": [0.02106679015894224, -0.018364822218821884, null]}, {\"hoverinfo\": \"text\", \"marker\": {\"color\": [\"#ED8B00\", \"#ED8B00\", \"#ED8B00\", \"#00965E\", \"#ED8B00\", \"#A05EB5\", \"#B1B3B3\", \"#E40046\", \"#00965E\", \"#A05EB5\", \"#00965E\", \"#E40046\", \"#0066CC\", \"#0066CC\", \"#B1B3B3\", \"#B1B3B3\", \"#A05EB5\", \"#0066CC\", \"#A05EB5\", \"#A05EB5\", \"#00965E\", \"#B1B3B3\", \"#E40046\", \"#E40046\", \"#00965E\", \"#0066CC\", \"#ED8B00\", \"#0066CC\", \"#E40046\"], \"size\": 40, \"symbol\": \"circle\"}, \"mode\": \"markers\", \"text\": [\"Anthony\", \"Matthew\", \"Christopher\", \"Linda\", \"Daniel\", \"Richard\", \"Margaret\", \"Jessica\", \"Patricia\", \"David\", \"Jennifer\", \"Susan\", \"Michael\", \"William\", \"Sandra\", \"Betty\", \"Thomas\", \"John\", \"Charles\", \"Joseph\", \"Mary\", \"Lisa\", \"Karen\", \"Sarah\", \"Elizabeth\", \"Robert\", \"Nancy\", \"James\", \"Barbara\"], \"type\": \"scatter3d\", \"x\": [-0.05208473689230024, -0.3347443807211032, -0.07219333385111582, -0.058568428200424724, 0.0015476253341445063, 0.06589704334600545, -0.027403696427232185, -0.7836873632135654, 0.7977776268452517, -0.049707163205370206, -0.043021386647208476, -0.10055607256713323, -0.009312938078821586, -0.0022393222121826154, -0.03310283775649442, 0.4876037480380568, 0.10742851961597742, -0.4978793778330567, -0.0936171235573822, -0.5412377781968783, -0.12665245662338606, 0.6413793757844527, -0.11230109952023846, 0.3089703058558743, 0.6683031979539543, 0.8846479959757038, -0.08191753670198215, -0.9654020859717763, 0.022073679428230814], \"y\": [0.06415038477218633, 0.8472675665656535, 0.14461751208915113, 0.03353932342357266, 0.07672447105655177, 0.19349176508688132, -0.9391029581247218, 0.004796925753312725, -0.40459553210505106, 0.11328444880520548, 0.08328120181406078, 0.030752779933492225, 0.12702759914766895, 0.014456403154050257, 0.009322789758658313, 0.9526672777839326, -0.7372512823654566, -0.639350322953166, 0.07833091841923291, 0.22634892012878013, 0.06604655271490605, -0.2525446012817158, 0.09921210300750762, -0.31002901756328805, -0.6834359975393351, 0.4001614337339443, -0.012211821079172687, 0.3516003016814693, 0.06144085418168825], \"z\": [-0.018364822218821884, -0.802303632758542, -0.0015279924625625386, -0.06816139317432363, -0.05150325678192387, 1.0, -0.27914498092386686, -0.8308823930914654, 0.13327592092937007, -0.06912709786732973, 0.05338260464429489, 0.028191049135305707, -0.01149772600237422, -0.04752102425569342, 0.026972759149500924, 0.01997120691804266, 0.6536087260010816, -0.7786703083280925, -0.0847651433420181, 0.8151253602899718, -0.0344921676950288, 0.703116470793784, 0.027414308654081714, -0.2555392478383514, -0.4932606893828914, 0.3811748413750089, -0.02659837971865022, -0.00993978220744847, 0.02106679015894224]}],                        {\"height\": 950, \"hovermode\": \"closest\", \"margin\": {\"t\": 100}, \"scene\": {\"xaxis\": {\"showbackground\": false, \"showgrid\": false, \"showline\": false, \"showticklabels\": false, \"title\": {\"text\": \"\"}, \"zeroline\": false}, \"yaxis\": {\"showbackground\": false, \"showgrid\": false, \"showline\": false, \"showticklabels\": false, \"title\": {\"text\": \"\"}, \"zeroline\": false}, \"zaxis\": {\"showbackground\": false, \"showgrid\": false, \"showline\": false, \"showticklabels\": false, \"title\": {\"text\": \"\"}, \"zeroline\": false}}, \"showlegend\": false, \"template\": {\"data\": {\"bar\": [{\"error_x\": {\"color\": \"#2a3f5f\"}, \"error_y\": {\"color\": \"#2a3f5f\"}, \"marker\": {\"line\": {\"color\": \"#E5ECF6\", \"width\": 0.5}}, \"type\": \"bar\"}], \"barpolar\": [{\"marker\": {\"line\": {\"color\": \"#E5ECF6\", \"width\": 0.5}}, \"type\": \"barpolar\"}], \"carpet\": [{\"aaxis\": {\"endlinecolor\": \"#2a3f5f\", \"gridcolor\": \"white\", \"linecolor\": \"white\", \"minorgridcolor\": \"white\", \"startlinecolor\": \"#2a3f5f\"}, \"baxis\": {\"endlinecolor\": \"#2a3f5f\", \"gridcolor\": \"white\", \"linecolor\": \"white\", \"minorgridcolor\": \"white\", \"startlinecolor\": \"#2a3f5f\"}, \"type\": \"carpet\"}], \"choropleth\": [{\"colorbar\": {\"outlinewidth\": 0, \"ticks\": \"\"}, \"type\": \"choropleth\"}], \"contour\": [{\"colorbar\": {\"outlinewidth\": 0, \"ticks\": \"\"}, \"colorscale\": [[0.0, \"#0d0887\"], [0.1111111111111111, \"#46039f\"], [0.2222222222222222, \"#7201a8\"], [0.3333333333333333, \"#9c179e\"], [0.4444444444444444, \"#bd3786\"], [0.5555555555555556, \"#d8576b\"], [0.6666666666666666, \"#ed7953\"], [0.7777777777777778, \"#fb9f3a\"], [0.8888888888888888, \"#fdca26\"], [1.0, \"#f0f921\"]], \"type\": \"contour\"}], \"contourcarpet\": [{\"colorbar\": {\"outlinewidth\": 0, \"ticks\": \"\"}, \"type\": \"contourcarpet\"}], \"heatmap\": [{\"colorbar\": {\"outlinewidth\": 0, \"ticks\": \"\"}, \"colorscale\": [[0.0, \"#0d0887\"], [0.1111111111111111, \"#46039f\"], [0.2222222222222222, \"#7201a8\"], [0.3333333333333333, \"#9c179e\"], [0.4444444444444444, \"#bd3786\"], [0.5555555555555556, \"#d8576b\"], [0.6666666666666666, \"#ed7953\"], [0.7777777777777778, \"#fb9f3a\"], [0.8888888888888888, \"#fdca26\"], [1.0, \"#f0f921\"]], \"type\": \"heatmap\"}], \"heatmapgl\": [{\"colorbar\": {\"outlinewidth\": 0, \"ticks\": \"\"}, \"colorscale\": [[0.0, \"#0d0887\"], [0.1111111111111111, \"#46039f\"], [0.2222222222222222, \"#7201a8\"], [0.3333333333333333, \"#9c179e\"], [0.4444444444444444, \"#bd3786\"], [0.5555555555555556, \"#d8576b\"], [0.6666666666666666, \"#ed7953\"], [0.7777777777777778, \"#fb9f3a\"], [0.8888888888888888, \"#fdca26\"], [1.0, \"#f0f921\"]], \"type\": \"heatmapgl\"}], \"histogram\": [{\"marker\": {\"colorbar\": {\"outlinewidth\": 0, \"ticks\": \"\"}}, \"type\": \"histogram\"}], \"histogram2d\": [{\"colorbar\": {\"outlinewidth\": 0, \"ticks\": \"\"}, \"colorscale\": [[0.0, \"#0d0887\"], [0.1111111111111111, \"#46039f\"], [0.2222222222222222, \"#7201a8\"], [0.3333333333333333, \"#9c179e\"], [0.4444444444444444, \"#bd3786\"], [0.5555555555555556, \"#d8576b\"], [0.6666666666666666, \"#ed7953\"], [0.7777777777777778, \"#fb9f3a\"], [0.8888888888888888, \"#fdca26\"], [1.0, \"#f0f921\"]], \"type\": \"histogram2d\"}], \"histogram2dcontour\": [{\"colorbar\": {\"outlinewidth\": 0, \"ticks\": \"\"}, \"colorscale\": [[0.0, \"#0d0887\"], [0.1111111111111111, \"#46039f\"], [0.2222222222222222, \"#7201a8\"], [0.3333333333333333, \"#9c179e\"], [0.4444444444444444, \"#bd3786\"], [0.5555555555555556, \"#d8576b\"], [0.6666666666666666, \"#ed7953\"], [0.7777777777777778, \"#fb9f3a\"], [0.8888888888888888, \"#fdca26\"], [1.0, \"#f0f921\"]], \"type\": \"histogram2dcontour\"}], \"mesh3d\": [{\"colorbar\": {\"outlinewidth\": 0, \"ticks\": \"\"}, \"type\": \"mesh3d\"}], \"parcoords\": [{\"line\": {\"colorbar\": {\"outlinewidth\": 0, \"ticks\": \"\"}}, \"type\": \"parcoords\"}], \"pie\": [{\"automargin\": true, \"type\": \"pie\"}], \"scatter\": [{\"marker\": {\"colorbar\": {\"outlinewidth\": 0, \"ticks\": \"\"}}, \"type\": \"scatter\"}], \"scatter3d\": [{\"line\": {\"colorbar\": {\"outlinewidth\": 0, \"ticks\": \"\"}}, \"marker\": {\"colorbar\": {\"outlinewidth\": 0, \"ticks\": \"\"}}, \"type\": \"scatter3d\"}], \"scattercarpet\": [{\"marker\": {\"colorbar\": {\"outlinewidth\": 0, \"ticks\": \"\"}}, \"type\": \"scattercarpet\"}], \"scattergeo\": [{\"marker\": {\"colorbar\": {\"outlinewidth\": 0, \"ticks\": \"\"}}, \"type\": \"scattergeo\"}], \"scattergl\": [{\"marker\": {\"colorbar\": {\"outlinewidth\": 0, \"ticks\": \"\"}}, \"type\": \"scattergl\"}], \"scattermapbox\": [{\"marker\": {\"colorbar\": {\"outlinewidth\": 0, \"ticks\": \"\"}}, \"type\": \"scattermapbox\"}], \"scatterpolar\": [{\"marker\": {\"colorbar\": {\"outlinewidth\": 0, \"ticks\": \"\"}}, \"type\": \"scatterpolar\"}], \"scatterpolargl\": [{\"marker\": {\"colorbar\": {\"outlinewidth\": 0, \"ticks\": \"\"}}, \"type\": \"scatterpolargl\"}], \"scatterternary\": [{\"marker\": {\"colorbar\": {\"outlinewidth\": 0, \"ticks\": \"\"}}, \"type\": \"scatterternary\"}], \"surface\": [{\"colorbar\": {\"outlinewidth\": 0, \"ticks\": \"\"}, \"colorscale\": [[0.0, \"#0d0887\"], [0.1111111111111111, \"#46039f\"], [0.2222222222222222, \"#7201a8\"], [0.3333333333333333, \"#9c179e\"], [0.4444444444444444, \"#bd3786\"], [0.5555555555555556, \"#d8576b\"], [0.6666666666666666, \"#ed7953\"], [0.7777777777777778, \"#fb9f3a\"], [0.8888888888888888, \"#fdca26\"], [1.0, \"#f0f921\"]], \"type\": \"surface\"}], \"table\": [{\"cells\": {\"fill\": {\"color\": \"#EBF0F8\"}, \"line\": {\"color\": \"white\"}}, \"header\": {\"fill\": {\"color\": \"#C8D4E3\"}, \"line\": {\"color\": \"white\"}}, \"type\": \"table\"}]}, \"layout\": {\"annotationdefaults\": {\"arrowcolor\": \"#2a3f5f\", \"arrowhead\": 0, \"arrowwidth\": 1}, \"coloraxis\": {\"colorbar\": {\"outlinewidth\": 0, \"ticks\": \"\"}}, \"colorscale\": {\"diverging\": [[0, \"#8e0152\"], [0.1, \"#c51b7d\"], [0.2, \"#de77ae\"], [0.3, \"#f1b6da\"], [0.4, \"#fde0ef\"], [0.5, \"#f7f7f7\"], [0.6, \"#e6f5d0\"], [0.7, \"#b8e186\"], [0.8, \"#7fbc41\"], [0.9, \"#4d9221\"], [1, \"#276419\"]], \"sequential\": [[0.0, \"#0d0887\"], [0.1111111111111111, \"#46039f\"], [0.2222222222222222, \"#7201a8\"], [0.3333333333333333, \"#9c179e\"], [0.4444444444444444, \"#bd3786\"], [0.5555555555555556, \"#d8576b\"], [0.6666666666666666, \"#ed7953\"], [0.7777777777777778, \"#fb9f3a\"], [0.8888888888888888, \"#fdca26\"], [1.0, \"#f0f921\"]], \"sequentialminus\": [[0.0, \"#0d0887\"], [0.1111111111111111, \"#46039f\"], [0.2222222222222222, \"#7201a8\"], [0.3333333333333333, \"#9c179e\"], [0.4444444444444444, \"#bd3786\"], [0.5555555555555556, \"#d8576b\"], [0.6666666666666666, \"#ed7953\"], [0.7777777777777778, \"#fb9f3a\"], [0.8888888888888888, \"#fdca26\"], [1.0, \"#f0f921\"]]}, \"colorway\": [\"#636efa\", \"#EF553B\", \"#00cc96\", \"#ab63fa\", \"#FFA15A\", \"#19d3f3\", \"#FF6692\", \"#B6E880\", \"#FF97FF\", \"#FECB52\"], \"font\": {\"color\": \"#2a3f5f\"}, \"geo\": {\"bgcolor\": \"white\", \"lakecolor\": \"white\", \"landcolor\": \"#E5ECF6\", \"showlakes\": true, \"showland\": true, \"subunitcolor\": \"white\"}, \"hoverlabel\": {\"align\": \"left\"}, \"hovermode\": \"closest\", \"mapbox\": {\"style\": \"light\"}, \"paper_bgcolor\": \"white\", \"plot_bgcolor\": \"#E5ECF6\", \"polar\": {\"angularaxis\": {\"gridcolor\": \"white\", \"linecolor\": \"white\", \"ticks\": \"\"}, \"bgcolor\": \"#E5ECF6\", \"radialaxis\": {\"gridcolor\": \"white\", \"linecolor\": \"white\", \"ticks\": \"\"}}, \"scene\": {\"xaxis\": {\"backgroundcolor\": \"#E5ECF6\", \"gridcolor\": \"white\", \"gridwidth\": 2, \"linecolor\": \"white\", \"showbackground\": true, \"ticks\": \"\", \"zerolinecolor\": \"white\"}, \"yaxis\": {\"backgroundcolor\": \"#E5ECF6\", \"gridcolor\": \"white\", \"gridwidth\": 2, \"linecolor\": \"white\", \"showbackground\": true, \"ticks\": \"\", \"zerolinecolor\": \"white\"}, \"zaxis\": {\"backgroundcolor\": \"#E5ECF6\", \"gridcolor\": \"white\", \"gridwidth\": 2, \"linecolor\": \"white\", \"showbackground\": true, \"ticks\": \"\", \"zerolinecolor\": \"white\"}}, \"shapedefaults\": {\"line\": {\"color\": \"#2a3f5f\"}}, \"ternary\": {\"aaxis\": {\"gridcolor\": \"white\", \"linecolor\": \"white\", \"ticks\": \"\"}, \"baxis\": {\"gridcolor\": \"white\", \"linecolor\": \"white\", \"ticks\": \"\"}, \"bgcolor\": \"#E5ECF6\", \"caxis\": {\"gridcolor\": \"white\", \"linecolor\": \"white\", \"ticks\": \"\"}}, \"title\": {\"x\": 0.05}, \"xaxis\": {\"automargin\": true, \"gridcolor\": \"white\", \"linecolor\": \"white\", \"ticks\": \"\", \"title\": {\"standoff\": 15}, \"zerolinecolor\": \"white\", \"zerolinewidth\": 2}, \"yaxis\": {\"automargin\": true, \"gridcolor\": \"white\", \"linecolor\": \"white\", \"ticks\": \"\", \"title\": {\"standoff\": 15}, \"zerolinecolor\": \"white\", \"zerolinewidth\": 2}}}, \"title\": {\"text\": \"The network 3-d visualization\"}, \"width\": 1000},                        {\"responsive\": true}                    ).then(function(){\n",
       "                            \n",
       "var gd = document.getElementById('020fbe92-8aa7-4525-9db8-aa9e8fd1a8ed');\n",
       "var x = new MutationObserver(function (mutations, observer) {{\n",
       "        var display = window.getComputedStyle(gd).display;\n",
       "        if (!display || display === 'none') {{\n",
       "            console.log([gd, 'removed!']);\n",
       "            Plotly.purge(gd);\n",
       "            observer.disconnect();\n",
       "        }}\n",
       "}});\n",
       "\n",
       "// Listen for the removal of the full notebook cells\n",
       "var notebookContainer = gd.closest('#notebook-container');\n",
       "if (notebookContainer) {{\n",
       "    x.observe(notebookContainer, {childList: true});\n",
       "}}\n",
       "\n",
       "// Listen for the clearing of the current output cell\n",
       "var outputEl = gd.closest('.output');\n",
       "if (outputEl) {{\n",
       "    x.observe(outputEl, {childList: true});\n",
       "}}\n",
       "\n",
       "                        })                };                });            </script>        </div>"
      ]
     },
     "metadata": {},
     "output_type": "display_data"
    }
   ],
   "source": [
    "fig = go.Figure(layout=layout)\n",
    "\n",
    "for trace in edge_trace3d:\n",
    "    fig.add_trace(trace)\n",
    "\n",
    "fig.add_trace(trace_nodes3d)\n",
    "\n",
    "fig.show()\n",
    "fig.write_html('3d_visualization.html')"
   ]
  },
  {
   "cell_type": "code",
   "execution_count": null,
   "id": "bc1c9b64",
   "metadata": {},
   "outputs": [],
   "source": []
  }
 ],
 "metadata": {
  "kernelspec": {
   "display_name": "Python 3",
   "language": "python",
   "name": "python3"
  },
  "language_info": {
   "codemirror_mode": {
    "name": "ipython",
    "version": 3
   },
   "file_extension": ".py",
   "mimetype": "text/x-python",
   "name": "python",
   "nbconvert_exporter": "python",
   "pygments_lexer": "ipython3",
   "version": "3.8.3"
  }
 },
 "nbformat": 4,
 "nbformat_minor": 5
}
