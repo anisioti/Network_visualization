{
 "cells": [
  {
   "cell_type": "markdown",
   "id": "62836b8e",
   "metadata": {},
   "source": [
    "## Relevant links: \n",
    "### https://deepnote.com/@deepnote/3D-network-visualisations-using-plotly-oYxeN6UXSye_3h_ulKV2Dw \n",
    "### https://towardsdatascience.com/tutorial-network-visualization-basics-with-networkx-and-plotly-and-a-little-nlp-57c9bbb55bb9\n",
    "### https://towardsdatascience.com/python-interactive-network-visualization-using-networkx-plotly-and-dash-e44749161ed7 \n",
    "\n",
    "### https://github.com/jhwang1992/network-visualization/blob/master/app.py \n",
    "\n",
    "#### TODO: \n",
    "- check the correspondence of the colors and the nodes \n",
    "- check if it can/should be directed"
   ]
  },
  {
   "cell_type": "markdown",
   "id": "54cb9f0b",
   "metadata": {},
   "source": [
    "## Exploratory Analysis of the dataset"
   ]
  },
  {
   "cell_type": "code",
   "execution_count": 734,
   "id": "a621baa4",
   "metadata": {
    "ExecuteTime": {
     "end_time": "2021-05-07T10:20:13.717513Z",
     "start_time": "2021-05-07T10:20:13.690672Z"
    }
   },
   "outputs": [],
   "source": [
    "import pandas as pd \n",
    "import numpy as np\n",
    "import networkx as nx\n",
    "import plotly.graph_objects as go"
   ]
  },
  {
   "cell_type": "code",
   "execution_count": 245,
   "id": "089ce619",
   "metadata": {
    "ExecuteTime": {
     "end_time": "2021-05-05T07:37:12.354768Z",
     "start_time": "2021-05-05T07:37:12.254348Z"
    }
   },
   "outputs": [],
   "source": [
    "edges = pd.read_excel (r'raan_case_study interns.xlsx', sheet_name='edges')\n",
    "nodes=pd.read_excel (r'raan_case_study interns.xlsx', sheet_name='nodes')\n",
    "nodes=nodes.drop(columns=\"Unnamed: 3\")"
   ]
  },
  {
   "cell_type": "code",
   "execution_count": 246,
   "id": "54d7e026",
   "metadata": {
    "ExecuteTime": {
     "end_time": "2021-05-05T07:37:15.041621Z",
     "start_time": "2021-05-05T07:37:15.014357Z"
    }
   },
   "outputs": [
    {
     "data": {
      "text/html": [
       "<div>\n",
       "<style scoped>\n",
       "    .dataframe tbody tr th:only-of-type {\n",
       "        vertical-align: middle;\n",
       "    }\n",
       "\n",
       "    .dataframe tbody tr th {\n",
       "        vertical-align: top;\n",
       "    }\n",
       "\n",
       "    .dataframe thead th {\n",
       "        text-align: right;\n",
       "    }\n",
       "</style>\n",
       "<table border=\"1\" class=\"dataframe\">\n",
       "  <thead>\n",
       "    <tr style=\"text-align: right;\">\n",
       "      <th></th>\n",
       "      <th>source_id</th>\n",
       "      <th>target_id</th>\n",
       "      <th>weights</th>\n",
       "    </tr>\n",
       "  </thead>\n",
       "  <tbody>\n",
       "    <tr>\n",
       "      <th>0</th>\n",
       "      <td>966</td>\n",
       "      <td>945</td>\n",
       "      <td>13</td>\n",
       "    </tr>\n",
       "    <tr>\n",
       "      <th>1</th>\n",
       "      <td>966</td>\n",
       "      <td>879</td>\n",
       "      <td>10</td>\n",
       "    </tr>\n",
       "    <tr>\n",
       "      <th>2</th>\n",
       "      <td>649</td>\n",
       "      <td>966</td>\n",
       "      <td>9</td>\n",
       "    </tr>\n",
       "    <tr>\n",
       "      <th>3</th>\n",
       "      <td>941</td>\n",
       "      <td>966</td>\n",
       "      <td>8</td>\n",
       "    </tr>\n",
       "    <tr>\n",
       "      <th>4</th>\n",
       "      <td>966</td>\n",
       "      <td>467</td>\n",
       "      <td>8</td>\n",
       "    </tr>\n",
       "  </tbody>\n",
       "</table>\n",
       "</div>"
      ],
      "text/plain": [
       "   source_id  target_id  weights\n",
       "0        966        945       13\n",
       "1        966        879       10\n",
       "2        649        966        9\n",
       "3        941        966        8\n",
       "4        966        467        8"
      ]
     },
     "execution_count": 246,
     "metadata": {},
     "output_type": "execute_result"
    }
   ],
   "source": [
    "edges.head()"
   ]
  },
  {
   "cell_type": "code",
   "execution_count": 845,
   "id": "72598522",
   "metadata": {
    "ExecuteTime": {
     "end_time": "2021-05-07T13:45:41.902561Z",
     "start_time": "2021-05-07T13:45:41.885309Z"
    }
   },
   "outputs": [
    {
     "data": {
      "text/plain": [
       "array(['#0066CC', '#A05EB5', '#00965E', '#E40046', '#ED8B00', '#B1B3B3'],\n",
       "      dtype=object)"
      ]
     },
     "execution_count": 845,
     "metadata": {},
     "output_type": "execute_result"
    }
   ],
   "source": [
    "#nodes.head()\n",
    "nodes.node_color.unique()"
   ]
  },
  {
   "cell_type": "markdown",
   "id": "28a10945",
   "metadata": {},
   "source": [
    "'#0066CC' blue\n",
    "#A05EB5   purple\n",
    "#00965E   green\n",
    "'#E40046' red\n",
    "#ED8B00   orange\n",
    "#B1B3B3   grey"
   ]
  },
  {
   "cell_type": "markdown",
   "id": "c28ee731",
   "metadata": {},
   "source": [
    "**Observe that we have 2 excel sheets, one containing the edge information \n",
    " (an edge defined between source_id and target_id) and weights\n",
    "The node sheet contains the node ids, the node colours and the node labels** "
   ]
  },
  {
   "cell_type": "markdown",
   "id": "a26ad644",
   "metadata": {},
   "source": [
    "### We have 29 different node_ids, node labels and 6 different color types. "
   ]
  },
  {
   "cell_type": "code",
   "execution_count": 746,
   "id": "d3a6e33e",
   "metadata": {
    "ExecuteTime": {
     "end_time": "2021-05-07T10:36:20.677924Z",
     "start_time": "2021-05-07T10:36:20.670720Z"
    }
   },
   "outputs": [
    {
     "name": "stdout",
     "output_type": "stream",
     "text": [
      "the number of unique nodes are:29\n",
      "the number of unique label names are:29\n",
      "the number of unique color categories are:6\n"
     ]
    }
   ],
   "source": [
    "node_ids=list(set(nodes.node_id.values)) # the unique node_ids that are going to be used for creating the graph\n",
    "print(\"the number of unique nodes are:\" + str(len(node_ids)))\n",
    "node_label=list(set(nodes.node_label.values)) \n",
    "print(\"the number of unique label names are:\" + str(len(node_label)))\n",
    "node_colors=list(set(nodes.node_color.values)) \n",
    "print(\"the number of unique color categories are:\" + str(len(node_colors)))"
   ]
  },
  {
   "cell_type": "markdown",
   "id": "460a9dda",
   "metadata": {},
   "source": [
    "### Observe that there are some edges (e.g. (879,966) with weight 5 and (966,879) with weight 10). \n",
    "#### Therefore, we observe that the direction of the edge makes difference -> use directed graph for the visualization"
   ]
  },
  {
   "cell_type": "code",
   "execution_count": 248,
   "id": "4dac4f8b",
   "metadata": {
    "ExecuteTime": {
     "end_time": "2021-05-05T07:37:35.817818Z",
     "start_time": "2021-05-05T07:37:35.805499Z"
    }
   },
   "outputs": [],
   "source": [
    "Gr_dir=nx.from_pandas_edgelist(edges, 'source_id', 'target_id', edge_attr=True, create_using=nx.DiGraph()) #directed graph "
   ]
  },
  {
   "cell_type": "code",
   "execution_count": 67,
   "id": "ce60495b",
   "metadata": {
    "ExecuteTime": {
     "end_time": "2021-05-04T15:47:57.464393Z",
     "start_time": "2021-05-04T15:47:57.456988Z"
    }
   },
   "outputs": [],
   "source": [
    "Gr=nx.from_pandas_edgelist(edges, 'source_id', 'target_id', edge_attr=True) #undirected graph, the connections are symmetric \n",
    "# less edges than we expect to see otherwise "
   ]
  },
  {
   "cell_type": "code",
   "execution_count": 71,
   "id": "7a4bbca0",
   "metadata": {
    "ExecuteTime": {
     "end_time": "2021-05-04T15:48:26.694609Z",
     "start_time": "2021-05-04T15:48:26.674814Z"
    }
   },
   "outputs": [
    {
     "data": {
      "text/plain": [
       "EdgeView([(966, 945), (966, 879), (966, 649), (966, 941), (966, 467), (966, 1042), (966, 785), (966, 619), (966, 457), (966, 639), (966, 747), (966, 185), (966, 349), (966, 1157), (966, 1152), (966, 517), (966, 158), (966, 552), (966, 498), (966, 574), (966, 1025), (966, 813), (966, 792), (966, 172), (966, 1009), (966, 3), (966, 709), (792, 652)])"
      ]
     },
     "execution_count": 71,
     "metadata": {},
     "output_type": "execute_result"
    }
   ],
   "source": [
    "Gr.edges"
   ]
  },
  {
   "cell_type": "code",
   "execution_count": 334,
   "id": "d6195289",
   "metadata": {
    "ExecuteTime": {
     "end_time": "2021-05-05T10:07:15.906025Z",
     "start_time": "2021-05-05T10:07:15.891226Z"
    }
   },
   "outputs": [
    {
     "data": {
      "text/plain": [
       "OutEdgeView([(966, 945), (966, 879), (966, 467), (966, 1042), (966, 785), (966, 619), (966, 639), (966, 1152), (966, 517), (966, 158), (966, 498), (966, 1157), (966, 185), (966, 1025), (966, 172), (966, 3), (879, 966), (649, 966), (941, 966), (457, 966), (639, 966), (747, 966), (185, 966), (349, 966), (1157, 966), (552, 966), (574, 966), (813, 966), (792, 966), (792, 652), (1009, 966), (709, 966)])"
      ]
     },
     "execution_count": 334,
     "metadata": {},
     "output_type": "execute_result"
    }
   ],
   "source": [
    "Gr_dir.edges"
   ]
  },
  {
   "cell_type": "code",
   "execution_count": 337,
   "id": "1dec9f2c",
   "metadata": {
    "ExecuteTime": {
     "end_time": "2021-05-05T10:10:16.433445Z",
     "start_time": "2021-05-05T10:10:16.417026Z"
    }
   },
   "outputs": [],
   "source": [
    "##find the two-way relations between the nodes \n",
    "double_edges=[]\n",
    "for edge in Gr_dir.edges: \n",
    "    if Gr_dir.has_edge(edge[1], edge[0]):\n",
    "        double_edges.append(edge)\n"
   ]
  },
  {
   "cell_type": "code",
   "execution_count": 603,
   "id": "6c47935c",
   "metadata": {
    "ExecuteTime": {
     "end_time": "2021-05-05T18:52:22.729061Z",
     "start_time": "2021-05-05T18:52:22.713420Z"
    }
   },
   "outputs": [
    {
     "data": {
      "text/plain": [
       "[(966, 879),\n",
       " (966, 639),\n",
       " (966, 1157),\n",
       " (966, 185),\n",
       " (879, 966),\n",
       " (639, 966),\n",
       " (185, 966),\n",
       " (1157, 966)]"
      ]
     },
     "execution_count": 603,
     "metadata": {},
     "output_type": "execute_result"
    }
   ],
   "source": [
    "double_edges"
   ]
  },
  {
   "cell_type": "markdown",
   "id": "9d7db28e",
   "metadata": {
    "ExecuteTime": {
     "end_time": "2021-05-05T10:10:18.766881Z",
     "start_time": "2021-05-05T10:10:18.753962Z"
    }
   },
   "source": [
    "#### We observe that not all relations between the nodes are two-way, the network is not symmetric and therefore the direction will play an important role, since it gives information that we don't want to lose. "
   ]
  },
  {
   "cell_type": "code",
   "execution_count": 249,
   "id": "d9537942",
   "metadata": {
    "ExecuteTime": {
     "end_time": "2021-05-05T07:37:55.731787Z",
     "start_time": "2021-05-05T07:37:55.716825Z"
    }
   },
   "outputs": [],
   "source": [
    "atribs=nodes.set_index('node_id').to_dict('index') \n",
    "nx.set_node_attributes(Gr_dir, atribs)\n",
    "#create a dictionary of dictionaries so that we are able to give it as node attributes\n",
    "# https://stackoverflow.com/questions/54497929/networkx-setting-node-attributes-from-dataframe/54662176\n",
    "#the keys are the node_ids and the values are a dictionary with keys node_color and node_label \n",
    "#access them by e.g. Gr_dir.nodes[3]['node_color']"
   ]
  },
  {
   "cell_type": "markdown",
   "id": "72c050c0",
   "metadata": {},
   "source": [
    "## Start with 2-d visualization first"
   ]
  },
  {
   "cell_type": "code",
   "execution_count": 809,
   "id": "928e0dc0",
   "metadata": {
    "ExecuteTime": {
     "end_time": "2021-05-07T13:23:30.359075Z",
     "start_time": "2021-05-07T13:23:30.348757Z"
    }
   },
   "outputs": [],
   "source": [
    "#get the positions of the nodes in the graph (different possible layouts, see:\n",
    "#https://networkx.org/documentation/stable/reference/drawing.html#module-networkx.drawing.layout)\n",
    "#pos = nx.kamada_kawai_layout(Gr_dir, weight='weights') #dictionary with node names and positions\n",
    "#pos = nx.random_layout(Gr_dir, seed=2021)\n",
    "#pos=nx.spring_layout(Gr_dir, weight='weights', seed=2021)\n",
    "#pos=nx.circular_layout(Gr_dir, scale=2) #dictionary key: node, value: array with coordinates \n",
    "pos=nx.shell_layout(Gr_dir)"
   ]
  },
  {
   "cell_type": "code",
   "execution_count": 892,
   "id": "c4035d67",
   "metadata": {
    "ExecuteTime": {
     "end_time": "2021-05-07T15:58:42.934557Z",
     "start_time": "2021-05-07T15:58:42.926892Z"
    }
   },
   "outputs": [],
   "source": [
    "#pos"
   ]
  },
  {
   "cell_type": "code",
   "execution_count": 811,
   "id": "05ab368c",
   "metadata": {
    "ExecuteTime": {
     "end_time": "2021-05-07T13:23:38.075604Z",
     "start_time": "2021-05-07T13:23:38.070412Z"
    }
   },
   "outputs": [],
   "source": [
    "pos[966]=np.array([0,0])"
   ]
  },
  {
   "cell_type": "code",
   "execution_count": 891,
   "id": "888572fa",
   "metadata": {
    "ExecuteTime": {
     "end_time": "2021-05-07T15:58:39.582961Z",
     "start_time": "2021-05-07T15:58:39.573525Z"
    }
   },
   "outputs": [],
   "source": [
    "#pos"
   ]
  },
  {
   "cell_type": "code",
   "execution_count": 813,
   "id": "af0f8393",
   "metadata": {
    "ExecuteTime": {
     "end_time": "2021-05-07T13:23:45.099608Z",
     "start_time": "2021-05-07T13:23:45.090194Z"
    }
   },
   "outputs": [],
   "source": [
    "#create a node attribute with the positions of the nodes as found by the layout algorithm\n",
    "for node in Gr_dir.nodes:\n",
    "        Gr_dir.nodes[node]['pos'] = list(pos[node]) #has the 2-d positions of the nodes, it is like a node attribute"
   ]
  },
  {
   "cell_type": "code",
   "execution_count": 784,
   "id": "1378fc50",
   "metadata": {
    "ExecuteTime": {
     "end_time": "2021-05-07T10:52:30.366368Z",
     "start_time": "2021-05-07T10:52:30.351852Z"
    }
   },
   "outputs": [],
   "source": [
    "#nx.get_node_attributes(Gr_dir, 'pos')"
   ]
  },
  {
   "cell_type": "code",
   "execution_count": 890,
   "id": "14a4328d",
   "metadata": {
    "ExecuteTime": {
     "end_time": "2021-05-07T15:09:47.912437Z",
     "start_time": "2021-05-07T15:09:47.888711Z"
    }
   },
   "outputs": [],
   "source": [
    "def create_edge_trace(edge, pos, is_bidirectional, showlegend=True):\n",
    "    '''\n",
    "    edge: a tuple that contains the beginning and the ending of the edge of the graph \n",
    "    pos: a dictionary with key the node_id and value the array of 2-d positions of the node\n",
    "    is bidirectional: True if the edge is bidirectional False otherwise \n",
    "    showlegend: True if we want the trace to be shown in the legend\n",
    "    \n",
    "    Returns: \n",
    "    an edge trace to be used in the 2-d plot\n",
    "    The opacity and width of the edge are relative to the edge weight\n",
    "    The bidirected edges are coloured in red while the one-way relations are blue. \n",
    "    and the color of the edge \n",
    "    '''\n",
    "    x0, y0 = Gr_dir.nodes[edge[0]]['pos']\n",
    "    x1, y1 = Gr_dir.nodes[edge[1]]['pos']\n",
    "    weight = Gr_dir[edge[0]][edge[1]]['weights']\n",
    "    opacity= weight/np.max(list(nx.get_edge_attributes(Gr_dir,'weights').values())) #normalize between 0 and 1\n",
    "    if is_bidirectional==True: \n",
    "        color='red'\n",
    "        legendgroup='red'\n",
    "        name='Two-way Edge'\n",
    "    else: \n",
    "        color='cornflowerblue'\n",
    "        legendgroup='blue'\n",
    "        name= 'One-way Edge'\n",
    "    return go.Scatter(x=tuple([x0, x1, None]), y=tuple([y0, y1, None]),\n",
    "                        mode='lines',\n",
    "                        line={'width': 10*weight/np.max(list(nx.get_edge_attributes(Gr_dir,'weights').values())), 'color': color},\n",
    "                        line_shape='spline',\n",
    "                        legendgroup=legendgroup,\n",
    "                        name=name,\n",
    "                        hoverinfo=None,\n",
    "                        opacity=opacity, showlegend= showlegend), color\n",
    "   "
   ]
  },
  {
   "cell_type": "code",
   "execution_count": 888,
   "id": "8bb7321a",
   "metadata": {
    "ExecuteTime": {
     "end_time": "2021-05-07T15:08:41.559038Z",
     "start_time": "2021-05-07T15:08:41.521883Z"
    }
   },
   "outputs": [],
   "source": [
    "edge_trace=[]\n",
    "edge_col=[]\n",
    "for edge in Gr_dir.edges:\n",
    "    if edge in double_edges: \n",
    "        if 'red' in edge_col:\n",
    "            trace,_= create_edge_trace(edge, pos, is_bidirectional = True, showlegend=False)\n",
    "            edge_trace.append(trace)\n",
    "        else: \n",
    "            trace,col= create_edge_trace(edge, pos, is_bidirectional = True, showlegend=True) \n",
    "            edge_col.append(col)\n",
    "            edge_trace.append(trace)\n",
    "    else:\n",
    "        if 'cornflowerblue' in edge_col:\n",
    "            trace,_= create_edge_trace(edge, pos, is_bidirectional = False, showlegend=False)\n",
    "            edge_trace.append(trace)\n",
    "        else:\n",
    "            trace,col= create_edge_trace(edge, pos, is_bidirectional = False, showlegend=True) \n",
    "            edge_col.append(col)\n",
    "            edge_trace.append(trace)\n",
    "            "
   ]
  },
  {
   "cell_type": "code",
   "execution_count": 787,
   "id": "dbcc86d8",
   "metadata": {
    "ExecuteTime": {
     "end_time": "2021-05-07T10:58:12.088172Z",
     "start_time": "2021-05-07T10:58:12.071031Z"
    }
   },
   "outputs": [],
   "source": [
    "x_node = [pos[i][0] for i in list(nx.get_node_attributes(Gr_dir,'pos').keys())]# x-coordinates of nodes\n",
    "y_node = [pos[i][1] for i in list(nx.get_node_attributes(Gr_dir,'pos').keys())]# y-coordinates of nodes\n",
    "#in that way we are sure that the colors and the labels are in the same line with the positions\n",
    "#we use the same attribute dictionary (the keys are in the same ordering)"
   ]
  },
  {
   "cell_type": "code",
   "execution_count": 869,
   "id": "721d65a1",
   "metadata": {
    "ExecuteTime": {
     "end_time": "2021-05-07T14:31:27.574363Z",
     "start_time": "2021-05-07T14:31:27.560072Z"
    }
   },
   "outputs": [],
   "source": [
    "def create_node_trace(node, pos, showlegend= True):\n",
    "    '''\n",
    "    node: the node id\n",
    "    pos: the position coordinates of the node in the plot\n",
    "    showlegend: True if we want to the trace to take part in the legend False otherwise\n",
    "    \n",
    "    Returns: \n",
    "    trace of the node to be used in the figure\n",
    "    color of the node \n",
    "    '''\n",
    "    x_node=pos[node][0]\n",
    "    y_node=pos[node][1]\n",
    "    color=Gr_dir.nodes[node]['node_color']\n",
    "    label=Gr_dir.nodes[node]['node_label']\n",
    "    return go.Scatter(x=[x_node,None],\n",
    "                      y=[y_node,None],\n",
    "                      mode='markers',\n",
    "                      marker=dict(symbol='circle',size=40,color=color),#color the nodes according to their community\n",
    "                      legendgroup=str(color),\n",
    "                      name=str(color),\n",
    "                      showlegend= showlegend,\n",
    "                      text=label, #label according to the node label\n",
    "                      hoverinfo='text'), color"
   ]
  },
  {
   "cell_type": "code",
   "execution_count": 870,
   "id": "7af20fda",
   "metadata": {
    "ExecuteTime": {
     "end_time": "2021-05-07T14:31:30.618694Z",
     "start_time": "2021-05-07T14:31:30.600734Z"
    }
   },
   "outputs": [],
   "source": [
    "node_trace=[]\n",
    "colors_used=[]\n",
    "for node in Gr_dir.nodes:\n",
    "    if Gr_dir.nodes[node]['node_color'] in colors_used: #if already used before don't show it in the legend, just group it with it\n",
    "        trace,_ = create_node_trace(node, pos, False)\n",
    "        node_trace.append(trace)\n",
    "    else: \n",
    "        trace, color = create_node_trace(node, pos, True)\n",
    "        node_trace.append(trace)\n",
    "        colors_used.append(color)"
   ]
  },
  {
   "cell_type": "code",
   "execution_count": 788,
   "id": "08c56f88",
   "metadata": {
    "ExecuteTime": {
     "end_time": "2021-05-07T10:58:16.538202Z",
     "start_time": "2021-05-07T10:58:16.521830Z"
    }
   },
   "outputs": [],
   "source": [
    "labels=list(nx.get_node_attributes(Gr_dir,'node_label').values()) #the labels of the nodes \n",
    "colors=list(nx.get_node_attributes(Gr_dir,'node_color').values()) #the colors of the nodes"
   ]
  },
  {
   "cell_type": "code",
   "execution_count": 855,
   "id": "3bea6d42",
   "metadata": {
    "ExecuteTime": {
     "end_time": "2021-05-07T13:56:54.637236Z",
     "start_time": "2021-05-07T13:56:54.622758Z"
    }
   },
   "outputs": [],
   "source": [
    "###Create trace for the nodes: \n",
    "trace_nodes = go.Scatter(x=x_node,\n",
    "                         y=y_node,\n",
    "                        mode='markers',\n",
    "                        marker=dict(symbol='circle',\n",
    "                                    size=40,\n",
    "                                    color=colors),#color the nodes according to their community\n",
    "                                    text=labels,\n",
    "                                    hoverinfo='text')"
   ]
  },
  {
   "cell_type": "markdown",
   "id": "a6313ec8",
   "metadata": {},
   "source": [
    "## Create the middle nodes for adding the node annotations"
   ]
  },
  {
   "cell_type": "code",
   "execution_count": 863,
   "id": "361b745d",
   "metadata": {
    "ExecuteTime": {
     "end_time": "2021-05-07T14:00:08.043842Z",
     "start_time": "2021-05-07T14:00:08.024251Z"
    }
   },
   "outputs": [],
   "source": [
    "middle_trace = go.Scatter(x=[], y=[], hovertext=[], mode='markers', hoverinfo=\"text\",\n",
    "                                    marker={'size': 20, 'color': 'LightSkyBlue'},\n",
    "                                    opacity=0, showlegend= False)\n",
    "\n",
    "\n",
    "for edge in Gr_dir.edges:\n",
    "    x0, y0 = Gr_dir.nodes[edge[0]]['pos']\n",
    "    x1, y1 = Gr_dir.nodes[edge[1]]['pos']\n",
    "    if edge in double_edges:\n",
    "        #edge_text='hi'\n",
    "        edge_text = \"Bidirectional edge:\" + \"<br>\" + str(Gr_dir.nodes[edge[0]]['node_label']) + \" To: \" + str(Gr_dir.nodes[edge[1]]['node_label'])  + \", weight: \" + str(Gr_dir.edges[edge]['weights'])+\"<br>\" + str(Gr_dir.nodes[edge[1]]['node_label']) + \" To: \" + str(Gr_dir.nodes[edge[0]]['node_label'])  + \", weight: \" + str(Gr_dir.edges[(edge[1], edge[0])]['weights'])\n",
    "    else:\n",
    "        edge_text=\"From: \" + str(Gr_dir.nodes[edge[0]]['node_label']) + \" To: \" + str(Gr_dir.nodes[edge[1]]['node_label']) + \", weight: \" + str(Gr_dir.edges[edge]['weights'])\n",
    "    hovertext= edge_text\n",
    "    middle_trace['x'] += tuple([(x0 + x1) / 2])\n",
    "    middle_trace['y'] += tuple([(y0 + y1) / 2])\n",
    "    middle_trace['hovertext'] += tuple([hovertext])\n",
    "   "
   ]
  },
  {
   "cell_type": "code",
   "execution_count": 535,
   "id": "27d0088a",
   "metadata": {
    "ExecuteTime": {
     "end_time": "2021-05-05T12:39:21.126459Z",
     "start_time": "2021-05-05T12:39:21.110797Z"
    }
   },
   "outputs": [],
   "source": [
    "layout = go.Layout(\n",
    "    paper_bgcolor='rgba(0,0,0,0)', # transparent background\n",
    "    plot_bgcolor='rgba(0,0,0,0)', # transparent 2nd background\n",
    "    xaxis =  {'showgrid': False, 'zeroline': False}, # no gridlines\n",
    "    yaxis = {'showgrid': False, 'zeroline': False}, # no gridlines\n",
    ")\n",
    "\n",
    "# Create figure\n",
    "fig = go.Figure(layout = layout)\n"
   ]
  },
  {
   "cell_type": "code",
   "execution_count": 821,
   "id": "d062117d",
   "metadata": {
    "ExecuteTime": {
     "end_time": "2021-05-07T13:27:10.981921Z",
     "start_time": "2021-05-07T13:27:10.944902Z"
    }
   },
   "outputs": [],
   "source": [
    "####NOT USED### \n",
    "axis = dict(showbackground=False,\n",
    "            showline=False,\n",
    "            zeroline=False,\n",
    "            showgrid=False,\n",
    "            showticklabels=False,\n",
    "            title='')\n",
    "#also need to create the layout for our plot\n",
    "layout = go.Layout(title=\"The network 2-d visualization\",\n",
    "                width=1000,\n",
    "                height=950,\n",
    "                showlegend=False,\n",
    "                scene=dict(xaxis=dict(axis),\n",
    "                        yaxis=dict(axis)),\n",
    "                margin=dict(t=100),\n",
    "                hovermode='closest',\n",
    "                annotations=[\n",
    "                            dict(   ax=(Gr_dir.nodes[edge[0]]['pos'][0] + Gr_dir.nodes[edge[1]]['pos'][0]) / 2,\n",
    "                                    ay=(Gr_dir.nodes[edge[0]]['pos'][1] + Gr_dir.nodes[edge[1]]['pos'][1]) / 2, axref='x', ayref='y',\n",
    "                                    x=(Gr_dir.nodes[edge[1]]['pos'][0] * 3 + Gr_dir.nodes[edge[0]]['pos'][0]) / 4,\n",
    "                                    y=(Gr_dir.nodes[edge[1]]['pos'][1] * 3 + Gr_dir.nodes[edge[0]]['pos'][1]) / 4, xref='x', yref='y',\n",
    "                                    showarrow=True,\n",
    "                                    arrowhead=3,\n",
    "                                    arrowsize=5,\n",
    "                                    arrowwidth=1,\n",
    "                                    arrowcolor='cornflowerblue',\n",
    "                                    opacity=0.7\n",
    "                                ) for edge in Gr_dir.edges])"
   ]
  },
  {
   "cell_type": "code",
   "execution_count": 918,
   "id": "b9a9be33",
   "metadata": {
    "ExecuteTime": {
     "end_time": "2021-05-07T17:45:49.550078Z",
     "start_time": "2021-05-07T17:45:49.528052Z"
    }
   },
   "outputs": [],
   "source": [
    "layout=go.Layout(title='Network 2-d visualization', showlegend=True, hovermode='closest',\n",
    "                            margin={'b': 60, 'l': 60, 'r': 60, 't': 60},\n",
    "                            xaxis={'showgrid': False, 'zeroline': False, 'showticklabels': False},\n",
    "                            yaxis={'showgrid': False, 'zeroline': False, 'showticklabels': False},\n",
    "                            height=600,\n",
    "                            #clickmode='closest',\n",
    "                            annotations=[\n",
    "                                dict(\n",
    "                                    ax=(Gr_dir.nodes[edge[0]]['pos'][0] + Gr_dir.nodes[edge[1]]['pos'][0]) / 2,\n",
    "                                    ay=(Gr_dir.nodes[edge[0]]['pos'][1] + Gr_dir.nodes[edge[1]]['pos'][1]) / 2, axref='x', ayref='y',\n",
    "                                    x=(Gr_dir.nodes[edge[1]]['pos'][0] * 3 + Gr_dir.nodes[edge[0]]['pos'][0]) / 4,\n",
    "                                    y=(Gr_dir.nodes[edge[1]]['pos'][1] * 3 + Gr_dir.nodes[edge[0]]['pos'][1]) / 4, xref='x', yref='y',\n",
    "                                    showarrow=True,\n",
    "                                    arrowhead=3,\n",
    "                                    arrowsize=4,\n",
    "                                    arrowwidth=1,\n",
    "                                    arrowcolor='red' if edge in double_edges else 'cornflowerblue',\n",
    "                                    opacity=0.7\n",
    "                                ) for edge in Gr_dir.edges]\n",
    "                            )"
   ]
  },
  {
   "cell_type": "code",
   "execution_count": null,
   "id": "a99ebd89",
   "metadata": {},
   "outputs": [],
   "source": []
  },
  {
   "cell_type": "code",
   "execution_count": 919,
   "id": "0bdc533f",
   "metadata": {
    "ExecuteTime": {
     "end_time": "2021-05-07T17:45:54.084707Z",
     "start_time": "2021-05-07T17:45:53.993138Z"
    }
   },
   "outputs": [
    {
     "data": {
      "application/vnd.plotly.v1+json": {
       "config": {
        "plotlyServerURL": "https://plot.ly"
       },
       "data": [
        {
         "legendgroup": "blue",
         "line": {
          "color": "cornflowerblue",
          "shape": "spline",
          "width": 10
         },
         "mode": "lines",
         "name": "One-way Edge",
         "opacity": 1,
         "showlegend": true,
         "type": "scatter",
         "x": [
          0,
          -0.9766205549240112,
          null
         ],
         "y": [
          0,
          -0.2149704247713089,
          null
         ]
        },
        {
         "legendgroup": "red",
         "line": {
          "color": "red",
          "shape": "spline",
          "width": 7.6923076923076925
         },
         "mode": "lines",
         "name": "Bidirectional Edge",
         "opacity": 0.7692307692307693,
         "showlegend": true,
         "type": "scatter",
         "x": [
          0,
          -0.9075753688812256,
          null
         ],
         "y": [
          0,
          -0.4198892116546631,
          null
         ]
        },
        {
         "legendgroup": "blue",
         "line": {
          "color": "cornflowerblue",
          "shape": "spline",
          "width": 6.153846153846154
         },
         "mode": "lines",
         "name": "One-way Edge",
         "opacity": 0.6153846153846154,
         "showlegend": false,
         "type": "scatter",
         "x": [
          0,
          -0.4684082269668579,
          null
         ],
         "y": [
          0,
          -0.8835121393203735,
          null
         ]
        },
        {
         "legendgroup": "blue",
         "line": {
          "color": "cornflowerblue",
          "shape": "spline",
          "width": 5.384615384615385
         },
         "mode": "lines",
         "name": "One-way Edge",
         "opacity": 0.5384615384615384,
         "showlegend": false,
         "type": "scatter",
         "x": [
          0,
          -0.2675282061100006,
          null
         ],
         "y": [
          0,
          -0.9635500311851501,
          null
         ]
        },
        {
         "legendgroup": "blue",
         "line": {
          "color": "cornflowerblue",
          "shape": "spline",
          "width": 5.384615384615385
         },
         "mode": "lines",
         "name": "One-way Edge",
         "opacity": 0.5384615384615384,
         "showlegend": false,
         "type": "scatter",
         "x": [
          0,
          -0.05413886904716492,
          null
         ],
         "y": [
          0,
          -0.9985334277153015,
          null
         ]
        },
        {
         "legendgroup": "blue",
         "line": {
          "color": "cornflowerblue",
          "shape": "spline",
          "width": 5.384615384615385
         },
         "mode": "lines",
         "name": "One-way Edge",
         "opacity": 0.5384615384615384,
         "showlegend": false,
         "type": "scatter",
         "x": [
          0,
          0.1617819219827652,
          null
         ],
         "y": [
          0,
          -0.9868265390396118,
          null
         ]
        },
        {
         "legendgroup": "red",
         "line": {
          "color": "red",
          "shape": "spline",
          "width": 4.615384615384615
         },
         "mode": "lines",
         "name": "Bidirectional Edge",
         "opacity": 0.46153846153846156,
         "showlegend": false,
         "type": "scatter",
         "x": [
          0,
          0.561187207698822,
          null
         ],
         "y": [
          0,
          -0.8276888728141785,
          null
         ]
        },
        {
         "legendgroup": "blue",
         "line": {
          "color": "cornflowerblue",
          "shape": "spline",
          "width": 4.615384615384615
         },
         "mode": "lines",
         "name": "One-way Edge",
         "opacity": 0.46153846153846156,
         "showlegend": false,
         "type": "scatter",
         "x": [
          0,
          0.9941379427909851,
          null
         ],
         "y": [
          0,
          0.10811913758516312,
          null
         ]
        },
        {
         "legendgroup": "blue",
         "line": {
          "color": "cornflowerblue",
          "shape": "spline",
          "width": 4.615384615384615
         },
         "mode": "lines",
         "name": "One-way Edge",
         "opacity": 0.46153846153846156,
         "showlegend": false,
         "type": "scatter",
         "x": [
          0,
          0.9476531744003296,
          null
         ],
         "y": [
          0,
          0.3193015456199646,
          null
         ]
        },
        {
         "legendgroup": "blue",
         "line": {
          "color": "cornflowerblue",
          "shape": "spline",
          "width": 4.615384615384615
         },
         "mode": "lines",
         "name": "One-way Edge",
         "opacity": 0.46153846153846156,
         "showlegend": false,
         "type": "scatter",
         "x": [
          0,
          0.8568570017814636,
          null
         ],
         "y": [
          0,
          0.5155541896820068,
          null
         ]
        },
        {
         "legendgroup": "blue",
         "line": {
          "color": "cornflowerblue",
          "shape": "spline",
          "width": 4.615384615384615
         },
         "mode": "lines",
         "name": "One-way Edge",
         "opacity": 0.46153846153846156,
         "showlegend": false,
         "type": "scatter",
         "x": [
          0,
          0.5611869096755981,
          null
         ],
         "y": [
          0,
          0.8276891112327576,
          null
         ]
        },
        {
         "legendgroup": "red",
         "line": {
          "color": "red",
          "shape": "spline",
          "width": 3.8461538461538463
         },
         "mode": "lines",
         "name": "Bidirectional Edge",
         "opacity": 0.38461538461538464,
         "showlegend": false,
         "type": "scatter",
         "x": [
          0,
          0.9941379427909851,
          null
         ],
         "y": [
          0,
          -0.10811926424503326,
          null
         ]
        },
        {
         "legendgroup": "red",
         "line": {
          "color": "red",
          "shape": "spline",
          "width": 3.8461538461538463
         },
         "mode": "lines",
         "name": "Bidirectional Edge",
         "opacity": 0.38461538461538464,
         "showlegend": false,
         "type": "scatter",
         "x": [
          0,
          0.856857180595398,
          null
         ],
         "y": [
          0,
          -0.515553891658783,
          null
         ]
        },
        {
         "legendgroup": "blue",
         "line": {
          "color": "cornflowerblue",
          "shape": "spline",
          "width": 3.8461538461538463
         },
         "mode": "lines",
         "name": "One-way Edge",
         "opacity": 0.38461538461538464,
         "showlegend": false,
         "type": "scatter",
         "x": [
          0,
          0.16178205609321594,
          null
         ],
         "y": [
          0,
          0.9868265390396118,
          null
         ]
        },
        {
         "legendgroup": "blue",
         "line": {
          "color": "cornflowerblue",
          "shape": "spline",
          "width": 3.8461538461538463
         },
         "mode": "lines",
         "name": "One-way Edge",
         "opacity": 0.38461538461538464,
         "showlegend": false,
         "type": "scatter",
         "x": [
          0,
          -0.6473866105079651,
          null
         ],
         "y": [
          0,
          0.7621617317199707,
          null
         ]
        },
        {
         "legendgroup": "blue",
         "line": {
          "color": "cornflowerblue",
          "shape": "spline",
          "width": 3.8461538461538463
         },
         "mode": "lines",
         "name": "One-way Edge",
         "opacity": 0.38461538461538464,
         "showlegend": false,
         "type": "scatter",
         "x": [
          0,
          -0.9075755476951599,
          null
         ],
         "y": [
          0,
          0.4198888838291168,
          null
         ]
        },
        {
         "legendgroup": "red",
         "line": {
          "color": "red",
          "shape": "spline",
          "width": 3.8461538461538463
         },
         "mode": "lines",
         "name": "Bidirectional Edge",
         "opacity": 0.38461538461538464,
         "showlegend": false,
         "type": "scatter",
         "x": [
          -0.9075753688812256,
          0,
          null
         ],
         "y": [
          -0.4198892116546631,
          0,
          null
         ]
        },
        {
         "legendgroup": "blue",
         "line": {
          "color": "cornflowerblue",
          "shape": "spline",
          "width": 6.923076923076923
         },
         "mode": "lines",
         "name": "One-way Edge",
         "opacity": 0.6923076923076923,
         "showlegend": false,
         "type": "scatter",
         "x": [
          -0.7960930466651917,
          0,
          null
         ],
         "y": [
          -0.6051742434501648,
          0,
          null
         ]
        },
        {
         "legendgroup": "blue",
         "line": {
          "color": "cornflowerblue",
          "shape": "spline",
          "width": 6.153846153846154
         },
         "mode": "lines",
         "name": "One-way Edge",
         "opacity": 0.6153846153846154,
         "showlegend": false,
         "type": "scatter",
         "x": [
          -0.647386372089386,
          0,
          null
         ],
         "y": [
          -0.7621619701385498,
          0,
          null
         ]
        },
        {
         "legendgroup": "blue",
         "line": {
          "color": "cornflowerblue",
          "shape": "spline",
          "width": 5.384615384615385
         },
         "mode": "lines",
         "name": "One-way Edge",
         "opacity": 0.5384615384615384,
         "showlegend": false,
         "type": "scatter",
         "x": [
          0.3701384365558624,
          0,
          null
         ],
         "y": [
          -0.9289765954017639,
          0,
          null
         ]
        },
        {
         "legendgroup": "red",
         "line": {
          "color": "red",
          "shape": "spline",
          "width": 4.615384615384615
         },
         "mode": "lines",
         "name": "Bidirectional Edge",
         "opacity": 0.46153846153846156,
         "showlegend": false,
         "type": "scatter",
         "x": [
          0.561187207698822,
          0,
          null
         ],
         "y": [
          -0.8276888728141785,
          0,
          null
         ]
        },
        {
         "legendgroup": "blue",
         "line": {
          "color": "cornflowerblue",
          "shape": "spline",
          "width": 4.615384615384615
         },
         "mode": "lines",
         "name": "One-way Edge",
         "opacity": 0.46153846153846156,
         "showlegend": false,
         "type": "scatter",
         "x": [
          0.7259955406188965,
          0,
          null
         ],
         "y": [
          -0.6876993775367737,
          0,
          null
         ]
        },
        {
         "legendgroup": "red",
         "line": {
          "color": "red",
          "shape": "spline",
          "width": 4.615384615384615
         },
         "mode": "lines",
         "name": "Bidirectional Edge",
         "opacity": 0.46153846153846156,
         "showlegend": false,
         "type": "scatter",
         "x": [
          0.856857180595398,
          0,
          null
         ],
         "y": [
          -0.515553891658783,
          0,
          null
         ]
        },
        {
         "legendgroup": "blue",
         "line": {
          "color": "cornflowerblue",
          "shape": "spline",
          "width": 4.615384615384615
         },
         "mode": "lines",
         "name": "One-way Edge",
         "opacity": 0.46153846153846156,
         "showlegend": false,
         "type": "scatter",
         "x": [
          0.9476531147956848,
          0,
          null
         ],
         "y": [
          -0.31930166482925415,
          0,
          null
         ]
        },
        {
         "legendgroup": "red",
         "line": {
          "color": "red",
          "shape": "spline",
          "width": 4.615384615384615
         },
         "mode": "lines",
         "name": "Bidirectional Edge",
         "opacity": 0.46153846153846156,
         "showlegend": false,
         "type": "scatter",
         "x": [
          0.9941379427909851,
          0,
          null
         ],
         "y": [
          -0.10811926424503326,
          0,
          null
         ]
        },
        {
         "legendgroup": "blue",
         "line": {
          "color": "cornflowerblue",
          "shape": "spline",
          "width": 4.615384615384615
         },
         "mode": "lines",
         "name": "One-way Edge",
         "opacity": 0.46153846153846156,
         "showlegend": false,
         "type": "scatter",
         "x": [
          0.7259953022003174,
          0,
          null
         ],
         "y": [
          0.6876996755599976,
          0,
          null
         ]
        },
        {
         "legendgroup": "blue",
         "line": {
          "color": "cornflowerblue",
          "shape": "spline",
          "width": 4.615384615384615
         },
         "mode": "lines",
         "name": "One-way Edge",
         "opacity": 0.46153846153846156,
         "showlegend": false,
         "type": "scatter",
         "x": [
          0.37013810873031616,
          0,
          null
         ],
         "y": [
          0.9289767146110535,
          0,
          null
         ]
        },
        {
         "legendgroup": "blue",
         "line": {
          "color": "cornflowerblue",
          "shape": "spline",
          "width": 3.8461538461538463
         },
         "mode": "lines",
         "name": "One-way Edge",
         "opacity": 0.38461538461538464,
         "showlegend": false,
         "type": "scatter",
         "x": [
          -0.05413874238729477,
          0,
          null
         ],
         "y": [
          0.9985334277153015,
          0,
          null
         ]
        },
        {
         "legendgroup": "blue",
         "line": {
          "color": "cornflowerblue",
          "shape": "spline",
          "width": 3.8461538461538463
         },
         "mode": "lines",
         "name": "One-way Edge",
         "opacity": 0.38461538461538464,
         "showlegend": false,
         "type": "scatter",
         "x": [
          -0.26752808690071106,
          0,
          null
         ],
         "y": [
          0.9635500907897949,
          0,
          null
         ]
        },
        {
         "legendgroup": "blue",
         "line": {
          "color": "cornflowerblue",
          "shape": "spline",
          "width": 3.8461538461538463
         },
         "mode": "lines",
         "name": "One-way Edge",
         "opacity": 0.38461538461538464,
         "showlegend": false,
         "type": "scatter",
         "x": [
          -0.26752808690071106,
          -0.46840810775756836,
          null
         ],
         "y": [
          0.9635500907897949,
          0.8835121989250183,
          null
         ]
        },
        {
         "legendgroup": "blue",
         "line": {
          "color": "cornflowerblue",
          "shape": "spline",
          "width": 3.8461538461538463
         },
         "mode": "lines",
         "name": "One-way Edge",
         "opacity": 0.38461538461538464,
         "showlegend": false,
         "type": "scatter",
         "x": [
          -0.7960932850837708,
          0,
          null
         ],
         "y": [
          0.6051739454269409,
          0,
          null
         ]
        },
        {
         "legendgroup": "blue",
         "line": {
          "color": "cornflowerblue",
          "shape": "spline",
          "width": 3.8461538461538463
         },
         "mode": "lines",
         "name": "One-way Edge",
         "opacity": 0.38461538461538464,
         "showlegend": false,
         "type": "scatter",
         "x": [
          -0.9766205549240112,
          0,
          null
         ],
         "y": [
          0.21497030556201935,
          0,
          null
         ]
        },
        {
         "hoverinfo": "text",
         "legendgroup": "#ED8B00",
         "marker": {
          "color": "#ED8B00",
          "size": 40,
          "symbol": "circle"
         },
         "mode": "markers",
         "name": "#ED8B00",
         "showlegend": true,
         "text": "Anthony",
         "type": "scatter",
         "x": [
          0,
          null
         ],
         "y": [
          0,
          null
         ]
        },
        {
         "hoverinfo": "text",
         "legendgroup": "#ED8B00",
         "marker": {
          "color": "#ED8B00",
          "size": 40,
          "symbol": "circle"
         },
         "mode": "markers",
         "name": "#ED8B00",
         "showlegend": false,
         "text": "Matthew",
         "type": "scatter",
         "x": [
          -0.9766205549240112,
          null
         ],
         "y": [
          -0.2149704247713089,
          null
         ]
        },
        {
         "hoverinfo": "text",
         "legendgroup": "#ED8B00",
         "marker": {
          "color": "#ED8B00",
          "size": 40,
          "symbol": "circle"
         },
         "mode": "markers",
         "name": "#ED8B00",
         "showlegend": false,
         "text": "Christopher",
         "type": "scatter",
         "x": [
          -0.9075753688812256,
          null
         ],
         "y": [
          -0.4198892116546631,
          null
         ]
        },
        {
         "hoverinfo": "text",
         "legendgroup": "#00965E",
         "marker": {
          "color": "#00965E",
          "size": 40,
          "symbol": "circle"
         },
         "mode": "markers",
         "name": "#00965E",
         "showlegend": true,
         "text": "Linda",
         "type": "scatter",
         "x": [
          -0.7960930466651917,
          null
         ],
         "y": [
          -0.6051742434501648,
          null
         ]
        },
        {
         "hoverinfo": "text",
         "legendgroup": "#ED8B00",
         "marker": {
          "color": "#ED8B00",
          "size": 40,
          "symbol": "circle"
         },
         "mode": "markers",
         "name": "#ED8B00",
         "showlegend": false,
         "text": "Daniel",
         "type": "scatter",
         "x": [
          -0.647386372089386,
          null
         ],
         "y": [
          -0.7621619701385498,
          null
         ]
        },
        {
         "hoverinfo": "text",
         "legendgroup": "#A05EB5",
         "marker": {
          "color": "#A05EB5",
          "size": 40,
          "symbol": "circle"
         },
         "mode": "markers",
         "name": "#A05EB5",
         "showlegend": true,
         "text": "Richard",
         "type": "scatter",
         "x": [
          -0.4684082269668579,
          null
         ],
         "y": [
          -0.8835121393203735,
          null
         ]
        },
        {
         "hoverinfo": "text",
         "legendgroup": "#B1B3B3",
         "marker": {
          "color": "#B1B3B3",
          "size": 40,
          "symbol": "circle"
         },
         "mode": "markers",
         "name": "#B1B3B3",
         "showlegend": true,
         "text": "Margaret",
         "type": "scatter",
         "x": [
          -0.2675282061100006,
          null
         ],
         "y": [
          -0.9635500311851501,
          null
         ]
        },
        {
         "hoverinfo": "text",
         "legendgroup": "#E40046",
         "marker": {
          "color": "#E40046",
          "size": 40,
          "symbol": "circle"
         },
         "mode": "markers",
         "name": "#E40046",
         "showlegend": true,
         "text": "Jessica",
         "type": "scatter",
         "x": [
          -0.05413886904716492,
          null
         ],
         "y": [
          -0.9985334277153015,
          null
         ]
        },
        {
         "hoverinfo": "text",
         "legendgroup": "#00965E",
         "marker": {
          "color": "#00965E",
          "size": 40,
          "symbol": "circle"
         },
         "mode": "markers",
         "name": "#00965E",
         "showlegend": false,
         "text": "Patricia",
         "type": "scatter",
         "x": [
          0.1617819219827652,
          null
         ],
         "y": [
          -0.9868265390396118,
          null
         ]
        },
        {
         "hoverinfo": "text",
         "legendgroup": "#A05EB5",
         "marker": {
          "color": "#A05EB5",
          "size": 40,
          "symbol": "circle"
         },
         "mode": "markers",
         "name": "#A05EB5",
         "showlegend": false,
         "text": "David",
         "type": "scatter",
         "x": [
          0.3701384365558624,
          null
         ],
         "y": [
          -0.9289765954017639,
          null
         ]
        },
        {
         "hoverinfo": "text",
         "legendgroup": "#00965E",
         "marker": {
          "color": "#00965E",
          "size": 40,
          "symbol": "circle"
         },
         "mode": "markers",
         "name": "#00965E",
         "showlegend": false,
         "text": "Jennifer",
         "type": "scatter",
         "x": [
          0.561187207698822,
          null
         ],
         "y": [
          -0.8276888728141785,
          null
         ]
        },
        {
         "hoverinfo": "text",
         "legendgroup": "#E40046",
         "marker": {
          "color": "#E40046",
          "size": 40,
          "symbol": "circle"
         },
         "mode": "markers",
         "name": "#E40046",
         "showlegend": false,
         "text": "Susan",
         "type": "scatter",
         "x": [
          0.7259955406188965,
          null
         ],
         "y": [
          -0.6876993775367737,
          null
         ]
        },
        {
         "hoverinfo": "text",
         "legendgroup": "#0066CC",
         "marker": {
          "color": "#0066CC",
          "size": 40,
          "symbol": "circle"
         },
         "mode": "markers",
         "name": "#0066CC",
         "showlegend": true,
         "text": "Michael",
         "type": "scatter",
         "x": [
          0.856857180595398,
          null
         ],
         "y": [
          -0.515553891658783,
          null
         ]
        },
        {
         "hoverinfo": "text",
         "legendgroup": "#0066CC",
         "marker": {
          "color": "#0066CC",
          "size": 40,
          "symbol": "circle"
         },
         "mode": "markers",
         "name": "#0066CC",
         "showlegend": false,
         "text": "William",
         "type": "scatter",
         "x": [
          0.9476531147956848,
          null
         ],
         "y": [
          -0.31930166482925415,
          null
         ]
        },
        {
         "hoverinfo": "text",
         "legendgroup": "#B1B3B3",
         "marker": {
          "color": "#B1B3B3",
          "size": 40,
          "symbol": "circle"
         },
         "mode": "markers",
         "name": "#B1B3B3",
         "showlegend": false,
         "text": "Sandra",
         "type": "scatter",
         "x": [
          0.9941379427909851,
          null
         ],
         "y": [
          -0.10811926424503326,
          null
         ]
        },
        {
         "hoverinfo": "text",
         "legendgroup": "#B1B3B3",
         "marker": {
          "color": "#B1B3B3",
          "size": 40,
          "symbol": "circle"
         },
         "mode": "markers",
         "name": "#B1B3B3",
         "showlegend": false,
         "text": "Betty",
         "type": "scatter",
         "x": [
          0.9941379427909851,
          null
         ],
         "y": [
          0.10811913758516312,
          null
         ]
        },
        {
         "hoverinfo": "text",
         "legendgroup": "#A05EB5",
         "marker": {
          "color": "#A05EB5",
          "size": 40,
          "symbol": "circle"
         },
         "mode": "markers",
         "name": "#A05EB5",
         "showlegend": false,
         "text": "Thomas",
         "type": "scatter",
         "x": [
          0.9476531744003296,
          null
         ],
         "y": [
          0.3193015456199646,
          null
         ]
        },
        {
         "hoverinfo": "text",
         "legendgroup": "#0066CC",
         "marker": {
          "color": "#0066CC",
          "size": 40,
          "symbol": "circle"
         },
         "mode": "markers",
         "name": "#0066CC",
         "showlegend": false,
         "text": "John",
         "type": "scatter",
         "x": [
          0.8568570017814636,
          null
         ],
         "y": [
          0.5155541896820068,
          null
         ]
        },
        {
         "hoverinfo": "text",
         "legendgroup": "#A05EB5",
         "marker": {
          "color": "#A05EB5",
          "size": 40,
          "symbol": "circle"
         },
         "mode": "markers",
         "name": "#A05EB5",
         "showlegend": false,
         "text": "Charles",
         "type": "scatter",
         "x": [
          0.7259953022003174,
          null
         ],
         "y": [
          0.6876996755599976,
          null
         ]
        },
        {
         "hoverinfo": "text",
         "legendgroup": "#A05EB5",
         "marker": {
          "color": "#A05EB5",
          "size": 40,
          "symbol": "circle"
         },
         "mode": "markers",
         "name": "#A05EB5",
         "showlegend": false,
         "text": "Joseph",
         "type": "scatter",
         "x": [
          0.5611869096755981,
          null
         ],
         "y": [
          0.8276891112327576,
          null
         ]
        },
        {
         "hoverinfo": "text",
         "legendgroup": "#00965E",
         "marker": {
          "color": "#00965E",
          "size": 40,
          "symbol": "circle"
         },
         "mode": "markers",
         "name": "#00965E",
         "showlegend": false,
         "text": "Mary",
         "type": "scatter",
         "x": [
          0.37013810873031616,
          null
         ],
         "y": [
          0.9289767146110535,
          null
         ]
        },
        {
         "hoverinfo": "text",
         "legendgroup": "#B1B3B3",
         "marker": {
          "color": "#B1B3B3",
          "size": 40,
          "symbol": "circle"
         },
         "mode": "markers",
         "name": "#B1B3B3",
         "showlegend": false,
         "text": "Lisa",
         "type": "scatter",
         "x": [
          0.16178205609321594,
          null
         ],
         "y": [
          0.9868265390396118,
          null
         ]
        },
        {
         "hoverinfo": "text",
         "legendgroup": "#E40046",
         "marker": {
          "color": "#E40046",
          "size": 40,
          "symbol": "circle"
         },
         "mode": "markers",
         "name": "#E40046",
         "showlegend": false,
         "text": "Karen",
         "type": "scatter",
         "x": [
          -0.05413874238729477,
          null
         ],
         "y": [
          0.9985334277153015,
          null
         ]
        },
        {
         "hoverinfo": "text",
         "legendgroup": "#E40046",
         "marker": {
          "color": "#E40046",
          "size": 40,
          "symbol": "circle"
         },
         "mode": "markers",
         "name": "#E40046",
         "showlegend": false,
         "text": "Sarah",
         "type": "scatter",
         "x": [
          -0.26752808690071106,
          null
         ],
         "y": [
          0.9635500907897949,
          null
         ]
        },
        {
         "hoverinfo": "text",
         "legendgroup": "#00965E",
         "marker": {
          "color": "#00965E",
          "size": 40,
          "symbol": "circle"
         },
         "mode": "markers",
         "name": "#00965E",
         "showlegend": false,
         "text": "Elizabeth",
         "type": "scatter",
         "x": [
          -0.46840810775756836,
          null
         ],
         "y": [
          0.8835121989250183,
          null
         ]
        },
        {
         "hoverinfo": "text",
         "legendgroup": "#0066CC",
         "marker": {
          "color": "#0066CC",
          "size": 40,
          "symbol": "circle"
         },
         "mode": "markers",
         "name": "#0066CC",
         "showlegend": false,
         "text": "Robert",
         "type": "scatter",
         "x": [
          -0.6473866105079651,
          null
         ],
         "y": [
          0.7621617317199707,
          null
         ]
        },
        {
         "hoverinfo": "text",
         "legendgroup": "#ED8B00",
         "marker": {
          "color": "#ED8B00",
          "size": 40,
          "symbol": "circle"
         },
         "mode": "markers",
         "name": "#ED8B00",
         "showlegend": false,
         "text": "Nancy",
         "type": "scatter",
         "x": [
          -0.7960932850837708,
          null
         ],
         "y": [
          0.6051739454269409,
          null
         ]
        },
        {
         "hoverinfo": "text",
         "legendgroup": "#0066CC",
         "marker": {
          "color": "#0066CC",
          "size": 40,
          "symbol": "circle"
         },
         "mode": "markers",
         "name": "#0066CC",
         "showlegend": false,
         "text": "James",
         "type": "scatter",
         "x": [
          -0.9075755476951599,
          null
         ],
         "y": [
          0.4198888838291168,
          null
         ]
        },
        {
         "hoverinfo": "text",
         "legendgroup": "#E40046",
         "marker": {
          "color": "#E40046",
          "size": 40,
          "symbol": "circle"
         },
         "mode": "markers",
         "name": "#E40046",
         "showlegend": false,
         "text": "Barbara",
         "type": "scatter",
         "x": [
          -0.9766205549240112,
          null
         ],
         "y": [
          0.21497030556201935,
          null
         ]
        },
        {
         "hoverinfo": "text",
         "hovertext": [
          "From: Anthony To: Matthew, weight: 13",
          "Bidirectional edge:<br>Anthony To: Christopher, weight: 10<br>Christopher To: Anthony, weight: 5",
          "From: Anthony To: Richard, weight: 8",
          "From: Anthony To: Margaret, weight: 7",
          "From: Anthony To: Jessica, weight: 7",
          "From: Anthony To: Patricia, weight: 7",
          "Bidirectional edge:<br>Anthony To: Jennifer, weight: 6<br>Jennifer To: Anthony, weight: 6",
          "From: Anthony To: Betty, weight: 6",
          "From: Anthony To: Thomas, weight: 6",
          "From: Anthony To: John, weight: 6",
          "From: Anthony To: Joseph, weight: 6",
          "Bidirectional edge:<br>Anthony To: Sandra, weight: 5<br>Sandra To: Anthony, weight: 6",
          "Bidirectional edge:<br>Anthony To: Michael, weight: 5<br>Michael To: Anthony, weight: 6",
          "From: Anthony To: Lisa, weight: 5",
          "From: Anthony To: Robert, weight: 5",
          "From: Anthony To: James, weight: 5",
          "Bidirectional edge:<br>Christopher To: Anthony, weight: 5<br>Anthony To: Christopher, weight: 10",
          "From: Linda To: Anthony, weight: 9",
          "From: Daniel To: Anthony, weight: 8",
          "From: David To: Anthony, weight: 7",
          "Bidirectional edge:<br>Jennifer To: Anthony, weight: 6<br>Anthony To: Jennifer, weight: 6",
          "From: Susan To: Anthony, weight: 6",
          "Bidirectional edge:<br>Michael To: Anthony, weight: 6<br>Anthony To: Michael, weight: 5",
          "From: William To: Anthony, weight: 6",
          "Bidirectional edge:<br>Sandra To: Anthony, weight: 6<br>Anthony To: Sandra, weight: 5",
          "From: Charles To: Anthony, weight: 6",
          "From: Mary To: Anthony, weight: 6",
          "From: Karen To: Anthony, weight: 5",
          "From: Sarah To: Anthony, weight: 5",
          "From: Sarah To: Elizabeth, weight: 5",
          "From: Nancy To: Anthony, weight: 5",
          "From: Barbara To: Anthony, weight: 5"
         ],
         "marker": {
          "color": "LightSkyBlue",
          "size": 20
         },
         "mode": "markers",
         "opacity": 0,
         "showlegend": false,
         "type": "scatter",
         "x": [
          -0.4883102774620056,
          -0.4537876844406128,
          -0.23420411348342896,
          -0.1337641030550003,
          -0.02706943452358246,
          0.0808909609913826,
          0.280593603849411,
          0.49706897139549255,
          0.4738265872001648,
          0.4284285008907318,
          0.2805934548377991,
          0.49706897139549255,
          0.428428590297699,
          0.08089102804660797,
          -0.32369330525398254,
          -0.45378777384757996,
          -0.4537876844406128,
          -0.3980465233325958,
          -0.323693186044693,
          0.1850692182779312,
          0.280593603849411,
          0.36299777030944824,
          0.428428590297699,
          0.4738265573978424,
          0.49706897139549255,
          0.3629976511001587,
          0.18506905436515808,
          -0.027069371193647385,
          -0.13376404345035553,
          -0.3679680973291397,
          -0.3980466425418854,
          -0.4883102774620056
         ],
         "y": [
          -0.10748521238565445,
          -0.20994460582733154,
          -0.44175606966018677,
          -0.4817750155925751,
          -0.49926671385765076,
          -0.4934132695198059,
          -0.41384443640708923,
          0.05405956879258156,
          0.1596507728099823,
          0.2577770948410034,
          0.4138445556163788,
          -0.05405963212251663,
          -0.2577769458293915,
          0.4934132695198059,
          0.38108086585998535,
          0.2099444419145584,
          -0.20994460582733154,
          -0.3025871217250824,
          -0.3810809850692749,
          -0.46448829770088196,
          -0.41384443640708923,
          -0.34384968876838684,
          -0.2577769458293915,
          -0.15965083241462708,
          -0.05405963212251663,
          0.3438498377799988,
          0.46448835730552673,
          0.49926671385765076,
          0.48177504539489746,
          0.9235311448574066,
          0.30258697271347046,
          0.10748515278100967
         ]
        }
       ],
       "layout": {
        "annotations": [
         {
          "arrowcolor": "cornflowerblue",
          "arrowhead": 3,
          "arrowsize": 4,
          "arrowwidth": 1,
          "ax": -0.4883102774620056,
          "axref": "x",
          "ay": -0.10748521238565445,
          "ayref": "y",
          "opacity": 0.7,
          "showarrow": true,
          "x": -0.7324654161930084,
          "xref": "x",
          "y": -0.16122781857848167,
          "yref": "y"
         },
         {
          "arrowcolor": "red",
          "arrowhead": 3,
          "arrowsize": 4,
          "arrowwidth": 1,
          "ax": -0.4537876844406128,
          "axref": "x",
          "ay": -0.20994460582733154,
          "ayref": "y",
          "opacity": 0.7,
          "showarrow": true,
          "x": -0.6806815266609192,
          "xref": "x",
          "y": -0.3149169087409973,
          "yref": "y"
         },
         {
          "arrowcolor": "cornflowerblue",
          "arrowhead": 3,
          "arrowsize": 4,
          "arrowwidth": 1,
          "ax": -0.23420411348342896,
          "axref": "x",
          "ay": -0.44175606966018677,
          "ayref": "y",
          "opacity": 0.7,
          "showarrow": true,
          "x": -0.35130617022514343,
          "xref": "x",
          "y": -0.6626341044902802,
          "yref": "y"
         },
         {
          "arrowcolor": "cornflowerblue",
          "arrowhead": 3,
          "arrowsize": 4,
          "arrowwidth": 1,
          "ax": -0.1337641030550003,
          "axref": "x",
          "ay": -0.4817750155925751,
          "ayref": "y",
          "opacity": 0.7,
          "showarrow": true,
          "x": -0.20064615458250046,
          "xref": "x",
          "y": -0.7226625233888626,
          "yref": "y"
         },
         {
          "arrowcolor": "cornflowerblue",
          "arrowhead": 3,
          "arrowsize": 4,
          "arrowwidth": 1,
          "ax": -0.02706943452358246,
          "axref": "x",
          "ay": -0.49926671385765076,
          "ayref": "y",
          "opacity": 0.7,
          "showarrow": true,
          "x": -0.04060415178537369,
          "xref": "x",
          "y": -0.7489000707864761,
          "yref": "y"
         },
         {
          "arrowcolor": "cornflowerblue",
          "arrowhead": 3,
          "arrowsize": 4,
          "arrowwidth": 1,
          "ax": 0.0808909609913826,
          "axref": "x",
          "ay": -0.4934132695198059,
          "ayref": "y",
          "opacity": 0.7,
          "showarrow": true,
          "x": 0.1213364414870739,
          "xref": "x",
          "y": -0.7401199042797089,
          "yref": "y"
         },
         {
          "arrowcolor": "red",
          "arrowhead": 3,
          "arrowsize": 4,
          "arrowwidth": 1,
          "ax": 0.280593603849411,
          "axref": "x",
          "ay": -0.41384443640708923,
          "ayref": "y",
          "opacity": 0.7,
          "showarrow": true,
          "x": 0.4208904057741165,
          "xref": "x",
          "y": -0.6207666546106339,
          "yref": "y"
         },
         {
          "arrowcolor": "cornflowerblue",
          "arrowhead": 3,
          "arrowsize": 4,
          "arrowwidth": 1,
          "ax": 0.49706897139549255,
          "axref": "x",
          "ay": 0.05405956879258156,
          "ayref": "y",
          "opacity": 0.7,
          "showarrow": true,
          "x": 0.7456034570932388,
          "xref": "x",
          "y": 0.08108935318887234,
          "yref": "y"
         },
         {
          "arrowcolor": "cornflowerblue",
          "arrowhead": 3,
          "arrowsize": 4,
          "arrowwidth": 1,
          "ax": 0.4738265872001648,
          "axref": "x",
          "ay": 0.1596507728099823,
          "ayref": "y",
          "opacity": 0.7,
          "showarrow": true,
          "x": 0.7107398808002472,
          "xref": "x",
          "y": 0.23947615921497345,
          "yref": "y"
         },
         {
          "arrowcolor": "cornflowerblue",
          "arrowhead": 3,
          "arrowsize": 4,
          "arrowwidth": 1,
          "ax": 0.4284285008907318,
          "axref": "x",
          "ay": 0.2577770948410034,
          "ayref": "y",
          "opacity": 0.7,
          "showarrow": true,
          "x": 0.6426427513360977,
          "xref": "x",
          "y": 0.3866656422615051,
          "yref": "y"
         },
         {
          "arrowcolor": "cornflowerblue",
          "arrowhead": 3,
          "arrowsize": 4,
          "arrowwidth": 1,
          "ax": 0.2805934548377991,
          "axref": "x",
          "ay": 0.4138445556163788,
          "ayref": "y",
          "opacity": 0.7,
          "showarrow": true,
          "x": 0.4208901822566986,
          "xref": "x",
          "y": 0.6207668334245682,
          "yref": "y"
         },
         {
          "arrowcolor": "red",
          "arrowhead": 3,
          "arrowsize": 4,
          "arrowwidth": 1,
          "ax": 0.49706897139549255,
          "axref": "x",
          "ay": -0.05405963212251663,
          "ayref": "y",
          "opacity": 0.7,
          "showarrow": true,
          "x": 0.7456034570932388,
          "xref": "x",
          "y": -0.08108944818377495,
          "yref": "y"
         },
         {
          "arrowcolor": "red",
          "arrowhead": 3,
          "arrowsize": 4,
          "arrowwidth": 1,
          "ax": 0.428428590297699,
          "axref": "x",
          "ay": -0.2577769458293915,
          "ayref": "y",
          "opacity": 0.7,
          "showarrow": true,
          "x": 0.6426428854465485,
          "xref": "x",
          "y": -0.3866654187440872,
          "yref": "y"
         },
         {
          "arrowcolor": "cornflowerblue",
          "arrowhead": 3,
          "arrowsize": 4,
          "arrowwidth": 1,
          "ax": 0.08089102804660797,
          "axref": "x",
          "ay": 0.4934132695198059,
          "ayref": "y",
          "opacity": 0.7,
          "showarrow": true,
          "x": 0.12133654206991196,
          "xref": "x",
          "y": 0.7401199042797089,
          "yref": "y"
         },
         {
          "arrowcolor": "cornflowerblue",
          "arrowhead": 3,
          "arrowsize": 4,
          "arrowwidth": 1,
          "ax": -0.32369330525398254,
          "axref": "x",
          "ay": 0.38108086585998535,
          "ayref": "y",
          "opacity": 0.7,
          "showarrow": true,
          "x": -0.4855399578809738,
          "xref": "x",
          "y": 0.571621298789978,
          "yref": "y"
         },
         {
          "arrowcolor": "cornflowerblue",
          "arrowhead": 3,
          "arrowsize": 4,
          "arrowwidth": 1,
          "ax": -0.45378777384757996,
          "axref": "x",
          "ay": 0.2099444419145584,
          "ayref": "y",
          "opacity": 0.7,
          "showarrow": true,
          "x": -0.6806816607713699,
          "xref": "x",
          "y": 0.3149166628718376,
          "yref": "y"
         },
         {
          "arrowcolor": "red",
          "arrowhead": 3,
          "arrowsize": 4,
          "arrowwidth": 1,
          "ax": -0.4537876844406128,
          "axref": "x",
          "ay": -0.20994460582733154,
          "ayref": "y",
          "opacity": 0.7,
          "showarrow": true,
          "x": -0.2268938422203064,
          "xref": "x",
          "y": -0.10497230291366577,
          "yref": "y"
         },
         {
          "arrowcolor": "cornflowerblue",
          "arrowhead": 3,
          "arrowsize": 4,
          "arrowwidth": 1,
          "ax": -0.3980465233325958,
          "axref": "x",
          "ay": -0.3025871217250824,
          "ayref": "y",
          "opacity": 0.7,
          "showarrow": true,
          "x": -0.1990232616662979,
          "xref": "x",
          "y": -0.1512935608625412,
          "yref": "y"
         },
         {
          "arrowcolor": "cornflowerblue",
          "arrowhead": 3,
          "arrowsize": 4,
          "arrowwidth": 1,
          "ax": -0.323693186044693,
          "axref": "x",
          "ay": -0.3810809850692749,
          "ayref": "y",
          "opacity": 0.7,
          "showarrow": true,
          "x": -0.1618465930223465,
          "xref": "x",
          "y": -0.19054049253463745,
          "yref": "y"
         },
         {
          "arrowcolor": "cornflowerblue",
          "arrowhead": 3,
          "arrowsize": 4,
          "arrowwidth": 1,
          "ax": 0.1850692182779312,
          "axref": "x",
          "ay": -0.46448829770088196,
          "ayref": "y",
          "opacity": 0.7,
          "showarrow": true,
          "x": 0.0925346091389656,
          "xref": "x",
          "y": -0.23224414885044098,
          "yref": "y"
         },
         {
          "arrowcolor": "red",
          "arrowhead": 3,
          "arrowsize": 4,
          "arrowwidth": 1,
          "ax": 0.280593603849411,
          "axref": "x",
          "ay": -0.41384443640708923,
          "ayref": "y",
          "opacity": 0.7,
          "showarrow": true,
          "x": 0.1402968019247055,
          "xref": "x",
          "y": -0.20692221820354462,
          "yref": "y"
         },
         {
          "arrowcolor": "cornflowerblue",
          "arrowhead": 3,
          "arrowsize": 4,
          "arrowwidth": 1,
          "ax": 0.36299777030944824,
          "axref": "x",
          "ay": -0.34384968876838684,
          "ayref": "y",
          "opacity": 0.7,
          "showarrow": true,
          "x": 0.18149888515472412,
          "xref": "x",
          "y": -0.17192484438419342,
          "yref": "y"
         },
         {
          "arrowcolor": "red",
          "arrowhead": 3,
          "arrowsize": 4,
          "arrowwidth": 1,
          "ax": 0.428428590297699,
          "axref": "x",
          "ay": -0.2577769458293915,
          "ayref": "y",
          "opacity": 0.7,
          "showarrow": true,
          "x": 0.2142142951488495,
          "xref": "x",
          "y": -0.12888847291469574,
          "yref": "y"
         },
         {
          "arrowcolor": "cornflowerblue",
          "arrowhead": 3,
          "arrowsize": 4,
          "arrowwidth": 1,
          "ax": 0.4738265573978424,
          "axref": "x",
          "ay": -0.15965083241462708,
          "ayref": "y",
          "opacity": 0.7,
          "showarrow": true,
          "x": 0.2369132786989212,
          "xref": "x",
          "y": -0.07982541620731354,
          "yref": "y"
         },
         {
          "arrowcolor": "red",
          "arrowhead": 3,
          "arrowsize": 4,
          "arrowwidth": 1,
          "ax": 0.49706897139549255,
          "axref": "x",
          "ay": -0.05405963212251663,
          "ayref": "y",
          "opacity": 0.7,
          "showarrow": true,
          "x": 0.24853448569774628,
          "xref": "x",
          "y": -0.027029816061258316,
          "yref": "y"
         },
         {
          "arrowcolor": "cornflowerblue",
          "arrowhead": 3,
          "arrowsize": 4,
          "arrowwidth": 1,
          "ax": 0.3629976511001587,
          "axref": "x",
          "ay": 0.3438498377799988,
          "ayref": "y",
          "opacity": 0.7,
          "showarrow": true,
          "x": 0.18149882555007935,
          "xref": "x",
          "y": 0.1719249188899994,
          "yref": "y"
         },
         {
          "arrowcolor": "cornflowerblue",
          "arrowhead": 3,
          "arrowsize": 4,
          "arrowwidth": 1,
          "ax": 0.18506905436515808,
          "axref": "x",
          "ay": 0.46448835730552673,
          "ayref": "y",
          "opacity": 0.7,
          "showarrow": true,
          "x": 0.09253452718257904,
          "xref": "x",
          "y": 0.23224417865276337,
          "yref": "y"
         },
         {
          "arrowcolor": "cornflowerblue",
          "arrowhead": 3,
          "arrowsize": 4,
          "arrowwidth": 1,
          "ax": -0.027069371193647385,
          "axref": "x",
          "ay": 0.49926671385765076,
          "ayref": "y",
          "opacity": 0.7,
          "showarrow": true,
          "x": -0.013534685596823692,
          "xref": "x",
          "y": 0.24963335692882538,
          "yref": "y"
         },
         {
          "arrowcolor": "cornflowerblue",
          "arrowhead": 3,
          "arrowsize": 4,
          "arrowwidth": 1,
          "ax": -0.13376404345035553,
          "axref": "x",
          "ay": 0.48177504539489746,
          "ayref": "y",
          "opacity": 0.7,
          "showarrow": true,
          "x": -0.06688202172517776,
          "xref": "x",
          "y": 0.24088752269744873,
          "yref": "y"
         },
         {
          "arrowcolor": "cornflowerblue",
          "arrowhead": 3,
          "arrowsize": 4,
          "arrowwidth": 1,
          "ax": -0.3679680973291397,
          "axref": "x",
          "ay": 0.9235311448574066,
          "ayref": "y",
          "opacity": 0.7,
          "showarrow": true,
          "x": -0.41818810254335403,
          "xref": "x",
          "y": 0.9035216718912125,
          "yref": "y"
         },
         {
          "arrowcolor": "cornflowerblue",
          "arrowhead": 3,
          "arrowsize": 4,
          "arrowwidth": 1,
          "ax": -0.3980466425418854,
          "axref": "x",
          "ay": 0.30258697271347046,
          "ayref": "y",
          "opacity": 0.7,
          "showarrow": true,
          "x": -0.1990233212709427,
          "xref": "x",
          "y": 0.15129348635673523,
          "yref": "y"
         },
         {
          "arrowcolor": "cornflowerblue",
          "arrowhead": 3,
          "arrowsize": 4,
          "arrowwidth": 1,
          "ax": -0.4883102774620056,
          "axref": "x",
          "ay": 0.10748515278100967,
          "ayref": "y",
          "opacity": 0.7,
          "showarrow": true,
          "x": -0.2441551387310028,
          "xref": "x",
          "y": 0.05374257639050484,
          "yref": "y"
         }
        ],
        "height": 600,
        "hovermode": "closest",
        "legend": {
         "itemclick": false,
         "itemdoubleclick": false
        },
        "margin": {
         "b": 60,
         "l": 60,
         "r": 60,
         "t": 60
        },
        "showlegend": true,
        "template": {
         "data": {
          "bar": [
           {
            "error_x": {
             "color": "#2a3f5f"
            },
            "error_y": {
             "color": "#2a3f5f"
            },
            "marker": {
             "line": {
              "color": "#E5ECF6",
              "width": 0.5
             }
            },
            "type": "bar"
           }
          ],
          "barpolar": [
           {
            "marker": {
             "line": {
              "color": "#E5ECF6",
              "width": 0.5
             }
            },
            "type": "barpolar"
           }
          ],
          "carpet": [
           {
            "aaxis": {
             "endlinecolor": "#2a3f5f",
             "gridcolor": "white",
             "linecolor": "white",
             "minorgridcolor": "white",
             "startlinecolor": "#2a3f5f"
            },
            "baxis": {
             "endlinecolor": "#2a3f5f",
             "gridcolor": "white",
             "linecolor": "white",
             "minorgridcolor": "white",
             "startlinecolor": "#2a3f5f"
            },
            "type": "carpet"
           }
          ],
          "choropleth": [
           {
            "colorbar": {
             "outlinewidth": 0,
             "ticks": ""
            },
            "type": "choropleth"
           }
          ],
          "contour": [
           {
            "colorbar": {
             "outlinewidth": 0,
             "ticks": ""
            },
            "colorscale": [
             [
              0,
              "#0d0887"
             ],
             [
              0.1111111111111111,
              "#46039f"
             ],
             [
              0.2222222222222222,
              "#7201a8"
             ],
             [
              0.3333333333333333,
              "#9c179e"
             ],
             [
              0.4444444444444444,
              "#bd3786"
             ],
             [
              0.5555555555555556,
              "#d8576b"
             ],
             [
              0.6666666666666666,
              "#ed7953"
             ],
             [
              0.7777777777777778,
              "#fb9f3a"
             ],
             [
              0.8888888888888888,
              "#fdca26"
             ],
             [
              1,
              "#f0f921"
             ]
            ],
            "type": "contour"
           }
          ],
          "contourcarpet": [
           {
            "colorbar": {
             "outlinewidth": 0,
             "ticks": ""
            },
            "type": "contourcarpet"
           }
          ],
          "heatmap": [
           {
            "colorbar": {
             "outlinewidth": 0,
             "ticks": ""
            },
            "colorscale": [
             [
              0,
              "#0d0887"
             ],
             [
              0.1111111111111111,
              "#46039f"
             ],
             [
              0.2222222222222222,
              "#7201a8"
             ],
             [
              0.3333333333333333,
              "#9c179e"
             ],
             [
              0.4444444444444444,
              "#bd3786"
             ],
             [
              0.5555555555555556,
              "#d8576b"
             ],
             [
              0.6666666666666666,
              "#ed7953"
             ],
             [
              0.7777777777777778,
              "#fb9f3a"
             ],
             [
              0.8888888888888888,
              "#fdca26"
             ],
             [
              1,
              "#f0f921"
             ]
            ],
            "type": "heatmap"
           }
          ],
          "heatmapgl": [
           {
            "colorbar": {
             "outlinewidth": 0,
             "ticks": ""
            },
            "colorscale": [
             [
              0,
              "#0d0887"
             ],
             [
              0.1111111111111111,
              "#46039f"
             ],
             [
              0.2222222222222222,
              "#7201a8"
             ],
             [
              0.3333333333333333,
              "#9c179e"
             ],
             [
              0.4444444444444444,
              "#bd3786"
             ],
             [
              0.5555555555555556,
              "#d8576b"
             ],
             [
              0.6666666666666666,
              "#ed7953"
             ],
             [
              0.7777777777777778,
              "#fb9f3a"
             ],
             [
              0.8888888888888888,
              "#fdca26"
             ],
             [
              1,
              "#f0f921"
             ]
            ],
            "type": "heatmapgl"
           }
          ],
          "histogram": [
           {
            "marker": {
             "colorbar": {
              "outlinewidth": 0,
              "ticks": ""
             }
            },
            "type": "histogram"
           }
          ],
          "histogram2d": [
           {
            "colorbar": {
             "outlinewidth": 0,
             "ticks": ""
            },
            "colorscale": [
             [
              0,
              "#0d0887"
             ],
             [
              0.1111111111111111,
              "#46039f"
             ],
             [
              0.2222222222222222,
              "#7201a8"
             ],
             [
              0.3333333333333333,
              "#9c179e"
             ],
             [
              0.4444444444444444,
              "#bd3786"
             ],
             [
              0.5555555555555556,
              "#d8576b"
             ],
             [
              0.6666666666666666,
              "#ed7953"
             ],
             [
              0.7777777777777778,
              "#fb9f3a"
             ],
             [
              0.8888888888888888,
              "#fdca26"
             ],
             [
              1,
              "#f0f921"
             ]
            ],
            "type": "histogram2d"
           }
          ],
          "histogram2dcontour": [
           {
            "colorbar": {
             "outlinewidth": 0,
             "ticks": ""
            },
            "colorscale": [
             [
              0,
              "#0d0887"
             ],
             [
              0.1111111111111111,
              "#46039f"
             ],
             [
              0.2222222222222222,
              "#7201a8"
             ],
             [
              0.3333333333333333,
              "#9c179e"
             ],
             [
              0.4444444444444444,
              "#bd3786"
             ],
             [
              0.5555555555555556,
              "#d8576b"
             ],
             [
              0.6666666666666666,
              "#ed7953"
             ],
             [
              0.7777777777777778,
              "#fb9f3a"
             ],
             [
              0.8888888888888888,
              "#fdca26"
             ],
             [
              1,
              "#f0f921"
             ]
            ],
            "type": "histogram2dcontour"
           }
          ],
          "mesh3d": [
           {
            "colorbar": {
             "outlinewidth": 0,
             "ticks": ""
            },
            "type": "mesh3d"
           }
          ],
          "parcoords": [
           {
            "line": {
             "colorbar": {
              "outlinewidth": 0,
              "ticks": ""
             }
            },
            "type": "parcoords"
           }
          ],
          "pie": [
           {
            "automargin": true,
            "type": "pie"
           }
          ],
          "scatter": [
           {
            "marker": {
             "colorbar": {
              "outlinewidth": 0,
              "ticks": ""
             }
            },
            "type": "scatter"
           }
          ],
          "scatter3d": [
           {
            "line": {
             "colorbar": {
              "outlinewidth": 0,
              "ticks": ""
             }
            },
            "marker": {
             "colorbar": {
              "outlinewidth": 0,
              "ticks": ""
             }
            },
            "type": "scatter3d"
           }
          ],
          "scattercarpet": [
           {
            "marker": {
             "colorbar": {
              "outlinewidth": 0,
              "ticks": ""
             }
            },
            "type": "scattercarpet"
           }
          ],
          "scattergeo": [
           {
            "marker": {
             "colorbar": {
              "outlinewidth": 0,
              "ticks": ""
             }
            },
            "type": "scattergeo"
           }
          ],
          "scattergl": [
           {
            "marker": {
             "colorbar": {
              "outlinewidth": 0,
              "ticks": ""
             }
            },
            "type": "scattergl"
           }
          ],
          "scattermapbox": [
           {
            "marker": {
             "colorbar": {
              "outlinewidth": 0,
              "ticks": ""
             }
            },
            "type": "scattermapbox"
           }
          ],
          "scatterpolar": [
           {
            "marker": {
             "colorbar": {
              "outlinewidth": 0,
              "ticks": ""
             }
            },
            "type": "scatterpolar"
           }
          ],
          "scatterpolargl": [
           {
            "marker": {
             "colorbar": {
              "outlinewidth": 0,
              "ticks": ""
             }
            },
            "type": "scatterpolargl"
           }
          ],
          "scatterternary": [
           {
            "marker": {
             "colorbar": {
              "outlinewidth": 0,
              "ticks": ""
             }
            },
            "type": "scatterternary"
           }
          ],
          "surface": [
           {
            "colorbar": {
             "outlinewidth": 0,
             "ticks": ""
            },
            "colorscale": [
             [
              0,
              "#0d0887"
             ],
             [
              0.1111111111111111,
              "#46039f"
             ],
             [
              0.2222222222222222,
              "#7201a8"
             ],
             [
              0.3333333333333333,
              "#9c179e"
             ],
             [
              0.4444444444444444,
              "#bd3786"
             ],
             [
              0.5555555555555556,
              "#d8576b"
             ],
             [
              0.6666666666666666,
              "#ed7953"
             ],
             [
              0.7777777777777778,
              "#fb9f3a"
             ],
             [
              0.8888888888888888,
              "#fdca26"
             ],
             [
              1,
              "#f0f921"
             ]
            ],
            "type": "surface"
           }
          ],
          "table": [
           {
            "cells": {
             "fill": {
              "color": "#EBF0F8"
             },
             "line": {
              "color": "white"
             }
            },
            "header": {
             "fill": {
              "color": "#C8D4E3"
             },
             "line": {
              "color": "white"
             }
            },
            "type": "table"
           }
          ]
         },
         "layout": {
          "annotationdefaults": {
           "arrowcolor": "#2a3f5f",
           "arrowhead": 0,
           "arrowwidth": 1
          },
          "coloraxis": {
           "colorbar": {
            "outlinewidth": 0,
            "ticks": ""
           }
          },
          "colorscale": {
           "diverging": [
            [
             0,
             "#8e0152"
            ],
            [
             0.1,
             "#c51b7d"
            ],
            [
             0.2,
             "#de77ae"
            ],
            [
             0.3,
             "#f1b6da"
            ],
            [
             0.4,
             "#fde0ef"
            ],
            [
             0.5,
             "#f7f7f7"
            ],
            [
             0.6,
             "#e6f5d0"
            ],
            [
             0.7,
             "#b8e186"
            ],
            [
             0.8,
             "#7fbc41"
            ],
            [
             0.9,
             "#4d9221"
            ],
            [
             1,
             "#276419"
            ]
           ],
           "sequential": [
            [
             0,
             "#0d0887"
            ],
            [
             0.1111111111111111,
             "#46039f"
            ],
            [
             0.2222222222222222,
             "#7201a8"
            ],
            [
             0.3333333333333333,
             "#9c179e"
            ],
            [
             0.4444444444444444,
             "#bd3786"
            ],
            [
             0.5555555555555556,
             "#d8576b"
            ],
            [
             0.6666666666666666,
             "#ed7953"
            ],
            [
             0.7777777777777778,
             "#fb9f3a"
            ],
            [
             0.8888888888888888,
             "#fdca26"
            ],
            [
             1,
             "#f0f921"
            ]
           ],
           "sequentialminus": [
            [
             0,
             "#0d0887"
            ],
            [
             0.1111111111111111,
             "#46039f"
            ],
            [
             0.2222222222222222,
             "#7201a8"
            ],
            [
             0.3333333333333333,
             "#9c179e"
            ],
            [
             0.4444444444444444,
             "#bd3786"
            ],
            [
             0.5555555555555556,
             "#d8576b"
            ],
            [
             0.6666666666666666,
             "#ed7953"
            ],
            [
             0.7777777777777778,
             "#fb9f3a"
            ],
            [
             0.8888888888888888,
             "#fdca26"
            ],
            [
             1,
             "#f0f921"
            ]
           ]
          },
          "colorway": [
           "#636efa",
           "#EF553B",
           "#00cc96",
           "#ab63fa",
           "#FFA15A",
           "#19d3f3",
           "#FF6692",
           "#B6E880",
           "#FF97FF",
           "#FECB52"
          ],
          "font": {
           "color": "#2a3f5f"
          },
          "geo": {
           "bgcolor": "white",
           "lakecolor": "white",
           "landcolor": "#E5ECF6",
           "showlakes": true,
           "showland": true,
           "subunitcolor": "white"
          },
          "hoverlabel": {
           "align": "left"
          },
          "hovermode": "closest",
          "mapbox": {
           "style": "light"
          },
          "paper_bgcolor": "white",
          "plot_bgcolor": "#E5ECF6",
          "polar": {
           "angularaxis": {
            "gridcolor": "white",
            "linecolor": "white",
            "ticks": ""
           },
           "bgcolor": "#E5ECF6",
           "radialaxis": {
            "gridcolor": "white",
            "linecolor": "white",
            "ticks": ""
           }
          },
          "scene": {
           "xaxis": {
            "backgroundcolor": "#E5ECF6",
            "gridcolor": "white",
            "gridwidth": 2,
            "linecolor": "white",
            "showbackground": true,
            "ticks": "",
            "zerolinecolor": "white"
           },
           "yaxis": {
            "backgroundcolor": "#E5ECF6",
            "gridcolor": "white",
            "gridwidth": 2,
            "linecolor": "white",
            "showbackground": true,
            "ticks": "",
            "zerolinecolor": "white"
           },
           "zaxis": {
            "backgroundcolor": "#E5ECF6",
            "gridcolor": "white",
            "gridwidth": 2,
            "linecolor": "white",
            "showbackground": true,
            "ticks": "",
            "zerolinecolor": "white"
           }
          },
          "shapedefaults": {
           "line": {
            "color": "#2a3f5f"
           }
          },
          "ternary": {
           "aaxis": {
            "gridcolor": "white",
            "linecolor": "white",
            "ticks": ""
           },
           "baxis": {
            "gridcolor": "white",
            "linecolor": "white",
            "ticks": ""
           },
           "bgcolor": "#E5ECF6",
           "caxis": {
            "gridcolor": "white",
            "linecolor": "white",
            "ticks": ""
           }
          },
          "title": {
           "x": 0.05
          },
          "xaxis": {
           "automargin": true,
           "gridcolor": "white",
           "linecolor": "white",
           "ticks": "",
           "title": {
            "standoff": 15
           },
           "zerolinecolor": "white",
           "zerolinewidth": 2
          },
          "yaxis": {
           "automargin": true,
           "gridcolor": "white",
           "linecolor": "white",
           "ticks": "",
           "title": {
            "standoff": 15
           },
           "zerolinecolor": "white",
           "zerolinewidth": 2
          }
         }
        },
        "title": {
         "text": "Network 2-d visualization"
        },
        "xaxis": {
         "showgrid": false,
         "showticklabels": false,
         "zeroline": false
        },
        "yaxis": {
         "showgrid": false,
         "showticklabels": false,
         "zeroline": false
        }
       }
      },
      "text/html": [
       "<div>                            <div id=\"5800d09a-f297-403c-a6fe-45ccd06e3ab7\" class=\"plotly-graph-div\" style=\"height:600px; width:100%;\"></div>            <script type=\"text/javascript\">                require([\"plotly\"], function(Plotly) {                    window.PLOTLYENV=window.PLOTLYENV || {};                                    if (document.getElementById(\"5800d09a-f297-403c-a6fe-45ccd06e3ab7\")) {                    Plotly.newPlot(                        \"5800d09a-f297-403c-a6fe-45ccd06e3ab7\",                        [{\"legendgroup\": \"blue\", \"line\": {\"color\": \"cornflowerblue\", \"shape\": \"spline\", \"width\": 10.0}, \"mode\": \"lines\", \"name\": \"One-way Edge\", \"opacity\": 1.0, \"showlegend\": true, \"type\": \"scatter\", \"x\": [0, -0.9766205549240112, null], \"y\": [0, -0.2149704247713089, null]}, {\"legendgroup\": \"red\", \"line\": {\"color\": \"red\", \"shape\": \"spline\", \"width\": 7.6923076923076925}, \"mode\": \"lines\", \"name\": \"Bidirectional Edge\", \"opacity\": 0.7692307692307693, \"showlegend\": true, \"type\": \"scatter\", \"x\": [0, -0.9075753688812256, null], \"y\": [0, -0.4198892116546631, null]}, {\"legendgroup\": \"blue\", \"line\": {\"color\": \"cornflowerblue\", \"shape\": \"spline\", \"width\": 6.153846153846154}, \"mode\": \"lines\", \"name\": \"One-way Edge\", \"opacity\": 0.6153846153846154, \"showlegend\": false, \"type\": \"scatter\", \"x\": [0, -0.4684082269668579, null], \"y\": [0, -0.8835121393203735, null]}, {\"legendgroup\": \"blue\", \"line\": {\"color\": \"cornflowerblue\", \"shape\": \"spline\", \"width\": 5.384615384615385}, \"mode\": \"lines\", \"name\": \"One-way Edge\", \"opacity\": 0.5384615384615384, \"showlegend\": false, \"type\": \"scatter\", \"x\": [0, -0.2675282061100006, null], \"y\": [0, -0.9635500311851501, null]}, {\"legendgroup\": \"blue\", \"line\": {\"color\": \"cornflowerblue\", \"shape\": \"spline\", \"width\": 5.384615384615385}, \"mode\": \"lines\", \"name\": \"One-way Edge\", \"opacity\": 0.5384615384615384, \"showlegend\": false, \"type\": \"scatter\", \"x\": [0, -0.05413886904716492, null], \"y\": [0, -0.9985334277153015, null]}, {\"legendgroup\": \"blue\", \"line\": {\"color\": \"cornflowerblue\", \"shape\": \"spline\", \"width\": 5.384615384615385}, \"mode\": \"lines\", \"name\": \"One-way Edge\", \"opacity\": 0.5384615384615384, \"showlegend\": false, \"type\": \"scatter\", \"x\": [0, 0.1617819219827652, null], \"y\": [0, -0.9868265390396118, null]}, {\"legendgroup\": \"red\", \"line\": {\"color\": \"red\", \"shape\": \"spline\", \"width\": 4.615384615384615}, \"mode\": \"lines\", \"name\": \"Bidirectional Edge\", \"opacity\": 0.46153846153846156, \"showlegend\": false, \"type\": \"scatter\", \"x\": [0, 0.561187207698822, null], \"y\": [0, -0.8276888728141785, null]}, {\"legendgroup\": \"blue\", \"line\": {\"color\": \"cornflowerblue\", \"shape\": \"spline\", \"width\": 4.615384615384615}, \"mode\": \"lines\", \"name\": \"One-way Edge\", \"opacity\": 0.46153846153846156, \"showlegend\": false, \"type\": \"scatter\", \"x\": [0, 0.9941379427909851, null], \"y\": [0, 0.10811913758516312, null]}, {\"legendgroup\": \"blue\", \"line\": {\"color\": \"cornflowerblue\", \"shape\": \"spline\", \"width\": 4.615384615384615}, \"mode\": \"lines\", \"name\": \"One-way Edge\", \"opacity\": 0.46153846153846156, \"showlegend\": false, \"type\": \"scatter\", \"x\": [0, 0.9476531744003296, null], \"y\": [0, 0.3193015456199646, null]}, {\"legendgroup\": \"blue\", \"line\": {\"color\": \"cornflowerblue\", \"shape\": \"spline\", \"width\": 4.615384615384615}, \"mode\": \"lines\", \"name\": \"One-way Edge\", \"opacity\": 0.46153846153846156, \"showlegend\": false, \"type\": \"scatter\", \"x\": [0, 0.8568570017814636, null], \"y\": [0, 0.5155541896820068, null]}, {\"legendgroup\": \"blue\", \"line\": {\"color\": \"cornflowerblue\", \"shape\": \"spline\", \"width\": 4.615384615384615}, \"mode\": \"lines\", \"name\": \"One-way Edge\", \"opacity\": 0.46153846153846156, \"showlegend\": false, \"type\": \"scatter\", \"x\": [0, 0.5611869096755981, null], \"y\": [0, 0.8276891112327576, null]}, {\"legendgroup\": \"red\", \"line\": {\"color\": \"red\", \"shape\": \"spline\", \"width\": 3.8461538461538463}, \"mode\": \"lines\", \"name\": \"Bidirectional Edge\", \"opacity\": 0.38461538461538464, \"showlegend\": false, \"type\": \"scatter\", \"x\": [0, 0.9941379427909851, null], \"y\": [0, -0.10811926424503326, null]}, {\"legendgroup\": \"red\", \"line\": {\"color\": \"red\", \"shape\": \"spline\", \"width\": 3.8461538461538463}, \"mode\": \"lines\", \"name\": \"Bidirectional Edge\", \"opacity\": 0.38461538461538464, \"showlegend\": false, \"type\": \"scatter\", \"x\": [0, 0.856857180595398, null], \"y\": [0, -0.515553891658783, null]}, {\"legendgroup\": \"blue\", \"line\": {\"color\": \"cornflowerblue\", \"shape\": \"spline\", \"width\": 3.8461538461538463}, \"mode\": \"lines\", \"name\": \"One-way Edge\", \"opacity\": 0.38461538461538464, \"showlegend\": false, \"type\": \"scatter\", \"x\": [0, 0.16178205609321594, null], \"y\": [0, 0.9868265390396118, null]}, {\"legendgroup\": \"blue\", \"line\": {\"color\": \"cornflowerblue\", \"shape\": \"spline\", \"width\": 3.8461538461538463}, \"mode\": \"lines\", \"name\": \"One-way Edge\", \"opacity\": 0.38461538461538464, \"showlegend\": false, \"type\": \"scatter\", \"x\": [0, -0.6473866105079651, null], \"y\": [0, 0.7621617317199707, null]}, {\"legendgroup\": \"blue\", \"line\": {\"color\": \"cornflowerblue\", \"shape\": \"spline\", \"width\": 3.8461538461538463}, \"mode\": \"lines\", \"name\": \"One-way Edge\", \"opacity\": 0.38461538461538464, \"showlegend\": false, \"type\": \"scatter\", \"x\": [0, -0.9075755476951599, null], \"y\": [0, 0.4198888838291168, null]}, {\"legendgroup\": \"red\", \"line\": {\"color\": \"red\", \"shape\": \"spline\", \"width\": 3.8461538461538463}, \"mode\": \"lines\", \"name\": \"Bidirectional Edge\", \"opacity\": 0.38461538461538464, \"showlegend\": false, \"type\": \"scatter\", \"x\": [-0.9075753688812256, 0, null], \"y\": [-0.4198892116546631, 0, null]}, {\"legendgroup\": \"blue\", \"line\": {\"color\": \"cornflowerblue\", \"shape\": \"spline\", \"width\": 6.923076923076923}, \"mode\": \"lines\", \"name\": \"One-way Edge\", \"opacity\": 0.6923076923076923, \"showlegend\": false, \"type\": \"scatter\", \"x\": [-0.7960930466651917, 0, null], \"y\": [-0.6051742434501648, 0, null]}, {\"legendgroup\": \"blue\", \"line\": {\"color\": \"cornflowerblue\", \"shape\": \"spline\", \"width\": 6.153846153846154}, \"mode\": \"lines\", \"name\": \"One-way Edge\", \"opacity\": 0.6153846153846154, \"showlegend\": false, \"type\": \"scatter\", \"x\": [-0.647386372089386, 0, null], \"y\": [-0.7621619701385498, 0, null]}, {\"legendgroup\": \"blue\", \"line\": {\"color\": \"cornflowerblue\", \"shape\": \"spline\", \"width\": 5.384615384615385}, \"mode\": \"lines\", \"name\": \"One-way Edge\", \"opacity\": 0.5384615384615384, \"showlegend\": false, \"type\": \"scatter\", \"x\": [0.3701384365558624, 0, null], \"y\": [-0.9289765954017639, 0, null]}, {\"legendgroup\": \"red\", \"line\": {\"color\": \"red\", \"shape\": \"spline\", \"width\": 4.615384615384615}, \"mode\": \"lines\", \"name\": \"Bidirectional Edge\", \"opacity\": 0.46153846153846156, \"showlegend\": false, \"type\": \"scatter\", \"x\": [0.561187207698822, 0, null], \"y\": [-0.8276888728141785, 0, null]}, {\"legendgroup\": \"blue\", \"line\": {\"color\": \"cornflowerblue\", \"shape\": \"spline\", \"width\": 4.615384615384615}, \"mode\": \"lines\", \"name\": \"One-way Edge\", \"opacity\": 0.46153846153846156, \"showlegend\": false, \"type\": \"scatter\", \"x\": [0.7259955406188965, 0, null], \"y\": [-0.6876993775367737, 0, null]}, {\"legendgroup\": \"red\", \"line\": {\"color\": \"red\", \"shape\": \"spline\", \"width\": 4.615384615384615}, \"mode\": \"lines\", \"name\": \"Bidirectional Edge\", \"opacity\": 0.46153846153846156, \"showlegend\": false, \"type\": \"scatter\", \"x\": [0.856857180595398, 0, null], \"y\": [-0.515553891658783, 0, null]}, {\"legendgroup\": \"blue\", \"line\": {\"color\": \"cornflowerblue\", \"shape\": \"spline\", \"width\": 4.615384615384615}, \"mode\": \"lines\", \"name\": \"One-way Edge\", \"opacity\": 0.46153846153846156, \"showlegend\": false, \"type\": \"scatter\", \"x\": [0.9476531147956848, 0, null], \"y\": [-0.31930166482925415, 0, null]}, {\"legendgroup\": \"red\", \"line\": {\"color\": \"red\", \"shape\": \"spline\", \"width\": 4.615384615384615}, \"mode\": \"lines\", \"name\": \"Bidirectional Edge\", \"opacity\": 0.46153846153846156, \"showlegend\": false, \"type\": \"scatter\", \"x\": [0.9941379427909851, 0, null], \"y\": [-0.10811926424503326, 0, null]}, {\"legendgroup\": \"blue\", \"line\": {\"color\": \"cornflowerblue\", \"shape\": \"spline\", \"width\": 4.615384615384615}, \"mode\": \"lines\", \"name\": \"One-way Edge\", \"opacity\": 0.46153846153846156, \"showlegend\": false, \"type\": \"scatter\", \"x\": [0.7259953022003174, 0, null], \"y\": [0.6876996755599976, 0, null]}, {\"legendgroup\": \"blue\", \"line\": {\"color\": \"cornflowerblue\", \"shape\": \"spline\", \"width\": 4.615384615384615}, \"mode\": \"lines\", \"name\": \"One-way Edge\", \"opacity\": 0.46153846153846156, \"showlegend\": false, \"type\": \"scatter\", \"x\": [0.37013810873031616, 0, null], \"y\": [0.9289767146110535, 0, null]}, {\"legendgroup\": \"blue\", \"line\": {\"color\": \"cornflowerblue\", \"shape\": \"spline\", \"width\": 3.8461538461538463}, \"mode\": \"lines\", \"name\": \"One-way Edge\", \"opacity\": 0.38461538461538464, \"showlegend\": false, \"type\": \"scatter\", \"x\": [-0.05413874238729477, 0, null], \"y\": [0.9985334277153015, 0, null]}, {\"legendgroup\": \"blue\", \"line\": {\"color\": \"cornflowerblue\", \"shape\": \"spline\", \"width\": 3.8461538461538463}, \"mode\": \"lines\", \"name\": \"One-way Edge\", \"opacity\": 0.38461538461538464, \"showlegend\": false, \"type\": \"scatter\", \"x\": [-0.26752808690071106, 0, null], \"y\": [0.9635500907897949, 0, null]}, {\"legendgroup\": \"blue\", \"line\": {\"color\": \"cornflowerblue\", \"shape\": \"spline\", \"width\": 3.8461538461538463}, \"mode\": \"lines\", \"name\": \"One-way Edge\", \"opacity\": 0.38461538461538464, \"showlegend\": false, \"type\": \"scatter\", \"x\": [-0.26752808690071106, -0.46840810775756836, null], \"y\": [0.9635500907897949, 0.8835121989250183, null]}, {\"legendgroup\": \"blue\", \"line\": {\"color\": \"cornflowerblue\", \"shape\": \"spline\", \"width\": 3.8461538461538463}, \"mode\": \"lines\", \"name\": \"One-way Edge\", \"opacity\": 0.38461538461538464, \"showlegend\": false, \"type\": \"scatter\", \"x\": [-0.7960932850837708, 0, null], \"y\": [0.6051739454269409, 0, null]}, {\"legendgroup\": \"blue\", \"line\": {\"color\": \"cornflowerblue\", \"shape\": \"spline\", \"width\": 3.8461538461538463}, \"mode\": \"lines\", \"name\": \"One-way Edge\", \"opacity\": 0.38461538461538464, \"showlegend\": false, \"type\": \"scatter\", \"x\": [-0.9766205549240112, 0, null], \"y\": [0.21497030556201935, 0, null]}, {\"hoverinfo\": \"text\", \"legendgroup\": \"#ED8B00\", \"marker\": {\"color\": \"#ED8B00\", \"size\": 40, \"symbol\": \"circle\"}, \"mode\": \"markers\", \"name\": \"#ED8B00\", \"showlegend\": true, \"text\": \"Anthony\", \"type\": \"scatter\", \"x\": [0, null], \"y\": [0, null]}, {\"hoverinfo\": \"text\", \"legendgroup\": \"#ED8B00\", \"marker\": {\"color\": \"#ED8B00\", \"size\": 40, \"symbol\": \"circle\"}, \"mode\": \"markers\", \"name\": \"#ED8B00\", \"showlegend\": false, \"text\": \"Matthew\", \"type\": \"scatter\", \"x\": [-0.9766205549240112, null], \"y\": [-0.2149704247713089, null]}, {\"hoverinfo\": \"text\", \"legendgroup\": \"#ED8B00\", \"marker\": {\"color\": \"#ED8B00\", \"size\": 40, \"symbol\": \"circle\"}, \"mode\": \"markers\", \"name\": \"#ED8B00\", \"showlegend\": false, \"text\": \"Christopher\", \"type\": \"scatter\", \"x\": [-0.9075753688812256, null], \"y\": [-0.4198892116546631, null]}, {\"hoverinfo\": \"text\", \"legendgroup\": \"#00965E\", \"marker\": {\"color\": \"#00965E\", \"size\": 40, \"symbol\": \"circle\"}, \"mode\": \"markers\", \"name\": \"#00965E\", \"showlegend\": true, \"text\": \"Linda\", \"type\": \"scatter\", \"x\": [-0.7960930466651917, null], \"y\": [-0.6051742434501648, null]}, {\"hoverinfo\": \"text\", \"legendgroup\": \"#ED8B00\", \"marker\": {\"color\": \"#ED8B00\", \"size\": 40, \"symbol\": \"circle\"}, \"mode\": \"markers\", \"name\": \"#ED8B00\", \"showlegend\": false, \"text\": \"Daniel\", \"type\": \"scatter\", \"x\": [-0.647386372089386, null], \"y\": [-0.7621619701385498, null]}, {\"hoverinfo\": \"text\", \"legendgroup\": \"#A05EB5\", \"marker\": {\"color\": \"#A05EB5\", \"size\": 40, \"symbol\": \"circle\"}, \"mode\": \"markers\", \"name\": \"#A05EB5\", \"showlegend\": true, \"text\": \"Richard\", \"type\": \"scatter\", \"x\": [-0.4684082269668579, null], \"y\": [-0.8835121393203735, null]}, {\"hoverinfo\": \"text\", \"legendgroup\": \"#B1B3B3\", \"marker\": {\"color\": \"#B1B3B3\", \"size\": 40, \"symbol\": \"circle\"}, \"mode\": \"markers\", \"name\": \"#B1B3B3\", \"showlegend\": true, \"text\": \"Margaret\", \"type\": \"scatter\", \"x\": [-0.2675282061100006, null], \"y\": [-0.9635500311851501, null]}, {\"hoverinfo\": \"text\", \"legendgroup\": \"#E40046\", \"marker\": {\"color\": \"#E40046\", \"size\": 40, \"symbol\": \"circle\"}, \"mode\": \"markers\", \"name\": \"#E40046\", \"showlegend\": true, \"text\": \"Jessica\", \"type\": \"scatter\", \"x\": [-0.05413886904716492, null], \"y\": [-0.9985334277153015, null]}, {\"hoverinfo\": \"text\", \"legendgroup\": \"#00965E\", \"marker\": {\"color\": \"#00965E\", \"size\": 40, \"symbol\": \"circle\"}, \"mode\": \"markers\", \"name\": \"#00965E\", \"showlegend\": false, \"text\": \"Patricia\", \"type\": \"scatter\", \"x\": [0.1617819219827652, null], \"y\": [-0.9868265390396118, null]}, {\"hoverinfo\": \"text\", \"legendgroup\": \"#A05EB5\", \"marker\": {\"color\": \"#A05EB5\", \"size\": 40, \"symbol\": \"circle\"}, \"mode\": \"markers\", \"name\": \"#A05EB5\", \"showlegend\": false, \"text\": \"David\", \"type\": \"scatter\", \"x\": [0.3701384365558624, null], \"y\": [-0.9289765954017639, null]}, {\"hoverinfo\": \"text\", \"legendgroup\": \"#00965E\", \"marker\": {\"color\": \"#00965E\", \"size\": 40, \"symbol\": \"circle\"}, \"mode\": \"markers\", \"name\": \"#00965E\", \"showlegend\": false, \"text\": \"Jennifer\", \"type\": \"scatter\", \"x\": [0.561187207698822, null], \"y\": [-0.8276888728141785, null]}, {\"hoverinfo\": \"text\", \"legendgroup\": \"#E40046\", \"marker\": {\"color\": \"#E40046\", \"size\": 40, \"symbol\": \"circle\"}, \"mode\": \"markers\", \"name\": \"#E40046\", \"showlegend\": false, \"text\": \"Susan\", \"type\": \"scatter\", \"x\": [0.7259955406188965, null], \"y\": [-0.6876993775367737, null]}, {\"hoverinfo\": \"text\", \"legendgroup\": \"#0066CC\", \"marker\": {\"color\": \"#0066CC\", \"size\": 40, \"symbol\": \"circle\"}, \"mode\": \"markers\", \"name\": \"#0066CC\", \"showlegend\": true, \"text\": \"Michael\", \"type\": \"scatter\", \"x\": [0.856857180595398, null], \"y\": [-0.515553891658783, null]}, {\"hoverinfo\": \"text\", \"legendgroup\": \"#0066CC\", \"marker\": {\"color\": \"#0066CC\", \"size\": 40, \"symbol\": \"circle\"}, \"mode\": \"markers\", \"name\": \"#0066CC\", \"showlegend\": false, \"text\": \"William\", \"type\": \"scatter\", \"x\": [0.9476531147956848, null], \"y\": [-0.31930166482925415, null]}, {\"hoverinfo\": \"text\", \"legendgroup\": \"#B1B3B3\", \"marker\": {\"color\": \"#B1B3B3\", \"size\": 40, \"symbol\": \"circle\"}, \"mode\": \"markers\", \"name\": \"#B1B3B3\", \"showlegend\": false, \"text\": \"Sandra\", \"type\": \"scatter\", \"x\": [0.9941379427909851, null], \"y\": [-0.10811926424503326, null]}, {\"hoverinfo\": \"text\", \"legendgroup\": \"#B1B3B3\", \"marker\": {\"color\": \"#B1B3B3\", \"size\": 40, \"symbol\": \"circle\"}, \"mode\": \"markers\", \"name\": \"#B1B3B3\", \"showlegend\": false, \"text\": \"Betty\", \"type\": \"scatter\", \"x\": [0.9941379427909851, null], \"y\": [0.10811913758516312, null]}, {\"hoverinfo\": \"text\", \"legendgroup\": \"#A05EB5\", \"marker\": {\"color\": \"#A05EB5\", \"size\": 40, \"symbol\": \"circle\"}, \"mode\": \"markers\", \"name\": \"#A05EB5\", \"showlegend\": false, \"text\": \"Thomas\", \"type\": \"scatter\", \"x\": [0.9476531744003296, null], \"y\": [0.3193015456199646, null]}, {\"hoverinfo\": \"text\", \"legendgroup\": \"#0066CC\", \"marker\": {\"color\": \"#0066CC\", \"size\": 40, \"symbol\": \"circle\"}, \"mode\": \"markers\", \"name\": \"#0066CC\", \"showlegend\": false, \"text\": \"John\", \"type\": \"scatter\", \"x\": [0.8568570017814636, null], \"y\": [0.5155541896820068, null]}, {\"hoverinfo\": \"text\", \"legendgroup\": \"#A05EB5\", \"marker\": {\"color\": \"#A05EB5\", \"size\": 40, \"symbol\": \"circle\"}, \"mode\": \"markers\", \"name\": \"#A05EB5\", \"showlegend\": false, \"text\": \"Charles\", \"type\": \"scatter\", \"x\": [0.7259953022003174, null], \"y\": [0.6876996755599976, null]}, {\"hoverinfo\": \"text\", \"legendgroup\": \"#A05EB5\", \"marker\": {\"color\": \"#A05EB5\", \"size\": 40, \"symbol\": \"circle\"}, \"mode\": \"markers\", \"name\": \"#A05EB5\", \"showlegend\": false, \"text\": \"Joseph\", \"type\": \"scatter\", \"x\": [0.5611869096755981, null], \"y\": [0.8276891112327576, null]}, {\"hoverinfo\": \"text\", \"legendgroup\": \"#00965E\", \"marker\": {\"color\": \"#00965E\", \"size\": 40, \"symbol\": \"circle\"}, \"mode\": \"markers\", \"name\": \"#00965E\", \"showlegend\": false, \"text\": \"Mary\", \"type\": \"scatter\", \"x\": [0.37013810873031616, null], \"y\": [0.9289767146110535, null]}, {\"hoverinfo\": \"text\", \"legendgroup\": \"#B1B3B3\", \"marker\": {\"color\": \"#B1B3B3\", \"size\": 40, \"symbol\": \"circle\"}, \"mode\": \"markers\", \"name\": \"#B1B3B3\", \"showlegend\": false, \"text\": \"Lisa\", \"type\": \"scatter\", \"x\": [0.16178205609321594, null], \"y\": [0.9868265390396118, null]}, {\"hoverinfo\": \"text\", \"legendgroup\": \"#E40046\", \"marker\": {\"color\": \"#E40046\", \"size\": 40, \"symbol\": \"circle\"}, \"mode\": \"markers\", \"name\": \"#E40046\", \"showlegend\": false, \"text\": \"Karen\", \"type\": \"scatter\", \"x\": [-0.05413874238729477, null], \"y\": [0.9985334277153015, null]}, {\"hoverinfo\": \"text\", \"legendgroup\": \"#E40046\", \"marker\": {\"color\": \"#E40046\", \"size\": 40, \"symbol\": \"circle\"}, \"mode\": \"markers\", \"name\": \"#E40046\", \"showlegend\": false, \"text\": \"Sarah\", \"type\": \"scatter\", \"x\": [-0.26752808690071106, null], \"y\": [0.9635500907897949, null]}, {\"hoverinfo\": \"text\", \"legendgroup\": \"#00965E\", \"marker\": {\"color\": \"#00965E\", \"size\": 40, \"symbol\": \"circle\"}, \"mode\": \"markers\", \"name\": \"#00965E\", \"showlegend\": false, \"text\": \"Elizabeth\", \"type\": \"scatter\", \"x\": [-0.46840810775756836, null], \"y\": [0.8835121989250183, null]}, {\"hoverinfo\": \"text\", \"legendgroup\": \"#0066CC\", \"marker\": {\"color\": \"#0066CC\", \"size\": 40, \"symbol\": \"circle\"}, \"mode\": \"markers\", \"name\": \"#0066CC\", \"showlegend\": false, \"text\": \"Robert\", \"type\": \"scatter\", \"x\": [-0.6473866105079651, null], \"y\": [0.7621617317199707, null]}, {\"hoverinfo\": \"text\", \"legendgroup\": \"#ED8B00\", \"marker\": {\"color\": \"#ED8B00\", \"size\": 40, \"symbol\": \"circle\"}, \"mode\": \"markers\", \"name\": \"#ED8B00\", \"showlegend\": false, \"text\": \"Nancy\", \"type\": \"scatter\", \"x\": [-0.7960932850837708, null], \"y\": [0.6051739454269409, null]}, {\"hoverinfo\": \"text\", \"legendgroup\": \"#0066CC\", \"marker\": {\"color\": \"#0066CC\", \"size\": 40, \"symbol\": \"circle\"}, \"mode\": \"markers\", \"name\": \"#0066CC\", \"showlegend\": false, \"text\": \"James\", \"type\": \"scatter\", \"x\": [-0.9075755476951599, null], \"y\": [0.4198888838291168, null]}, {\"hoverinfo\": \"text\", \"legendgroup\": \"#E40046\", \"marker\": {\"color\": \"#E40046\", \"size\": 40, \"symbol\": \"circle\"}, \"mode\": \"markers\", \"name\": \"#E40046\", \"showlegend\": false, \"text\": \"Barbara\", \"type\": \"scatter\", \"x\": [-0.9766205549240112, null], \"y\": [0.21497030556201935, null]}, {\"hoverinfo\": \"text\", \"hovertext\": [\"From: Anthony To: Matthew, weight: 13\", \"Bidirectional edge:<br>Anthony To: Christopher, weight: 10<br>Christopher To: Anthony, weight: 5\", \"From: Anthony To: Richard, weight: 8\", \"From: Anthony To: Margaret, weight: 7\", \"From: Anthony To: Jessica, weight: 7\", \"From: Anthony To: Patricia, weight: 7\", \"Bidirectional edge:<br>Anthony To: Jennifer, weight: 6<br>Jennifer To: Anthony, weight: 6\", \"From: Anthony To: Betty, weight: 6\", \"From: Anthony To: Thomas, weight: 6\", \"From: Anthony To: John, weight: 6\", \"From: Anthony To: Joseph, weight: 6\", \"Bidirectional edge:<br>Anthony To: Sandra, weight: 5<br>Sandra To: Anthony, weight: 6\", \"Bidirectional edge:<br>Anthony To: Michael, weight: 5<br>Michael To: Anthony, weight: 6\", \"From: Anthony To: Lisa, weight: 5\", \"From: Anthony To: Robert, weight: 5\", \"From: Anthony To: James, weight: 5\", \"Bidirectional edge:<br>Christopher To: Anthony, weight: 5<br>Anthony To: Christopher, weight: 10\", \"From: Linda To: Anthony, weight: 9\", \"From: Daniel To: Anthony, weight: 8\", \"From: David To: Anthony, weight: 7\", \"Bidirectional edge:<br>Jennifer To: Anthony, weight: 6<br>Anthony To: Jennifer, weight: 6\", \"From: Susan To: Anthony, weight: 6\", \"Bidirectional edge:<br>Michael To: Anthony, weight: 6<br>Anthony To: Michael, weight: 5\", \"From: William To: Anthony, weight: 6\", \"Bidirectional edge:<br>Sandra To: Anthony, weight: 6<br>Anthony To: Sandra, weight: 5\", \"From: Charles To: Anthony, weight: 6\", \"From: Mary To: Anthony, weight: 6\", \"From: Karen To: Anthony, weight: 5\", \"From: Sarah To: Anthony, weight: 5\", \"From: Sarah To: Elizabeth, weight: 5\", \"From: Nancy To: Anthony, weight: 5\", \"From: Barbara To: Anthony, weight: 5\"], \"marker\": {\"color\": \"LightSkyBlue\", \"size\": 20}, \"mode\": \"markers\", \"opacity\": 0, \"showlegend\": false, \"type\": \"scatter\", \"x\": [-0.4883102774620056, -0.4537876844406128, -0.23420411348342896, -0.1337641030550003, -0.02706943452358246, 0.0808909609913826, 0.280593603849411, 0.49706897139549255, 0.4738265872001648, 0.4284285008907318, 0.2805934548377991, 0.49706897139549255, 0.428428590297699, 0.08089102804660797, -0.32369330525398254, -0.45378777384757996, -0.4537876844406128, -0.3980465233325958, -0.323693186044693, 0.1850692182779312, 0.280593603849411, 0.36299777030944824, 0.428428590297699, 0.4738265573978424, 0.49706897139549255, 0.3629976511001587, 0.18506905436515808, -0.027069371193647385, -0.13376404345035553, -0.3679680973291397, -0.3980466425418854, -0.4883102774620056], \"y\": [-0.10748521238565445, -0.20994460582733154, -0.44175606966018677, -0.4817750155925751, -0.49926671385765076, -0.4934132695198059, -0.41384443640708923, 0.05405956879258156, 0.1596507728099823, 0.2577770948410034, 0.4138445556163788, -0.05405963212251663, -0.2577769458293915, 0.4934132695198059, 0.38108086585998535, 0.2099444419145584, -0.20994460582733154, -0.3025871217250824, -0.3810809850692749, -0.46448829770088196, -0.41384443640708923, -0.34384968876838684, -0.2577769458293915, -0.15965083241462708, -0.05405963212251663, 0.3438498377799988, 0.46448835730552673, 0.49926671385765076, 0.48177504539489746, 0.9235311448574066, 0.30258697271347046, 0.10748515278100967]}],                        {\"annotations\": [{\"arrowcolor\": \"cornflowerblue\", \"arrowhead\": 3, \"arrowsize\": 4, \"arrowwidth\": 1, \"ax\": -0.4883102774620056, \"axref\": \"x\", \"ay\": -0.10748521238565445, \"ayref\": \"y\", \"opacity\": 0.7, \"showarrow\": true, \"x\": -0.7324654161930084, \"xref\": \"x\", \"y\": -0.16122781857848167, \"yref\": \"y\"}, {\"arrowcolor\": \"red\", \"arrowhead\": 3, \"arrowsize\": 4, \"arrowwidth\": 1, \"ax\": -0.4537876844406128, \"axref\": \"x\", \"ay\": -0.20994460582733154, \"ayref\": \"y\", \"opacity\": 0.7, \"showarrow\": true, \"x\": -0.6806815266609192, \"xref\": \"x\", \"y\": -0.3149169087409973, \"yref\": \"y\"}, {\"arrowcolor\": \"cornflowerblue\", \"arrowhead\": 3, \"arrowsize\": 4, \"arrowwidth\": 1, \"ax\": -0.23420411348342896, \"axref\": \"x\", \"ay\": -0.44175606966018677, \"ayref\": \"y\", \"opacity\": 0.7, \"showarrow\": true, \"x\": -0.35130617022514343, \"xref\": \"x\", \"y\": -0.6626341044902802, \"yref\": \"y\"}, {\"arrowcolor\": \"cornflowerblue\", \"arrowhead\": 3, \"arrowsize\": 4, \"arrowwidth\": 1, \"ax\": -0.1337641030550003, \"axref\": \"x\", \"ay\": -0.4817750155925751, \"ayref\": \"y\", \"opacity\": 0.7, \"showarrow\": true, \"x\": -0.20064615458250046, \"xref\": \"x\", \"y\": -0.7226625233888626, \"yref\": \"y\"}, {\"arrowcolor\": \"cornflowerblue\", \"arrowhead\": 3, \"arrowsize\": 4, \"arrowwidth\": 1, \"ax\": -0.02706943452358246, \"axref\": \"x\", \"ay\": -0.49926671385765076, \"ayref\": \"y\", \"opacity\": 0.7, \"showarrow\": true, \"x\": -0.04060415178537369, \"xref\": \"x\", \"y\": -0.7489000707864761, \"yref\": \"y\"}, {\"arrowcolor\": \"cornflowerblue\", \"arrowhead\": 3, \"arrowsize\": 4, \"arrowwidth\": 1, \"ax\": 0.0808909609913826, \"axref\": \"x\", \"ay\": -0.4934132695198059, \"ayref\": \"y\", \"opacity\": 0.7, \"showarrow\": true, \"x\": 0.1213364414870739, \"xref\": \"x\", \"y\": -0.7401199042797089, \"yref\": \"y\"}, {\"arrowcolor\": \"red\", \"arrowhead\": 3, \"arrowsize\": 4, \"arrowwidth\": 1, \"ax\": 0.280593603849411, \"axref\": \"x\", \"ay\": -0.41384443640708923, \"ayref\": \"y\", \"opacity\": 0.7, \"showarrow\": true, \"x\": 0.4208904057741165, \"xref\": \"x\", \"y\": -0.6207666546106339, \"yref\": \"y\"}, {\"arrowcolor\": \"cornflowerblue\", \"arrowhead\": 3, \"arrowsize\": 4, \"arrowwidth\": 1, \"ax\": 0.49706897139549255, \"axref\": \"x\", \"ay\": 0.05405956879258156, \"ayref\": \"y\", \"opacity\": 0.7, \"showarrow\": true, \"x\": 0.7456034570932388, \"xref\": \"x\", \"y\": 0.08108935318887234, \"yref\": \"y\"}, {\"arrowcolor\": \"cornflowerblue\", \"arrowhead\": 3, \"arrowsize\": 4, \"arrowwidth\": 1, \"ax\": 0.4738265872001648, \"axref\": \"x\", \"ay\": 0.1596507728099823, \"ayref\": \"y\", \"opacity\": 0.7, \"showarrow\": true, \"x\": 0.7107398808002472, \"xref\": \"x\", \"y\": 0.23947615921497345, \"yref\": \"y\"}, {\"arrowcolor\": \"cornflowerblue\", \"arrowhead\": 3, \"arrowsize\": 4, \"arrowwidth\": 1, \"ax\": 0.4284285008907318, \"axref\": \"x\", \"ay\": 0.2577770948410034, \"ayref\": \"y\", \"opacity\": 0.7, \"showarrow\": true, \"x\": 0.6426427513360977, \"xref\": \"x\", \"y\": 0.3866656422615051, \"yref\": \"y\"}, {\"arrowcolor\": \"cornflowerblue\", \"arrowhead\": 3, \"arrowsize\": 4, \"arrowwidth\": 1, \"ax\": 0.2805934548377991, \"axref\": \"x\", \"ay\": 0.4138445556163788, \"ayref\": \"y\", \"opacity\": 0.7, \"showarrow\": true, \"x\": 0.4208901822566986, \"xref\": \"x\", \"y\": 0.6207668334245682, \"yref\": \"y\"}, {\"arrowcolor\": \"red\", \"arrowhead\": 3, \"arrowsize\": 4, \"arrowwidth\": 1, \"ax\": 0.49706897139549255, \"axref\": \"x\", \"ay\": -0.05405963212251663, \"ayref\": \"y\", \"opacity\": 0.7, \"showarrow\": true, \"x\": 0.7456034570932388, \"xref\": \"x\", \"y\": -0.08108944818377495, \"yref\": \"y\"}, {\"arrowcolor\": \"red\", \"arrowhead\": 3, \"arrowsize\": 4, \"arrowwidth\": 1, \"ax\": 0.428428590297699, \"axref\": \"x\", \"ay\": -0.2577769458293915, \"ayref\": \"y\", \"opacity\": 0.7, \"showarrow\": true, \"x\": 0.6426428854465485, \"xref\": \"x\", \"y\": -0.3866654187440872, \"yref\": \"y\"}, {\"arrowcolor\": \"cornflowerblue\", \"arrowhead\": 3, \"arrowsize\": 4, \"arrowwidth\": 1, \"ax\": 0.08089102804660797, \"axref\": \"x\", \"ay\": 0.4934132695198059, \"ayref\": \"y\", \"opacity\": 0.7, \"showarrow\": true, \"x\": 0.12133654206991196, \"xref\": \"x\", \"y\": 0.7401199042797089, \"yref\": \"y\"}, {\"arrowcolor\": \"cornflowerblue\", \"arrowhead\": 3, \"arrowsize\": 4, \"arrowwidth\": 1, \"ax\": -0.32369330525398254, \"axref\": \"x\", \"ay\": 0.38108086585998535, \"ayref\": \"y\", \"opacity\": 0.7, \"showarrow\": true, \"x\": -0.4855399578809738, \"xref\": \"x\", \"y\": 0.571621298789978, \"yref\": \"y\"}, {\"arrowcolor\": \"cornflowerblue\", \"arrowhead\": 3, \"arrowsize\": 4, \"arrowwidth\": 1, \"ax\": -0.45378777384757996, \"axref\": \"x\", \"ay\": 0.2099444419145584, \"ayref\": \"y\", \"opacity\": 0.7, \"showarrow\": true, \"x\": -0.6806816607713699, \"xref\": \"x\", \"y\": 0.3149166628718376, \"yref\": \"y\"}, {\"arrowcolor\": \"red\", \"arrowhead\": 3, \"arrowsize\": 4, \"arrowwidth\": 1, \"ax\": -0.4537876844406128, \"axref\": \"x\", \"ay\": -0.20994460582733154, \"ayref\": \"y\", \"opacity\": 0.7, \"showarrow\": true, \"x\": -0.2268938422203064, \"xref\": \"x\", \"y\": -0.10497230291366577, \"yref\": \"y\"}, {\"arrowcolor\": \"cornflowerblue\", \"arrowhead\": 3, \"arrowsize\": 4, \"arrowwidth\": 1, \"ax\": -0.3980465233325958, \"axref\": \"x\", \"ay\": -0.3025871217250824, \"ayref\": \"y\", \"opacity\": 0.7, \"showarrow\": true, \"x\": -0.1990232616662979, \"xref\": \"x\", \"y\": -0.1512935608625412, \"yref\": \"y\"}, {\"arrowcolor\": \"cornflowerblue\", \"arrowhead\": 3, \"arrowsize\": 4, \"arrowwidth\": 1, \"ax\": -0.323693186044693, \"axref\": \"x\", \"ay\": -0.3810809850692749, \"ayref\": \"y\", \"opacity\": 0.7, \"showarrow\": true, \"x\": -0.1618465930223465, \"xref\": \"x\", \"y\": -0.19054049253463745, \"yref\": \"y\"}, {\"arrowcolor\": \"cornflowerblue\", \"arrowhead\": 3, \"arrowsize\": 4, \"arrowwidth\": 1, \"ax\": 0.1850692182779312, \"axref\": \"x\", \"ay\": -0.46448829770088196, \"ayref\": \"y\", \"opacity\": 0.7, \"showarrow\": true, \"x\": 0.0925346091389656, \"xref\": \"x\", \"y\": -0.23224414885044098, \"yref\": \"y\"}, {\"arrowcolor\": \"red\", \"arrowhead\": 3, \"arrowsize\": 4, \"arrowwidth\": 1, \"ax\": 0.280593603849411, \"axref\": \"x\", \"ay\": -0.41384443640708923, \"ayref\": \"y\", \"opacity\": 0.7, \"showarrow\": true, \"x\": 0.1402968019247055, \"xref\": \"x\", \"y\": -0.20692221820354462, \"yref\": \"y\"}, {\"arrowcolor\": \"cornflowerblue\", \"arrowhead\": 3, \"arrowsize\": 4, \"arrowwidth\": 1, \"ax\": 0.36299777030944824, \"axref\": \"x\", \"ay\": -0.34384968876838684, \"ayref\": \"y\", \"opacity\": 0.7, \"showarrow\": true, \"x\": 0.18149888515472412, \"xref\": \"x\", \"y\": -0.17192484438419342, \"yref\": \"y\"}, {\"arrowcolor\": \"red\", \"arrowhead\": 3, \"arrowsize\": 4, \"arrowwidth\": 1, \"ax\": 0.428428590297699, \"axref\": \"x\", \"ay\": -0.2577769458293915, \"ayref\": \"y\", \"opacity\": 0.7, \"showarrow\": true, \"x\": 0.2142142951488495, \"xref\": \"x\", \"y\": -0.12888847291469574, \"yref\": \"y\"}, {\"arrowcolor\": \"cornflowerblue\", \"arrowhead\": 3, \"arrowsize\": 4, \"arrowwidth\": 1, \"ax\": 0.4738265573978424, \"axref\": \"x\", \"ay\": -0.15965083241462708, \"ayref\": \"y\", \"opacity\": 0.7, \"showarrow\": true, \"x\": 0.2369132786989212, \"xref\": \"x\", \"y\": -0.07982541620731354, \"yref\": \"y\"}, {\"arrowcolor\": \"red\", \"arrowhead\": 3, \"arrowsize\": 4, \"arrowwidth\": 1, \"ax\": 0.49706897139549255, \"axref\": \"x\", \"ay\": -0.05405963212251663, \"ayref\": \"y\", \"opacity\": 0.7, \"showarrow\": true, \"x\": 0.24853448569774628, \"xref\": \"x\", \"y\": -0.027029816061258316, \"yref\": \"y\"}, {\"arrowcolor\": \"cornflowerblue\", \"arrowhead\": 3, \"arrowsize\": 4, \"arrowwidth\": 1, \"ax\": 0.3629976511001587, \"axref\": \"x\", \"ay\": 0.3438498377799988, \"ayref\": \"y\", \"opacity\": 0.7, \"showarrow\": true, \"x\": 0.18149882555007935, \"xref\": \"x\", \"y\": 0.1719249188899994, \"yref\": \"y\"}, {\"arrowcolor\": \"cornflowerblue\", \"arrowhead\": 3, \"arrowsize\": 4, \"arrowwidth\": 1, \"ax\": 0.18506905436515808, \"axref\": \"x\", \"ay\": 0.46448835730552673, \"ayref\": \"y\", \"opacity\": 0.7, \"showarrow\": true, \"x\": 0.09253452718257904, \"xref\": \"x\", \"y\": 0.23224417865276337, \"yref\": \"y\"}, {\"arrowcolor\": \"cornflowerblue\", \"arrowhead\": 3, \"arrowsize\": 4, \"arrowwidth\": 1, \"ax\": -0.027069371193647385, \"axref\": \"x\", \"ay\": 0.49926671385765076, \"ayref\": \"y\", \"opacity\": 0.7, \"showarrow\": true, \"x\": -0.013534685596823692, \"xref\": \"x\", \"y\": 0.24963335692882538, \"yref\": \"y\"}, {\"arrowcolor\": \"cornflowerblue\", \"arrowhead\": 3, \"arrowsize\": 4, \"arrowwidth\": 1, \"ax\": -0.13376404345035553, \"axref\": \"x\", \"ay\": 0.48177504539489746, \"ayref\": \"y\", \"opacity\": 0.7, \"showarrow\": true, \"x\": -0.06688202172517776, \"xref\": \"x\", \"y\": 0.24088752269744873, \"yref\": \"y\"}, {\"arrowcolor\": \"cornflowerblue\", \"arrowhead\": 3, \"arrowsize\": 4, \"arrowwidth\": 1, \"ax\": -0.3679680973291397, \"axref\": \"x\", \"ay\": 0.9235311448574066, \"ayref\": \"y\", \"opacity\": 0.7, \"showarrow\": true, \"x\": -0.41818810254335403, \"xref\": \"x\", \"y\": 0.9035216718912125, \"yref\": \"y\"}, {\"arrowcolor\": \"cornflowerblue\", \"arrowhead\": 3, \"arrowsize\": 4, \"arrowwidth\": 1, \"ax\": -0.3980466425418854, \"axref\": \"x\", \"ay\": 0.30258697271347046, \"ayref\": \"y\", \"opacity\": 0.7, \"showarrow\": true, \"x\": -0.1990233212709427, \"xref\": \"x\", \"y\": 0.15129348635673523, \"yref\": \"y\"}, {\"arrowcolor\": \"cornflowerblue\", \"arrowhead\": 3, \"arrowsize\": 4, \"arrowwidth\": 1, \"ax\": -0.4883102774620056, \"axref\": \"x\", \"ay\": 0.10748515278100967, \"ayref\": \"y\", \"opacity\": 0.7, \"showarrow\": true, \"x\": -0.2441551387310028, \"xref\": \"x\", \"y\": 0.05374257639050484, \"yref\": \"y\"}], \"height\": 600, \"hovermode\": \"closest\", \"legend\": {\"itemclick\": false, \"itemdoubleclick\": false}, \"margin\": {\"b\": 60, \"l\": 60, \"r\": 60, \"t\": 60}, \"showlegend\": true, \"template\": {\"data\": {\"bar\": [{\"error_x\": {\"color\": \"#2a3f5f\"}, \"error_y\": {\"color\": \"#2a3f5f\"}, \"marker\": {\"line\": {\"color\": \"#E5ECF6\", \"width\": 0.5}}, \"type\": \"bar\"}], \"barpolar\": [{\"marker\": {\"line\": {\"color\": \"#E5ECF6\", \"width\": 0.5}}, \"type\": \"barpolar\"}], \"carpet\": [{\"aaxis\": {\"endlinecolor\": \"#2a3f5f\", \"gridcolor\": \"white\", \"linecolor\": \"white\", \"minorgridcolor\": \"white\", \"startlinecolor\": \"#2a3f5f\"}, \"baxis\": {\"endlinecolor\": \"#2a3f5f\", \"gridcolor\": \"white\", \"linecolor\": \"white\", \"minorgridcolor\": \"white\", \"startlinecolor\": \"#2a3f5f\"}, \"type\": \"carpet\"}], \"choropleth\": [{\"colorbar\": {\"outlinewidth\": 0, \"ticks\": \"\"}, \"type\": \"choropleth\"}], \"contour\": [{\"colorbar\": {\"outlinewidth\": 0, \"ticks\": \"\"}, \"colorscale\": [[0.0, \"#0d0887\"], [0.1111111111111111, \"#46039f\"], [0.2222222222222222, \"#7201a8\"], [0.3333333333333333, \"#9c179e\"], [0.4444444444444444, \"#bd3786\"], [0.5555555555555556, \"#d8576b\"], [0.6666666666666666, \"#ed7953\"], [0.7777777777777778, \"#fb9f3a\"], [0.8888888888888888, \"#fdca26\"], [1.0, \"#f0f921\"]], \"type\": \"contour\"}], \"contourcarpet\": [{\"colorbar\": {\"outlinewidth\": 0, \"ticks\": \"\"}, \"type\": \"contourcarpet\"}], \"heatmap\": [{\"colorbar\": {\"outlinewidth\": 0, \"ticks\": \"\"}, \"colorscale\": [[0.0, \"#0d0887\"], [0.1111111111111111, \"#46039f\"], [0.2222222222222222, \"#7201a8\"], [0.3333333333333333, \"#9c179e\"], [0.4444444444444444, \"#bd3786\"], [0.5555555555555556, \"#d8576b\"], [0.6666666666666666, \"#ed7953\"], [0.7777777777777778, \"#fb9f3a\"], [0.8888888888888888, \"#fdca26\"], [1.0, \"#f0f921\"]], \"type\": \"heatmap\"}], \"heatmapgl\": [{\"colorbar\": {\"outlinewidth\": 0, \"ticks\": \"\"}, \"colorscale\": [[0.0, \"#0d0887\"], [0.1111111111111111, \"#46039f\"], [0.2222222222222222, \"#7201a8\"], [0.3333333333333333, \"#9c179e\"], [0.4444444444444444, \"#bd3786\"], [0.5555555555555556, \"#d8576b\"], [0.6666666666666666, \"#ed7953\"], [0.7777777777777778, \"#fb9f3a\"], [0.8888888888888888, \"#fdca26\"], [1.0, \"#f0f921\"]], \"type\": \"heatmapgl\"}], \"histogram\": [{\"marker\": {\"colorbar\": {\"outlinewidth\": 0, \"ticks\": \"\"}}, \"type\": \"histogram\"}], \"histogram2d\": [{\"colorbar\": {\"outlinewidth\": 0, \"ticks\": \"\"}, \"colorscale\": [[0.0, \"#0d0887\"], [0.1111111111111111, \"#46039f\"], [0.2222222222222222, \"#7201a8\"], [0.3333333333333333, \"#9c179e\"], [0.4444444444444444, \"#bd3786\"], [0.5555555555555556, \"#d8576b\"], [0.6666666666666666, \"#ed7953\"], [0.7777777777777778, \"#fb9f3a\"], [0.8888888888888888, \"#fdca26\"], [1.0, \"#f0f921\"]], \"type\": \"histogram2d\"}], \"histogram2dcontour\": [{\"colorbar\": {\"outlinewidth\": 0, \"ticks\": \"\"}, \"colorscale\": [[0.0, \"#0d0887\"], [0.1111111111111111, \"#46039f\"], [0.2222222222222222, \"#7201a8\"], [0.3333333333333333, \"#9c179e\"], [0.4444444444444444, \"#bd3786\"], [0.5555555555555556, \"#d8576b\"], [0.6666666666666666, \"#ed7953\"], [0.7777777777777778, \"#fb9f3a\"], [0.8888888888888888, \"#fdca26\"], [1.0, \"#f0f921\"]], \"type\": \"histogram2dcontour\"}], \"mesh3d\": [{\"colorbar\": {\"outlinewidth\": 0, \"ticks\": \"\"}, \"type\": \"mesh3d\"}], \"parcoords\": [{\"line\": {\"colorbar\": {\"outlinewidth\": 0, \"ticks\": \"\"}}, \"type\": \"parcoords\"}], \"pie\": [{\"automargin\": true, \"type\": \"pie\"}], \"scatter\": [{\"marker\": {\"colorbar\": {\"outlinewidth\": 0, \"ticks\": \"\"}}, \"type\": \"scatter\"}], \"scatter3d\": [{\"line\": {\"colorbar\": {\"outlinewidth\": 0, \"ticks\": \"\"}}, \"marker\": {\"colorbar\": {\"outlinewidth\": 0, \"ticks\": \"\"}}, \"type\": \"scatter3d\"}], \"scattercarpet\": [{\"marker\": {\"colorbar\": {\"outlinewidth\": 0, \"ticks\": \"\"}}, \"type\": \"scattercarpet\"}], \"scattergeo\": [{\"marker\": {\"colorbar\": {\"outlinewidth\": 0, \"ticks\": \"\"}}, \"type\": \"scattergeo\"}], \"scattergl\": [{\"marker\": {\"colorbar\": {\"outlinewidth\": 0, \"ticks\": \"\"}}, \"type\": \"scattergl\"}], \"scattermapbox\": [{\"marker\": {\"colorbar\": {\"outlinewidth\": 0, \"ticks\": \"\"}}, \"type\": \"scattermapbox\"}], \"scatterpolar\": [{\"marker\": {\"colorbar\": {\"outlinewidth\": 0, \"ticks\": \"\"}}, \"type\": \"scatterpolar\"}], \"scatterpolargl\": [{\"marker\": {\"colorbar\": {\"outlinewidth\": 0, \"ticks\": \"\"}}, \"type\": \"scatterpolargl\"}], \"scatterternary\": [{\"marker\": {\"colorbar\": {\"outlinewidth\": 0, \"ticks\": \"\"}}, \"type\": \"scatterternary\"}], \"surface\": [{\"colorbar\": {\"outlinewidth\": 0, \"ticks\": \"\"}, \"colorscale\": [[0.0, \"#0d0887\"], [0.1111111111111111, \"#46039f\"], [0.2222222222222222, \"#7201a8\"], [0.3333333333333333, \"#9c179e\"], [0.4444444444444444, \"#bd3786\"], [0.5555555555555556, \"#d8576b\"], [0.6666666666666666, \"#ed7953\"], [0.7777777777777778, \"#fb9f3a\"], [0.8888888888888888, \"#fdca26\"], [1.0, \"#f0f921\"]], \"type\": \"surface\"}], \"table\": [{\"cells\": {\"fill\": {\"color\": \"#EBF0F8\"}, \"line\": {\"color\": \"white\"}}, \"header\": {\"fill\": {\"color\": \"#C8D4E3\"}, \"line\": {\"color\": \"white\"}}, \"type\": \"table\"}]}, \"layout\": {\"annotationdefaults\": {\"arrowcolor\": \"#2a3f5f\", \"arrowhead\": 0, \"arrowwidth\": 1}, \"coloraxis\": {\"colorbar\": {\"outlinewidth\": 0, \"ticks\": \"\"}}, \"colorscale\": {\"diverging\": [[0, \"#8e0152\"], [0.1, \"#c51b7d\"], [0.2, \"#de77ae\"], [0.3, \"#f1b6da\"], [0.4, \"#fde0ef\"], [0.5, \"#f7f7f7\"], [0.6, \"#e6f5d0\"], [0.7, \"#b8e186\"], [0.8, \"#7fbc41\"], [0.9, \"#4d9221\"], [1, \"#276419\"]], \"sequential\": [[0.0, \"#0d0887\"], [0.1111111111111111, \"#46039f\"], [0.2222222222222222, \"#7201a8\"], [0.3333333333333333, \"#9c179e\"], [0.4444444444444444, \"#bd3786\"], [0.5555555555555556, \"#d8576b\"], [0.6666666666666666, \"#ed7953\"], [0.7777777777777778, \"#fb9f3a\"], [0.8888888888888888, \"#fdca26\"], [1.0, \"#f0f921\"]], \"sequentialminus\": [[0.0, \"#0d0887\"], [0.1111111111111111, \"#46039f\"], [0.2222222222222222, \"#7201a8\"], [0.3333333333333333, \"#9c179e\"], [0.4444444444444444, \"#bd3786\"], [0.5555555555555556, \"#d8576b\"], [0.6666666666666666, \"#ed7953\"], [0.7777777777777778, \"#fb9f3a\"], [0.8888888888888888, \"#fdca26\"], [1.0, \"#f0f921\"]]}, \"colorway\": [\"#636efa\", \"#EF553B\", \"#00cc96\", \"#ab63fa\", \"#FFA15A\", \"#19d3f3\", \"#FF6692\", \"#B6E880\", \"#FF97FF\", \"#FECB52\"], \"font\": {\"color\": \"#2a3f5f\"}, \"geo\": {\"bgcolor\": \"white\", \"lakecolor\": \"white\", \"landcolor\": \"#E5ECF6\", \"showlakes\": true, \"showland\": true, \"subunitcolor\": \"white\"}, \"hoverlabel\": {\"align\": \"left\"}, \"hovermode\": \"closest\", \"mapbox\": {\"style\": \"light\"}, \"paper_bgcolor\": \"white\", \"plot_bgcolor\": \"#E5ECF6\", \"polar\": {\"angularaxis\": {\"gridcolor\": \"white\", \"linecolor\": \"white\", \"ticks\": \"\"}, \"bgcolor\": \"#E5ECF6\", \"radialaxis\": {\"gridcolor\": \"white\", \"linecolor\": \"white\", \"ticks\": \"\"}}, \"scene\": {\"xaxis\": {\"backgroundcolor\": \"#E5ECF6\", \"gridcolor\": \"white\", \"gridwidth\": 2, \"linecolor\": \"white\", \"showbackground\": true, \"ticks\": \"\", \"zerolinecolor\": \"white\"}, \"yaxis\": {\"backgroundcolor\": \"#E5ECF6\", \"gridcolor\": \"white\", \"gridwidth\": 2, \"linecolor\": \"white\", \"showbackground\": true, \"ticks\": \"\", \"zerolinecolor\": \"white\"}, \"zaxis\": {\"backgroundcolor\": \"#E5ECF6\", \"gridcolor\": \"white\", \"gridwidth\": 2, \"linecolor\": \"white\", \"showbackground\": true, \"ticks\": \"\", \"zerolinecolor\": \"white\"}}, \"shapedefaults\": {\"line\": {\"color\": \"#2a3f5f\"}}, \"ternary\": {\"aaxis\": {\"gridcolor\": \"white\", \"linecolor\": \"white\", \"ticks\": \"\"}, \"baxis\": {\"gridcolor\": \"white\", \"linecolor\": \"white\", \"ticks\": \"\"}, \"bgcolor\": \"#E5ECF6\", \"caxis\": {\"gridcolor\": \"white\", \"linecolor\": \"white\", \"ticks\": \"\"}}, \"title\": {\"x\": 0.05}, \"xaxis\": {\"automargin\": true, \"gridcolor\": \"white\", \"linecolor\": \"white\", \"ticks\": \"\", \"title\": {\"standoff\": 15}, \"zerolinecolor\": \"white\", \"zerolinewidth\": 2}, \"yaxis\": {\"automargin\": true, \"gridcolor\": \"white\", \"linecolor\": \"white\", \"ticks\": \"\", \"title\": {\"standoff\": 15}, \"zerolinecolor\": \"white\", \"zerolinewidth\": 2}}}, \"title\": {\"text\": \"Network 2-d visualization\"}, \"xaxis\": {\"showgrid\": false, \"showticklabels\": false, \"zeroline\": false}, \"yaxis\": {\"showgrid\": false, \"showticklabels\": false, \"zeroline\": false}},                        {\"responsive\": true}                    ).then(function(){\n",
       "                            \n",
       "var gd = document.getElementById('5800d09a-f297-403c-a6fe-45ccd06e3ab7');\n",
       "var x = new MutationObserver(function (mutations, observer) {{\n",
       "        var display = window.getComputedStyle(gd).display;\n",
       "        if (!display || display === 'none') {{\n",
       "            console.log([gd, 'removed!']);\n",
       "            Plotly.purge(gd);\n",
       "            observer.disconnect();\n",
       "        }}\n",
       "}});\n",
       "\n",
       "// Listen for the removal of the full notebook cells\n",
       "var notebookContainer = gd.closest('#notebook-container');\n",
       "if (notebookContainer) {{\n",
       "    x.observe(notebookContainer, {childList: true});\n",
       "}}\n",
       "\n",
       "// Listen for the clearing of the current output cell\n",
       "var outputEl = gd.closest('.output');\n",
       "if (outputEl) {{\n",
       "    x.observe(outputEl, {childList: true});\n",
       "}}\n",
       "\n",
       "                        })                };                });            </script>        </div>"
      ]
     },
     "metadata": {},
     "output_type": "display_data"
    }
   ],
   "source": [
    "#data = [edge_trace, trace_nodes]\n",
    "fig = go.Figure(layout=layout)\n",
    "\n",
    "for trace in edge_trace:\n",
    "    fig.add_trace(trace)\n",
    "\n",
    "for trace in node_trace:\n",
    "    fig.add_trace(trace)\n",
    "\n",
    "fig.add_trace(middle_trace)\n",
    "\n",
    "#fig.update_layout(legend_title_text='Node Types:')\n",
    "fig.update_layout(legend_itemclick=False)\n",
    "fig.update_layout(legend_itemdoubleclick=False)\n",
    "fig.show()\n",
    "fig.write_html('2d_visualization.html')"
   ]
  },
  {
   "cell_type": "markdown",
   "id": "ab0eb3dc",
   "metadata": {},
   "source": [
    "### Now try for the 3-d visualization"
   ]
  },
  {
   "cell_type": "code",
   "execution_count": 680,
   "id": "c51917dc",
   "metadata": {
    "ExecuteTime": {
     "end_time": "2021-05-06T18:42:24.786646Z",
     "start_time": "2021-05-06T18:42:24.759259Z"
    }
   },
   "outputs": [],
   "source": [
    "pos3d = nx.spring_layout(Gr_dir,dim=3, seed=2021, weight='weights')"
   ]
  },
  {
   "cell_type": "code",
   "execution_count": 893,
   "id": "5bf8c500",
   "metadata": {
    "ExecuteTime": {
     "end_time": "2021-05-07T17:07:27.325791Z",
     "start_time": "2021-05-07T17:07:27.320224Z"
    }
   },
   "outputs": [],
   "source": [
    "#pos3d"
   ]
  },
  {
   "cell_type": "code",
   "execution_count": 894,
   "id": "ef8ed708",
   "metadata": {
    "ExecuteTime": {
     "end_time": "2021-05-07T17:07:31.964720Z",
     "start_time": "2021-05-07T17:07:31.944583Z"
    }
   },
   "outputs": [],
   "source": [
    "for node in Gr_dir.nodes:\n",
    "        Gr_dir.nodes[node]['pos3d'] = list(pos3d[node])"
   ]
  },
  {
   "cell_type": "code",
   "execution_count": 291,
   "id": "28092cd0",
   "metadata": {
    "ExecuteTime": {
     "end_time": "2021-05-05T08:57:41.730202Z",
     "start_time": "2021-05-05T08:57:41.689657Z"
    }
   },
   "outputs": [],
   "source": [
    "pos3d = nx.kamada_kawai_layout(Gr_dir,dim=3, weight= 'weights')"
   ]
  },
  {
   "cell_type": "code",
   "execution_count": 900,
   "id": "b19f2bbb",
   "metadata": {
    "ExecuteTime": {
     "end_time": "2021-05-07T17:26:08.551918Z",
     "start_time": "2021-05-07T17:26:08.541860Z"
    }
   },
   "outputs": [],
   "source": [
    "def create_edge_trace3d(edge, pos, is_bidirectional, showlegend=True):\n",
    "    '''\n",
    "    edge: a tuple that contains the beginning and the ending of the edge of the graph \n",
    "    pos: a dictionary with key the node_id and value the array of 2-d positions of the node\n",
    "    is bidirectional: True if the edge is bidirectional False otherwise \n",
    "    showlegend: True if we want the trace to be shown in the legend\n",
    "    \n",
    "    Returns: \n",
    "    an edge trace to be used in the 2-d plot\n",
    "    The opacity and width of the edge are relative to the edge weight\n",
    "    The bidirected edges are coloured in red while the one-way relations are blue. \n",
    "    and the color of the edge \n",
    "    '''\n",
    "    x0, y0, z0 = Gr_dir.nodes[edge[0]]['pos3d']\n",
    "    x1, y1, z1 = Gr_dir.nodes[edge[1]]['pos3d']\n",
    "    weight = Gr_dir[edge[0]][edge[1]]['weights']\n",
    "    opacity= weight/np.max(list(nx.get_edge_attributes(Gr_dir,'weights').values())) #normalize between 0 and 1\n",
    "    if is_bidirectional==True: \n",
    "        color='red'\n",
    "        legendgroup='red'\n",
    "        name='Two-way Edge'\n",
    "    else: \n",
    "        color='cornflowerblue'\n",
    "        legendgroup='blue'\n",
    "        name= 'One-way Edge'\n",
    "    return go.Scatter3d(x=tuple([x0, x1, None]), y=tuple([y0, y1, None]), z=tuple([z0,z1,None]),\n",
    "                        mode='lines',\n",
    "                        line={'width': 10*weight/np.max(list(nx.get_edge_attributes(Gr_dir,'weights').values())), 'color': color},\n",
    "                        legendgroup=legendgroup,\n",
    "                        name=name,\n",
    "                        hoverinfo=None,\n",
    "                        opacity=opacity, showlegend= showlegend), color"
   ]
  },
  {
   "cell_type": "code",
   "execution_count": 901,
   "id": "ed6486a4",
   "metadata": {
    "ExecuteTime": {
     "end_time": "2021-05-07T17:26:11.237639Z",
     "start_time": "2021-05-07T17:26:11.211059Z"
    }
   },
   "outputs": [],
   "source": [
    "edge_trace3d=[]\n",
    "edge_col=[]\n",
    "for edge in Gr_dir.edges:\n",
    "    if edge in double_edges: \n",
    "        if 'red' in edge_col:\n",
    "            trace,_= create_edge_trace3d(edge, pos3d, is_bidirectional = True, showlegend=False)\n",
    "            edge_trace3d.append(trace)\n",
    "        else: \n",
    "            trace,col= create_edge_trace3d(edge, pos3d, is_bidirectional = True, showlegend=True) \n",
    "            edge_col.append(col)\n",
    "            edge_trace3d.append(trace)\n",
    "    else:\n",
    "        if 'cornflowerblue' in edge_col:\n",
    "            trace,_= create_edge_trace3d(edge, pos3d, is_bidirectional = False, showlegend=False)\n",
    "            edge_trace3d.append(trace)\n",
    "        else:\n",
    "            trace,col= create_edge_trace3d(edge, pos, is_bidirectional = False, showlegend=True) \n",
    "            edge_col.append(col)\n",
    "            edge_trace3d.append(trace)\n",
    "  "
   ]
  },
  {
   "cell_type": "code",
   "execution_count": 903,
   "id": "124dab0d",
   "metadata": {
    "ExecuteTime": {
     "end_time": "2021-05-07T17:28:41.972403Z",
     "start_time": "2021-05-07T17:28:41.964591Z"
    }
   },
   "outputs": [],
   "source": [
    "def create_node_trace3d(node, pos, showlegend= True):\n",
    "    '''\n",
    "    node: the node id\n",
    "    pos: the position coordinates of the node in the plot\n",
    "    showlegend: True if we want to the trace to take part in the legend False otherwise\n",
    "    \n",
    "    Returns: \n",
    "    trace of the node to be used in the figure\n",
    "    color of the node \n",
    "    '''\n",
    "    x_node=pos[node][0]\n",
    "    y_node=pos[node][1]\n",
    "    z_node=pos[node][2]\n",
    "    color=Gr_dir.nodes[node]['node_color']\n",
    "    label=Gr_dir.nodes[node]['node_label']\n",
    "    return go.Scatter3d(x=[x_node,None],\n",
    "                      y=[y_node,None],\n",
    "                      z=[z_node,None],\n",
    "                      mode='markers',\n",
    "                      marker=dict(symbol='circle',size=40,color=color),#color the nodes according to their community\n",
    "                      legendgroup=str(color),\n",
    "                      name=str(color),\n",
    "                      showlegend= showlegend,\n",
    "                      text=label, #label according to the node label\n",
    "                      hoverinfo='text'), color"
   ]
  },
  {
   "cell_type": "code",
   "execution_count": 904,
   "id": "72f8ec01",
   "metadata": {
    "ExecuteTime": {
     "end_time": "2021-05-07T17:28:45.949322Z",
     "start_time": "2021-05-07T17:28:45.931116Z"
    }
   },
   "outputs": [],
   "source": [
    "node_trace3d=[]\n",
    "colors_used=[]\n",
    "for node in Gr_dir.nodes:\n",
    "    if Gr_dir.nodes[node]['node_color'] in colors_used: #if already used before don't show it in the legend, just group it with it\n",
    "        trace,_ = create_node_trace3d(node, pos3d, False)\n",
    "        node_trace3d.append(trace)\n",
    "    else: \n",
    "        trace, color = create_node_trace3d(node, pos3d, True)\n",
    "        node_trace3d.append(trace)\n",
    "        colors_used.append(color)"
   ]
  },
  {
   "cell_type": "code",
   "execution_count": 906,
   "id": "2fb07e60",
   "metadata": {
    "ExecuteTime": {
     "end_time": "2021-05-07T17:31:23.231838Z",
     "start_time": "2021-05-07T17:31:23.205910Z"
    }
   },
   "outputs": [],
   "source": [
    "middle_trace3d = go.Scatter3d(x=[], y=[],z=[], hovertext=[], mode='markers', hoverinfo=\"text\",\n",
    "                                    marker={'size': 20, 'color': 'LightSkyBlue'},\n",
    "                                    opacity=0, showlegend= False)\n",
    "\n",
    "\n",
    "for edge in Gr_dir.edges:\n",
    "    x0, y0,z0 = Gr_dir.nodes[edge[0]]['pos3d']\n",
    "    x1, y1,z1 = Gr_dir.nodes[edge[1]]['pos3d']\n",
    "    \n",
    "    if edge in double_edges:\n",
    "        #edge_text='hi'\n",
    "        edge_text = \"Bidirectional edge:\" + \"<br>\" + str(Gr_dir.nodes[edge[0]]['node_label']) + \" To: \" + str(Gr_dir.nodes[edge[1]]['node_label'])  + \", weight: \" + str(Gr_dir.edges[edge]['weights'])+\"<br>\" + str(Gr_dir.nodes[edge[1]]['node_label']) + \" To: \" + str(Gr_dir.nodes[edge[0]]['node_label'])  + \", weight: \" + str(Gr_dir.edges[(edge[1], edge[0])]['weights'])\n",
    "    else:\n",
    "        edge_text=\"From: \" + str(Gr_dir.nodes[edge[0]]['node_label']) + \" To: \" + str(Gr_dir.nodes[edge[1]]['node_label']) + \", weight: \" + str(Gr_dir.edges[edge]['weights'])\n",
    "    hovertext= edge_text\n",
    "    middle_trace3d['x'] += tuple([(x0 + x1) / 2])\n",
    "    middle_trace3d['y'] += tuple([(y0 + y1) / 2])\n",
    "    middle_trace3d['z'] += tuple([(z0 + z1) / 2])\n",
    "    middle_trace3d['hovertext'] += tuple([hovertext])\n",
    "   "
   ]
  },
  {
   "cell_type": "code",
   "execution_count": 925,
   "id": "a9fa5b6a",
   "metadata": {
    "ExecuteTime": {
     "end_time": "2021-05-07T17:47:26.802466Z",
     "start_time": "2021-05-07T17:47:26.790918Z"
    }
   },
   "outputs": [],
   "source": [
    "axis = dict(showbackground=False,\n",
    "            showline=False,\n",
    "            zeroline=False,\n",
    "            showgrid=False,\n",
    "            showticklabels=False,\n",
    "            title='')\n",
    "#also need to create the layout for our plot\n",
    "layout = go.Layout(title=\"The network 3-d visualization\",\n",
    "                width=1000,\n",
    "                height=800,\n",
    "                #clickmode='event+select',\n",
    "                showlegend=True,\n",
    "                scene=dict(xaxis=dict(axis),\n",
    "                yaxis=dict(axis),\n",
    "                zaxis=dict(axis)),\n",
    "                #margin=dict(t=100),\n",
    "                hovermode='closest')"
   ]
  },
  {
   "cell_type": "code",
   "execution_count": 926,
   "id": "fa98b93d",
   "metadata": {
    "ExecuteTime": {
     "end_time": "2021-05-07T17:47:53.301263Z",
     "start_time": "2021-05-07T17:47:53.214977Z"
    }
   },
   "outputs": [
    {
     "data": {
      "application/vnd.plotly.v1+json": {
       "config": {
        "plotlyServerURL": "https://plot.ly"
       },
       "data": [
        {
         "legendgroup": "blue",
         "line": {
          "color": "cornflowerblue",
          "width": 10
         },
         "mode": "lines",
         "name": "One-way Edge",
         "opacity": 1,
         "showlegend": true,
         "type": "scatter3d",
         "x": [
          -0.05208473689230024,
          -0.3347443807211032,
          null
         ],
         "y": [
          0.06415038477218633,
          0.8472675665656535,
          null
         ],
         "z": [
          -0.018364822218821884,
          -0.802303632758542,
          null
         ]
        },
        {
         "legendgroup": "red",
         "line": {
          "color": "red",
          "width": 7.6923076923076925
         },
         "mode": "lines",
         "name": "Two-way Edge",
         "opacity": 0.7692307692307693,
         "showlegend": true,
         "type": "scatter3d",
         "x": [
          -0.05208473689230024,
          -0.07219333385111582,
          null
         ],
         "y": [
          0.06415038477218633,
          0.14461751208915113,
          null
         ],
         "z": [
          -0.018364822218821884,
          -0.0015279924625625386,
          null
         ]
        },
        {
         "legendgroup": "blue",
         "line": {
          "color": "cornflowerblue",
          "width": 6.153846153846154
         },
         "mode": "lines",
         "name": "One-way Edge",
         "opacity": 0.6153846153846154,
         "showlegend": false,
         "type": "scatter3d",
         "x": [
          -0.05208473689230024,
          0.06589704334600545,
          null
         ],
         "y": [
          0.06415038477218633,
          0.19349176508688132,
          null
         ],
         "z": [
          -0.018364822218821884,
          1,
          null
         ]
        },
        {
         "legendgroup": "blue",
         "line": {
          "color": "cornflowerblue",
          "width": 5.384615384615385
         },
         "mode": "lines",
         "name": "One-way Edge",
         "opacity": 0.5384615384615384,
         "showlegend": false,
         "type": "scatter3d",
         "x": [
          -0.05208473689230024,
          -0.027403696427232185,
          null
         ],
         "y": [
          0.06415038477218633,
          -0.9391029581247218,
          null
         ],
         "z": [
          -0.018364822218821884,
          -0.27914498092386686,
          null
         ]
        },
        {
         "legendgroup": "blue",
         "line": {
          "color": "cornflowerblue",
          "width": 5.384615384615385
         },
         "mode": "lines",
         "name": "One-way Edge",
         "opacity": 0.5384615384615384,
         "showlegend": false,
         "type": "scatter3d",
         "x": [
          -0.05208473689230024,
          -0.7836873632135654,
          null
         ],
         "y": [
          0.06415038477218633,
          0.004796925753312725,
          null
         ],
         "z": [
          -0.018364822218821884,
          -0.8308823930914654,
          null
         ]
        },
        {
         "legendgroup": "blue",
         "line": {
          "color": "cornflowerblue",
          "width": 5.384615384615385
         },
         "mode": "lines",
         "name": "One-way Edge",
         "opacity": 0.5384615384615384,
         "showlegend": false,
         "type": "scatter3d",
         "x": [
          -0.05208473689230024,
          0.7977776268452517,
          null
         ],
         "y": [
          0.06415038477218633,
          -0.40459553210505106,
          null
         ],
         "z": [
          -0.018364822218821884,
          0.13327592092937007,
          null
         ]
        },
        {
         "legendgroup": "red",
         "line": {
          "color": "red",
          "width": 4.615384615384615
         },
         "mode": "lines",
         "name": "Two-way Edge",
         "opacity": 0.46153846153846156,
         "showlegend": false,
         "type": "scatter3d",
         "x": [
          -0.05208473689230024,
          -0.043021386647208476,
          null
         ],
         "y": [
          0.06415038477218633,
          0.08328120181406078,
          null
         ],
         "z": [
          -0.018364822218821884,
          0.05338260464429489,
          null
         ]
        },
        {
         "legendgroup": "blue",
         "line": {
          "color": "cornflowerblue",
          "width": 4.615384615384615
         },
         "mode": "lines",
         "name": "One-way Edge",
         "opacity": 0.46153846153846156,
         "showlegend": false,
         "type": "scatter3d",
         "x": [
          -0.05208473689230024,
          0.4876037480380568,
          null
         ],
         "y": [
          0.06415038477218633,
          0.9526672777839326,
          null
         ],
         "z": [
          -0.018364822218821884,
          0.01997120691804266,
          null
         ]
        },
        {
         "legendgroup": "blue",
         "line": {
          "color": "cornflowerblue",
          "width": 4.615384615384615
         },
         "mode": "lines",
         "name": "One-way Edge",
         "opacity": 0.46153846153846156,
         "showlegend": false,
         "type": "scatter3d",
         "x": [
          -0.05208473689230024,
          0.10742851961597742,
          null
         ],
         "y": [
          0.06415038477218633,
          -0.7372512823654566,
          null
         ],
         "z": [
          -0.018364822218821884,
          0.6536087260010816,
          null
         ]
        },
        {
         "legendgroup": "blue",
         "line": {
          "color": "cornflowerblue",
          "width": 4.615384615384615
         },
         "mode": "lines",
         "name": "One-way Edge",
         "opacity": 0.46153846153846156,
         "showlegend": false,
         "type": "scatter3d",
         "x": [
          -0.05208473689230024,
          -0.4978793778330567,
          null
         ],
         "y": [
          0.06415038477218633,
          -0.639350322953166,
          null
         ],
         "z": [
          -0.018364822218821884,
          -0.7786703083280925,
          null
         ]
        },
        {
         "legendgroup": "blue",
         "line": {
          "color": "cornflowerblue",
          "width": 4.615384615384615
         },
         "mode": "lines",
         "name": "One-way Edge",
         "opacity": 0.46153846153846156,
         "showlegend": false,
         "type": "scatter3d",
         "x": [
          -0.05208473689230024,
          -0.5412377781968783,
          null
         ],
         "y": [
          0.06415038477218633,
          0.22634892012878013,
          null
         ],
         "z": [
          -0.018364822218821884,
          0.8151253602899718,
          null
         ]
        },
        {
         "legendgroup": "red",
         "line": {
          "color": "red",
          "width": 3.8461538461538463
         },
         "mode": "lines",
         "name": "Two-way Edge",
         "opacity": 0.38461538461538464,
         "showlegend": false,
         "type": "scatter3d",
         "x": [
          -0.05208473689230024,
          -0.03310283775649442,
          null
         ],
         "y": [
          0.06415038477218633,
          0.009322789758658313,
          null
         ],
         "z": [
          -0.018364822218821884,
          0.026972759149500924,
          null
         ]
        },
        {
         "legendgroup": "red",
         "line": {
          "color": "red",
          "width": 3.8461538461538463
         },
         "mode": "lines",
         "name": "Two-way Edge",
         "opacity": 0.38461538461538464,
         "showlegend": false,
         "type": "scatter3d",
         "x": [
          -0.05208473689230024,
          -0.009312938078821586,
          null
         ],
         "y": [
          0.06415038477218633,
          0.12702759914766895,
          null
         ],
         "z": [
          -0.018364822218821884,
          -0.01149772600237422,
          null
         ]
        },
        {
         "legendgroup": "blue",
         "line": {
          "color": "cornflowerblue",
          "width": 3.8461538461538463
         },
         "mode": "lines",
         "name": "One-way Edge",
         "opacity": 0.38461538461538464,
         "showlegend": false,
         "type": "scatter3d",
         "x": [
          -0.05208473689230024,
          0.6413793757844527,
          null
         ],
         "y": [
          0.06415038477218633,
          -0.2525446012817158,
          null
         ],
         "z": [
          -0.018364822218821884,
          0.703116470793784,
          null
         ]
        },
        {
         "legendgroup": "blue",
         "line": {
          "color": "cornflowerblue",
          "width": 3.8461538461538463
         },
         "mode": "lines",
         "name": "One-way Edge",
         "opacity": 0.38461538461538464,
         "showlegend": false,
         "type": "scatter3d",
         "x": [
          -0.05208473689230024,
          0.8846479959757038,
          null
         ],
         "y": [
          0.06415038477218633,
          0.4001614337339443,
          null
         ],
         "z": [
          -0.018364822218821884,
          0.3811748413750089,
          null
         ]
        },
        {
         "legendgroup": "blue",
         "line": {
          "color": "cornflowerblue",
          "width": 3.8461538461538463
         },
         "mode": "lines",
         "name": "One-way Edge",
         "opacity": 0.38461538461538464,
         "showlegend": false,
         "type": "scatter3d",
         "x": [
          -0.05208473689230024,
          -0.9654020859717763,
          null
         ],
         "y": [
          0.06415038477218633,
          0.3516003016814693,
          null
         ],
         "z": [
          -0.018364822218821884,
          -0.00993978220744847,
          null
         ]
        },
        {
         "legendgroup": "red",
         "line": {
          "color": "red",
          "width": 3.8461538461538463
         },
         "mode": "lines",
         "name": "Two-way Edge",
         "opacity": 0.38461538461538464,
         "showlegend": false,
         "type": "scatter3d",
         "x": [
          -0.07219333385111582,
          -0.05208473689230024,
          null
         ],
         "y": [
          0.14461751208915113,
          0.06415038477218633,
          null
         ],
         "z": [
          -0.0015279924625625386,
          -0.018364822218821884,
          null
         ]
        },
        {
         "legendgroup": "blue",
         "line": {
          "color": "cornflowerblue",
          "width": 6.923076923076923
         },
         "mode": "lines",
         "name": "One-way Edge",
         "opacity": 0.6923076923076923,
         "showlegend": false,
         "type": "scatter3d",
         "x": [
          -0.058568428200424724,
          -0.05208473689230024,
          null
         ],
         "y": [
          0.03353932342357266,
          0.06415038477218633,
          null
         ],
         "z": [
          -0.06816139317432363,
          -0.018364822218821884,
          null
         ]
        },
        {
         "legendgroup": "blue",
         "line": {
          "color": "cornflowerblue",
          "width": 6.153846153846154
         },
         "mode": "lines",
         "name": "One-way Edge",
         "opacity": 0.6153846153846154,
         "showlegend": false,
         "type": "scatter3d",
         "x": [
          0.0015476253341445063,
          -0.05208473689230024,
          null
         ],
         "y": [
          0.07672447105655177,
          0.06415038477218633,
          null
         ],
         "z": [
          -0.05150325678192387,
          -0.018364822218821884,
          null
         ]
        },
        {
         "legendgroup": "blue",
         "line": {
          "color": "cornflowerblue",
          "width": 5.384615384615385
         },
         "mode": "lines",
         "name": "One-way Edge",
         "opacity": 0.5384615384615384,
         "showlegend": false,
         "type": "scatter3d",
         "x": [
          -0.049707163205370206,
          -0.05208473689230024,
          null
         ],
         "y": [
          0.11328444880520548,
          0.06415038477218633,
          null
         ],
         "z": [
          -0.06912709786732973,
          -0.018364822218821884,
          null
         ]
        },
        {
         "legendgroup": "red",
         "line": {
          "color": "red",
          "width": 4.615384615384615
         },
         "mode": "lines",
         "name": "Two-way Edge",
         "opacity": 0.46153846153846156,
         "showlegend": false,
         "type": "scatter3d",
         "x": [
          -0.043021386647208476,
          -0.05208473689230024,
          null
         ],
         "y": [
          0.08328120181406078,
          0.06415038477218633,
          null
         ],
         "z": [
          0.05338260464429489,
          -0.018364822218821884,
          null
         ]
        },
        {
         "legendgroup": "blue",
         "line": {
          "color": "cornflowerblue",
          "width": 4.615384615384615
         },
         "mode": "lines",
         "name": "One-way Edge",
         "opacity": 0.46153846153846156,
         "showlegend": false,
         "type": "scatter3d",
         "x": [
          -0.10055607256713323,
          -0.05208473689230024,
          null
         ],
         "y": [
          0.030752779933492225,
          0.06415038477218633,
          null
         ],
         "z": [
          0.028191049135305707,
          -0.018364822218821884,
          null
         ]
        },
        {
         "legendgroup": "red",
         "line": {
          "color": "red",
          "width": 4.615384615384615
         },
         "mode": "lines",
         "name": "Two-way Edge",
         "opacity": 0.46153846153846156,
         "showlegend": false,
         "type": "scatter3d",
         "x": [
          -0.009312938078821586,
          -0.05208473689230024,
          null
         ],
         "y": [
          0.12702759914766895,
          0.06415038477218633,
          null
         ],
         "z": [
          -0.01149772600237422,
          -0.018364822218821884,
          null
         ]
        },
        {
         "legendgroup": "blue",
         "line": {
          "color": "cornflowerblue",
          "width": 4.615384615384615
         },
         "mode": "lines",
         "name": "One-way Edge",
         "opacity": 0.46153846153846156,
         "showlegend": false,
         "type": "scatter3d",
         "x": [
          -0.0022393222121826154,
          -0.05208473689230024,
          null
         ],
         "y": [
          0.014456403154050257,
          0.06415038477218633,
          null
         ],
         "z": [
          -0.04752102425569342,
          -0.018364822218821884,
          null
         ]
        },
        {
         "legendgroup": "red",
         "line": {
          "color": "red",
          "width": 4.615384615384615
         },
         "mode": "lines",
         "name": "Two-way Edge",
         "opacity": 0.46153846153846156,
         "showlegend": false,
         "type": "scatter3d",
         "x": [
          -0.03310283775649442,
          -0.05208473689230024,
          null
         ],
         "y": [
          0.009322789758658313,
          0.06415038477218633,
          null
         ],
         "z": [
          0.026972759149500924,
          -0.018364822218821884,
          null
         ]
        },
        {
         "legendgroup": "blue",
         "line": {
          "color": "cornflowerblue",
          "width": 4.615384615384615
         },
         "mode": "lines",
         "name": "One-way Edge",
         "opacity": 0.46153846153846156,
         "showlegend": false,
         "type": "scatter3d",
         "x": [
          -0.0936171235573822,
          -0.05208473689230024,
          null
         ],
         "y": [
          0.07833091841923291,
          0.06415038477218633,
          null
         ],
         "z": [
          -0.0847651433420181,
          -0.018364822218821884,
          null
         ]
        },
        {
         "legendgroup": "blue",
         "line": {
          "color": "cornflowerblue",
          "width": 4.615384615384615
         },
         "mode": "lines",
         "name": "One-way Edge",
         "opacity": 0.46153846153846156,
         "showlegend": false,
         "type": "scatter3d",
         "x": [
          -0.12665245662338606,
          -0.05208473689230024,
          null
         ],
         "y": [
          0.06604655271490605,
          0.06415038477218633,
          null
         ],
         "z": [
          -0.0344921676950288,
          -0.018364822218821884,
          null
         ]
        },
        {
         "legendgroup": "blue",
         "line": {
          "color": "cornflowerblue",
          "width": 3.8461538461538463
         },
         "mode": "lines",
         "name": "One-way Edge",
         "opacity": 0.38461538461538464,
         "showlegend": false,
         "type": "scatter3d",
         "x": [
          -0.11230109952023846,
          -0.05208473689230024,
          null
         ],
         "y": [
          0.09921210300750762,
          0.06415038477218633,
          null
         ],
         "z": [
          0.027414308654081714,
          -0.018364822218821884,
          null
         ]
        },
        {
         "legendgroup": "blue",
         "line": {
          "color": "cornflowerblue",
          "width": 3.8461538461538463
         },
         "mode": "lines",
         "name": "One-way Edge",
         "opacity": 0.38461538461538464,
         "showlegend": false,
         "type": "scatter3d",
         "x": [
          0.3089703058558743,
          -0.05208473689230024,
          null
         ],
         "y": [
          -0.31002901756328805,
          0.06415038477218633,
          null
         ],
         "z": [
          -0.2555392478383514,
          -0.018364822218821884,
          null
         ]
        },
        {
         "legendgroup": "blue",
         "line": {
          "color": "cornflowerblue",
          "width": 3.8461538461538463
         },
         "mode": "lines",
         "name": "One-way Edge",
         "opacity": 0.38461538461538464,
         "showlegend": false,
         "type": "scatter3d",
         "x": [
          0.3089703058558743,
          0.6683031979539543,
          null
         ],
         "y": [
          -0.31002901756328805,
          -0.6834359975393351,
          null
         ],
         "z": [
          -0.2555392478383514,
          -0.4932606893828914,
          null
         ]
        },
        {
         "legendgroup": "blue",
         "line": {
          "color": "cornflowerblue",
          "width": 3.8461538461538463
         },
         "mode": "lines",
         "name": "One-way Edge",
         "opacity": 0.38461538461538464,
         "showlegend": false,
         "type": "scatter3d",
         "x": [
          -0.08191753670198215,
          -0.05208473689230024,
          null
         ],
         "y": [
          -0.012211821079172687,
          0.06415038477218633,
          null
         ],
         "z": [
          -0.02659837971865022,
          -0.018364822218821884,
          null
         ]
        },
        {
         "legendgroup": "blue",
         "line": {
          "color": "cornflowerblue",
          "width": 3.8461538461538463
         },
         "mode": "lines",
         "name": "One-way Edge",
         "opacity": 0.38461538461538464,
         "showlegend": false,
         "type": "scatter3d",
         "x": [
          0.022073679428230814,
          -0.05208473689230024,
          null
         ],
         "y": [
          0.06144085418168825,
          0.06415038477218633,
          null
         ],
         "z": [
          0.02106679015894224,
          -0.018364822218821884,
          null
         ]
        },
        {
         "hoverinfo": "text",
         "legendgroup": "#ED8B00",
         "marker": {
          "color": "#ED8B00",
          "size": 40,
          "symbol": "circle"
         },
         "mode": "markers",
         "name": "#ED8B00",
         "showlegend": true,
         "text": "Anthony",
         "type": "scatter3d",
         "x": [
          -0.05208473689230024,
          null
         ],
         "y": [
          0.06415038477218633,
          null
         ],
         "z": [
          -0.018364822218821884,
          null
         ]
        },
        {
         "hoverinfo": "text",
         "legendgroup": "#ED8B00",
         "marker": {
          "color": "#ED8B00",
          "size": 40,
          "symbol": "circle"
         },
         "mode": "markers",
         "name": "#ED8B00",
         "showlegend": false,
         "text": "Matthew",
         "type": "scatter3d",
         "x": [
          -0.3347443807211032,
          null
         ],
         "y": [
          0.8472675665656535,
          null
         ],
         "z": [
          -0.802303632758542,
          null
         ]
        },
        {
         "hoverinfo": "text",
         "legendgroup": "#ED8B00",
         "marker": {
          "color": "#ED8B00",
          "size": 40,
          "symbol": "circle"
         },
         "mode": "markers",
         "name": "#ED8B00",
         "showlegend": false,
         "text": "Christopher",
         "type": "scatter3d",
         "x": [
          -0.07219333385111582,
          null
         ],
         "y": [
          0.14461751208915113,
          null
         ],
         "z": [
          -0.0015279924625625386,
          null
         ]
        },
        {
         "hoverinfo": "text",
         "legendgroup": "#00965E",
         "marker": {
          "color": "#00965E",
          "size": 40,
          "symbol": "circle"
         },
         "mode": "markers",
         "name": "#00965E",
         "showlegend": true,
         "text": "Linda",
         "type": "scatter3d",
         "x": [
          -0.058568428200424724,
          null
         ],
         "y": [
          0.03353932342357266,
          null
         ],
         "z": [
          -0.06816139317432363,
          null
         ]
        },
        {
         "hoverinfo": "text",
         "legendgroup": "#ED8B00",
         "marker": {
          "color": "#ED8B00",
          "size": 40,
          "symbol": "circle"
         },
         "mode": "markers",
         "name": "#ED8B00",
         "showlegend": false,
         "text": "Daniel",
         "type": "scatter3d",
         "x": [
          0.0015476253341445063,
          null
         ],
         "y": [
          0.07672447105655177,
          null
         ],
         "z": [
          -0.05150325678192387,
          null
         ]
        },
        {
         "hoverinfo": "text",
         "legendgroup": "#A05EB5",
         "marker": {
          "color": "#A05EB5",
          "size": 40,
          "symbol": "circle"
         },
         "mode": "markers",
         "name": "#A05EB5",
         "showlegend": true,
         "text": "Richard",
         "type": "scatter3d",
         "x": [
          0.06589704334600545,
          null
         ],
         "y": [
          0.19349176508688132,
          null
         ],
         "z": [
          1,
          null
         ]
        },
        {
         "hoverinfo": "text",
         "legendgroup": "#B1B3B3",
         "marker": {
          "color": "#B1B3B3",
          "size": 40,
          "symbol": "circle"
         },
         "mode": "markers",
         "name": "#B1B3B3",
         "showlegend": true,
         "text": "Margaret",
         "type": "scatter3d",
         "x": [
          -0.027403696427232185,
          null
         ],
         "y": [
          -0.9391029581247218,
          null
         ],
         "z": [
          -0.27914498092386686,
          null
         ]
        },
        {
         "hoverinfo": "text",
         "legendgroup": "#E40046",
         "marker": {
          "color": "#E40046",
          "size": 40,
          "symbol": "circle"
         },
         "mode": "markers",
         "name": "#E40046",
         "showlegend": true,
         "text": "Jessica",
         "type": "scatter3d",
         "x": [
          -0.7836873632135654,
          null
         ],
         "y": [
          0.004796925753312725,
          null
         ],
         "z": [
          -0.8308823930914654,
          null
         ]
        },
        {
         "hoverinfo": "text",
         "legendgroup": "#00965E",
         "marker": {
          "color": "#00965E",
          "size": 40,
          "symbol": "circle"
         },
         "mode": "markers",
         "name": "#00965E",
         "showlegend": false,
         "text": "Patricia",
         "type": "scatter3d",
         "x": [
          0.7977776268452517,
          null
         ],
         "y": [
          -0.40459553210505106,
          null
         ],
         "z": [
          0.13327592092937007,
          null
         ]
        },
        {
         "hoverinfo": "text",
         "legendgroup": "#A05EB5",
         "marker": {
          "color": "#A05EB5",
          "size": 40,
          "symbol": "circle"
         },
         "mode": "markers",
         "name": "#A05EB5",
         "showlegend": false,
         "text": "David",
         "type": "scatter3d",
         "x": [
          -0.049707163205370206,
          null
         ],
         "y": [
          0.11328444880520548,
          null
         ],
         "z": [
          -0.06912709786732973,
          null
         ]
        },
        {
         "hoverinfo": "text",
         "legendgroup": "#00965E",
         "marker": {
          "color": "#00965E",
          "size": 40,
          "symbol": "circle"
         },
         "mode": "markers",
         "name": "#00965E",
         "showlegend": false,
         "text": "Jennifer",
         "type": "scatter3d",
         "x": [
          -0.043021386647208476,
          null
         ],
         "y": [
          0.08328120181406078,
          null
         ],
         "z": [
          0.05338260464429489,
          null
         ]
        },
        {
         "hoverinfo": "text",
         "legendgroup": "#E40046",
         "marker": {
          "color": "#E40046",
          "size": 40,
          "symbol": "circle"
         },
         "mode": "markers",
         "name": "#E40046",
         "showlegend": false,
         "text": "Susan",
         "type": "scatter3d",
         "x": [
          -0.10055607256713323,
          null
         ],
         "y": [
          0.030752779933492225,
          null
         ],
         "z": [
          0.028191049135305707,
          null
         ]
        },
        {
         "hoverinfo": "text",
         "legendgroup": "#0066CC",
         "marker": {
          "color": "#0066CC",
          "size": 40,
          "symbol": "circle"
         },
         "mode": "markers",
         "name": "#0066CC",
         "showlegend": true,
         "text": "Michael",
         "type": "scatter3d",
         "x": [
          -0.009312938078821586,
          null
         ],
         "y": [
          0.12702759914766895,
          null
         ],
         "z": [
          -0.01149772600237422,
          null
         ]
        },
        {
         "hoverinfo": "text",
         "legendgroup": "#0066CC",
         "marker": {
          "color": "#0066CC",
          "size": 40,
          "symbol": "circle"
         },
         "mode": "markers",
         "name": "#0066CC",
         "showlegend": false,
         "text": "William",
         "type": "scatter3d",
         "x": [
          -0.0022393222121826154,
          null
         ],
         "y": [
          0.014456403154050257,
          null
         ],
         "z": [
          -0.04752102425569342,
          null
         ]
        },
        {
         "hoverinfo": "text",
         "legendgroup": "#B1B3B3",
         "marker": {
          "color": "#B1B3B3",
          "size": 40,
          "symbol": "circle"
         },
         "mode": "markers",
         "name": "#B1B3B3",
         "showlegend": false,
         "text": "Sandra",
         "type": "scatter3d",
         "x": [
          -0.03310283775649442,
          null
         ],
         "y": [
          0.009322789758658313,
          null
         ],
         "z": [
          0.026972759149500924,
          null
         ]
        },
        {
         "hoverinfo": "text",
         "legendgroup": "#B1B3B3",
         "marker": {
          "color": "#B1B3B3",
          "size": 40,
          "symbol": "circle"
         },
         "mode": "markers",
         "name": "#B1B3B3",
         "showlegend": false,
         "text": "Betty",
         "type": "scatter3d",
         "x": [
          0.4876037480380568,
          null
         ],
         "y": [
          0.9526672777839326,
          null
         ],
         "z": [
          0.01997120691804266,
          null
         ]
        },
        {
         "hoverinfo": "text",
         "legendgroup": "#A05EB5",
         "marker": {
          "color": "#A05EB5",
          "size": 40,
          "symbol": "circle"
         },
         "mode": "markers",
         "name": "#A05EB5",
         "showlegend": false,
         "text": "Thomas",
         "type": "scatter3d",
         "x": [
          0.10742851961597742,
          null
         ],
         "y": [
          -0.7372512823654566,
          null
         ],
         "z": [
          0.6536087260010816,
          null
         ]
        },
        {
         "hoverinfo": "text",
         "legendgroup": "#0066CC",
         "marker": {
          "color": "#0066CC",
          "size": 40,
          "symbol": "circle"
         },
         "mode": "markers",
         "name": "#0066CC",
         "showlegend": false,
         "text": "John",
         "type": "scatter3d",
         "x": [
          -0.4978793778330567,
          null
         ],
         "y": [
          -0.639350322953166,
          null
         ],
         "z": [
          -0.7786703083280925,
          null
         ]
        },
        {
         "hoverinfo": "text",
         "legendgroup": "#A05EB5",
         "marker": {
          "color": "#A05EB5",
          "size": 40,
          "symbol": "circle"
         },
         "mode": "markers",
         "name": "#A05EB5",
         "showlegend": false,
         "text": "Charles",
         "type": "scatter3d",
         "x": [
          -0.0936171235573822,
          null
         ],
         "y": [
          0.07833091841923291,
          null
         ],
         "z": [
          -0.0847651433420181,
          null
         ]
        },
        {
         "hoverinfo": "text",
         "legendgroup": "#A05EB5",
         "marker": {
          "color": "#A05EB5",
          "size": 40,
          "symbol": "circle"
         },
         "mode": "markers",
         "name": "#A05EB5",
         "showlegend": false,
         "text": "Joseph",
         "type": "scatter3d",
         "x": [
          -0.5412377781968783,
          null
         ],
         "y": [
          0.22634892012878013,
          null
         ],
         "z": [
          0.8151253602899718,
          null
         ]
        },
        {
         "hoverinfo": "text",
         "legendgroup": "#00965E",
         "marker": {
          "color": "#00965E",
          "size": 40,
          "symbol": "circle"
         },
         "mode": "markers",
         "name": "#00965E",
         "showlegend": false,
         "text": "Mary",
         "type": "scatter3d",
         "x": [
          -0.12665245662338606,
          null
         ],
         "y": [
          0.06604655271490605,
          null
         ],
         "z": [
          -0.0344921676950288,
          null
         ]
        },
        {
         "hoverinfo": "text",
         "legendgroup": "#B1B3B3",
         "marker": {
          "color": "#B1B3B3",
          "size": 40,
          "symbol": "circle"
         },
         "mode": "markers",
         "name": "#B1B3B3",
         "showlegend": false,
         "text": "Lisa",
         "type": "scatter3d",
         "x": [
          0.6413793757844527,
          null
         ],
         "y": [
          -0.2525446012817158,
          null
         ],
         "z": [
          0.703116470793784,
          null
         ]
        },
        {
         "hoverinfo": "text",
         "legendgroup": "#E40046",
         "marker": {
          "color": "#E40046",
          "size": 40,
          "symbol": "circle"
         },
         "mode": "markers",
         "name": "#E40046",
         "showlegend": false,
         "text": "Karen",
         "type": "scatter3d",
         "x": [
          -0.11230109952023846,
          null
         ],
         "y": [
          0.09921210300750762,
          null
         ],
         "z": [
          0.027414308654081714,
          null
         ]
        },
        {
         "hoverinfo": "text",
         "legendgroup": "#E40046",
         "marker": {
          "color": "#E40046",
          "size": 40,
          "symbol": "circle"
         },
         "mode": "markers",
         "name": "#E40046",
         "showlegend": false,
         "text": "Sarah",
         "type": "scatter3d",
         "x": [
          0.3089703058558743,
          null
         ],
         "y": [
          -0.31002901756328805,
          null
         ],
         "z": [
          -0.2555392478383514,
          null
         ]
        },
        {
         "hoverinfo": "text",
         "legendgroup": "#00965E",
         "marker": {
          "color": "#00965E",
          "size": 40,
          "symbol": "circle"
         },
         "mode": "markers",
         "name": "#00965E",
         "showlegend": false,
         "text": "Elizabeth",
         "type": "scatter3d",
         "x": [
          0.6683031979539543,
          null
         ],
         "y": [
          -0.6834359975393351,
          null
         ],
         "z": [
          -0.4932606893828914,
          null
         ]
        },
        {
         "hoverinfo": "text",
         "legendgroup": "#0066CC",
         "marker": {
          "color": "#0066CC",
          "size": 40,
          "symbol": "circle"
         },
         "mode": "markers",
         "name": "#0066CC",
         "showlegend": false,
         "text": "Robert",
         "type": "scatter3d",
         "x": [
          0.8846479959757038,
          null
         ],
         "y": [
          0.4001614337339443,
          null
         ],
         "z": [
          0.3811748413750089,
          null
         ]
        },
        {
         "hoverinfo": "text",
         "legendgroup": "#ED8B00",
         "marker": {
          "color": "#ED8B00",
          "size": 40,
          "symbol": "circle"
         },
         "mode": "markers",
         "name": "#ED8B00",
         "showlegend": false,
         "text": "Nancy",
         "type": "scatter3d",
         "x": [
          -0.08191753670198215,
          null
         ],
         "y": [
          -0.012211821079172687,
          null
         ],
         "z": [
          -0.02659837971865022,
          null
         ]
        },
        {
         "hoverinfo": "text",
         "legendgroup": "#0066CC",
         "marker": {
          "color": "#0066CC",
          "size": 40,
          "symbol": "circle"
         },
         "mode": "markers",
         "name": "#0066CC",
         "showlegend": false,
         "text": "James",
         "type": "scatter3d",
         "x": [
          -0.9654020859717763,
          null
         ],
         "y": [
          0.3516003016814693,
          null
         ],
         "z": [
          -0.00993978220744847,
          null
         ]
        },
        {
         "hoverinfo": "text",
         "legendgroup": "#E40046",
         "marker": {
          "color": "#E40046",
          "size": 40,
          "symbol": "circle"
         },
         "mode": "markers",
         "name": "#E40046",
         "showlegend": false,
         "text": "Barbara",
         "type": "scatter3d",
         "x": [
          0.022073679428230814,
          null
         ],
         "y": [
          0.06144085418168825,
          null
         ],
         "z": [
          0.02106679015894224,
          null
         ]
        },
        {
         "hoverinfo": "text",
         "hovertext": [
          "From: Anthony To: Matthew, weight: 13",
          "Bidirectional edge:<br>Anthony To: Christopher, weight: 10<br>Christopher To: Anthony, weight: 5",
          "From: Anthony To: Richard, weight: 8",
          "From: Anthony To: Margaret, weight: 7",
          "From: Anthony To: Jessica, weight: 7",
          "From: Anthony To: Patricia, weight: 7",
          "Bidirectional edge:<br>Anthony To: Jennifer, weight: 6<br>Jennifer To: Anthony, weight: 6",
          "From: Anthony To: Betty, weight: 6",
          "From: Anthony To: Thomas, weight: 6",
          "From: Anthony To: John, weight: 6",
          "From: Anthony To: Joseph, weight: 6",
          "Bidirectional edge:<br>Anthony To: Sandra, weight: 5<br>Sandra To: Anthony, weight: 6",
          "Bidirectional edge:<br>Anthony To: Michael, weight: 5<br>Michael To: Anthony, weight: 6",
          "From: Anthony To: Lisa, weight: 5",
          "From: Anthony To: Robert, weight: 5",
          "From: Anthony To: James, weight: 5",
          "Bidirectional edge:<br>Christopher To: Anthony, weight: 5<br>Anthony To: Christopher, weight: 10",
          "From: Linda To: Anthony, weight: 9",
          "From: Daniel To: Anthony, weight: 8",
          "From: David To: Anthony, weight: 7",
          "Bidirectional edge:<br>Jennifer To: Anthony, weight: 6<br>Anthony To: Jennifer, weight: 6",
          "From: Susan To: Anthony, weight: 6",
          "Bidirectional edge:<br>Michael To: Anthony, weight: 6<br>Anthony To: Michael, weight: 5",
          "From: William To: Anthony, weight: 6",
          "Bidirectional edge:<br>Sandra To: Anthony, weight: 6<br>Anthony To: Sandra, weight: 5",
          "From: Charles To: Anthony, weight: 6",
          "From: Mary To: Anthony, weight: 6",
          "From: Karen To: Anthony, weight: 5",
          "From: Sarah To: Anthony, weight: 5",
          "From: Sarah To: Elizabeth, weight: 5",
          "From: Nancy To: Anthony, weight: 5",
          "From: Barbara To: Anthony, weight: 5"
         ],
         "marker": {
          "color": "LightSkyBlue",
          "size": 20
         },
         "mode": "markers",
         "opacity": 0,
         "showlegend": false,
         "type": "scatter3d",
         "x": [
          -0.19341455880670172,
          -0.06213903537170803,
          0.006906153226852604,
          -0.03974421665976621,
          -0.4178860500529328,
          0.37284644497647573,
          -0.04755306176975436,
          0.21775950557287826,
          0.02767189136183859,
          -0.27498205736267844,
          -0.2966612575445893,
          -0.04259378732439733,
          -0.030698837485560914,
          0.29464731944607625,
          0.4162816295417018,
          -0.5087434114320383,
          -0.06213903537170803,
          -0.05532658254636248,
          -0.025268555779077866,
          -0.05089595004883522,
          -0.04755306176975436,
          -0.07632040472971674,
          -0.030698837485560914,
          -0.027162029552241427,
          -0.04259378732439733,
          -0.07285093022484122,
          -0.08936859675784314,
          -0.08219291820626935,
          0.12844278448178703,
          0.4886367519049143,
          -0.0670011367971412,
          -0.015005528732034713
         ],
         "y": [
          0.45570897566891994,
          0.10438394843066873,
          0.12882107492953382,
          -0.4374762866762677,
          0.03447365526274953,
          -0.17022257366643237,
          0.07371579329312355,
          0.5084088312780595,
          -0.3365504487966351,
          -0.2875999690904898,
          0.14524965245048324,
          0.036736587265422324,
          0.09558899195992765,
          -0.09419710825476474,
          0.2321559092530653,
          0.2078753432268278,
          0.10438394843066873,
          0.048844854097879496,
          0.07043742791436905,
          0.08871741678869591,
          0.07371579329312355,
          0.04745158235283928,
          0.09558899195992765,
          0.03930339396311829,
          0.036736587265422324,
          0.07124065159570962,
          0.06509846874354619,
          0.08168124388984697,
          -0.12293931639555086,
          -0.4967325075513116,
          0.025969281846506823,
          0.06279561947693729
         ],
         "z": [
          -0.4103342274886819,
          -0.009946407340692211,
          0.4908175888905891,
          -0.14875490157134438,
          -0.4246236076551436,
          0.057455549355274096,
          0.0175088912127365,
          0.0008031923496103887,
          0.31762195189112985,
          -0.39851756527345716,
          0.398380269035575,
          0.00430396846533952,
          -0.014931274110598053,
          0.3423758242874811,
          0.1814050095780935,
          -0.014152302213135176,
          -0.009946407340692211,
          -0.04326310769657275,
          -0.034934039500372875,
          -0.04374596004307581,
          0.0175088912127365,
          0.004913113458241912,
          -0.014931274110598053,
          -0.03294292323725765,
          0.00430396846533952,
          -0.05156498278041999,
          -0.02642849495692534,
          0.004524743217629915,
          -0.13695203502858666,
          -0.3743999686106214,
          -0.022481600968736054,
          0.001350983970060178
         ]
        }
       ],
       "layout": {
        "height": 800,
        "hovermode": "closest",
        "legend": {
         "itemclick": false,
         "itemdoubleclick": false
        },
        "scene": {
         "xaxis": {
          "showbackground": false,
          "showgrid": false,
          "showline": false,
          "showticklabels": false,
          "title": {
           "text": ""
          },
          "zeroline": false
         },
         "yaxis": {
          "showbackground": false,
          "showgrid": false,
          "showline": false,
          "showticklabels": false,
          "title": {
           "text": ""
          },
          "zeroline": false
         },
         "zaxis": {
          "showbackground": false,
          "showgrid": false,
          "showline": false,
          "showticklabels": false,
          "title": {
           "text": ""
          },
          "zeroline": false
         }
        },
        "showlegend": true,
        "template": {
         "data": {
          "bar": [
           {
            "error_x": {
             "color": "#2a3f5f"
            },
            "error_y": {
             "color": "#2a3f5f"
            },
            "marker": {
             "line": {
              "color": "#E5ECF6",
              "width": 0.5
             }
            },
            "type": "bar"
           }
          ],
          "barpolar": [
           {
            "marker": {
             "line": {
              "color": "#E5ECF6",
              "width": 0.5
             }
            },
            "type": "barpolar"
           }
          ],
          "carpet": [
           {
            "aaxis": {
             "endlinecolor": "#2a3f5f",
             "gridcolor": "white",
             "linecolor": "white",
             "minorgridcolor": "white",
             "startlinecolor": "#2a3f5f"
            },
            "baxis": {
             "endlinecolor": "#2a3f5f",
             "gridcolor": "white",
             "linecolor": "white",
             "minorgridcolor": "white",
             "startlinecolor": "#2a3f5f"
            },
            "type": "carpet"
           }
          ],
          "choropleth": [
           {
            "colorbar": {
             "outlinewidth": 0,
             "ticks": ""
            },
            "type": "choropleth"
           }
          ],
          "contour": [
           {
            "colorbar": {
             "outlinewidth": 0,
             "ticks": ""
            },
            "colorscale": [
             [
              0,
              "#0d0887"
             ],
             [
              0.1111111111111111,
              "#46039f"
             ],
             [
              0.2222222222222222,
              "#7201a8"
             ],
             [
              0.3333333333333333,
              "#9c179e"
             ],
             [
              0.4444444444444444,
              "#bd3786"
             ],
             [
              0.5555555555555556,
              "#d8576b"
             ],
             [
              0.6666666666666666,
              "#ed7953"
             ],
             [
              0.7777777777777778,
              "#fb9f3a"
             ],
             [
              0.8888888888888888,
              "#fdca26"
             ],
             [
              1,
              "#f0f921"
             ]
            ],
            "type": "contour"
           }
          ],
          "contourcarpet": [
           {
            "colorbar": {
             "outlinewidth": 0,
             "ticks": ""
            },
            "type": "contourcarpet"
           }
          ],
          "heatmap": [
           {
            "colorbar": {
             "outlinewidth": 0,
             "ticks": ""
            },
            "colorscale": [
             [
              0,
              "#0d0887"
             ],
             [
              0.1111111111111111,
              "#46039f"
             ],
             [
              0.2222222222222222,
              "#7201a8"
             ],
             [
              0.3333333333333333,
              "#9c179e"
             ],
             [
              0.4444444444444444,
              "#bd3786"
             ],
             [
              0.5555555555555556,
              "#d8576b"
             ],
             [
              0.6666666666666666,
              "#ed7953"
             ],
             [
              0.7777777777777778,
              "#fb9f3a"
             ],
             [
              0.8888888888888888,
              "#fdca26"
             ],
             [
              1,
              "#f0f921"
             ]
            ],
            "type": "heatmap"
           }
          ],
          "heatmapgl": [
           {
            "colorbar": {
             "outlinewidth": 0,
             "ticks": ""
            },
            "colorscale": [
             [
              0,
              "#0d0887"
             ],
             [
              0.1111111111111111,
              "#46039f"
             ],
             [
              0.2222222222222222,
              "#7201a8"
             ],
             [
              0.3333333333333333,
              "#9c179e"
             ],
             [
              0.4444444444444444,
              "#bd3786"
             ],
             [
              0.5555555555555556,
              "#d8576b"
             ],
             [
              0.6666666666666666,
              "#ed7953"
             ],
             [
              0.7777777777777778,
              "#fb9f3a"
             ],
             [
              0.8888888888888888,
              "#fdca26"
             ],
             [
              1,
              "#f0f921"
             ]
            ],
            "type": "heatmapgl"
           }
          ],
          "histogram": [
           {
            "marker": {
             "colorbar": {
              "outlinewidth": 0,
              "ticks": ""
             }
            },
            "type": "histogram"
           }
          ],
          "histogram2d": [
           {
            "colorbar": {
             "outlinewidth": 0,
             "ticks": ""
            },
            "colorscale": [
             [
              0,
              "#0d0887"
             ],
             [
              0.1111111111111111,
              "#46039f"
             ],
             [
              0.2222222222222222,
              "#7201a8"
             ],
             [
              0.3333333333333333,
              "#9c179e"
             ],
             [
              0.4444444444444444,
              "#bd3786"
             ],
             [
              0.5555555555555556,
              "#d8576b"
             ],
             [
              0.6666666666666666,
              "#ed7953"
             ],
             [
              0.7777777777777778,
              "#fb9f3a"
             ],
             [
              0.8888888888888888,
              "#fdca26"
             ],
             [
              1,
              "#f0f921"
             ]
            ],
            "type": "histogram2d"
           }
          ],
          "histogram2dcontour": [
           {
            "colorbar": {
             "outlinewidth": 0,
             "ticks": ""
            },
            "colorscale": [
             [
              0,
              "#0d0887"
             ],
             [
              0.1111111111111111,
              "#46039f"
             ],
             [
              0.2222222222222222,
              "#7201a8"
             ],
             [
              0.3333333333333333,
              "#9c179e"
             ],
             [
              0.4444444444444444,
              "#bd3786"
             ],
             [
              0.5555555555555556,
              "#d8576b"
             ],
             [
              0.6666666666666666,
              "#ed7953"
             ],
             [
              0.7777777777777778,
              "#fb9f3a"
             ],
             [
              0.8888888888888888,
              "#fdca26"
             ],
             [
              1,
              "#f0f921"
             ]
            ],
            "type": "histogram2dcontour"
           }
          ],
          "mesh3d": [
           {
            "colorbar": {
             "outlinewidth": 0,
             "ticks": ""
            },
            "type": "mesh3d"
           }
          ],
          "parcoords": [
           {
            "line": {
             "colorbar": {
              "outlinewidth": 0,
              "ticks": ""
             }
            },
            "type": "parcoords"
           }
          ],
          "pie": [
           {
            "automargin": true,
            "type": "pie"
           }
          ],
          "scatter": [
           {
            "marker": {
             "colorbar": {
              "outlinewidth": 0,
              "ticks": ""
             }
            },
            "type": "scatter"
           }
          ],
          "scatter3d": [
           {
            "line": {
             "colorbar": {
              "outlinewidth": 0,
              "ticks": ""
             }
            },
            "marker": {
             "colorbar": {
              "outlinewidth": 0,
              "ticks": ""
             }
            },
            "type": "scatter3d"
           }
          ],
          "scattercarpet": [
           {
            "marker": {
             "colorbar": {
              "outlinewidth": 0,
              "ticks": ""
             }
            },
            "type": "scattercarpet"
           }
          ],
          "scattergeo": [
           {
            "marker": {
             "colorbar": {
              "outlinewidth": 0,
              "ticks": ""
             }
            },
            "type": "scattergeo"
           }
          ],
          "scattergl": [
           {
            "marker": {
             "colorbar": {
              "outlinewidth": 0,
              "ticks": ""
             }
            },
            "type": "scattergl"
           }
          ],
          "scattermapbox": [
           {
            "marker": {
             "colorbar": {
              "outlinewidth": 0,
              "ticks": ""
             }
            },
            "type": "scattermapbox"
           }
          ],
          "scatterpolar": [
           {
            "marker": {
             "colorbar": {
              "outlinewidth": 0,
              "ticks": ""
             }
            },
            "type": "scatterpolar"
           }
          ],
          "scatterpolargl": [
           {
            "marker": {
             "colorbar": {
              "outlinewidth": 0,
              "ticks": ""
             }
            },
            "type": "scatterpolargl"
           }
          ],
          "scatterternary": [
           {
            "marker": {
             "colorbar": {
              "outlinewidth": 0,
              "ticks": ""
             }
            },
            "type": "scatterternary"
           }
          ],
          "surface": [
           {
            "colorbar": {
             "outlinewidth": 0,
             "ticks": ""
            },
            "colorscale": [
             [
              0,
              "#0d0887"
             ],
             [
              0.1111111111111111,
              "#46039f"
             ],
             [
              0.2222222222222222,
              "#7201a8"
             ],
             [
              0.3333333333333333,
              "#9c179e"
             ],
             [
              0.4444444444444444,
              "#bd3786"
             ],
             [
              0.5555555555555556,
              "#d8576b"
             ],
             [
              0.6666666666666666,
              "#ed7953"
             ],
             [
              0.7777777777777778,
              "#fb9f3a"
             ],
             [
              0.8888888888888888,
              "#fdca26"
             ],
             [
              1,
              "#f0f921"
             ]
            ],
            "type": "surface"
           }
          ],
          "table": [
           {
            "cells": {
             "fill": {
              "color": "#EBF0F8"
             },
             "line": {
              "color": "white"
             }
            },
            "header": {
             "fill": {
              "color": "#C8D4E3"
             },
             "line": {
              "color": "white"
             }
            },
            "type": "table"
           }
          ]
         },
         "layout": {
          "annotationdefaults": {
           "arrowcolor": "#2a3f5f",
           "arrowhead": 0,
           "arrowwidth": 1
          },
          "coloraxis": {
           "colorbar": {
            "outlinewidth": 0,
            "ticks": ""
           }
          },
          "colorscale": {
           "diverging": [
            [
             0,
             "#8e0152"
            ],
            [
             0.1,
             "#c51b7d"
            ],
            [
             0.2,
             "#de77ae"
            ],
            [
             0.3,
             "#f1b6da"
            ],
            [
             0.4,
             "#fde0ef"
            ],
            [
             0.5,
             "#f7f7f7"
            ],
            [
             0.6,
             "#e6f5d0"
            ],
            [
             0.7,
             "#b8e186"
            ],
            [
             0.8,
             "#7fbc41"
            ],
            [
             0.9,
             "#4d9221"
            ],
            [
             1,
             "#276419"
            ]
           ],
           "sequential": [
            [
             0,
             "#0d0887"
            ],
            [
             0.1111111111111111,
             "#46039f"
            ],
            [
             0.2222222222222222,
             "#7201a8"
            ],
            [
             0.3333333333333333,
             "#9c179e"
            ],
            [
             0.4444444444444444,
             "#bd3786"
            ],
            [
             0.5555555555555556,
             "#d8576b"
            ],
            [
             0.6666666666666666,
             "#ed7953"
            ],
            [
             0.7777777777777778,
             "#fb9f3a"
            ],
            [
             0.8888888888888888,
             "#fdca26"
            ],
            [
             1,
             "#f0f921"
            ]
           ],
           "sequentialminus": [
            [
             0,
             "#0d0887"
            ],
            [
             0.1111111111111111,
             "#46039f"
            ],
            [
             0.2222222222222222,
             "#7201a8"
            ],
            [
             0.3333333333333333,
             "#9c179e"
            ],
            [
             0.4444444444444444,
             "#bd3786"
            ],
            [
             0.5555555555555556,
             "#d8576b"
            ],
            [
             0.6666666666666666,
             "#ed7953"
            ],
            [
             0.7777777777777778,
             "#fb9f3a"
            ],
            [
             0.8888888888888888,
             "#fdca26"
            ],
            [
             1,
             "#f0f921"
            ]
           ]
          },
          "colorway": [
           "#636efa",
           "#EF553B",
           "#00cc96",
           "#ab63fa",
           "#FFA15A",
           "#19d3f3",
           "#FF6692",
           "#B6E880",
           "#FF97FF",
           "#FECB52"
          ],
          "font": {
           "color": "#2a3f5f"
          },
          "geo": {
           "bgcolor": "white",
           "lakecolor": "white",
           "landcolor": "#E5ECF6",
           "showlakes": true,
           "showland": true,
           "subunitcolor": "white"
          },
          "hoverlabel": {
           "align": "left"
          },
          "hovermode": "closest",
          "mapbox": {
           "style": "light"
          },
          "paper_bgcolor": "white",
          "plot_bgcolor": "#E5ECF6",
          "polar": {
           "angularaxis": {
            "gridcolor": "white",
            "linecolor": "white",
            "ticks": ""
           },
           "bgcolor": "#E5ECF6",
           "radialaxis": {
            "gridcolor": "white",
            "linecolor": "white",
            "ticks": ""
           }
          },
          "scene": {
           "xaxis": {
            "backgroundcolor": "#E5ECF6",
            "gridcolor": "white",
            "gridwidth": 2,
            "linecolor": "white",
            "showbackground": true,
            "ticks": "",
            "zerolinecolor": "white"
           },
           "yaxis": {
            "backgroundcolor": "#E5ECF6",
            "gridcolor": "white",
            "gridwidth": 2,
            "linecolor": "white",
            "showbackground": true,
            "ticks": "",
            "zerolinecolor": "white"
           },
           "zaxis": {
            "backgroundcolor": "#E5ECF6",
            "gridcolor": "white",
            "gridwidth": 2,
            "linecolor": "white",
            "showbackground": true,
            "ticks": "",
            "zerolinecolor": "white"
           }
          },
          "shapedefaults": {
           "line": {
            "color": "#2a3f5f"
           }
          },
          "ternary": {
           "aaxis": {
            "gridcolor": "white",
            "linecolor": "white",
            "ticks": ""
           },
           "baxis": {
            "gridcolor": "white",
            "linecolor": "white",
            "ticks": ""
           },
           "bgcolor": "#E5ECF6",
           "caxis": {
            "gridcolor": "white",
            "linecolor": "white",
            "ticks": ""
           }
          },
          "title": {
           "x": 0.05
          },
          "xaxis": {
           "automargin": true,
           "gridcolor": "white",
           "linecolor": "white",
           "ticks": "",
           "title": {
            "standoff": 15
           },
           "zerolinecolor": "white",
           "zerolinewidth": 2
          },
          "yaxis": {
           "automargin": true,
           "gridcolor": "white",
           "linecolor": "white",
           "ticks": "",
           "title": {
            "standoff": 15
           },
           "zerolinecolor": "white",
           "zerolinewidth": 2
          }
         }
        },
        "title": {
         "text": "The network 3-d visualization"
        },
        "width": 1000
       }
      },
      "text/html": [
       "<div>                            <div id=\"e52af7fa-999b-4502-a6a8-f9e925cd22df\" class=\"plotly-graph-div\" style=\"height:800px; width:1000px;\"></div>            <script type=\"text/javascript\">                require([\"plotly\"], function(Plotly) {                    window.PLOTLYENV=window.PLOTLYENV || {};                                    if (document.getElementById(\"e52af7fa-999b-4502-a6a8-f9e925cd22df\")) {                    Plotly.newPlot(                        \"e52af7fa-999b-4502-a6a8-f9e925cd22df\",                        [{\"legendgroup\": \"blue\", \"line\": {\"color\": \"cornflowerblue\", \"width\": 10.0}, \"mode\": \"lines\", \"name\": \"One-way Edge\", \"opacity\": 1.0, \"showlegend\": true, \"type\": \"scatter3d\", \"x\": [-0.05208473689230024, -0.3347443807211032, null], \"y\": [0.06415038477218633, 0.8472675665656535, null], \"z\": [-0.018364822218821884, -0.802303632758542, null]}, {\"legendgroup\": \"red\", \"line\": {\"color\": \"red\", \"width\": 7.6923076923076925}, \"mode\": \"lines\", \"name\": \"Two-way Edge\", \"opacity\": 0.7692307692307693, \"showlegend\": true, \"type\": \"scatter3d\", \"x\": [-0.05208473689230024, -0.07219333385111582, null], \"y\": [0.06415038477218633, 0.14461751208915113, null], \"z\": [-0.018364822218821884, -0.0015279924625625386, null]}, {\"legendgroup\": \"blue\", \"line\": {\"color\": \"cornflowerblue\", \"width\": 6.153846153846154}, \"mode\": \"lines\", \"name\": \"One-way Edge\", \"opacity\": 0.6153846153846154, \"showlegend\": false, \"type\": \"scatter3d\", \"x\": [-0.05208473689230024, 0.06589704334600545, null], \"y\": [0.06415038477218633, 0.19349176508688132, null], \"z\": [-0.018364822218821884, 1.0, null]}, {\"legendgroup\": \"blue\", \"line\": {\"color\": \"cornflowerblue\", \"width\": 5.384615384615385}, \"mode\": \"lines\", \"name\": \"One-way Edge\", \"opacity\": 0.5384615384615384, \"showlegend\": false, \"type\": \"scatter3d\", \"x\": [-0.05208473689230024, -0.027403696427232185, null], \"y\": [0.06415038477218633, -0.9391029581247218, null], \"z\": [-0.018364822218821884, -0.27914498092386686, null]}, {\"legendgroup\": \"blue\", \"line\": {\"color\": \"cornflowerblue\", \"width\": 5.384615384615385}, \"mode\": \"lines\", \"name\": \"One-way Edge\", \"opacity\": 0.5384615384615384, \"showlegend\": false, \"type\": \"scatter3d\", \"x\": [-0.05208473689230024, -0.7836873632135654, null], \"y\": [0.06415038477218633, 0.004796925753312725, null], \"z\": [-0.018364822218821884, -0.8308823930914654, null]}, {\"legendgroup\": \"blue\", \"line\": {\"color\": \"cornflowerblue\", \"width\": 5.384615384615385}, \"mode\": \"lines\", \"name\": \"One-way Edge\", \"opacity\": 0.5384615384615384, \"showlegend\": false, \"type\": \"scatter3d\", \"x\": [-0.05208473689230024, 0.7977776268452517, null], \"y\": [0.06415038477218633, -0.40459553210505106, null], \"z\": [-0.018364822218821884, 0.13327592092937007, null]}, {\"legendgroup\": \"red\", \"line\": {\"color\": \"red\", \"width\": 4.615384615384615}, \"mode\": \"lines\", \"name\": \"Two-way Edge\", \"opacity\": 0.46153846153846156, \"showlegend\": false, \"type\": \"scatter3d\", \"x\": [-0.05208473689230024, -0.043021386647208476, null], \"y\": [0.06415038477218633, 0.08328120181406078, null], \"z\": [-0.018364822218821884, 0.05338260464429489, null]}, {\"legendgroup\": \"blue\", \"line\": {\"color\": \"cornflowerblue\", \"width\": 4.615384615384615}, \"mode\": \"lines\", \"name\": \"One-way Edge\", \"opacity\": 0.46153846153846156, \"showlegend\": false, \"type\": \"scatter3d\", \"x\": [-0.05208473689230024, 0.4876037480380568, null], \"y\": [0.06415038477218633, 0.9526672777839326, null], \"z\": [-0.018364822218821884, 0.01997120691804266, null]}, {\"legendgroup\": \"blue\", \"line\": {\"color\": \"cornflowerblue\", \"width\": 4.615384615384615}, \"mode\": \"lines\", \"name\": \"One-way Edge\", \"opacity\": 0.46153846153846156, \"showlegend\": false, \"type\": \"scatter3d\", \"x\": [-0.05208473689230024, 0.10742851961597742, null], \"y\": [0.06415038477218633, -0.7372512823654566, null], \"z\": [-0.018364822218821884, 0.6536087260010816, null]}, {\"legendgroup\": \"blue\", \"line\": {\"color\": \"cornflowerblue\", \"width\": 4.615384615384615}, \"mode\": \"lines\", \"name\": \"One-way Edge\", \"opacity\": 0.46153846153846156, \"showlegend\": false, \"type\": \"scatter3d\", \"x\": [-0.05208473689230024, -0.4978793778330567, null], \"y\": [0.06415038477218633, -0.639350322953166, null], \"z\": [-0.018364822218821884, -0.7786703083280925, null]}, {\"legendgroup\": \"blue\", \"line\": {\"color\": \"cornflowerblue\", \"width\": 4.615384615384615}, \"mode\": \"lines\", \"name\": \"One-way Edge\", \"opacity\": 0.46153846153846156, \"showlegend\": false, \"type\": \"scatter3d\", \"x\": [-0.05208473689230024, -0.5412377781968783, null], \"y\": [0.06415038477218633, 0.22634892012878013, null], \"z\": [-0.018364822218821884, 0.8151253602899718, null]}, {\"legendgroup\": \"red\", \"line\": {\"color\": \"red\", \"width\": 3.8461538461538463}, \"mode\": \"lines\", \"name\": \"Two-way Edge\", \"opacity\": 0.38461538461538464, \"showlegend\": false, \"type\": \"scatter3d\", \"x\": [-0.05208473689230024, -0.03310283775649442, null], \"y\": [0.06415038477218633, 0.009322789758658313, null], \"z\": [-0.018364822218821884, 0.026972759149500924, null]}, {\"legendgroup\": \"red\", \"line\": {\"color\": \"red\", \"width\": 3.8461538461538463}, \"mode\": \"lines\", \"name\": \"Two-way Edge\", \"opacity\": 0.38461538461538464, \"showlegend\": false, \"type\": \"scatter3d\", \"x\": [-0.05208473689230024, -0.009312938078821586, null], \"y\": [0.06415038477218633, 0.12702759914766895, null], \"z\": [-0.018364822218821884, -0.01149772600237422, null]}, {\"legendgroup\": \"blue\", \"line\": {\"color\": \"cornflowerblue\", \"width\": 3.8461538461538463}, \"mode\": \"lines\", \"name\": \"One-way Edge\", \"opacity\": 0.38461538461538464, \"showlegend\": false, \"type\": \"scatter3d\", \"x\": [-0.05208473689230024, 0.6413793757844527, null], \"y\": [0.06415038477218633, -0.2525446012817158, null], \"z\": [-0.018364822218821884, 0.703116470793784, null]}, {\"legendgroup\": \"blue\", \"line\": {\"color\": \"cornflowerblue\", \"width\": 3.8461538461538463}, \"mode\": \"lines\", \"name\": \"One-way Edge\", \"opacity\": 0.38461538461538464, \"showlegend\": false, \"type\": \"scatter3d\", \"x\": [-0.05208473689230024, 0.8846479959757038, null], \"y\": [0.06415038477218633, 0.4001614337339443, null], \"z\": [-0.018364822218821884, 0.3811748413750089, null]}, {\"legendgroup\": \"blue\", \"line\": {\"color\": \"cornflowerblue\", \"width\": 3.8461538461538463}, \"mode\": \"lines\", \"name\": \"One-way Edge\", \"opacity\": 0.38461538461538464, \"showlegend\": false, \"type\": \"scatter3d\", \"x\": [-0.05208473689230024, -0.9654020859717763, null], \"y\": [0.06415038477218633, 0.3516003016814693, null], \"z\": [-0.018364822218821884, -0.00993978220744847, null]}, {\"legendgroup\": \"red\", \"line\": {\"color\": \"red\", \"width\": 3.8461538461538463}, \"mode\": \"lines\", \"name\": \"Two-way Edge\", \"opacity\": 0.38461538461538464, \"showlegend\": false, \"type\": \"scatter3d\", \"x\": [-0.07219333385111582, -0.05208473689230024, null], \"y\": [0.14461751208915113, 0.06415038477218633, null], \"z\": [-0.0015279924625625386, -0.018364822218821884, null]}, {\"legendgroup\": \"blue\", \"line\": {\"color\": \"cornflowerblue\", \"width\": 6.923076923076923}, \"mode\": \"lines\", \"name\": \"One-way Edge\", \"opacity\": 0.6923076923076923, \"showlegend\": false, \"type\": \"scatter3d\", \"x\": [-0.058568428200424724, -0.05208473689230024, null], \"y\": [0.03353932342357266, 0.06415038477218633, null], \"z\": [-0.06816139317432363, -0.018364822218821884, null]}, {\"legendgroup\": \"blue\", \"line\": {\"color\": \"cornflowerblue\", \"width\": 6.153846153846154}, \"mode\": \"lines\", \"name\": \"One-way Edge\", \"opacity\": 0.6153846153846154, \"showlegend\": false, \"type\": \"scatter3d\", \"x\": [0.0015476253341445063, -0.05208473689230024, null], \"y\": [0.07672447105655177, 0.06415038477218633, null], \"z\": [-0.05150325678192387, -0.018364822218821884, null]}, {\"legendgroup\": \"blue\", \"line\": {\"color\": \"cornflowerblue\", \"width\": 5.384615384615385}, \"mode\": \"lines\", \"name\": \"One-way Edge\", \"opacity\": 0.5384615384615384, \"showlegend\": false, \"type\": \"scatter3d\", \"x\": [-0.049707163205370206, -0.05208473689230024, null], \"y\": [0.11328444880520548, 0.06415038477218633, null], \"z\": [-0.06912709786732973, -0.018364822218821884, null]}, {\"legendgroup\": \"red\", \"line\": {\"color\": \"red\", \"width\": 4.615384615384615}, \"mode\": \"lines\", \"name\": \"Two-way Edge\", \"opacity\": 0.46153846153846156, \"showlegend\": false, \"type\": \"scatter3d\", \"x\": [-0.043021386647208476, -0.05208473689230024, null], \"y\": [0.08328120181406078, 0.06415038477218633, null], \"z\": [0.05338260464429489, -0.018364822218821884, null]}, {\"legendgroup\": \"blue\", \"line\": {\"color\": \"cornflowerblue\", \"width\": 4.615384615384615}, \"mode\": \"lines\", \"name\": \"One-way Edge\", \"opacity\": 0.46153846153846156, \"showlegend\": false, \"type\": \"scatter3d\", \"x\": [-0.10055607256713323, -0.05208473689230024, null], \"y\": [0.030752779933492225, 0.06415038477218633, null], \"z\": [0.028191049135305707, -0.018364822218821884, null]}, {\"legendgroup\": \"red\", \"line\": {\"color\": \"red\", \"width\": 4.615384615384615}, \"mode\": \"lines\", \"name\": \"Two-way Edge\", \"opacity\": 0.46153846153846156, \"showlegend\": false, \"type\": \"scatter3d\", \"x\": [-0.009312938078821586, -0.05208473689230024, null], \"y\": [0.12702759914766895, 0.06415038477218633, null], \"z\": [-0.01149772600237422, -0.018364822218821884, null]}, {\"legendgroup\": \"blue\", \"line\": {\"color\": \"cornflowerblue\", \"width\": 4.615384615384615}, \"mode\": \"lines\", \"name\": \"One-way Edge\", \"opacity\": 0.46153846153846156, \"showlegend\": false, \"type\": \"scatter3d\", \"x\": [-0.0022393222121826154, -0.05208473689230024, null], \"y\": [0.014456403154050257, 0.06415038477218633, null], \"z\": [-0.04752102425569342, -0.018364822218821884, null]}, {\"legendgroup\": \"red\", \"line\": {\"color\": \"red\", \"width\": 4.615384615384615}, \"mode\": \"lines\", \"name\": \"Two-way Edge\", \"opacity\": 0.46153846153846156, \"showlegend\": false, \"type\": \"scatter3d\", \"x\": [-0.03310283775649442, -0.05208473689230024, null], \"y\": [0.009322789758658313, 0.06415038477218633, null], \"z\": [0.026972759149500924, -0.018364822218821884, null]}, {\"legendgroup\": \"blue\", \"line\": {\"color\": \"cornflowerblue\", \"width\": 4.615384615384615}, \"mode\": \"lines\", \"name\": \"One-way Edge\", \"opacity\": 0.46153846153846156, \"showlegend\": false, \"type\": \"scatter3d\", \"x\": [-0.0936171235573822, -0.05208473689230024, null], \"y\": [0.07833091841923291, 0.06415038477218633, null], \"z\": [-0.0847651433420181, -0.018364822218821884, null]}, {\"legendgroup\": \"blue\", \"line\": {\"color\": \"cornflowerblue\", \"width\": 4.615384615384615}, \"mode\": \"lines\", \"name\": \"One-way Edge\", \"opacity\": 0.46153846153846156, \"showlegend\": false, \"type\": \"scatter3d\", \"x\": [-0.12665245662338606, -0.05208473689230024, null], \"y\": [0.06604655271490605, 0.06415038477218633, null], \"z\": [-0.0344921676950288, -0.018364822218821884, null]}, {\"legendgroup\": \"blue\", \"line\": {\"color\": \"cornflowerblue\", \"width\": 3.8461538461538463}, \"mode\": \"lines\", \"name\": \"One-way Edge\", \"opacity\": 0.38461538461538464, \"showlegend\": false, \"type\": \"scatter3d\", \"x\": [-0.11230109952023846, -0.05208473689230024, null], \"y\": [0.09921210300750762, 0.06415038477218633, null], \"z\": [0.027414308654081714, -0.018364822218821884, null]}, {\"legendgroup\": \"blue\", \"line\": {\"color\": \"cornflowerblue\", \"width\": 3.8461538461538463}, \"mode\": \"lines\", \"name\": \"One-way Edge\", \"opacity\": 0.38461538461538464, \"showlegend\": false, \"type\": \"scatter3d\", \"x\": [0.3089703058558743, -0.05208473689230024, null], \"y\": [-0.31002901756328805, 0.06415038477218633, null], \"z\": [-0.2555392478383514, -0.018364822218821884, null]}, {\"legendgroup\": \"blue\", \"line\": {\"color\": \"cornflowerblue\", \"width\": 3.8461538461538463}, \"mode\": \"lines\", \"name\": \"One-way Edge\", \"opacity\": 0.38461538461538464, \"showlegend\": false, \"type\": \"scatter3d\", \"x\": [0.3089703058558743, 0.6683031979539543, null], \"y\": [-0.31002901756328805, -0.6834359975393351, null], \"z\": [-0.2555392478383514, -0.4932606893828914, null]}, {\"legendgroup\": \"blue\", \"line\": {\"color\": \"cornflowerblue\", \"width\": 3.8461538461538463}, \"mode\": \"lines\", \"name\": \"One-way Edge\", \"opacity\": 0.38461538461538464, \"showlegend\": false, \"type\": \"scatter3d\", \"x\": [-0.08191753670198215, -0.05208473689230024, null], \"y\": [-0.012211821079172687, 0.06415038477218633, null], \"z\": [-0.02659837971865022, -0.018364822218821884, null]}, {\"legendgroup\": \"blue\", \"line\": {\"color\": \"cornflowerblue\", \"width\": 3.8461538461538463}, \"mode\": \"lines\", \"name\": \"One-way Edge\", \"opacity\": 0.38461538461538464, \"showlegend\": false, \"type\": \"scatter3d\", \"x\": [0.022073679428230814, -0.05208473689230024, null], \"y\": [0.06144085418168825, 0.06415038477218633, null], \"z\": [0.02106679015894224, -0.018364822218821884, null]}, {\"hoverinfo\": \"text\", \"legendgroup\": \"#ED8B00\", \"marker\": {\"color\": \"#ED8B00\", \"size\": 40, \"symbol\": \"circle\"}, \"mode\": \"markers\", \"name\": \"#ED8B00\", \"showlegend\": true, \"text\": \"Anthony\", \"type\": \"scatter3d\", \"x\": [-0.05208473689230024, null], \"y\": [0.06415038477218633, null], \"z\": [-0.018364822218821884, null]}, {\"hoverinfo\": \"text\", \"legendgroup\": \"#ED8B00\", \"marker\": {\"color\": \"#ED8B00\", \"size\": 40, \"symbol\": \"circle\"}, \"mode\": \"markers\", \"name\": \"#ED8B00\", \"showlegend\": false, \"text\": \"Matthew\", \"type\": \"scatter3d\", \"x\": [-0.3347443807211032, null], \"y\": [0.8472675665656535, null], \"z\": [-0.802303632758542, null]}, {\"hoverinfo\": \"text\", \"legendgroup\": \"#ED8B00\", \"marker\": {\"color\": \"#ED8B00\", \"size\": 40, \"symbol\": \"circle\"}, \"mode\": \"markers\", \"name\": \"#ED8B00\", \"showlegend\": false, \"text\": \"Christopher\", \"type\": \"scatter3d\", \"x\": [-0.07219333385111582, null], \"y\": [0.14461751208915113, null], \"z\": [-0.0015279924625625386, null]}, {\"hoverinfo\": \"text\", \"legendgroup\": \"#00965E\", \"marker\": {\"color\": \"#00965E\", \"size\": 40, \"symbol\": \"circle\"}, \"mode\": \"markers\", \"name\": \"#00965E\", \"showlegend\": true, \"text\": \"Linda\", \"type\": \"scatter3d\", \"x\": [-0.058568428200424724, null], \"y\": [0.03353932342357266, null], \"z\": [-0.06816139317432363, null]}, {\"hoverinfo\": \"text\", \"legendgroup\": \"#ED8B00\", \"marker\": {\"color\": \"#ED8B00\", \"size\": 40, \"symbol\": \"circle\"}, \"mode\": \"markers\", \"name\": \"#ED8B00\", \"showlegend\": false, \"text\": \"Daniel\", \"type\": \"scatter3d\", \"x\": [0.0015476253341445063, null], \"y\": [0.07672447105655177, null], \"z\": [-0.05150325678192387, null]}, {\"hoverinfo\": \"text\", \"legendgroup\": \"#A05EB5\", \"marker\": {\"color\": \"#A05EB5\", \"size\": 40, \"symbol\": \"circle\"}, \"mode\": \"markers\", \"name\": \"#A05EB5\", \"showlegend\": true, \"text\": \"Richard\", \"type\": \"scatter3d\", \"x\": [0.06589704334600545, null], \"y\": [0.19349176508688132, null], \"z\": [1.0, null]}, {\"hoverinfo\": \"text\", \"legendgroup\": \"#B1B3B3\", \"marker\": {\"color\": \"#B1B3B3\", \"size\": 40, \"symbol\": \"circle\"}, \"mode\": \"markers\", \"name\": \"#B1B3B3\", \"showlegend\": true, \"text\": \"Margaret\", \"type\": \"scatter3d\", \"x\": [-0.027403696427232185, null], \"y\": [-0.9391029581247218, null], \"z\": [-0.27914498092386686, null]}, {\"hoverinfo\": \"text\", \"legendgroup\": \"#E40046\", \"marker\": {\"color\": \"#E40046\", \"size\": 40, \"symbol\": \"circle\"}, \"mode\": \"markers\", \"name\": \"#E40046\", \"showlegend\": true, \"text\": \"Jessica\", \"type\": \"scatter3d\", \"x\": [-0.7836873632135654, null], \"y\": [0.004796925753312725, null], \"z\": [-0.8308823930914654, null]}, {\"hoverinfo\": \"text\", \"legendgroup\": \"#00965E\", \"marker\": {\"color\": \"#00965E\", \"size\": 40, \"symbol\": \"circle\"}, \"mode\": \"markers\", \"name\": \"#00965E\", \"showlegend\": false, \"text\": \"Patricia\", \"type\": \"scatter3d\", \"x\": [0.7977776268452517, null], \"y\": [-0.40459553210505106, null], \"z\": [0.13327592092937007, null]}, {\"hoverinfo\": \"text\", \"legendgroup\": \"#A05EB5\", \"marker\": {\"color\": \"#A05EB5\", \"size\": 40, \"symbol\": \"circle\"}, \"mode\": \"markers\", \"name\": \"#A05EB5\", \"showlegend\": false, \"text\": \"David\", \"type\": \"scatter3d\", \"x\": [-0.049707163205370206, null], \"y\": [0.11328444880520548, null], \"z\": [-0.06912709786732973, null]}, {\"hoverinfo\": \"text\", \"legendgroup\": \"#00965E\", \"marker\": {\"color\": \"#00965E\", \"size\": 40, \"symbol\": \"circle\"}, \"mode\": \"markers\", \"name\": \"#00965E\", \"showlegend\": false, \"text\": \"Jennifer\", \"type\": \"scatter3d\", \"x\": [-0.043021386647208476, null], \"y\": [0.08328120181406078, null], \"z\": [0.05338260464429489, null]}, {\"hoverinfo\": \"text\", \"legendgroup\": \"#E40046\", \"marker\": {\"color\": \"#E40046\", \"size\": 40, \"symbol\": \"circle\"}, \"mode\": \"markers\", \"name\": \"#E40046\", \"showlegend\": false, \"text\": \"Susan\", \"type\": \"scatter3d\", \"x\": [-0.10055607256713323, null], \"y\": [0.030752779933492225, null], \"z\": [0.028191049135305707, null]}, {\"hoverinfo\": \"text\", \"legendgroup\": \"#0066CC\", \"marker\": {\"color\": \"#0066CC\", \"size\": 40, \"symbol\": \"circle\"}, \"mode\": \"markers\", \"name\": \"#0066CC\", \"showlegend\": true, \"text\": \"Michael\", \"type\": \"scatter3d\", \"x\": [-0.009312938078821586, null], \"y\": [0.12702759914766895, null], \"z\": [-0.01149772600237422, null]}, {\"hoverinfo\": \"text\", \"legendgroup\": \"#0066CC\", \"marker\": {\"color\": \"#0066CC\", \"size\": 40, \"symbol\": \"circle\"}, \"mode\": \"markers\", \"name\": \"#0066CC\", \"showlegend\": false, \"text\": \"William\", \"type\": \"scatter3d\", \"x\": [-0.0022393222121826154, null], \"y\": [0.014456403154050257, null], \"z\": [-0.04752102425569342, null]}, {\"hoverinfo\": \"text\", \"legendgroup\": \"#B1B3B3\", \"marker\": {\"color\": \"#B1B3B3\", \"size\": 40, \"symbol\": \"circle\"}, \"mode\": \"markers\", \"name\": \"#B1B3B3\", \"showlegend\": false, \"text\": \"Sandra\", \"type\": \"scatter3d\", \"x\": [-0.03310283775649442, null], \"y\": [0.009322789758658313, null], \"z\": [0.026972759149500924, null]}, {\"hoverinfo\": \"text\", \"legendgroup\": \"#B1B3B3\", \"marker\": {\"color\": \"#B1B3B3\", \"size\": 40, \"symbol\": \"circle\"}, \"mode\": \"markers\", \"name\": \"#B1B3B3\", \"showlegend\": false, \"text\": \"Betty\", \"type\": \"scatter3d\", \"x\": [0.4876037480380568, null], \"y\": [0.9526672777839326, null], \"z\": [0.01997120691804266, null]}, {\"hoverinfo\": \"text\", \"legendgroup\": \"#A05EB5\", \"marker\": {\"color\": \"#A05EB5\", \"size\": 40, \"symbol\": \"circle\"}, \"mode\": \"markers\", \"name\": \"#A05EB5\", \"showlegend\": false, \"text\": \"Thomas\", \"type\": \"scatter3d\", \"x\": [0.10742851961597742, null], \"y\": [-0.7372512823654566, null], \"z\": [0.6536087260010816, null]}, {\"hoverinfo\": \"text\", \"legendgroup\": \"#0066CC\", \"marker\": {\"color\": \"#0066CC\", \"size\": 40, \"symbol\": \"circle\"}, \"mode\": \"markers\", \"name\": \"#0066CC\", \"showlegend\": false, \"text\": \"John\", \"type\": \"scatter3d\", \"x\": [-0.4978793778330567, null], \"y\": [-0.639350322953166, null], \"z\": [-0.7786703083280925, null]}, {\"hoverinfo\": \"text\", \"legendgroup\": \"#A05EB5\", \"marker\": {\"color\": \"#A05EB5\", \"size\": 40, \"symbol\": \"circle\"}, \"mode\": \"markers\", \"name\": \"#A05EB5\", \"showlegend\": false, \"text\": \"Charles\", \"type\": \"scatter3d\", \"x\": [-0.0936171235573822, null], \"y\": [0.07833091841923291, null], \"z\": [-0.0847651433420181, null]}, {\"hoverinfo\": \"text\", \"legendgroup\": \"#A05EB5\", \"marker\": {\"color\": \"#A05EB5\", \"size\": 40, \"symbol\": \"circle\"}, \"mode\": \"markers\", \"name\": \"#A05EB5\", \"showlegend\": false, \"text\": \"Joseph\", \"type\": \"scatter3d\", \"x\": [-0.5412377781968783, null], \"y\": [0.22634892012878013, null], \"z\": [0.8151253602899718, null]}, {\"hoverinfo\": \"text\", \"legendgroup\": \"#00965E\", \"marker\": {\"color\": \"#00965E\", \"size\": 40, \"symbol\": \"circle\"}, \"mode\": \"markers\", \"name\": \"#00965E\", \"showlegend\": false, \"text\": \"Mary\", \"type\": \"scatter3d\", \"x\": [-0.12665245662338606, null], \"y\": [0.06604655271490605, null], \"z\": [-0.0344921676950288, null]}, {\"hoverinfo\": \"text\", \"legendgroup\": \"#B1B3B3\", \"marker\": {\"color\": \"#B1B3B3\", \"size\": 40, \"symbol\": \"circle\"}, \"mode\": \"markers\", \"name\": \"#B1B3B3\", \"showlegend\": false, \"text\": \"Lisa\", \"type\": \"scatter3d\", \"x\": [0.6413793757844527, null], \"y\": [-0.2525446012817158, null], \"z\": [0.703116470793784, null]}, {\"hoverinfo\": \"text\", \"legendgroup\": \"#E40046\", \"marker\": {\"color\": \"#E40046\", \"size\": 40, \"symbol\": \"circle\"}, \"mode\": \"markers\", \"name\": \"#E40046\", \"showlegend\": false, \"text\": \"Karen\", \"type\": \"scatter3d\", \"x\": [-0.11230109952023846, null], \"y\": [0.09921210300750762, null], \"z\": [0.027414308654081714, null]}, {\"hoverinfo\": \"text\", \"legendgroup\": \"#E40046\", \"marker\": {\"color\": \"#E40046\", \"size\": 40, \"symbol\": \"circle\"}, \"mode\": \"markers\", \"name\": \"#E40046\", \"showlegend\": false, \"text\": \"Sarah\", \"type\": \"scatter3d\", \"x\": [0.3089703058558743, null], \"y\": [-0.31002901756328805, null], \"z\": [-0.2555392478383514, null]}, {\"hoverinfo\": \"text\", \"legendgroup\": \"#00965E\", \"marker\": {\"color\": \"#00965E\", \"size\": 40, \"symbol\": \"circle\"}, \"mode\": \"markers\", \"name\": \"#00965E\", \"showlegend\": false, \"text\": \"Elizabeth\", \"type\": \"scatter3d\", \"x\": [0.6683031979539543, null], \"y\": [-0.6834359975393351, null], \"z\": [-0.4932606893828914, null]}, {\"hoverinfo\": \"text\", \"legendgroup\": \"#0066CC\", \"marker\": {\"color\": \"#0066CC\", \"size\": 40, \"symbol\": \"circle\"}, \"mode\": \"markers\", \"name\": \"#0066CC\", \"showlegend\": false, \"text\": \"Robert\", \"type\": \"scatter3d\", \"x\": [0.8846479959757038, null], \"y\": [0.4001614337339443, null], \"z\": [0.3811748413750089, null]}, {\"hoverinfo\": \"text\", \"legendgroup\": \"#ED8B00\", \"marker\": {\"color\": \"#ED8B00\", \"size\": 40, \"symbol\": \"circle\"}, \"mode\": \"markers\", \"name\": \"#ED8B00\", \"showlegend\": false, \"text\": \"Nancy\", \"type\": \"scatter3d\", \"x\": [-0.08191753670198215, null], \"y\": [-0.012211821079172687, null], \"z\": [-0.02659837971865022, null]}, {\"hoverinfo\": \"text\", \"legendgroup\": \"#0066CC\", \"marker\": {\"color\": \"#0066CC\", \"size\": 40, \"symbol\": \"circle\"}, \"mode\": \"markers\", \"name\": \"#0066CC\", \"showlegend\": false, \"text\": \"James\", \"type\": \"scatter3d\", \"x\": [-0.9654020859717763, null], \"y\": [0.3516003016814693, null], \"z\": [-0.00993978220744847, null]}, {\"hoverinfo\": \"text\", \"legendgroup\": \"#E40046\", \"marker\": {\"color\": \"#E40046\", \"size\": 40, \"symbol\": \"circle\"}, \"mode\": \"markers\", \"name\": \"#E40046\", \"showlegend\": false, \"text\": \"Barbara\", \"type\": \"scatter3d\", \"x\": [0.022073679428230814, null], \"y\": [0.06144085418168825, null], \"z\": [0.02106679015894224, null]}, {\"hoverinfo\": \"text\", \"hovertext\": [\"From: Anthony To: Matthew, weight: 13\", \"Bidirectional edge:<br>Anthony To: Christopher, weight: 10<br>Christopher To: Anthony, weight: 5\", \"From: Anthony To: Richard, weight: 8\", \"From: Anthony To: Margaret, weight: 7\", \"From: Anthony To: Jessica, weight: 7\", \"From: Anthony To: Patricia, weight: 7\", \"Bidirectional edge:<br>Anthony To: Jennifer, weight: 6<br>Jennifer To: Anthony, weight: 6\", \"From: Anthony To: Betty, weight: 6\", \"From: Anthony To: Thomas, weight: 6\", \"From: Anthony To: John, weight: 6\", \"From: Anthony To: Joseph, weight: 6\", \"Bidirectional edge:<br>Anthony To: Sandra, weight: 5<br>Sandra To: Anthony, weight: 6\", \"Bidirectional edge:<br>Anthony To: Michael, weight: 5<br>Michael To: Anthony, weight: 6\", \"From: Anthony To: Lisa, weight: 5\", \"From: Anthony To: Robert, weight: 5\", \"From: Anthony To: James, weight: 5\", \"Bidirectional edge:<br>Christopher To: Anthony, weight: 5<br>Anthony To: Christopher, weight: 10\", \"From: Linda To: Anthony, weight: 9\", \"From: Daniel To: Anthony, weight: 8\", \"From: David To: Anthony, weight: 7\", \"Bidirectional edge:<br>Jennifer To: Anthony, weight: 6<br>Anthony To: Jennifer, weight: 6\", \"From: Susan To: Anthony, weight: 6\", \"Bidirectional edge:<br>Michael To: Anthony, weight: 6<br>Anthony To: Michael, weight: 5\", \"From: William To: Anthony, weight: 6\", \"Bidirectional edge:<br>Sandra To: Anthony, weight: 6<br>Anthony To: Sandra, weight: 5\", \"From: Charles To: Anthony, weight: 6\", \"From: Mary To: Anthony, weight: 6\", \"From: Karen To: Anthony, weight: 5\", \"From: Sarah To: Anthony, weight: 5\", \"From: Sarah To: Elizabeth, weight: 5\", \"From: Nancy To: Anthony, weight: 5\", \"From: Barbara To: Anthony, weight: 5\"], \"marker\": {\"color\": \"LightSkyBlue\", \"size\": 20}, \"mode\": \"markers\", \"opacity\": 0, \"showlegend\": false, \"type\": \"scatter3d\", \"x\": [-0.19341455880670172, -0.06213903537170803, 0.006906153226852604, -0.03974421665976621, -0.4178860500529328, 0.37284644497647573, -0.04755306176975436, 0.21775950557287826, 0.02767189136183859, -0.27498205736267844, -0.2966612575445893, -0.04259378732439733, -0.030698837485560914, 0.29464731944607625, 0.4162816295417018, -0.5087434114320383, -0.06213903537170803, -0.05532658254636248, -0.025268555779077866, -0.05089595004883522, -0.04755306176975436, -0.07632040472971674, -0.030698837485560914, -0.027162029552241427, -0.04259378732439733, -0.07285093022484122, -0.08936859675784314, -0.08219291820626935, 0.12844278448178703, 0.4886367519049143, -0.0670011367971412, -0.015005528732034713], \"y\": [0.45570897566891994, 0.10438394843066873, 0.12882107492953382, -0.4374762866762677, 0.03447365526274953, -0.17022257366643237, 0.07371579329312355, 0.5084088312780595, -0.3365504487966351, -0.2875999690904898, 0.14524965245048324, 0.036736587265422324, 0.09558899195992765, -0.09419710825476474, 0.2321559092530653, 0.2078753432268278, 0.10438394843066873, 0.048844854097879496, 0.07043742791436905, 0.08871741678869591, 0.07371579329312355, 0.04745158235283928, 0.09558899195992765, 0.03930339396311829, 0.036736587265422324, 0.07124065159570962, 0.06509846874354619, 0.08168124388984697, -0.12293931639555086, -0.4967325075513116, 0.025969281846506823, 0.06279561947693729], \"z\": [-0.4103342274886819, -0.009946407340692211, 0.4908175888905891, -0.14875490157134438, -0.4246236076551436, 0.057455549355274096, 0.0175088912127365, 0.0008031923496103887, 0.31762195189112985, -0.39851756527345716, 0.398380269035575, 0.00430396846533952, -0.014931274110598053, 0.3423758242874811, 0.1814050095780935, -0.014152302213135176, -0.009946407340692211, -0.04326310769657275, -0.034934039500372875, -0.04374596004307581, 0.0175088912127365, 0.004913113458241912, -0.014931274110598053, -0.03294292323725765, 0.00430396846533952, -0.05156498278041999, -0.02642849495692534, 0.004524743217629915, -0.13695203502858666, -0.3743999686106214, -0.022481600968736054, 0.001350983970060178]}],                        {\"height\": 800, \"hovermode\": \"closest\", \"legend\": {\"itemclick\": false, \"itemdoubleclick\": false}, \"scene\": {\"xaxis\": {\"showbackground\": false, \"showgrid\": false, \"showline\": false, \"showticklabels\": false, \"title\": {\"text\": \"\"}, \"zeroline\": false}, \"yaxis\": {\"showbackground\": false, \"showgrid\": false, \"showline\": false, \"showticklabels\": false, \"title\": {\"text\": \"\"}, \"zeroline\": false}, \"zaxis\": {\"showbackground\": false, \"showgrid\": false, \"showline\": false, \"showticklabels\": false, \"title\": {\"text\": \"\"}, \"zeroline\": false}}, \"showlegend\": true, \"template\": {\"data\": {\"bar\": [{\"error_x\": {\"color\": \"#2a3f5f\"}, \"error_y\": {\"color\": \"#2a3f5f\"}, \"marker\": {\"line\": {\"color\": \"#E5ECF6\", \"width\": 0.5}}, \"type\": \"bar\"}], \"barpolar\": [{\"marker\": {\"line\": {\"color\": \"#E5ECF6\", \"width\": 0.5}}, \"type\": \"barpolar\"}], \"carpet\": [{\"aaxis\": {\"endlinecolor\": \"#2a3f5f\", \"gridcolor\": \"white\", \"linecolor\": \"white\", \"minorgridcolor\": \"white\", \"startlinecolor\": \"#2a3f5f\"}, \"baxis\": {\"endlinecolor\": \"#2a3f5f\", \"gridcolor\": \"white\", \"linecolor\": \"white\", \"minorgridcolor\": \"white\", \"startlinecolor\": \"#2a3f5f\"}, \"type\": \"carpet\"}], \"choropleth\": [{\"colorbar\": {\"outlinewidth\": 0, \"ticks\": \"\"}, \"type\": \"choropleth\"}], \"contour\": [{\"colorbar\": {\"outlinewidth\": 0, \"ticks\": \"\"}, \"colorscale\": [[0.0, \"#0d0887\"], [0.1111111111111111, \"#46039f\"], [0.2222222222222222, \"#7201a8\"], [0.3333333333333333, \"#9c179e\"], [0.4444444444444444, \"#bd3786\"], [0.5555555555555556, \"#d8576b\"], [0.6666666666666666, \"#ed7953\"], [0.7777777777777778, \"#fb9f3a\"], [0.8888888888888888, \"#fdca26\"], [1.0, \"#f0f921\"]], \"type\": \"contour\"}], \"contourcarpet\": [{\"colorbar\": {\"outlinewidth\": 0, \"ticks\": \"\"}, \"type\": \"contourcarpet\"}], \"heatmap\": [{\"colorbar\": {\"outlinewidth\": 0, \"ticks\": \"\"}, \"colorscale\": [[0.0, \"#0d0887\"], [0.1111111111111111, \"#46039f\"], [0.2222222222222222, \"#7201a8\"], [0.3333333333333333, \"#9c179e\"], [0.4444444444444444, \"#bd3786\"], [0.5555555555555556, \"#d8576b\"], [0.6666666666666666, \"#ed7953\"], [0.7777777777777778, \"#fb9f3a\"], [0.8888888888888888, \"#fdca26\"], [1.0, \"#f0f921\"]], \"type\": \"heatmap\"}], \"heatmapgl\": [{\"colorbar\": {\"outlinewidth\": 0, \"ticks\": \"\"}, \"colorscale\": [[0.0, \"#0d0887\"], [0.1111111111111111, \"#46039f\"], [0.2222222222222222, \"#7201a8\"], [0.3333333333333333, \"#9c179e\"], [0.4444444444444444, \"#bd3786\"], [0.5555555555555556, \"#d8576b\"], [0.6666666666666666, \"#ed7953\"], [0.7777777777777778, \"#fb9f3a\"], [0.8888888888888888, \"#fdca26\"], [1.0, \"#f0f921\"]], \"type\": \"heatmapgl\"}], \"histogram\": [{\"marker\": {\"colorbar\": {\"outlinewidth\": 0, \"ticks\": \"\"}}, \"type\": \"histogram\"}], \"histogram2d\": [{\"colorbar\": {\"outlinewidth\": 0, \"ticks\": \"\"}, \"colorscale\": [[0.0, \"#0d0887\"], [0.1111111111111111, \"#46039f\"], [0.2222222222222222, \"#7201a8\"], [0.3333333333333333, \"#9c179e\"], [0.4444444444444444, \"#bd3786\"], [0.5555555555555556, \"#d8576b\"], [0.6666666666666666, \"#ed7953\"], [0.7777777777777778, \"#fb9f3a\"], [0.8888888888888888, \"#fdca26\"], [1.0, \"#f0f921\"]], \"type\": \"histogram2d\"}], \"histogram2dcontour\": [{\"colorbar\": {\"outlinewidth\": 0, \"ticks\": \"\"}, \"colorscale\": [[0.0, \"#0d0887\"], [0.1111111111111111, \"#46039f\"], [0.2222222222222222, \"#7201a8\"], [0.3333333333333333, \"#9c179e\"], [0.4444444444444444, \"#bd3786\"], [0.5555555555555556, \"#d8576b\"], [0.6666666666666666, \"#ed7953\"], [0.7777777777777778, \"#fb9f3a\"], [0.8888888888888888, \"#fdca26\"], [1.0, \"#f0f921\"]], \"type\": \"histogram2dcontour\"}], \"mesh3d\": [{\"colorbar\": {\"outlinewidth\": 0, \"ticks\": \"\"}, \"type\": \"mesh3d\"}], \"parcoords\": [{\"line\": {\"colorbar\": {\"outlinewidth\": 0, \"ticks\": \"\"}}, \"type\": \"parcoords\"}], \"pie\": [{\"automargin\": true, \"type\": \"pie\"}], \"scatter\": [{\"marker\": {\"colorbar\": {\"outlinewidth\": 0, \"ticks\": \"\"}}, \"type\": \"scatter\"}], \"scatter3d\": [{\"line\": {\"colorbar\": {\"outlinewidth\": 0, \"ticks\": \"\"}}, \"marker\": {\"colorbar\": {\"outlinewidth\": 0, \"ticks\": \"\"}}, \"type\": \"scatter3d\"}], \"scattercarpet\": [{\"marker\": {\"colorbar\": {\"outlinewidth\": 0, \"ticks\": \"\"}}, \"type\": \"scattercarpet\"}], \"scattergeo\": [{\"marker\": {\"colorbar\": {\"outlinewidth\": 0, \"ticks\": \"\"}}, \"type\": \"scattergeo\"}], \"scattergl\": [{\"marker\": {\"colorbar\": {\"outlinewidth\": 0, \"ticks\": \"\"}}, \"type\": \"scattergl\"}], \"scattermapbox\": [{\"marker\": {\"colorbar\": {\"outlinewidth\": 0, \"ticks\": \"\"}}, \"type\": \"scattermapbox\"}], \"scatterpolar\": [{\"marker\": {\"colorbar\": {\"outlinewidth\": 0, \"ticks\": \"\"}}, \"type\": \"scatterpolar\"}], \"scatterpolargl\": [{\"marker\": {\"colorbar\": {\"outlinewidth\": 0, \"ticks\": \"\"}}, \"type\": \"scatterpolargl\"}], \"scatterternary\": [{\"marker\": {\"colorbar\": {\"outlinewidth\": 0, \"ticks\": \"\"}}, \"type\": \"scatterternary\"}], \"surface\": [{\"colorbar\": {\"outlinewidth\": 0, \"ticks\": \"\"}, \"colorscale\": [[0.0, \"#0d0887\"], [0.1111111111111111, \"#46039f\"], [0.2222222222222222, \"#7201a8\"], [0.3333333333333333, \"#9c179e\"], [0.4444444444444444, \"#bd3786\"], [0.5555555555555556, \"#d8576b\"], [0.6666666666666666, \"#ed7953\"], [0.7777777777777778, \"#fb9f3a\"], [0.8888888888888888, \"#fdca26\"], [1.0, \"#f0f921\"]], \"type\": \"surface\"}], \"table\": [{\"cells\": {\"fill\": {\"color\": \"#EBF0F8\"}, \"line\": {\"color\": \"white\"}}, \"header\": {\"fill\": {\"color\": \"#C8D4E3\"}, \"line\": {\"color\": \"white\"}}, \"type\": \"table\"}]}, \"layout\": {\"annotationdefaults\": {\"arrowcolor\": \"#2a3f5f\", \"arrowhead\": 0, \"arrowwidth\": 1}, \"coloraxis\": {\"colorbar\": {\"outlinewidth\": 0, \"ticks\": \"\"}}, \"colorscale\": {\"diverging\": [[0, \"#8e0152\"], [0.1, \"#c51b7d\"], [0.2, \"#de77ae\"], [0.3, \"#f1b6da\"], [0.4, \"#fde0ef\"], [0.5, \"#f7f7f7\"], [0.6, \"#e6f5d0\"], [0.7, \"#b8e186\"], [0.8, \"#7fbc41\"], [0.9, \"#4d9221\"], [1, \"#276419\"]], \"sequential\": [[0.0, \"#0d0887\"], [0.1111111111111111, \"#46039f\"], [0.2222222222222222, \"#7201a8\"], [0.3333333333333333, \"#9c179e\"], [0.4444444444444444, \"#bd3786\"], [0.5555555555555556, \"#d8576b\"], [0.6666666666666666, \"#ed7953\"], [0.7777777777777778, \"#fb9f3a\"], [0.8888888888888888, \"#fdca26\"], [1.0, \"#f0f921\"]], \"sequentialminus\": [[0.0, \"#0d0887\"], [0.1111111111111111, \"#46039f\"], [0.2222222222222222, \"#7201a8\"], [0.3333333333333333, \"#9c179e\"], [0.4444444444444444, \"#bd3786\"], [0.5555555555555556, \"#d8576b\"], [0.6666666666666666, \"#ed7953\"], [0.7777777777777778, \"#fb9f3a\"], [0.8888888888888888, \"#fdca26\"], [1.0, \"#f0f921\"]]}, \"colorway\": [\"#636efa\", \"#EF553B\", \"#00cc96\", \"#ab63fa\", \"#FFA15A\", \"#19d3f3\", \"#FF6692\", \"#B6E880\", \"#FF97FF\", \"#FECB52\"], \"font\": {\"color\": \"#2a3f5f\"}, \"geo\": {\"bgcolor\": \"white\", \"lakecolor\": \"white\", \"landcolor\": \"#E5ECF6\", \"showlakes\": true, \"showland\": true, \"subunitcolor\": \"white\"}, \"hoverlabel\": {\"align\": \"left\"}, \"hovermode\": \"closest\", \"mapbox\": {\"style\": \"light\"}, \"paper_bgcolor\": \"white\", \"plot_bgcolor\": \"#E5ECF6\", \"polar\": {\"angularaxis\": {\"gridcolor\": \"white\", \"linecolor\": \"white\", \"ticks\": \"\"}, \"bgcolor\": \"#E5ECF6\", \"radialaxis\": {\"gridcolor\": \"white\", \"linecolor\": \"white\", \"ticks\": \"\"}}, \"scene\": {\"xaxis\": {\"backgroundcolor\": \"#E5ECF6\", \"gridcolor\": \"white\", \"gridwidth\": 2, \"linecolor\": \"white\", \"showbackground\": true, \"ticks\": \"\", \"zerolinecolor\": \"white\"}, \"yaxis\": {\"backgroundcolor\": \"#E5ECF6\", \"gridcolor\": \"white\", \"gridwidth\": 2, \"linecolor\": \"white\", \"showbackground\": true, \"ticks\": \"\", \"zerolinecolor\": \"white\"}, \"zaxis\": {\"backgroundcolor\": \"#E5ECF6\", \"gridcolor\": \"white\", \"gridwidth\": 2, \"linecolor\": \"white\", \"showbackground\": true, \"ticks\": \"\", \"zerolinecolor\": \"white\"}}, \"shapedefaults\": {\"line\": {\"color\": \"#2a3f5f\"}}, \"ternary\": {\"aaxis\": {\"gridcolor\": \"white\", \"linecolor\": \"white\", \"ticks\": \"\"}, \"baxis\": {\"gridcolor\": \"white\", \"linecolor\": \"white\", \"ticks\": \"\"}, \"bgcolor\": \"#E5ECF6\", \"caxis\": {\"gridcolor\": \"white\", \"linecolor\": \"white\", \"ticks\": \"\"}}, \"title\": {\"x\": 0.05}, \"xaxis\": {\"automargin\": true, \"gridcolor\": \"white\", \"linecolor\": \"white\", \"ticks\": \"\", \"title\": {\"standoff\": 15}, \"zerolinecolor\": \"white\", \"zerolinewidth\": 2}, \"yaxis\": {\"automargin\": true, \"gridcolor\": \"white\", \"linecolor\": \"white\", \"ticks\": \"\", \"title\": {\"standoff\": 15}, \"zerolinecolor\": \"white\", \"zerolinewidth\": 2}}}, \"title\": {\"text\": \"The network 3-d visualization\"}, \"width\": 1000},                        {\"responsive\": true}                    ).then(function(){\n",
       "                            \n",
       "var gd = document.getElementById('e52af7fa-999b-4502-a6a8-f9e925cd22df');\n",
       "var x = new MutationObserver(function (mutations, observer) {{\n",
       "        var display = window.getComputedStyle(gd).display;\n",
       "        if (!display || display === 'none') {{\n",
       "            console.log([gd, 'removed!']);\n",
       "            Plotly.purge(gd);\n",
       "            observer.disconnect();\n",
       "        }}\n",
       "}});\n",
       "\n",
       "// Listen for the removal of the full notebook cells\n",
       "var notebookContainer = gd.closest('#notebook-container');\n",
       "if (notebookContainer) {{\n",
       "    x.observe(notebookContainer, {childList: true});\n",
       "}}\n",
       "\n",
       "// Listen for the clearing of the current output cell\n",
       "var outputEl = gd.closest('.output');\n",
       "if (outputEl) {{\n",
       "    x.observe(outputEl, {childList: true});\n",
       "}}\n",
       "\n",
       "                        })                };                });            </script>        </div>"
      ]
     },
     "metadata": {},
     "output_type": "display_data"
    }
   ],
   "source": [
    "fig3d = go.Figure(layout=layout)\n",
    "\n",
    "for trace in edge_trace3d:\n",
    "    fig3d.add_trace(trace)\n",
    "\n",
    "for trace in node_trace3d:\n",
    "    fig3d.add_trace(trace)\n",
    "    \n",
    "fig3d.add_trace(middle_trace3d)\n",
    "fig3d.update_layout(legend_itemclick=False)\n",
    "fig3d.update_layout(legend_itemdoubleclick=False)\n",
    "fig3d.show()\n",
    "fig3d.write_html('3d_visualization.html')"
   ]
  },
  {
   "cell_type": "code",
   "execution_count": null,
   "id": "5261e7f5",
   "metadata": {},
   "outputs": [],
   "source": []
  }
 ],
 "metadata": {
  "kernelspec": {
   "display_name": "Python 3",
   "language": "python",
   "name": "python3"
  },
  "language_info": {
   "codemirror_mode": {
    "name": "ipython",
    "version": 3
   },
   "file_extension": ".py",
   "mimetype": "text/x-python",
   "name": "python",
   "nbconvert_exporter": "python",
   "pygments_lexer": "ipython3",
   "version": "3.8.3"
  }
 },
 "nbformat": 4,
 "nbformat_minor": 5
}
